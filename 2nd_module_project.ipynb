{
 "cells": [
  {
   "cell_type": "markdown",
   "metadata": {
    "id": "4mJbK1knrJgz"
   },
   "source": [
    "# Проект: Исследование стартапов\n",
    "- Автор: Ивегеш Ольга\n",
    "- Дата: 24.04.2025"
   ]
  },
  {
   "cell_type": "markdown",
   "metadata": {
    "id": "P6j0r3worJg0"
   },
   "source": [
    "## Введение"
   ]
  },
  {
   "cell_type": "markdown",
   "metadata": {
    "id": "8lQtbsIUyFG6"
   },
   "source": [
    "### Цели и задачи проекта\n",
    "\n",
    "- Подготовить датасет \n",
    "- Проверить, что данные в нём соответствуют здравому смыслу\n",
    "- Ответить на вопросы заказчика как о предобработке, так и о значении данных для бизнеса."
   ]
  },
  {
   "cell_type": "markdown",
   "metadata": {},
   "source": [
    "### Описание данных\n",
    "#### Таблица acquisition (Содержит информацию о покупках одними компаниями других компаний):\n",
    "- id — идентификатор покупки.\n",
    "- acquiring_company_id — идентификатор покупающей компании.\n",
    "- acquired_company_id — идентификатор покупаемой компании.\n",
    "- term_code — варианты расчёта.\n",
    "- price_amount — сумма сделки.\n",
    "- acquired_at — дата сделки.\n",
    "#### Таблица company_and_rounds (Содержит информацию о компаниях и раундах финансирования):\n",
    "- company ID — идентификатор компании.\n",
    "- name — название компании.\n",
    "- category code — категория области деятельности компании.\n",
    "- status — статус компании.\n",
    "- founded at — дата инвестирования.\n",
    "- closed at — дата закрытия компании.\n",
    "- domain — официальный сайт компании.\n",
    "- network username — ник компании в сети.\n",
    "- country code — код страны компании.\n",
    "- investment rounds — число инвестиционных раундов.\n",
    "- funding rounds — число раундов финансирования.\n",
    "- funding total — сумма финансирования.\n",
    "- milestones — вехи финансирования.\n",
    "- funding round id — идентификатор этапа финансирования.\n",
    "- company id — идентификатор компании.\n",
    "- funded at — дата финансирования.\n",
    "- funding round type — тип финансирования.\n",
    "- raised amount — сумма финансирования.\n",
    "- pre money valuation — предварительная денежная оценка.\n",
    "- participants — число участников.\n",
    "- is first round — является ли раунд первым.\n",
    "- is last round — является раунд последним.\n",
    "#### Таблица education (Содержит информацию об образовании сотрудника):\n",
    "- id — идентификатор записи об образовании.\n",
    "- person_id — идентификатор работника.\n",
    "- instituition — название учебного заведения.\n",
    "- graduated_at — дата получения образования.\n",
    "#### Таблица people (Содержит информацию о сотрудниках):\n",
    "- id — идентификатор сотрудника.\n",
    "- first_name — имя сотрудника.\n",
    "- last_name — фамилия сотрудника.\n",
    "- company_id — идентификатор компании.\n",
    "- network_username — ник в социальных сетях.\n",
    "####  Таблица degrees (Содержит информацию о типе образования сотрудника):\n",
    "- id — идентификатор записи.\n",
    "- object_id — идентификатор сотрудника.\n",
    "- degree_type — тип образования.\n",
    "- subject — специальность."
   ]
  },
  {
   "cell_type": "markdown",
   "metadata": {
    "id": "xqr6uttCrJg0"
   },
   "source": [
    "\n",
    "## Шаг 1. Знакомство с данными: загрузка и первичная предобработка\n",
    "\n",
    "Названия файлов:\n",
    "* acquisition.csv\n",
    "* company_and_rounds.csv\n",
    "* people.csv\n",
    "* education.csv\n",
    "* degrees.csv\n",
    "\n",
    "Опциональные датасеты:\n",
    "* fund.csv\n",
    "* investment.csv\n",
    "\n",
    "\n",
    "Они находятся в папке datasets, если вы выполняете работу на платформе. В случае, если вы делаете работу локально, доступ к файлам в папке можно получить по адресу `https://code.s3.yandex.net/datasets/` + имя файла.\n",
    "\n",
    "### Вывод общей информации, исправление названия столбцов\n",
    "\n",
    "- Загрузите все данные по проекту.\n",
    "- Проверьте названия столбцов.\n",
    "- Выведите информацию, которая необходима вам для принятия решений о предобработке, для каждого из датасетов."
   ]
  },
  {
   "cell_type": "code",
   "execution_count": 1,
   "metadata": {
    "colab": {
     "base_uri": "https://localhost:8080/"
    },
    "id": "W_W4jRazrJg0",
    "outputId": "d2409aad-233f-4bb4-ec71-7da96594f9df",
    "vscode": {
     "languageId": "plaintext"
    }
   },
   "outputs": [],
   "source": [
    "import pandas as pd\n",
    "import numpy as np\n",
    "import matplotlib.pyplot as plt\n",
    "import seaborn as sns\n",
    "!pip install matplotlib-venn -q\n",
    "from matplotlib_venn import venn2, venn3 "
   ]
  },
  {
   "cell_type": "code",
   "execution_count": 3,
   "metadata": {
    "id": "2Tm4Pk__Felf"
   },
   "outputs": [],
   "source": [
    "path = 'https://code.s3.yandex.net/datasets/'\n",
    "acquisition=pd.read_csv(path + 'acquisition.csv')\n",
    "company_and_rounds=pd.read_csv(path + 'company_and_rounds.csv')\n",
    "people=pd.read_csv(path + 'people.csv')\n",
    "education=pd.read_csv(path + 'education.csv')\n",
    "degrees=pd.read_csv(path + 'degrees.csv')\n",
    "fund=pd.read_csv(path + 'fund.csv')"
   ]
  },
  {
   "cell_type": "code",
   "execution_count": 5,
   "metadata": {
    "id": "oNqJ2qpRFebv"
   },
   "outputs": [
    {
     "data": {
      "text/html": [
       "<div>\n",
       "<style scoped>\n",
       "    .dataframe tbody tr th:only-of-type {\n",
       "        vertical-align: middle;\n",
       "    }\n",
       "\n",
       "    .dataframe tbody tr th {\n",
       "        vertical-align: top;\n",
       "    }\n",
       "\n",
       "    .dataframe thead th {\n",
       "        text-align: right;\n",
       "    }\n",
       "</style>\n",
       "<table border=\"1\" class=\"dataframe\">\n",
       "  <thead>\n",
       "    <tr style=\"text-align: right;\">\n",
       "      <th></th>\n",
       "      <th>id</th>\n",
       "      <th>acquiring_company_id</th>\n",
       "      <th>acquired_company_id</th>\n",
       "      <th>term_code</th>\n",
       "      <th>price_amount</th>\n",
       "      <th>acquired_at</th>\n",
       "    </tr>\n",
       "  </thead>\n",
       "  <tbody>\n",
       "    <tr>\n",
       "      <th>0</th>\n",
       "      <td>1</td>\n",
       "      <td>11</td>\n",
       "      <td>10</td>\n",
       "      <td>NaN</td>\n",
       "      <td>20000000</td>\n",
       "      <td>2007-05-30</td>\n",
       "    </tr>\n",
       "    <tr>\n",
       "      <th>1</th>\n",
       "      <td>7</td>\n",
       "      <td>59</td>\n",
       "      <td>72</td>\n",
       "      <td>cash</td>\n",
       "      <td>60000000</td>\n",
       "      <td>2007-07-01</td>\n",
       "    </tr>\n",
       "    <tr>\n",
       "      <th>2</th>\n",
       "      <td>8</td>\n",
       "      <td>24</td>\n",
       "      <td>132</td>\n",
       "      <td>cash</td>\n",
       "      <td>280000000</td>\n",
       "      <td>2007-05-01</td>\n",
       "    </tr>\n",
       "    <tr>\n",
       "      <th>3</th>\n",
       "      <td>9</td>\n",
       "      <td>59</td>\n",
       "      <td>155</td>\n",
       "      <td>cash</td>\n",
       "      <td>100000000</td>\n",
       "      <td>2007-06-01</td>\n",
       "    </tr>\n",
       "    <tr>\n",
       "      <th>4</th>\n",
       "      <td>10</td>\n",
       "      <td>212</td>\n",
       "      <td>215</td>\n",
       "      <td>cash</td>\n",
       "      <td>25000000</td>\n",
       "      <td>2007-07-01</td>\n",
       "    </tr>\n",
       "  </tbody>\n",
       "</table>\n",
       "</div>"
      ],
      "text/plain": [
       "   id  acquiring_company_id  acquired_company_id term_code  price_amount  \\\n",
       "0   1                    11                   10       NaN      20000000   \n",
       "1   7                    59                   72      cash      60000000   \n",
       "2   8                    24                  132      cash     280000000   \n",
       "3   9                    59                  155      cash     100000000   \n",
       "4  10                   212                  215      cash      25000000   \n",
       "\n",
       "  acquired_at  \n",
       "0  2007-05-30  \n",
       "1  2007-07-01  \n",
       "2  2007-05-01  \n",
       "3  2007-06-01  \n",
       "4  2007-07-01  "
      ]
     },
     "execution_count": 5,
     "metadata": {},
     "output_type": "execute_result"
    }
   ],
   "source": [
    "acquisition.head()"
   ]
  },
  {
   "cell_type": "code",
   "execution_count": 7,
   "metadata": {},
   "outputs": [
    {
     "name": "stdout",
     "output_type": "stream",
     "text": [
      "<class 'pandas.core.frame.DataFrame'>\n",
      "RangeIndex: 9407 entries, 0 to 9406\n",
      "Data columns (total 6 columns):\n",
      " #   Column                Non-Null Count  Dtype \n",
      "---  ------                --------------  ----- \n",
      " 0   id                    9407 non-null   int64 \n",
      " 1   acquiring_company_id  9407 non-null   int64 \n",
      " 2   acquired_company_id   9407 non-null   int64 \n",
      " 3   term_code             1831 non-null   object\n",
      " 4   price_amount          9407 non-null   int64 \n",
      " 5   acquired_at           9378 non-null   object\n",
      "dtypes: int64(4), object(2)\n",
      "memory usage: 441.1+ KB\n"
     ]
    }
   ],
   "source": [
    "acquisition.info()"
   ]
  },
  {
   "cell_type": "code",
   "execution_count": 9,
   "metadata": {},
   "outputs": [
    {
     "data": {
      "text/html": [
       "<div>\n",
       "<style scoped>\n",
       "    .dataframe tbody tr th:only-of-type {\n",
       "        vertical-align: middle;\n",
       "    }\n",
       "\n",
       "    .dataframe tbody tr th {\n",
       "        vertical-align: top;\n",
       "    }\n",
       "\n",
       "    .dataframe thead th {\n",
       "        text-align: right;\n",
       "    }\n",
       "</style>\n",
       "<table border=\"1\" class=\"dataframe\">\n",
       "  <thead>\n",
       "    <tr style=\"text-align: right;\">\n",
       "      <th></th>\n",
       "      <th>company  ID</th>\n",
       "      <th>name</th>\n",
       "      <th>category  code</th>\n",
       "      <th>status</th>\n",
       "      <th>founded  at</th>\n",
       "      <th>closed  at</th>\n",
       "      <th>domain</th>\n",
       "      <th>network  username</th>\n",
       "      <th>country  code</th>\n",
       "      <th>investment  rounds</th>\n",
       "      <th>...</th>\n",
       "      <th>milestones</th>\n",
       "      <th>funding  round  id</th>\n",
       "      <th>company  id</th>\n",
       "      <th>funded  at</th>\n",
       "      <th>funding  round  type</th>\n",
       "      <th>raised  amount</th>\n",
       "      <th>pre  money  valuation</th>\n",
       "      <th>participants</th>\n",
       "      <th>is  first  round</th>\n",
       "      <th>is  last  round</th>\n",
       "    </tr>\n",
       "  </thead>\n",
       "  <tbody>\n",
       "    <tr>\n",
       "      <th>0</th>\n",
       "      <td>1.0</td>\n",
       "      <td>Wetpaint</td>\n",
       "      <td>web</td>\n",
       "      <td>operating</td>\n",
       "      <td>2005-10-17</td>\n",
       "      <td>NaN</td>\n",
       "      <td>wetpaint-inc.com</td>\n",
       "      <td>BachelrWetpaint</td>\n",
       "      <td>USA</td>\n",
       "      <td>0.0</td>\n",
       "      <td>...</td>\n",
       "      <td>5.0</td>\n",
       "      <td>888.0</td>\n",
       "      <td>1.0</td>\n",
       "      <td>2005-10-01</td>\n",
       "      <td>series-a</td>\n",
       "      <td>5250000.0</td>\n",
       "      <td>0.0</td>\n",
       "      <td>2.0</td>\n",
       "      <td>0.0</td>\n",
       "      <td>1.0</td>\n",
       "    </tr>\n",
       "    <tr>\n",
       "      <th>1</th>\n",
       "      <td>1.0</td>\n",
       "      <td>Wetpaint</td>\n",
       "      <td>web</td>\n",
       "      <td>operating</td>\n",
       "      <td>2005-10-17</td>\n",
       "      <td>NaN</td>\n",
       "      <td>wetpaint-inc.com</td>\n",
       "      <td>BachelrWetpaint</td>\n",
       "      <td>USA</td>\n",
       "      <td>0.0</td>\n",
       "      <td>...</td>\n",
       "      <td>5.0</td>\n",
       "      <td>889.0</td>\n",
       "      <td>1.0</td>\n",
       "      <td>2007-01-01</td>\n",
       "      <td>series-b</td>\n",
       "      <td>9500000.0</td>\n",
       "      <td>0.0</td>\n",
       "      <td>3.0</td>\n",
       "      <td>0.0</td>\n",
       "      <td>0.0</td>\n",
       "    </tr>\n",
       "    <tr>\n",
       "      <th>2</th>\n",
       "      <td>1.0</td>\n",
       "      <td>Wetpaint</td>\n",
       "      <td>web</td>\n",
       "      <td>operating</td>\n",
       "      <td>2005-10-17</td>\n",
       "      <td>NaN</td>\n",
       "      <td>wetpaint-inc.com</td>\n",
       "      <td>BachelrWetpaint</td>\n",
       "      <td>USA</td>\n",
       "      <td>0.0</td>\n",
       "      <td>...</td>\n",
       "      <td>5.0</td>\n",
       "      <td>2312.0</td>\n",
       "      <td>1.0</td>\n",
       "      <td>2008-05-19</td>\n",
       "      <td>series-c+</td>\n",
       "      <td>25000000.0</td>\n",
       "      <td>0.0</td>\n",
       "      <td>4.0</td>\n",
       "      <td>1.0</td>\n",
       "      <td>0.0</td>\n",
       "    </tr>\n",
       "    <tr>\n",
       "      <th>3</th>\n",
       "      <td>10.0</td>\n",
       "      <td>Flektor</td>\n",
       "      <td>games_video</td>\n",
       "      <td>acquired</td>\n",
       "      <td>NaN</td>\n",
       "      <td>NaN</td>\n",
       "      <td>flektor.com</td>\n",
       "      <td>NaN</td>\n",
       "      <td>USA</td>\n",
       "      <td>0.0</td>\n",
       "      <td>...</td>\n",
       "      <td>0.0</td>\n",
       "      <td>NaN</td>\n",
       "      <td>NaN</td>\n",
       "      <td>NaN</td>\n",
       "      <td>NaN</td>\n",
       "      <td>NaN</td>\n",
       "      <td>NaN</td>\n",
       "      <td>NaN</td>\n",
       "      <td>NaN</td>\n",
       "      <td>NaN</td>\n",
       "    </tr>\n",
       "    <tr>\n",
       "      <th>4</th>\n",
       "      <td>100.0</td>\n",
       "      <td>There</td>\n",
       "      <td>games_video</td>\n",
       "      <td>acquired</td>\n",
       "      <td>NaN</td>\n",
       "      <td>NaN</td>\n",
       "      <td>there.com</td>\n",
       "      <td>NaN</td>\n",
       "      <td>USA</td>\n",
       "      <td>0.0</td>\n",
       "      <td>...</td>\n",
       "      <td>4.0</td>\n",
       "      <td>NaN</td>\n",
       "      <td>NaN</td>\n",
       "      <td>NaN</td>\n",
       "      <td>NaN</td>\n",
       "      <td>NaN</td>\n",
       "      <td>NaN</td>\n",
       "      <td>NaN</td>\n",
       "      <td>NaN</td>\n",
       "      <td>NaN</td>\n",
       "    </tr>\n",
       "  </tbody>\n",
       "</table>\n",
       "<p>5 rows × 22 columns</p>\n",
       "</div>"
      ],
      "text/plain": [
       "   company  ID      name category  code     status founded  at closed  at  \\\n",
       "0          1.0  Wetpaint            web  operating  2005-10-17        NaN   \n",
       "1          1.0  Wetpaint            web  operating  2005-10-17        NaN   \n",
       "2          1.0  Wetpaint            web  operating  2005-10-17        NaN   \n",
       "3         10.0   Flektor    games_video   acquired         NaN        NaN   \n",
       "4        100.0     There    games_video   acquired         NaN        NaN   \n",
       "\n",
       "             domain network  username country  code  investment  rounds  ...  \\\n",
       "0  wetpaint-inc.com   BachelrWetpaint           USA                 0.0  ...   \n",
       "1  wetpaint-inc.com   BachelrWetpaint           USA                 0.0  ...   \n",
       "2  wetpaint-inc.com   BachelrWetpaint           USA                 0.0  ...   \n",
       "3       flektor.com               NaN           USA                 0.0  ...   \n",
       "4         there.com               NaN           USA                 0.0  ...   \n",
       "\n",
       "   milestones  funding  round  id  company  id  funded  at  \\\n",
       "0         5.0               888.0          1.0  2005-10-01   \n",
       "1         5.0               889.0          1.0  2007-01-01   \n",
       "2         5.0              2312.0          1.0  2008-05-19   \n",
       "3         0.0                 NaN          NaN         NaN   \n",
       "4         4.0                 NaN          NaN         NaN   \n",
       "\n",
       "   funding  round  type raised  amount pre  money  valuation  participants  \\\n",
       "0              series-a      5250000.0                   0.0           2.0   \n",
       "1              series-b      9500000.0                   0.0           3.0   \n",
       "2             series-c+     25000000.0                   0.0           4.0   \n",
       "3                   NaN            NaN                   NaN           NaN   \n",
       "4                   NaN            NaN                   NaN           NaN   \n",
       "\n",
       "   is  first  round  is  last  round  \n",
       "0               0.0              1.0  \n",
       "1               0.0              0.0  \n",
       "2               1.0              0.0  \n",
       "3               NaN              NaN  \n",
       "4               NaN              NaN  \n",
       "\n",
       "[5 rows x 22 columns]"
      ]
     },
     "execution_count": 9,
     "metadata": {},
     "output_type": "execute_result"
    }
   ],
   "source": [
    "company_and_rounds.head()"
   ]
  },
  {
   "cell_type": "code",
   "execution_count": 11,
   "metadata": {},
   "outputs": [
    {
     "name": "stdout",
     "output_type": "stream",
     "text": [
      "<class 'pandas.core.frame.DataFrame'>\n",
      "RangeIndex: 217774 entries, 0 to 217773\n",
      "Data columns (total 22 columns):\n",
      " #   Column                 Non-Null Count   Dtype  \n",
      "---  ------                 --------------   -----  \n",
      " 0   company  ID            217472 non-null  float64\n",
      " 1   name                   217471 non-null  object \n",
      " 2   category  code         143886 non-null  object \n",
      " 3   status                 217472 non-null  object \n",
      " 4   founded  at            109956 non-null  object \n",
      " 5   closed  at             3449 non-null    object \n",
      " 6   domain                 147159 non-null  object \n",
      " 7   network  username      95534 non-null   object \n",
      " 8   country  code          108607 non-null  object \n",
      " 9   investment  rounds     217472 non-null  float64\n",
      " 10  funding  rounds        217472 non-null  float64\n",
      " 11  funding  total         217472 non-null  float64\n",
      " 12  milestones             217472 non-null  float64\n",
      " 13  funding  round  id     52928 non-null   float64\n",
      " 14  company  id            52928 non-null   float64\n",
      " 15  funded  at             52680 non-null   object \n",
      " 16  funding  round  type   52928 non-null   object \n",
      " 17  raised  amount         52928 non-null   float64\n",
      " 18  pre  money  valuation  52928 non-null   float64\n",
      " 19  participants           52928 non-null   float64\n",
      " 20  is  first  round       52928 non-null   float64\n",
      " 21  is  last  round        52928 non-null   float64\n",
      "dtypes: float64(12), object(10)\n",
      "memory usage: 36.6+ MB\n"
     ]
    }
   ],
   "source": [
    "company_and_rounds.info()"
   ]
  },
  {
   "cell_type": "code",
   "execution_count": 13,
   "metadata": {},
   "outputs": [
    {
     "data": {
      "text/html": [
       "<div>\n",
       "<style scoped>\n",
       "    .dataframe tbody tr th:only-of-type {\n",
       "        vertical-align: middle;\n",
       "    }\n",
       "\n",
       "    .dataframe tbody tr th {\n",
       "        vertical-align: top;\n",
       "    }\n",
       "\n",
       "    .dataframe thead th {\n",
       "        text-align: right;\n",
       "    }\n",
       "</style>\n",
       "<table border=\"1\" class=\"dataframe\">\n",
       "  <thead>\n",
       "    <tr style=\"text-align: right;\">\n",
       "      <th></th>\n",
       "      <th>id</th>\n",
       "      <th>first_name</th>\n",
       "      <th>last_name</th>\n",
       "      <th>company_id</th>\n",
       "      <th>network_username</th>\n",
       "    </tr>\n",
       "  </thead>\n",
       "  <tbody>\n",
       "    <tr>\n",
       "      <th>0</th>\n",
       "      <td>10</td>\n",
       "      <td>Mark</td>\n",
       "      <td>Zuckerberg</td>\n",
       "      <td>5.0</td>\n",
       "      <td>NaN</td>\n",
       "    </tr>\n",
       "    <tr>\n",
       "      <th>1</th>\n",
       "      <td>100</td>\n",
       "      <td>Peter</td>\n",
       "      <td>Lester</td>\n",
       "      <td>27.0</td>\n",
       "      <td>NaN</td>\n",
       "    </tr>\n",
       "    <tr>\n",
       "      <th>2</th>\n",
       "      <td>1000</td>\n",
       "      <td>Dr. Steven</td>\n",
       "      <td>E. Saunders</td>\n",
       "      <td>292.0</td>\n",
       "      <td>NaN</td>\n",
       "    </tr>\n",
       "    <tr>\n",
       "      <th>3</th>\n",
       "      <td>10000</td>\n",
       "      <td>Neil</td>\n",
       "      <td>Capel</td>\n",
       "      <td>2526.0</td>\n",
       "      <td>NaN</td>\n",
       "    </tr>\n",
       "    <tr>\n",
       "      <th>4</th>\n",
       "      <td>100000</td>\n",
       "      <td>Sue</td>\n",
       "      <td>Pilsch</td>\n",
       "      <td>NaN</td>\n",
       "      <td>NaN</td>\n",
       "    </tr>\n",
       "  </tbody>\n",
       "</table>\n",
       "</div>"
      ],
      "text/plain": [
       "       id  first_name    last_name  company_id network_username\n",
       "0      10        Mark   Zuckerberg         5.0              NaN\n",
       "1     100       Peter       Lester        27.0              NaN\n",
       "2    1000  Dr. Steven  E. Saunders       292.0              NaN\n",
       "3   10000        Neil        Capel      2526.0              NaN\n",
       "4  100000         Sue       Pilsch         NaN              NaN"
      ]
     },
     "execution_count": 13,
     "metadata": {},
     "output_type": "execute_result"
    }
   ],
   "source": [
    "people.head()"
   ]
  },
  {
   "cell_type": "code",
   "execution_count": 15,
   "metadata": {},
   "outputs": [
    {
     "name": "stdout",
     "output_type": "stream",
     "text": [
      "<class 'pandas.core.frame.DataFrame'>\n",
      "RangeIndex: 226709 entries, 0 to 226708\n",
      "Data columns (total 5 columns):\n",
      " #   Column            Non-Null Count   Dtype  \n",
      "---  ------            --------------   -----  \n",
      " 0   id                226709 non-null  int64  \n",
      " 1   first_name        226700 non-null  object \n",
      " 2   last_name         226705 non-null  object \n",
      " 3   company_id        34615 non-null   float64\n",
      " 4   network_username  38867 non-null   object \n",
      "dtypes: float64(1), int64(1), object(3)\n",
      "memory usage: 8.6+ MB\n"
     ]
    }
   ],
   "source": [
    "people.info()"
   ]
  },
  {
   "cell_type": "code",
   "execution_count": 17,
   "metadata": {},
   "outputs": [
    {
     "data": {
      "text/html": [
       "<div>\n",
       "<style scoped>\n",
       "    .dataframe tbody tr th:only-of-type {\n",
       "        vertical-align: middle;\n",
       "    }\n",
       "\n",
       "    .dataframe tbody tr th {\n",
       "        vertical-align: top;\n",
       "    }\n",
       "\n",
       "    .dataframe thead th {\n",
       "        text-align: right;\n",
       "    }\n",
       "</style>\n",
       "<table border=\"1\" class=\"dataframe\">\n",
       "  <thead>\n",
       "    <tr style=\"text-align: right;\">\n",
       "      <th></th>\n",
       "      <th>id</th>\n",
       "      <th>person_id</th>\n",
       "      <th>instituition</th>\n",
       "      <th>graduated_at</th>\n",
       "    </tr>\n",
       "  </thead>\n",
       "  <tbody>\n",
       "    <tr>\n",
       "      <th>0</th>\n",
       "      <td>1</td>\n",
       "      <td>6117</td>\n",
       "      <td>NaN</td>\n",
       "      <td>NaN</td>\n",
       "    </tr>\n",
       "    <tr>\n",
       "      <th>1</th>\n",
       "      <td>2</td>\n",
       "      <td>6136</td>\n",
       "      <td>Washington University, St. Louis</td>\n",
       "      <td>1990-01-01</td>\n",
       "    </tr>\n",
       "    <tr>\n",
       "      <th>2</th>\n",
       "      <td>3</td>\n",
       "      <td>6136</td>\n",
       "      <td>Boston University</td>\n",
       "      <td>1992-01-01</td>\n",
       "    </tr>\n",
       "    <tr>\n",
       "      <th>3</th>\n",
       "      <td>4</td>\n",
       "      <td>6005</td>\n",
       "      <td>University of Greenwich</td>\n",
       "      <td>2006-01-01</td>\n",
       "    </tr>\n",
       "    <tr>\n",
       "      <th>4</th>\n",
       "      <td>5</td>\n",
       "      <td>5832</td>\n",
       "      <td>Rice University</td>\n",
       "      <td>NaN</td>\n",
       "    </tr>\n",
       "  </tbody>\n",
       "</table>\n",
       "</div>"
      ],
      "text/plain": [
       "   id  person_id                      instituition graduated_at\n",
       "0   1       6117                               NaN          NaN\n",
       "1   2       6136  Washington University, St. Louis   1990-01-01\n",
       "2   3       6136                 Boston University   1992-01-01\n",
       "3   4       6005           University of Greenwich   2006-01-01\n",
       "4   5       5832                   Rice University          NaN"
      ]
     },
     "execution_count": 17,
     "metadata": {},
     "output_type": "execute_result"
    }
   ],
   "source": [
    "education.head()"
   ]
  },
  {
   "cell_type": "code",
   "execution_count": 19,
   "metadata": {},
   "outputs": [
    {
     "name": "stdout",
     "output_type": "stream",
     "text": [
      "<class 'pandas.core.frame.DataFrame'>\n",
      "RangeIndex: 109610 entries, 0 to 109609\n",
      "Data columns (total 4 columns):\n",
      " #   Column        Non-Null Count   Dtype \n",
      "---  ------        --------------   ----- \n",
      " 0   id            109610 non-null  int64 \n",
      " 1   person_id     109610 non-null  int64 \n",
      " 2   instituition  109555 non-null  object\n",
      " 3   graduated_at  58054 non-null   object\n",
      "dtypes: int64(2), object(2)\n",
      "memory usage: 3.3+ MB\n"
     ]
    }
   ],
   "source": [
    "education.info()"
   ]
  },
  {
   "cell_type": "code",
   "execution_count": 21,
   "metadata": {},
   "outputs": [
    {
     "data": {
      "text/html": [
       "<div>\n",
       "<style scoped>\n",
       "    .dataframe tbody tr th:only-of-type {\n",
       "        vertical-align: middle;\n",
       "    }\n",
       "\n",
       "    .dataframe tbody tr th {\n",
       "        vertical-align: top;\n",
       "    }\n",
       "\n",
       "    .dataframe thead th {\n",
       "        text-align: right;\n",
       "    }\n",
       "</style>\n",
       "<table border=\"1\" class=\"dataframe\">\n",
       "  <thead>\n",
       "    <tr style=\"text-align: right;\">\n",
       "      <th></th>\n",
       "      <th>id</th>\n",
       "      <th>object_id</th>\n",
       "      <th>degree_type</th>\n",
       "      <th>subject</th>\n",
       "    </tr>\n",
       "  </thead>\n",
       "  <tbody>\n",
       "    <tr>\n",
       "      <th>0</th>\n",
       "      <td>1</td>\n",
       "      <td>p:6117</td>\n",
       "      <td>MBA</td>\n",
       "      <td>NaN</td>\n",
       "    </tr>\n",
       "    <tr>\n",
       "      <th>1</th>\n",
       "      <td>2</td>\n",
       "      <td>p:6136</td>\n",
       "      <td>BA</td>\n",
       "      <td>English, French</td>\n",
       "    </tr>\n",
       "    <tr>\n",
       "      <th>2</th>\n",
       "      <td>3</td>\n",
       "      <td>p:6136</td>\n",
       "      <td>MS</td>\n",
       "      <td>Mass Communication</td>\n",
       "    </tr>\n",
       "    <tr>\n",
       "      <th>3</th>\n",
       "      <td>4</td>\n",
       "      <td>p:6005</td>\n",
       "      <td>MS</td>\n",
       "      <td>Internet Technology</td>\n",
       "    </tr>\n",
       "    <tr>\n",
       "      <th>4</th>\n",
       "      <td>5</td>\n",
       "      <td>p:5832</td>\n",
       "      <td>BCS</td>\n",
       "      <td>Computer Science, Psychology</td>\n",
       "    </tr>\n",
       "  </tbody>\n",
       "</table>\n",
       "</div>"
      ],
      "text/plain": [
       "   id object_id degree_type                       subject\n",
       "0   1    p:6117         MBA                           NaN\n",
       "1   2    p:6136          BA               English, French\n",
       "2   3    p:6136          MS            Mass Communication\n",
       "3   4    p:6005          MS           Internet Technology\n",
       "4   5    p:5832         BCS  Computer Science, Psychology"
      ]
     },
     "execution_count": 21,
     "metadata": {},
     "output_type": "execute_result"
    }
   ],
   "source": [
    "degrees.head()"
   ]
  },
  {
   "cell_type": "code",
   "execution_count": 23,
   "metadata": {},
   "outputs": [
    {
     "name": "stdout",
     "output_type": "stream",
     "text": [
      "<class 'pandas.core.frame.DataFrame'>\n",
      "RangeIndex: 109610 entries, 0 to 109609\n",
      "Data columns (total 4 columns):\n",
      " #   Column       Non-Null Count   Dtype \n",
      "---  ------       --------------   ----- \n",
      " 0   id           109610 non-null  int64 \n",
      " 1   object_id    109610 non-null  object\n",
      " 2   degree_type  98389 non-null   object\n",
      " 3   subject      81298 non-null   object\n",
      "dtypes: int64(1), object(3)\n",
      "memory usage: 3.3+ MB\n"
     ]
    }
   ],
   "source": [
    "degrees.info()"
   ]
  },
  {
   "cell_type": "markdown",
   "metadata": {},
   "source": [
    "###### Вывод\n",
    "На данном этапе загружены все необходимые файлы. Изучено содержимое таблиц, типы данных и названия. \n",
    "- В таблице acquisition 9407 строк и 6 столбцов. Необходимо поработать с типами данных и пропусками.\n",
    "- В таблице company_and_rounds 217774 строк и 22 столбца. Необходимо привести названия столбцов к змеиному виду, поработать с типами данных и пропусками. Также в таблице дважды встречается столбец company_id\n",
    "- В таблице people 226709 строк и 5 столбцов. Необходимо обработать пропуски, изменить типы данных.\n",
    "- В таблице education 109610 строк и 4 столбца. Необходимо обработать пропуски, изменить типы данных.\n",
    "- В таблице degrees 109610 строк и 4 столбца. Необходимо обработать пропуски, изменить типы данных."
   ]
  },
  {
   "cell_type": "code",
   "execution_count": 25,
   "metadata": {},
   "outputs": [
    {
     "name": "stdout",
     "output_type": "stream",
     "text": [
      "<class 'pandas.core.frame.DataFrame'>\n",
      "RangeIndex: 109610 entries, 0 to 109609\n",
      "Data columns (total 4 columns):\n",
      " #   Column        Non-Null Count   Dtype \n",
      "---  ------        --------------   ----- \n",
      " 0   id            109610 non-null  int64 \n",
      " 1   person_id     109610 non-null  int64 \n",
      " 2   institution   109555 non-null  object\n",
      " 3   graduated_at  58054 non-null   object\n",
      "dtypes: int64(2), object(2)\n",
      "memory usage: 3.3+ MB\n"
     ]
    }
   ],
   "source": [
    "education=education.rename(columns={'instituition':'institution'})\n",
    "education.info()"
   ]
  },
  {
   "cell_type": "code",
   "execution_count": 27,
   "metadata": {},
   "outputs": [
    {
     "data": {
      "image/png": "[encoded data removed]",
      "text/plain": [
       "<Figure size 640x480 with 1 Axes>"
      ]
     },
     "metadata": {},
     "output_type": "display_data"
    }
   ],
   "source": [
    "first_id = set(company_and_rounds['company  ID'].dropna().unique())\n",
    "second_id = set(company_and_rounds['company  id'].dropna().unique())\n",
    "# Строим диаграмму Венна\n",
    "venn2([first_id, second_id], set_labels=('company  ID', 'company  id'))\n",
    "\n",
    "# Отображаем график\n",
    "plt.title(\"Пересечение \")\n",
    "plt.show() "
   ]
  },
  {
   "cell_type": "markdown",
   "metadata": {
    "id": "mg2gEwh0rJg0"
   },
   "source": [
    "### Смена типов и анализ пропусков\n",
    "\n",
    "- Обработайте типы данных в столбцах, которые хранят значения даты и времени, если это необходимо.\n",
    "- Оцените полноту данных — сделайте предварительный вывод, достаточно ли данных для решения задач проекта."
   ]
  },
  {
   "cell_type": "code",
   "execution_count": 29,
   "metadata": {
    "id": "FsL0A8RBrJg1",
    "vscode": {
     "languageId": "plaintext"
    }
   },
   "outputs": [
    {
     "name": "stdout",
     "output_type": "stream",
     "text": [
      "Названия столбцов до изменения: \n",
      " Index(['company  ID', 'name', 'category  code', 'status', 'founded  at',\n",
      "       'closed  at', 'domain', 'network  username', 'country  code',\n",
      "       'investment  rounds', 'funding  rounds', 'funding  total', 'milestones',\n",
      "       'funding  round  id', 'company  id', 'funded  at',\n",
      "       'funding  round  type', 'raised  amount', 'pre  money  valuation',\n",
      "       'participants', 'is  first  round', 'is  last  round'],\n",
      "      dtype='object')\n",
      "Названия столбцов после изменения: \n",
      " Index(['company_ID', 'name', 'category_code', 'status', 'founded_at',\n",
      "       'closed_at', 'domain', 'network_username', 'country_code',\n",
      "       'investment_rounds', 'funding_rounds', 'funding_total', 'milestones',\n",
      "       'funding_round_id', 'company_id', 'funded_at', 'funding_round_type',\n",
      "       'raised_amount', 'pre_money_valuation', 'participants',\n",
      "       'is_first_round', 'is_last_round'],\n",
      "      dtype='object')\n"
     ]
    }
   ],
   "source": [
    "print(f'Названия столбцов до изменения: \\n {company_and_rounds.columns}')\n",
    "company_and_rounds.columns=company_and_rounds.columns.str.replace('  ', '_')\n",
    "print(f'Названия столбцов после изменения: \\n {company_and_rounds.columns}')"
   ]
  },
  {
   "cell_type": "code",
   "execution_count": 31,
   "metadata": {
    "id": "DEg1tl8DFeBn"
   },
   "outputs": [
    {
     "name": "stdout",
     "output_type": "stream",
     "text": [
      "<class 'pandas.core.frame.DataFrame'>\n",
      "RangeIndex: 9407 entries, 0 to 9406\n",
      "Data columns (total 6 columns):\n",
      " #   Column                Non-Null Count  Dtype         \n",
      "---  ------                --------------  -----         \n",
      " 0   id                    9407 non-null   int64         \n",
      " 1   acquiring_company_id  9407 non-null   int64         \n",
      " 2   acquired_company_id   9407 non-null   int64         \n",
      " 3   term_code             1831 non-null   category      \n",
      " 4   price_amount          9407 non-null   int64         \n",
      " 5   acquired_at           9378 non-null   datetime64[ns]\n",
      "dtypes: category(1), datetime64[ns](1), int64(4)\n",
      "memory usage: 376.9 KB\n"
     ]
    }
   ],
   "source": [
    "# изменение типов данных таблицы acquisition \n",
    "acquisition['acquired_at']=pd.to_datetime(acquisition['acquired_at'])\n",
    "acquisition['term_code']=acquisition['term_code'].astype('category')\n",
    "acquisition.info()"
   ]
  },
  {
   "cell_type": "code",
   "execution_count": 33,
   "metadata": {},
   "outputs": [
    {
     "name": "stdout",
     "output_type": "stream",
     "text": [
      "<class 'pandas.core.frame.DataFrame'>\n",
      "RangeIndex: 217774 entries, 0 to 217773\n",
      "Data columns (total 22 columns):\n",
      " #   Column               Non-Null Count   Dtype         \n",
      "---  ------               --------------   -----         \n",
      " 0   company_ID           217472 non-null  float64       \n",
      " 1   name                 217471 non-null  object        \n",
      " 2   category_code        143886 non-null  category      \n",
      " 3   status               217472 non-null  category      \n",
      " 4   founded_at           109956 non-null  datetime64[ns]\n",
      " 5   closed_at            3449 non-null    datetime64[ns]\n",
      " 6   domain               147159 non-null  object        \n",
      " 7   network_username     95534 non-null   object        \n",
      " 8   country_code         108607 non-null  object        \n",
      " 9   investment_rounds    217472 non-null  float64       \n",
      " 10  funding_rounds       217472 non-null  float64       \n",
      " 11  funding_total        217472 non-null  float64       \n",
      " 12  milestones           217472 non-null  float64       \n",
      " 13  funding_round_id     52928 non-null   float64       \n",
      " 14  company_id           52928 non-null   float64       \n",
      " 15  funded_at            52680 non-null   datetime64[ns]\n",
      " 16  funding_round_type   52928 non-null   object        \n",
      " 17  raised_amount        52928 non-null   float64       \n",
      " 18  pre_money_valuation  52928 non-null   float64       \n",
      " 19  participants         52928 non-null   float64       \n",
      " 20  is_first_round       52928 non-null   boolean       \n",
      " 21  is_last_round        52928 non-null   boolean       \n",
      "dtypes: boolean(2), category(2), datetime64[ns](3), float64(10), object(5)\n",
      "memory usage: 31.2+ MB\n"
     ]
    }
   ],
   "source": [
    "# изменение типов данных таблицы company_and_rounds\n",
    "company_and_rounds[['founded_at', 'closed_at', 'funded_at']]=company_and_rounds[['founded_at', 'closed_at', 'funded_at']].apply(pd.to_datetime)\n",
    "company_and_rounds[['status','category_code']]=company_and_rounds[['status','category_code']].astype('category')\n",
    "company_and_rounds[['is_first_round', 'is_last_round']]=company_and_rounds[['is_first_round', 'is_last_round']].astype('boolean')\n",
    "company_and_rounds.info()"
   ]
  },
  {
   "cell_type": "code",
   "execution_count": 35,
   "metadata": {},
   "outputs": [
    {
     "name": "stdout",
     "output_type": "stream",
     "text": [
      "<class 'pandas.core.frame.DataFrame'>\n",
      "RangeIndex: 109610 entries, 0 to 109609\n",
      "Data columns (total 4 columns):\n",
      " #   Column        Non-Null Count   Dtype         \n",
      "---  ------        --------------   -----         \n",
      " 0   id            109610 non-null  int64         \n",
      " 1   person_id     109610 non-null  int64         \n",
      " 2   institution   109555 non-null  object        \n",
      " 3   graduated_at  58054 non-null   datetime64[ns]\n",
      "dtypes: datetime64[ns](1), int64(2), object(1)\n",
      "memory usage: 3.3+ MB\n"
     ]
    }
   ],
   "source": [
    "# изменение типов данных таблицы education\n",
    "education['graduated_at']=pd.to_datetime(education['graduated_at'])\n",
    "education.info()\n",
    "\n"
   ]
  },
  {
   "cell_type": "code",
   "execution_count": 37,
   "metadata": {},
   "outputs": [
    {
     "name": "stdout",
     "output_type": "stream",
     "text": [
      "<class 'pandas.core.frame.DataFrame'>\n",
      "RangeIndex: 109610 entries, 0 to 109609\n",
      "Data columns (total 4 columns):\n",
      " #   Column       Non-Null Count   Dtype   \n",
      "---  ------       --------------   -----   \n",
      " 0   id           109610 non-null  int64   \n",
      " 1   object_id    109610 non-null  object  \n",
      " 2   degree_type  98389 non-null   category\n",
      " 3   subject      81298 non-null   object  \n",
      "dtypes: category(1), int64(1), object(2)\n",
      "memory usage: 3.0+ MB\n"
     ]
    }
   ],
   "source": [
    "# изменение типов данных таблицы degrees\n",
    "degrees['degree_type']=degrees['degree_type'].astype('category')\n",
    "degrees.info()"
   ]
  },
  {
   "cell_type": "markdown",
   "metadata": {
    "id": "u60cHsn6rJg1"
   },
   "source": [
    "## Шаг 2. Предобработка данных, предварительное исследование"
   ]
  },
  {
   "cell_type": "markdown",
   "metadata": {
    "id": "g2bHIIjcrJg1"
   },
   "source": [
    "\n",
    "### Раунды финансирования по годам\n",
    "\n",
    "Задание необходимо выполнить без объединения и дополнительной предобработки на основе датасета `company_and_rounds.csv`.\n",
    "\n",
    "- Составьте сводную таблицу по годам, в которой на основании столбца `raised_amount` для каждого года указан:\n",
    "    - типичный размер средств, выделяемый в рамках одного раунда;\n",
    "    - общее количество раундов финансирования за этот год.\n",
    "    \n",
    "- Оставьте в таблице информацию только для тех лет, для которых есть информация о более чем 50 раундах финансирования.\n",
    "- На основе получившейся таблицы постройте график, который будет отражать динамику типичного размера средств, которые стартапы получали в рамках одного раунда финансирования.\n",
    "\n",
    "На основе полученных данных ответьте на вопросы:\n",
    "\n",
    "- В каком году типичный размер собранных в рамках одного раунда средств был максимален?\n",
    "- Какая тенденция по количеству раундов и выделяемых в рамках каждого раунда средств наблюдалась в 2013 году?"
   ]
  },
  {
   "cell_type": "code",
   "execution_count": 39,
   "metadata": {
    "id": "Cf5IjfOQrJg1",
    "vscode": {
     "languageId": "plaintext"
    }
   },
   "outputs": [
    {
     "name": "stdout",
     "output_type": "stream",
     "text": [
      "                funding_rounds  raised_amount\n",
      "funded_at_year                               \n",
      "1999.0                      76      2000000.0\n",
      "2000.0                     125      4200000.0\n",
      "2001.0                      95      3000000.0\n",
      "2002.0                     115      4200000.0\n",
      "2003.0                     154      3000000.0\n",
      "2004.0                     286      5000000.0\n",
      "2005.0                    1624      5500000.0\n",
      "2006.0                    2409      5000000.0\n",
      "2007.0                    3220      3973320.0\n",
      "2008.0                    3735      3110000.0\n",
      "2009.0                    4112      2000000.0\n",
      "2010.0                    6194      1602500.0\n",
      "2011.0                    9162      1200000.0\n",
      "2012.0                    9956      1000000.0\n",
      "2013.0                   11042      1200000.0\n"
     ]
    }
   ],
   "source": [
    "company_and_rounds['funded_at_year']=company_and_rounds['funded_at'].dt.year\n",
    "pivot = company_and_rounds.pivot_table(values=['funding_rounds','raised_amount'], index='funded_at_year', aggfunc={'funding_rounds':'count','raised_amount':'median'})\n",
    "print(pivot.loc[pivot['funding_rounds']>50])"
   ]
  },
  {
   "cell_type": "code",
   "execution_count": 41,
   "metadata": {
    "id": "8Fbz6KmzFdYP"
   },
   "outputs": [
    {
     "data": {
      "image/png": "[encoded data removed]",
      "text/plain": [
       "<Figure size 1000x600 with 1 Axes>"
      ]
     },
     "metadata": {},
     "output_type": "display_data"
    }
   ],
   "source": [
    "pivot['raised_amount'].loc[pivot['funding_rounds']>50].plot(kind='line', \n",
    "                                                            figsize=(10,6), \n",
    "                                                            color='lightgreen', \n",
    "                                                            marker='o'\n",
    ")\n",
    "plt.title('Динамика типичного размера средств, которые стартапы получали в рамках одного раунда финансирования')\n",
    "plt.xlabel('Год')\n",
    "plt.ylabel('Размер средств, млн.$')\n",
    "plt.show()"
   ]
  },
  {
   "cell_type": "markdown",
   "metadata": {
    "id": "Z92DzKMMFdKW"
   },
   "source": [
    "###### Выводы\n",
    "- В каком году типичный размер собранных в рамках одного раунда средств был максимален?\n",
    "<br> В 2005 году был получен максимальный типичный размер собранных средств - 5.5 млн.$\n",
    "- Какая тенденция по количеству раундов и выделяемых в рамках каждого раунда средств наблюдалась в 2013 году?\n",
    "<br> В 2013 году было проведено 11042 раундов при 1200000 выделяемых средств. По сравнению с предыдущим годом количество раундов увеличилось на ~10%, количество средств увеличилось на ~16.7% "
   ]
  },
  {
   "cell_type": "markdown",
   "metadata": {
    "id": "45if1en1rJg2"
   },
   "source": [
    "\n",
    "### Люди и их образование\n",
    "\n",
    "Заказчик хочет понять, зависит ли полнота сведений о сотрудниках (например, об их образовании) от размера компаний.\n",
    "\n",
    "- Оцените, насколько информация об образовании сотрудников полна. Используя датасеты `people.csv` и `education.csv`, разделите все компании на несколько групп по количеству сотрудников и оцените среднюю долю сотрудников без информации об образовании в каждой из групп. Обоснуйте выбранные границы групп.\n",
    "- Оцените, возможно ли для выполнения задания присоединить к этим таблицам ещё и таблицу `degrees.csv`."
   ]
  },
  {
   "cell_type": "code",
   "execution_count": 43,
   "metadata": {},
   "outputs": [
    {
     "data": {
      "text/html": [
       "<div>\n",
       "<style scoped>\n",
       "    .dataframe tbody tr th:only-of-type {\n",
       "        vertical-align: middle;\n",
       "    }\n",
       "\n",
       "    .dataframe tbody tr th {\n",
       "        vertical-align: top;\n",
       "    }\n",
       "\n",
       "    .dataframe thead th {\n",
       "        text-align: right;\n",
       "    }\n",
       "</style>\n",
       "<table border=\"1\" class=\"dataframe\">\n",
       "  <thead>\n",
       "    <tr style=\"text-align: right;\">\n",
       "      <th></th>\n",
       "      <th>id</th>\n",
       "      <th>first_name</th>\n",
       "      <th>last_name</th>\n",
       "      <th>company_id</th>\n",
       "      <th>network_username</th>\n",
       "      <th>id_education</th>\n",
       "      <th>institution</th>\n",
       "      <th>graduated_at</th>\n",
       "    </tr>\n",
       "  </thead>\n",
       "  <tbody>\n",
       "    <tr>\n",
       "      <th>0</th>\n",
       "      <td>10</td>\n",
       "      <td>Mark</td>\n",
       "      <td>Zuckerberg</td>\n",
       "      <td>5.0</td>\n",
       "      <td>NaN</td>\n",
       "      <td>2415.0</td>\n",
       "      <td>Harvard University</td>\n",
       "      <td>NaT</td>\n",
       "    </tr>\n",
       "    <tr>\n",
       "      <th>1</th>\n",
       "      <td>100</td>\n",
       "      <td>Peter</td>\n",
       "      <td>Lester</td>\n",
       "      <td>27.0</td>\n",
       "      <td>NaN</td>\n",
       "      <td>NaN</td>\n",
       "      <td>NaN</td>\n",
       "      <td>NaT</td>\n",
       "    </tr>\n",
       "    <tr>\n",
       "      <th>2</th>\n",
       "      <td>1000</td>\n",
       "      <td>Dr. Steven</td>\n",
       "      <td>E. Saunders</td>\n",
       "      <td>292.0</td>\n",
       "      <td>NaN</td>\n",
       "      <td>NaN</td>\n",
       "      <td>NaN</td>\n",
       "      <td>NaT</td>\n",
       "    </tr>\n",
       "    <tr>\n",
       "      <th>3</th>\n",
       "      <td>10000</td>\n",
       "      <td>Neil</td>\n",
       "      <td>Capel</td>\n",
       "      <td>2526.0</td>\n",
       "      <td>NaN</td>\n",
       "      <td>NaN</td>\n",
       "      <td>NaN</td>\n",
       "      <td>NaT</td>\n",
       "    </tr>\n",
       "    <tr>\n",
       "      <th>4</th>\n",
       "      <td>100000</td>\n",
       "      <td>Sue</td>\n",
       "      <td>Pilsch</td>\n",
       "      <td>NaN</td>\n",
       "      <td>NaN</td>\n",
       "      <td>NaN</td>\n",
       "      <td>NaN</td>\n",
       "      <td>NaT</td>\n",
       "    </tr>\n",
       "    <tr>\n",
       "      <th>...</th>\n",
       "      <td>...</td>\n",
       "      <td>...</td>\n",
       "      <td>...</td>\n",
       "      <td>...</td>\n",
       "      <td>...</td>\n",
       "      <td>...</td>\n",
       "      <td>...</td>\n",
       "      <td>...</td>\n",
       "    </tr>\n",
       "    <tr>\n",
       "      <th>267689</th>\n",
       "      <td>99999</td>\n",
       "      <td>Ramon</td>\n",
       "      <td>Peypoch</td>\n",
       "      <td>NaN</td>\n",
       "      <td>NaN</td>\n",
       "      <td>NaN</td>\n",
       "      <td>NaN</td>\n",
       "      <td>NaT</td>\n",
       "    </tr>\n",
       "    <tr>\n",
       "      <th>267690</th>\n",
       "      <td>174088</td>\n",
       "      <td>Dr. Ray</td>\n",
       "      <td>Woods</td>\n",
       "      <td>188200.0</td>\n",
       "      <td>network</td>\n",
       "      <td>25958.0</td>\n",
       "      <td>Sydney University Medical School</td>\n",
       "      <td>1982-01-01</td>\n",
       "    </tr>\n",
       "    <tr>\n",
       "      <th>267691</th>\n",
       "      <td>118386</td>\n",
       "      <td>Ricardo</td>\n",
       "      <td>Durand</td>\n",
       "      <td>143419.0</td>\n",
       "      <td>itechsocialnet</td>\n",
       "      <td>18871.0</td>\n",
       "      <td>ESCS</td>\n",
       "      <td>2004-01-01</td>\n",
       "    </tr>\n",
       "    <tr>\n",
       "      <th>267692</th>\n",
       "      <td>175827</td>\n",
       "      <td>mahesh</td>\n",
       "      <td>kumar</td>\n",
       "      <td>NaN</td>\n",
       "      <td>socialnethubs</td>\n",
       "      <td>NaN</td>\n",
       "      <td>NaN</td>\n",
       "      <td>NaT</td>\n",
       "    </tr>\n",
       "    <tr>\n",
       "      <th>267693</th>\n",
       "      <td>178190</td>\n",
       "      <td>Alex</td>\n",
       "      <td>Smith</td>\n",
       "      <td>NaN</td>\n",
       "      <td>esocialnetlike</td>\n",
       "      <td>NaN</td>\n",
       "      <td>NaN</td>\n",
       "      <td>NaT</td>\n",
       "    </tr>\n",
       "  </tbody>\n",
       "</table>\n",
       "<p>267694 rows × 8 columns</p>\n",
       "</div>"
      ],
      "text/plain": [
       "            id  first_name    last_name  company_id network_username  \\\n",
       "0           10        Mark   Zuckerberg         5.0              NaN   \n",
       "1          100       Peter       Lester        27.0              NaN   \n",
       "2         1000  Dr. Steven  E. Saunders       292.0              NaN   \n",
       "3        10000        Neil        Capel      2526.0              NaN   \n",
       "4       100000         Sue       Pilsch         NaN              NaN   \n",
       "...        ...         ...          ...         ...              ...   \n",
       "267689   99999       Ramon      Peypoch         NaN              NaN   \n",
       "267690  174088     Dr. Ray        Woods    188200.0          network   \n",
       "267691  118386     Ricardo       Durand    143419.0   itechsocialnet   \n",
       "267692  175827      mahesh        kumar         NaN    socialnethubs   \n",
       "267693  178190        Alex        Smith         NaN   esocialnetlike   \n",
       "\n",
       "        id_education                       institution graduated_at  \n",
       "0             2415.0                Harvard University          NaT  \n",
       "1                NaN                               NaN          NaT  \n",
       "2                NaN                               NaN          NaT  \n",
       "3                NaN                               NaN          NaT  \n",
       "4                NaN                               NaN          NaT  \n",
       "...              ...                               ...          ...  \n",
       "267689           NaN                               NaN          NaT  \n",
       "267690       25958.0  Sydney University Medical School   1982-01-01  \n",
       "267691       18871.0                              ESCS   2004-01-01  \n",
       "267692           NaN                               NaN          NaT  \n",
       "267693           NaN                               NaN          NaT  \n",
       "\n",
       "[267694 rows x 8 columns]"
      ]
     },
     "execution_count": 43,
     "metadata": {},
     "output_type": "execute_result"
    }
   ],
   "source": [
    "education=education.rename(columns={'id': 'id_education' })\n",
    "df=pd.merge(people, education, how='left', left_on='id', right_on='person_id')\n",
    "df = df.drop('person_id', axis=1)\n",
    "df"
   ]
  },
  {
   "cell_type": "code",
   "execution_count": 45,
   "metadata": {},
   "outputs": [
    {
     "data": {
      "text/html": [
       "<div>\n",
       "<style scoped>\n",
       "    .dataframe tbody tr th:only-of-type {\n",
       "        vertical-align: middle;\n",
       "    }\n",
       "\n",
       "    .dataframe tbody tr th {\n",
       "        vertical-align: top;\n",
       "    }\n",
       "\n",
       "    .dataframe thead th {\n",
       "        text-align: right;\n",
       "    }\n",
       "</style>\n",
       "<table border=\"1\" class=\"dataframe\">\n",
       "  <thead>\n",
       "    <tr style=\"text-align: right;\">\n",
       "      <th></th>\n",
       "      <th>id</th>\n",
       "      <th>first_name</th>\n",
       "      <th>last_name</th>\n",
       "      <th>company_id</th>\n",
       "      <th>network_username</th>\n",
       "      <th>id_education</th>\n",
       "      <th>institution</th>\n",
       "      <th>graduated_at</th>\n",
       "      <th>count</th>\n",
       "    </tr>\n",
       "  </thead>\n",
       "  <tbody>\n",
       "    <tr>\n",
       "      <th>0</th>\n",
       "      <td>10</td>\n",
       "      <td>Mark</td>\n",
       "      <td>Zuckerberg</td>\n",
       "      <td>5.0</td>\n",
       "      <td>NaN</td>\n",
       "      <td>2415.0</td>\n",
       "      <td>Harvard University</td>\n",
       "      <td>NaT</td>\n",
       "      <td>84.0</td>\n",
       "    </tr>\n",
       "    <tr>\n",
       "      <th>1</th>\n",
       "      <td>100</td>\n",
       "      <td>Peter</td>\n",
       "      <td>Lester</td>\n",
       "      <td>27.0</td>\n",
       "      <td>NaN</td>\n",
       "      <td>NaN</td>\n",
       "      <td>NaN</td>\n",
       "      <td>NaT</td>\n",
       "      <td>14.0</td>\n",
       "    </tr>\n",
       "    <tr>\n",
       "      <th>2</th>\n",
       "      <td>1000</td>\n",
       "      <td>Dr. Steven</td>\n",
       "      <td>E. Saunders</td>\n",
       "      <td>292.0</td>\n",
       "      <td>NaN</td>\n",
       "      <td>NaN</td>\n",
       "      <td>NaN</td>\n",
       "      <td>NaT</td>\n",
       "      <td>3.0</td>\n",
       "    </tr>\n",
       "    <tr>\n",
       "      <th>3</th>\n",
       "      <td>10000</td>\n",
       "      <td>Neil</td>\n",
       "      <td>Capel</td>\n",
       "      <td>2526.0</td>\n",
       "      <td>NaN</td>\n",
       "      <td>NaN</td>\n",
       "      <td>NaN</td>\n",
       "      <td>NaT</td>\n",
       "      <td>2.0</td>\n",
       "    </tr>\n",
       "    <tr>\n",
       "      <th>4</th>\n",
       "      <td>100000</td>\n",
       "      <td>Sue</td>\n",
       "      <td>Pilsch</td>\n",
       "      <td>NaN</td>\n",
       "      <td>NaN</td>\n",
       "      <td>NaN</td>\n",
       "      <td>NaN</td>\n",
       "      <td>NaT</td>\n",
       "      <td>NaN</td>\n",
       "    </tr>\n",
       "    <tr>\n",
       "      <th>...</th>\n",
       "      <td>...</td>\n",
       "      <td>...</td>\n",
       "      <td>...</td>\n",
       "      <td>...</td>\n",
       "      <td>...</td>\n",
       "      <td>...</td>\n",
       "      <td>...</td>\n",
       "      <td>...</td>\n",
       "      <td>...</td>\n",
       "    </tr>\n",
       "    <tr>\n",
       "      <th>267689</th>\n",
       "      <td>99999</td>\n",
       "      <td>Ramon</td>\n",
       "      <td>Peypoch</td>\n",
       "      <td>NaN</td>\n",
       "      <td>NaN</td>\n",
       "      <td>NaN</td>\n",
       "      <td>NaN</td>\n",
       "      <td>NaT</td>\n",
       "      <td>NaN</td>\n",
       "    </tr>\n",
       "    <tr>\n",
       "      <th>267690</th>\n",
       "      <td>174088</td>\n",
       "      <td>Dr. Ray</td>\n",
       "      <td>Woods</td>\n",
       "      <td>188200.0</td>\n",
       "      <td>network</td>\n",
       "      <td>25958.0</td>\n",
       "      <td>Sydney University Medical School</td>\n",
       "      <td>1982-01-01</td>\n",
       "      <td>1.0</td>\n",
       "    </tr>\n",
       "    <tr>\n",
       "      <th>267691</th>\n",
       "      <td>118386</td>\n",
       "      <td>Ricardo</td>\n",
       "      <td>Durand</td>\n",
       "      <td>143419.0</td>\n",
       "      <td>itechsocialnet</td>\n",
       "      <td>18871.0</td>\n",
       "      <td>ESCS</td>\n",
       "      <td>2004-01-01</td>\n",
       "      <td>1.0</td>\n",
       "    </tr>\n",
       "    <tr>\n",
       "      <th>267692</th>\n",
       "      <td>175827</td>\n",
       "      <td>mahesh</td>\n",
       "      <td>kumar</td>\n",
       "      <td>NaN</td>\n",
       "      <td>socialnethubs</td>\n",
       "      <td>NaN</td>\n",
       "      <td>NaN</td>\n",
       "      <td>NaT</td>\n",
       "      <td>NaN</td>\n",
       "    </tr>\n",
       "    <tr>\n",
       "      <th>267693</th>\n",
       "      <td>178190</td>\n",
       "      <td>Alex</td>\n",
       "      <td>Smith</td>\n",
       "      <td>NaN</td>\n",
       "      <td>esocialnetlike</td>\n",
       "      <td>NaN</td>\n",
       "      <td>NaN</td>\n",
       "      <td>NaT</td>\n",
       "      <td>NaN</td>\n",
       "    </tr>\n",
       "  </tbody>\n",
       "</table>\n",
       "<p>267694 rows × 9 columns</p>\n",
       "</div>"
      ],
      "text/plain": [
       "            id  first_name    last_name  company_id network_username  \\\n",
       "0           10        Mark   Zuckerberg         5.0              NaN   \n",
       "1          100       Peter       Lester        27.0              NaN   \n",
       "2         1000  Dr. Steven  E. Saunders       292.0              NaN   \n",
       "3        10000        Neil        Capel      2526.0              NaN   \n",
       "4       100000         Sue       Pilsch         NaN              NaN   \n",
       "...        ...         ...          ...         ...              ...   \n",
       "267689   99999       Ramon      Peypoch         NaN              NaN   \n",
       "267690  174088     Dr. Ray        Woods    188200.0          network   \n",
       "267691  118386     Ricardo       Durand    143419.0   itechsocialnet   \n",
       "267692  175827      mahesh        kumar         NaN    socialnethubs   \n",
       "267693  178190        Alex        Smith         NaN   esocialnetlike   \n",
       "\n",
       "        id_education                       institution graduated_at  count  \n",
       "0             2415.0                Harvard University          NaT   84.0  \n",
       "1                NaN                               NaN          NaT   14.0  \n",
       "2                NaN                               NaN          NaT    3.0  \n",
       "3                NaN                               NaN          NaT    2.0  \n",
       "4                NaN                               NaN          NaT    NaN  \n",
       "...              ...                               ...          ...    ...  \n",
       "267689           NaN                               NaN          NaT    NaN  \n",
       "267690       25958.0  Sydney University Medical School   1982-01-01    1.0  \n",
       "267691       18871.0                              ESCS   2004-01-01    1.0  \n",
       "267692           NaN                               NaN          NaT    NaN  \n",
       "267693           NaN                               NaN          NaT    NaN  \n",
       "\n",
       "[267694 rows x 9 columns]"
      ]
     },
     "execution_count": 45,
     "metadata": {},
     "output_type": "execute_result"
    }
   ],
   "source": [
    "df=df.merge(df.groupby('company_id')['id'].count(), on='company_id', how='left')\n",
    "df=df.rename(columns={'id_x': 'id', 'id_y':'count' })\n",
    "df"
   ]
  },
  {
   "cell_type": "code",
   "execution_count": 47,
   "metadata": {},
   "outputs": [
    {
     "data": {
      "text/plain": [
       "0         84.0\n",
       "1         14.0\n",
       "2          3.0\n",
       "3          2.0\n",
       "4          NaN\n",
       "          ... \n",
       "267689     NaN\n",
       "267690     1.0\n",
       "267691     1.0\n",
       "267692     NaN\n",
       "267693     NaN\n",
       "Name: count, Length: 267694, dtype: float64"
      ]
     },
     "execution_count": 47,
     "metadata": {},
     "output_type": "execute_result"
    }
   ],
   "source": [
    "df['count']"
   ]
  },
  {
   "cell_type": "code",
   "execution_count": 49,
   "metadata": {},
   "outputs": [
    {
     "data": {
      "text/html": [
       "<div>\n",
       "<style scoped>\n",
       "    .dataframe tbody tr th:only-of-type {\n",
       "        vertical-align: middle;\n",
       "    }\n",
       "\n",
       "    .dataframe tbody tr th {\n",
       "        vertical-align: top;\n",
       "    }\n",
       "\n",
       "    .dataframe thead th {\n",
       "        text-align: right;\n",
       "    }\n",
       "</style>\n",
       "<table border=\"1\" class=\"dataframe\">\n",
       "  <thead>\n",
       "    <tr style=\"text-align: right;\">\n",
       "      <th></th>\n",
       "      <th>id</th>\n",
       "      <th>first_name</th>\n",
       "      <th>last_name</th>\n",
       "      <th>company_id</th>\n",
       "      <th>network_username</th>\n",
       "      <th>id_education</th>\n",
       "      <th>institution</th>\n",
       "      <th>graduated_at</th>\n",
       "      <th>count</th>\n",
       "      <th>group</th>\n",
       "    </tr>\n",
       "  </thead>\n",
       "  <tbody>\n",
       "    <tr>\n",
       "      <th>0</th>\n",
       "      <td>10</td>\n",
       "      <td>Mark</td>\n",
       "      <td>Zuckerberg</td>\n",
       "      <td>5.0</td>\n",
       "      <td>NaN</td>\n",
       "      <td>2415.0</td>\n",
       "      <td>Harvard University</td>\n",
       "      <td>NaT</td>\n",
       "      <td>84.0</td>\n",
       "      <td>26+</td>\n",
       "    </tr>\n",
       "    <tr>\n",
       "      <th>1</th>\n",
       "      <td>100</td>\n",
       "      <td>Peter</td>\n",
       "      <td>Lester</td>\n",
       "      <td>27.0</td>\n",
       "      <td>NaN</td>\n",
       "      <td>NaN</td>\n",
       "      <td>NaN</td>\n",
       "      <td>NaT</td>\n",
       "      <td>14.0</td>\n",
       "      <td>11-25</td>\n",
       "    </tr>\n",
       "    <tr>\n",
       "      <th>2</th>\n",
       "      <td>1000</td>\n",
       "      <td>Dr. Steven</td>\n",
       "      <td>E. Saunders</td>\n",
       "      <td>292.0</td>\n",
       "      <td>NaN</td>\n",
       "      <td>NaN</td>\n",
       "      <td>NaN</td>\n",
       "      <td>NaT</td>\n",
       "      <td>3.0</td>\n",
       "      <td>3</td>\n",
       "    </tr>\n",
       "    <tr>\n",
       "      <th>3</th>\n",
       "      <td>10000</td>\n",
       "      <td>Neil</td>\n",
       "      <td>Capel</td>\n",
       "      <td>2526.0</td>\n",
       "      <td>NaN</td>\n",
       "      <td>NaN</td>\n",
       "      <td>NaN</td>\n",
       "      <td>NaT</td>\n",
       "      <td>2.0</td>\n",
       "      <td>2</td>\n",
       "    </tr>\n",
       "    <tr>\n",
       "      <th>4</th>\n",
       "      <td>100000</td>\n",
       "      <td>Sue</td>\n",
       "      <td>Pilsch</td>\n",
       "      <td>NaN</td>\n",
       "      <td>NaN</td>\n",
       "      <td>NaN</td>\n",
       "      <td>NaN</td>\n",
       "      <td>NaT</td>\n",
       "      <td>NaN</td>\n",
       "      <td>NaN</td>\n",
       "    </tr>\n",
       "    <tr>\n",
       "      <th>...</th>\n",
       "      <td>...</td>\n",
       "      <td>...</td>\n",
       "      <td>...</td>\n",
       "      <td>...</td>\n",
       "      <td>...</td>\n",
       "      <td>...</td>\n",
       "      <td>...</td>\n",
       "      <td>...</td>\n",
       "      <td>...</td>\n",
       "      <td>...</td>\n",
       "    </tr>\n",
       "    <tr>\n",
       "      <th>267689</th>\n",
       "      <td>99999</td>\n",
       "      <td>Ramon</td>\n",
       "      <td>Peypoch</td>\n",
       "      <td>NaN</td>\n",
       "      <td>NaN</td>\n",
       "      <td>NaN</td>\n",
       "      <td>NaN</td>\n",
       "      <td>NaT</td>\n",
       "      <td>NaN</td>\n",
       "      <td>NaN</td>\n",
       "    </tr>\n",
       "    <tr>\n",
       "      <th>267690</th>\n",
       "      <td>174088</td>\n",
       "      <td>Dr. Ray</td>\n",
       "      <td>Woods</td>\n",
       "      <td>188200.0</td>\n",
       "      <td>network</td>\n",
       "      <td>25958.0</td>\n",
       "      <td>Sydney University Medical School</td>\n",
       "      <td>1982-01-01</td>\n",
       "      <td>1.0</td>\n",
       "      <td>1</td>\n",
       "    </tr>\n",
       "    <tr>\n",
       "      <th>267691</th>\n",
       "      <td>118386</td>\n",
       "      <td>Ricardo</td>\n",
       "      <td>Durand</td>\n",
       "      <td>143419.0</td>\n",
       "      <td>itechsocialnet</td>\n",
       "      <td>18871.0</td>\n",
       "      <td>ESCS</td>\n",
       "      <td>2004-01-01</td>\n",
       "      <td>1.0</td>\n",
       "      <td>1</td>\n",
       "    </tr>\n",
       "    <tr>\n",
       "      <th>267692</th>\n",
       "      <td>175827</td>\n",
       "      <td>mahesh</td>\n",
       "      <td>kumar</td>\n",
       "      <td>NaN</td>\n",
       "      <td>socialnethubs</td>\n",
       "      <td>NaN</td>\n",
       "      <td>NaN</td>\n",
       "      <td>NaT</td>\n",
       "      <td>NaN</td>\n",
       "      <td>NaN</td>\n",
       "    </tr>\n",
       "    <tr>\n",
       "      <th>267693</th>\n",
       "      <td>178190</td>\n",
       "      <td>Alex</td>\n",
       "      <td>Smith</td>\n",
       "      <td>NaN</td>\n",
       "      <td>esocialnetlike</td>\n",
       "      <td>NaN</td>\n",
       "      <td>NaN</td>\n",
       "      <td>NaT</td>\n",
       "      <td>NaN</td>\n",
       "      <td>NaN</td>\n",
       "    </tr>\n",
       "  </tbody>\n",
       "</table>\n",
       "<p>267694 rows × 10 columns</p>\n",
       "</div>"
      ],
      "text/plain": [
       "            id  first_name    last_name  company_id network_username  \\\n",
       "0           10        Mark   Zuckerberg         5.0              NaN   \n",
       "1          100       Peter       Lester        27.0              NaN   \n",
       "2         1000  Dr. Steven  E. Saunders       292.0              NaN   \n",
       "3        10000        Neil        Capel      2526.0              NaN   \n",
       "4       100000         Sue       Pilsch         NaN              NaN   \n",
       "...        ...         ...          ...         ...              ...   \n",
       "267689   99999       Ramon      Peypoch         NaN              NaN   \n",
       "267690  174088     Dr. Ray        Woods    188200.0          network   \n",
       "267691  118386     Ricardo       Durand    143419.0   itechsocialnet   \n",
       "267692  175827      mahesh        kumar         NaN    socialnethubs   \n",
       "267693  178190        Alex        Smith         NaN   esocialnetlike   \n",
       "\n",
       "        id_education                       institution graduated_at  count  \\\n",
       "0             2415.0                Harvard University          NaT   84.0   \n",
       "1                NaN                               NaN          NaT   14.0   \n",
       "2                NaN                               NaN          NaT    3.0   \n",
       "3                NaN                               NaN          NaT    2.0   \n",
       "4                NaN                               NaN          NaT    NaN   \n",
       "...              ...                               ...          ...    ...   \n",
       "267689           NaN                               NaN          NaT    NaN   \n",
       "267690       25958.0  Sydney University Medical School   1982-01-01    1.0   \n",
       "267691       18871.0                              ESCS   2004-01-01    1.0   \n",
       "267692           NaN                               NaN          NaT    NaN   \n",
       "267693           NaN                               NaN          NaT    NaN   \n",
       "\n",
       "        group  \n",
       "0         26+  \n",
       "1       11-25  \n",
       "2           3  \n",
       "3           2  \n",
       "4         NaN  \n",
       "...       ...  \n",
       "267689    NaN  \n",
       "267690      1  \n",
       "267691      1  \n",
       "267692    NaN  \n",
       "267693    NaN  \n",
       "\n",
       "[267694 rows x 10 columns]"
      ]
     },
     "execution_count": 49,
     "metadata": {},
     "output_type": "execute_result"
    }
   ],
   "source": [
    "bins   = [0, 1, 2, 3, 5, 10, 25, float('inf')]\n",
    "labels = ['1', '2', '3', '4-5', '6-10', '11-25', '26+']\n",
    "df['group']=pd.cut(df['count'], bins=bins, labels=labels)\n",
    "df"
   ]
  },
  {
   "cell_type": "code",
   "execution_count": 51,
   "metadata": {},
   "outputs": [
    {
     "data": {
      "text/html": [
       "<div>\n",
       "<style scoped>\n",
       "    .dataframe tbody tr th:only-of-type {\n",
       "        vertical-align: middle;\n",
       "    }\n",
       "\n",
       "    .dataframe tbody tr th {\n",
       "        vertical-align: top;\n",
       "    }\n",
       "\n",
       "    .dataframe thead th {\n",
       "        text-align: right;\n",
       "    }\n",
       "</style>\n",
       "<table border=\"1\" class=\"dataframe\">\n",
       "  <thead>\n",
       "    <tr style=\"text-align: right;\">\n",
       "      <th></th>\n",
       "      <th>id</th>\n",
       "      <th>id_education</th>\n",
       "      <th>part</th>\n",
       "    </tr>\n",
       "    <tr>\n",
       "      <th>group</th>\n",
       "      <th></th>\n",
       "      <th></th>\n",
       "      <th></th>\n",
       "    </tr>\n",
       "  </thead>\n",
       "  <tbody>\n",
       "    <tr>\n",
       "      <th>1</th>\n",
       "      <td>14150</td>\n",
       "      <td>5769</td>\n",
       "      <td>0.41</td>\n",
       "    </tr>\n",
       "    <tr>\n",
       "      <th>2</th>\n",
       "      <td>9470</td>\n",
       "      <td>7324</td>\n",
       "      <td>0.77</td>\n",
       "    </tr>\n",
       "    <tr>\n",
       "      <th>3</th>\n",
       "      <td>5571</td>\n",
       "      <td>4304</td>\n",
       "      <td>0.77</td>\n",
       "    </tr>\n",
       "    <tr>\n",
       "      <th>4-5</th>\n",
       "      <td>5559</td>\n",
       "      <td>4019</td>\n",
       "      <td>0.72</td>\n",
       "    </tr>\n",
       "    <tr>\n",
       "      <th>6-10</th>\n",
       "      <td>4885</td>\n",
       "      <td>3344</td>\n",
       "      <td>0.68</td>\n",
       "    </tr>\n",
       "    <tr>\n",
       "      <th>11-25</th>\n",
       "      <td>2832</td>\n",
       "      <td>1997</td>\n",
       "      <td>0.71</td>\n",
       "    </tr>\n",
       "    <tr>\n",
       "      <th>26+</th>\n",
       "      <td>2322</td>\n",
       "      <td>1881</td>\n",
       "      <td>0.81</td>\n",
       "    </tr>\n",
       "  </tbody>\n",
       "</table>\n",
       "</div>"
      ],
      "text/plain": [
       "          id  id_education  part\n",
       "group                           \n",
       "1      14150          5769  0.41\n",
       "2       9470          7324  0.77\n",
       "3       5571          4304  0.77\n",
       "4-5     5559          4019  0.72\n",
       "6-10    4885          3344  0.68\n",
       "11-25   2832          1997  0.71\n",
       "26+     2322          1881  0.81"
      ]
     },
     "execution_count": 51,
     "metadata": {},
     "output_type": "execute_result"
    }
   ],
   "source": [
    "df=df.groupby('group',observed=True).agg({'id':'count', 'id_education':'count'})\n",
    "df['part']=(df['id_education']/df['id']).round(2)\n",
    "df"
   ]
  },
  {
   "cell_type": "markdown",
   "metadata": {},
   "source": [
    "###### Выводы\n",
    "- Заказчик хочет понять, зависит ли полнота сведений о сотрудниках (например, об их образовании) от размера компаний\n",
    "<br> По представленным данным видно, что чем больше компания, тем выше доля сведений об образовании сотрудников"
   ]
  },
  {
   "cell_type": "markdown",
   "metadata": {
    "id": "Lz7qjM32xglW"
   },
   "source": [
    "### Объединять или не объединять — вот в чём вопрос\n",
    "\n",
    "Некоторые названия столбцов встречаются в датасетах чаще других. В результате предварительной проверки датасетов было выяснено, что столбец `company_id` подходит для объединения данных.\n",
    "\n",
    "- Установите, подходит ли для объединения данных столбец `network_username`, который встречается в нескольких датасетах. Нам необходимо понимать, дублируется ли для разных датасетов информация в столбцах с таким названием, и если да — то насколько часто.\n",
    "- Оцените, можно ли использовать столбцы с именем `network_username` для объединения данных."
   ]
  },
  {
   "cell_type": "markdown",
   "metadata": {
    "id": "_7gjdrGOFcB2"
   },
   "source": [
    "###### Выводы\n",
    "- Оцените, можно ли использовать столбцы с именем network_username для объединения данных.\n",
    "<br> Для объединения нельзя использовать данный столбец, так как в разных датасетах он содержит разную информацию. В одном датасете в нем информация о компании, а в другом о конкретном человеке."
   ]
  },
  {
   "cell_type": "code",
   "execution_count": 53,
   "metadata": {},
   "outputs": [
    {
     "data": {
      "image/png": "[encoded data removed]",
      "text/plain": [
       "<Figure size 640x480 with 1 Axes>"
      ]
     },
     "metadata": {},
     "output_type": "display_data"
    }
   ],
   "source": [
    "first_id = set(company_and_rounds['network_username'].dropna().unique())\n",
    "second_id = set(people['network_username'].dropna().unique())\n",
    "third_id = set(fund['network_username'].dropna().unique())\n",
    "# Строим диаграмму Венна\n",
    "venn2([first_id, second_id], set_labels=('company_and_rounds', 'people'))\n",
    "\n",
    "# Отображаем график\n",
    "plt.title(\"Пересечение \")\n",
    "plt.show() "
   ]
  },
  {
   "cell_type": "code",
   "execution_count": 55,
   "metadata": {},
   "outputs": [
    {
     "data": {
      "image/png": "[encoded data removed]",
      "text/plain": [
       "<Figure size 640x480 with 1 Axes>"
      ]
     },
     "metadata": {},
     "output_type": "display_data"
    }
   ],
   "source": [
    "venn3([first_id, second_id, third_id], set_labels=('company_and_rounds', 'people', 'fund'))\n",
    "plt.title(\"Пересечение \")\n",
    "plt.show() "
   ]
  },
  {
   "cell_type": "markdown",
   "metadata": {},
   "source": [
    "###### Выводы\n",
    "- Оцените, можно ли использовать столбцы с именем network_username для объединения данных.\n",
    "<br> При пересечении видно, что маленькое количество данных присутствует в обоих датасетах. Поэтому нельзя использовать network_username для объединения."
   ]
  },
  {
   "cell_type": "markdown",
   "metadata": {
    "id": "EHcODomVrJg1"
   },
   "source": [
    "\n",
    "### Проблемный датасет и причина возникновения пропусков\n",
    "\n",
    "Во время собственного анализа данных у заказчика больше всего вопросов возникло к датасету `company_and_rounds.csv`. В нём много пропусков как раз в информации о раундах, которая заказчику важна.\n",
    "\n",
    "- Любым удобным способом приведите данные в вид, который позволит в дальнейшем проводить анализ в разрезе отдельных компаний. Обратите внимание на структуру датасета, порядок и названия столбцов, проанализируйте значения.\n",
    "\n",
    "По гипотезе заказчика данные по компаниям из этой таблицы раньше хранились иначе, более удобным для исследования образом.\n",
    "\n",
    "- Максимальным образом сохраняя данные, сохранив их связность и исключив возможные возникающие при этом ошибки, подготовьте данные так, чтобы удобно было отобрать компании по параметрам и рассчитать показатели из расчёта на одну компанию без промежуточных агрегаций."
   ]
  },
  {
   "cell_type": "code",
   "execution_count": 57,
   "metadata": {},
   "outputs": [
    {
     "data": {
      "text/html": [
       "<div>\n",
       "<style scoped>\n",
       "    .dataframe tbody tr th:only-of-type {\n",
       "        vertical-align: middle;\n",
       "    }\n",
       "\n",
       "    .dataframe tbody tr th {\n",
       "        vertical-align: top;\n",
       "    }\n",
       "\n",
       "    .dataframe thead th {\n",
       "        text-align: right;\n",
       "    }\n",
       "</style>\n",
       "<table border=\"1\" class=\"dataframe\">\n",
       "  <thead>\n",
       "    <tr style=\"text-align: right;\">\n",
       "      <th></th>\n",
       "      <th>company_id</th>\n",
       "      <th>name</th>\n",
       "      <th>category_code</th>\n",
       "      <th>status</th>\n",
       "      <th>founded_at</th>\n",
       "      <th>closed_at</th>\n",
       "      <th>domain</th>\n",
       "      <th>network_username</th>\n",
       "      <th>country_code</th>\n",
       "      <th>investment_rounds</th>\n",
       "      <th>funding_rounds</th>\n",
       "      <th>funding_total</th>\n",
       "    </tr>\n",
       "  </thead>\n",
       "  <tbody>\n",
       "    <tr>\n",
       "      <th>0</th>\n",
       "      <td>1.0</td>\n",
       "      <td>Wetpaint</td>\n",
       "      <td>web</td>\n",
       "      <td>operating</td>\n",
       "      <td>2005-10-17</td>\n",
       "      <td>NaT</td>\n",
       "      <td>wetpaint-inc.com</td>\n",
       "      <td>BachelrWetpaint</td>\n",
       "      <td>USA</td>\n",
       "      <td>0.0</td>\n",
       "      <td>3.0</td>\n",
       "      <td>39750000.0</td>\n",
       "    </tr>\n",
       "    <tr>\n",
       "      <th>1</th>\n",
       "      <td>1.0</td>\n",
       "      <td>Wetpaint</td>\n",
       "      <td>web</td>\n",
       "      <td>operating</td>\n",
       "      <td>2005-10-17</td>\n",
       "      <td>NaT</td>\n",
       "      <td>wetpaint-inc.com</td>\n",
       "      <td>BachelrWetpaint</td>\n",
       "      <td>USA</td>\n",
       "      <td>0.0</td>\n",
       "      <td>3.0</td>\n",
       "      <td>39750000.0</td>\n",
       "    </tr>\n",
       "    <tr>\n",
       "      <th>2</th>\n",
       "      <td>1.0</td>\n",
       "      <td>Wetpaint</td>\n",
       "      <td>web</td>\n",
       "      <td>operating</td>\n",
       "      <td>2005-10-17</td>\n",
       "      <td>NaT</td>\n",
       "      <td>wetpaint-inc.com</td>\n",
       "      <td>BachelrWetpaint</td>\n",
       "      <td>USA</td>\n",
       "      <td>0.0</td>\n",
       "      <td>3.0</td>\n",
       "      <td>39750000.0</td>\n",
       "    </tr>\n",
       "    <tr>\n",
       "      <th>3</th>\n",
       "      <td>10.0</td>\n",
       "      <td>Flektor</td>\n",
       "      <td>games_video</td>\n",
       "      <td>acquired</td>\n",
       "      <td>NaT</td>\n",
       "      <td>NaT</td>\n",
       "      <td>flektor.com</td>\n",
       "      <td>NaN</td>\n",
       "      <td>USA</td>\n",
       "      <td>0.0</td>\n",
       "      <td>0.0</td>\n",
       "      <td>0.0</td>\n",
       "    </tr>\n",
       "    <tr>\n",
       "      <th>4</th>\n",
       "      <td>100.0</td>\n",
       "      <td>There</td>\n",
       "      <td>games_video</td>\n",
       "      <td>acquired</td>\n",
       "      <td>NaT</td>\n",
       "      <td>NaT</td>\n",
       "      <td>there.com</td>\n",
       "      <td>NaN</td>\n",
       "      <td>USA</td>\n",
       "      <td>0.0</td>\n",
       "      <td>0.0</td>\n",
       "      <td>0.0</td>\n",
       "    </tr>\n",
       "    <tr>\n",
       "      <th>...</th>\n",
       "      <td>...</td>\n",
       "      <td>...</td>\n",
       "      <td>...</td>\n",
       "      <td>...</td>\n",
       "      <td>...</td>\n",
       "      <td>...</td>\n",
       "      <td>...</td>\n",
       "      <td>...</td>\n",
       "      <td>...</td>\n",
       "      <td>...</td>\n",
       "      <td>...</td>\n",
       "      <td>...</td>\n",
       "    </tr>\n",
       "    <tr>\n",
       "      <th>217769</th>\n",
       "      <td>NaN</td>\n",
       "      <td>NaN</td>\n",
       "      <td>NaN</td>\n",
       "      <td>NaN</td>\n",
       "      <td>NaT</td>\n",
       "      <td>NaT</td>\n",
       "      <td>NaN</td>\n",
       "      <td>NaN</td>\n",
       "      <td>NaN</td>\n",
       "      <td>NaN</td>\n",
       "      <td>NaN</td>\n",
       "      <td>NaN</td>\n",
       "    </tr>\n",
       "    <tr>\n",
       "      <th>217770</th>\n",
       "      <td>NaN</td>\n",
       "      <td>NaN</td>\n",
       "      <td>NaN</td>\n",
       "      <td>NaN</td>\n",
       "      <td>NaT</td>\n",
       "      <td>NaT</td>\n",
       "      <td>NaN</td>\n",
       "      <td>NaN</td>\n",
       "      <td>NaN</td>\n",
       "      <td>NaN</td>\n",
       "      <td>NaN</td>\n",
       "      <td>NaN</td>\n",
       "    </tr>\n",
       "    <tr>\n",
       "      <th>217771</th>\n",
       "      <td>NaN</td>\n",
       "      <td>NaN</td>\n",
       "      <td>NaN</td>\n",
       "      <td>NaN</td>\n",
       "      <td>NaT</td>\n",
       "      <td>NaT</td>\n",
       "      <td>NaN</td>\n",
       "      <td>NaN</td>\n",
       "      <td>NaN</td>\n",
       "      <td>NaN</td>\n",
       "      <td>NaN</td>\n",
       "      <td>NaN</td>\n",
       "    </tr>\n",
       "    <tr>\n",
       "      <th>217772</th>\n",
       "      <td>NaN</td>\n",
       "      <td>NaN</td>\n",
       "      <td>NaN</td>\n",
       "      <td>NaN</td>\n",
       "      <td>NaT</td>\n",
       "      <td>NaT</td>\n",
       "      <td>NaN</td>\n",
       "      <td>NaN</td>\n",
       "      <td>NaN</td>\n",
       "      <td>NaN</td>\n",
       "      <td>NaN</td>\n",
       "      <td>NaN</td>\n",
       "    </tr>\n",
       "    <tr>\n",
       "      <th>217773</th>\n",
       "      <td>NaN</td>\n",
       "      <td>NaN</td>\n",
       "      <td>NaN</td>\n",
       "      <td>NaN</td>\n",
       "      <td>NaT</td>\n",
       "      <td>NaT</td>\n",
       "      <td>NaN</td>\n",
       "      <td>NaN</td>\n",
       "      <td>NaN</td>\n",
       "      <td>NaN</td>\n",
       "      <td>NaN</td>\n",
       "      <td>NaN</td>\n",
       "    </tr>\n",
       "  </tbody>\n",
       "</table>\n",
       "<p>217774 rows × 12 columns</p>\n",
       "</div>"
      ],
      "text/plain": [
       "        company_id      name category_code     status founded_at closed_at  \\\n",
       "0              1.0  Wetpaint           web  operating 2005-10-17       NaT   \n",
       "1              1.0  Wetpaint           web  operating 2005-10-17       NaT   \n",
       "2              1.0  Wetpaint           web  operating 2005-10-17       NaT   \n",
       "3             10.0   Flektor   games_video   acquired        NaT       NaT   \n",
       "4            100.0     There   games_video   acquired        NaT       NaT   \n",
       "...            ...       ...           ...        ...        ...       ...   \n",
       "217769         NaN       NaN           NaN        NaN        NaT       NaT   \n",
       "217770         NaN       NaN           NaN        NaN        NaT       NaT   \n",
       "217771         NaN       NaN           NaN        NaN        NaT       NaT   \n",
       "217772         NaN       NaN           NaN        NaN        NaT       NaT   \n",
       "217773         NaN       NaN           NaN        NaN        NaT       NaT   \n",
       "\n",
       "                  domain network_username country_code  investment_rounds  \\\n",
       "0       wetpaint-inc.com  BachelrWetpaint          USA                0.0   \n",
       "1       wetpaint-inc.com  BachelrWetpaint          USA                0.0   \n",
       "2       wetpaint-inc.com  BachelrWetpaint          USA                0.0   \n",
       "3            flektor.com              NaN          USA                0.0   \n",
       "4              there.com              NaN          USA                0.0   \n",
       "...                  ...              ...          ...                ...   \n",
       "217769               NaN              NaN          NaN                NaN   \n",
       "217770               NaN              NaN          NaN                NaN   \n",
       "217771               NaN              NaN          NaN                NaN   \n",
       "217772               NaN              NaN          NaN                NaN   \n",
       "217773               NaN              NaN          NaN                NaN   \n",
       "\n",
       "        funding_rounds  funding_total  \n",
       "0                  3.0     39750000.0  \n",
       "1                  3.0     39750000.0  \n",
       "2                  3.0     39750000.0  \n",
       "3                  0.0            0.0  \n",
       "4                  0.0            0.0  \n",
       "...                ...            ...  \n",
       "217769             NaN            NaN  \n",
       "217770             NaN            NaN  \n",
       "217771             NaN            NaN  \n",
       "217772             NaN            NaN  \n",
       "217773             NaN            NaN  \n",
       "\n",
       "[217774 rows x 12 columns]"
      ]
     },
     "execution_count": 57,
     "metadata": {},
     "output_type": "execute_result"
    }
   ],
   "source": [
    "company=company_and_rounds.iloc[:, 0:12]\n",
    "company.columns=company.columns.str.lower()\n",
    "company"
   ]
  },
  {
   "cell_type": "code",
   "execution_count": 59,
   "metadata": {},
   "outputs": [
    {
     "data": {
      "text/html": [
       "<div>\n",
       "<style scoped>\n",
       "    .dataframe tbody tr th:only-of-type {\n",
       "        vertical-align: middle;\n",
       "    }\n",
       "\n",
       "    .dataframe tbody tr th {\n",
       "        vertical-align: top;\n",
       "    }\n",
       "\n",
       "    .dataframe thead th {\n",
       "        text-align: right;\n",
       "    }\n",
       "</style>\n",
       "<table border=\"1\" class=\"dataframe\">\n",
       "  <thead>\n",
       "    <tr style=\"text-align: right;\">\n",
       "      <th></th>\n",
       "      <th>company_id</th>\n",
       "      <th>name</th>\n",
       "      <th>category_code</th>\n",
       "      <th>status</th>\n",
       "      <th>founded_at</th>\n",
       "      <th>closed_at</th>\n",
       "      <th>domain</th>\n",
       "      <th>network_username</th>\n",
       "      <th>country_code</th>\n",
       "      <th>investment_rounds</th>\n",
       "      <th>funding_rounds</th>\n",
       "      <th>funding_total</th>\n",
       "    </tr>\n",
       "  </thead>\n",
       "  <tbody>\n",
       "    <tr>\n",
       "      <th>0</th>\n",
       "      <td>1.0</td>\n",
       "      <td>Wetpaint</td>\n",
       "      <td>web</td>\n",
       "      <td>operating</td>\n",
       "      <td>2005-10-17</td>\n",
       "      <td>NaT</td>\n",
       "      <td>wetpaint-inc.com</td>\n",
       "      <td>BachelrWetpaint</td>\n",
       "      <td>USA</td>\n",
       "      <td>0.0</td>\n",
       "      <td>3.0</td>\n",
       "      <td>39750000.0</td>\n",
       "    </tr>\n",
       "    <tr>\n",
       "      <th>1</th>\n",
       "      <td>1.0</td>\n",
       "      <td>Wetpaint</td>\n",
       "      <td>web</td>\n",
       "      <td>operating</td>\n",
       "      <td>2005-10-17</td>\n",
       "      <td>NaT</td>\n",
       "      <td>wetpaint-inc.com</td>\n",
       "      <td>BachelrWetpaint</td>\n",
       "      <td>USA</td>\n",
       "      <td>0.0</td>\n",
       "      <td>3.0</td>\n",
       "      <td>39750000.0</td>\n",
       "    </tr>\n",
       "    <tr>\n",
       "      <th>2</th>\n",
       "      <td>1.0</td>\n",
       "      <td>Wetpaint</td>\n",
       "      <td>web</td>\n",
       "      <td>operating</td>\n",
       "      <td>2005-10-17</td>\n",
       "      <td>NaT</td>\n",
       "      <td>wetpaint-inc.com</td>\n",
       "      <td>BachelrWetpaint</td>\n",
       "      <td>USA</td>\n",
       "      <td>0.0</td>\n",
       "      <td>3.0</td>\n",
       "      <td>39750000.0</td>\n",
       "    </tr>\n",
       "    <tr>\n",
       "      <th>3</th>\n",
       "      <td>10.0</td>\n",
       "      <td>Flektor</td>\n",
       "      <td>games_video</td>\n",
       "      <td>acquired</td>\n",
       "      <td>NaT</td>\n",
       "      <td>NaT</td>\n",
       "      <td>flektor.com</td>\n",
       "      <td>NaN</td>\n",
       "      <td>USA</td>\n",
       "      <td>0.0</td>\n",
       "      <td>0.0</td>\n",
       "      <td>0.0</td>\n",
       "    </tr>\n",
       "    <tr>\n",
       "      <th>4</th>\n",
       "      <td>100.0</td>\n",
       "      <td>There</td>\n",
       "      <td>games_video</td>\n",
       "      <td>acquired</td>\n",
       "      <td>NaT</td>\n",
       "      <td>NaT</td>\n",
       "      <td>there.com</td>\n",
       "      <td>NaN</td>\n",
       "      <td>USA</td>\n",
       "      <td>0.0</td>\n",
       "      <td>0.0</td>\n",
       "      <td>0.0</td>\n",
       "    </tr>\n",
       "    <tr>\n",
       "      <th>...</th>\n",
       "      <td>...</td>\n",
       "      <td>...</td>\n",
       "      <td>...</td>\n",
       "      <td>...</td>\n",
       "      <td>...</td>\n",
       "      <td>...</td>\n",
       "      <td>...</td>\n",
       "      <td>...</td>\n",
       "      <td>...</td>\n",
       "      <td>...</td>\n",
       "      <td>...</td>\n",
       "      <td>...</td>\n",
       "    </tr>\n",
       "    <tr>\n",
       "      <th>217769</th>\n",
       "      <td>NaN</td>\n",
       "      <td>NaN</td>\n",
       "      <td>NaN</td>\n",
       "      <td>NaN</td>\n",
       "      <td>NaT</td>\n",
       "      <td>NaT</td>\n",
       "      <td>NaN</td>\n",
       "      <td>NaN</td>\n",
       "      <td>NaN</td>\n",
       "      <td>NaN</td>\n",
       "      <td>NaN</td>\n",
       "      <td>NaN</td>\n",
       "    </tr>\n",
       "    <tr>\n",
       "      <th>217770</th>\n",
       "      <td>NaN</td>\n",
       "      <td>NaN</td>\n",
       "      <td>NaN</td>\n",
       "      <td>NaN</td>\n",
       "      <td>NaT</td>\n",
       "      <td>NaT</td>\n",
       "      <td>NaN</td>\n",
       "      <td>NaN</td>\n",
       "      <td>NaN</td>\n",
       "      <td>NaN</td>\n",
       "      <td>NaN</td>\n",
       "      <td>NaN</td>\n",
       "    </tr>\n",
       "    <tr>\n",
       "      <th>217771</th>\n",
       "      <td>NaN</td>\n",
       "      <td>NaN</td>\n",
       "      <td>NaN</td>\n",
       "      <td>NaN</td>\n",
       "      <td>NaT</td>\n",
       "      <td>NaT</td>\n",
       "      <td>NaN</td>\n",
       "      <td>NaN</td>\n",
       "      <td>NaN</td>\n",
       "      <td>NaN</td>\n",
       "      <td>NaN</td>\n",
       "      <td>NaN</td>\n",
       "    </tr>\n",
       "    <tr>\n",
       "      <th>217772</th>\n",
       "      <td>NaN</td>\n",
       "      <td>NaN</td>\n",
       "      <td>NaN</td>\n",
       "      <td>NaN</td>\n",
       "      <td>NaT</td>\n",
       "      <td>NaT</td>\n",
       "      <td>NaN</td>\n",
       "      <td>NaN</td>\n",
       "      <td>NaN</td>\n",
       "      <td>NaN</td>\n",
       "      <td>NaN</td>\n",
       "      <td>NaN</td>\n",
       "    </tr>\n",
       "    <tr>\n",
       "      <th>217773</th>\n",
       "      <td>NaN</td>\n",
       "      <td>NaN</td>\n",
       "      <td>NaN</td>\n",
       "      <td>NaN</td>\n",
       "      <td>NaT</td>\n",
       "      <td>NaT</td>\n",
       "      <td>NaN</td>\n",
       "      <td>NaN</td>\n",
       "      <td>NaN</td>\n",
       "      <td>NaN</td>\n",
       "      <td>NaN</td>\n",
       "      <td>NaN</td>\n",
       "    </tr>\n",
       "  </tbody>\n",
       "</table>\n",
       "<p>217774 rows × 12 columns</p>\n",
       "</div>"
      ],
      "text/plain": [
       "        company_id      name category_code     status founded_at closed_at  \\\n",
       "0              1.0  Wetpaint           web  operating 2005-10-17       NaT   \n",
       "1              1.0  Wetpaint           web  operating 2005-10-17       NaT   \n",
       "2              1.0  Wetpaint           web  operating 2005-10-17       NaT   \n",
       "3             10.0   Flektor   games_video   acquired        NaT       NaT   \n",
       "4            100.0     There   games_video   acquired        NaT       NaT   \n",
       "...            ...       ...           ...        ...        ...       ...   \n",
       "217769         NaN       NaN           NaN        NaN        NaT       NaT   \n",
       "217770         NaN       NaN           NaN        NaN        NaT       NaT   \n",
       "217771         NaN       NaN           NaN        NaN        NaT       NaT   \n",
       "217772         NaN       NaN           NaN        NaN        NaT       NaT   \n",
       "217773         NaN       NaN           NaN        NaN        NaT       NaT   \n",
       "\n",
       "                  domain network_username country_code  investment_rounds  \\\n",
       "0       wetpaint-inc.com  BachelrWetpaint          USA                0.0   \n",
       "1       wetpaint-inc.com  BachelrWetpaint          USA                0.0   \n",
       "2       wetpaint-inc.com  BachelrWetpaint          USA                0.0   \n",
       "3            flektor.com              NaN          USA                0.0   \n",
       "4              there.com              NaN          USA                0.0   \n",
       "...                  ...              ...          ...                ...   \n",
       "217769               NaN              NaN          NaN                NaN   \n",
       "217770               NaN              NaN          NaN                NaN   \n",
       "217771               NaN              NaN          NaN                NaN   \n",
       "217772               NaN              NaN          NaN                NaN   \n",
       "217773               NaN              NaN          NaN                NaN   \n",
       "\n",
       "        funding_rounds  funding_total  \n",
       "0                  3.0     39750000.0  \n",
       "1                  3.0     39750000.0  \n",
       "2                  3.0     39750000.0  \n",
       "3                  0.0            0.0  \n",
       "4                  0.0            0.0  \n",
       "...                ...            ...  \n",
       "217769             NaN            NaN  \n",
       "217770             NaN            NaN  \n",
       "217771             NaN            NaN  \n",
       "217772             NaN            NaN  \n",
       "217773             NaN            NaN  \n",
       "\n",
       "[217774 rows x 12 columns]"
      ]
     },
     "execution_count": 59,
     "metadata": {},
     "output_type": "execute_result"
    }
   ],
   "source": [
    "company"
   ]
  },
  {
   "cell_type": "code",
   "execution_count": 61,
   "metadata": {},
   "outputs": [
    {
     "data": {
      "text/html": [
       "<div>\n",
       "<style scoped>\n",
       "    .dataframe tbody tr th:only-of-type {\n",
       "        vertical-align: middle;\n",
       "    }\n",
       "\n",
       "    .dataframe tbody tr th {\n",
       "        vertical-align: top;\n",
       "    }\n",
       "\n",
       "    .dataframe thead th {\n",
       "        text-align: right;\n",
       "    }\n",
       "</style>\n",
       "<table border=\"1\" class=\"dataframe\">\n",
       "  <thead>\n",
       "    <tr style=\"text-align: right;\">\n",
       "      <th></th>\n",
       "      <th>funding_round_id</th>\n",
       "      <th>company_id</th>\n",
       "      <th>funded_at</th>\n",
       "      <th>funding_round_type</th>\n",
       "      <th>raised_amount</th>\n",
       "      <th>pre_money_valuation</th>\n",
       "      <th>participants</th>\n",
       "      <th>is_first_round</th>\n",
       "      <th>is_last_round</th>\n",
       "    </tr>\n",
       "  </thead>\n",
       "  <tbody>\n",
       "    <tr>\n",
       "      <th>0</th>\n",
       "      <td>888.0</td>\n",
       "      <td>1.0</td>\n",
       "      <td>2005-10-01</td>\n",
       "      <td>series-a</td>\n",
       "      <td>5250000.0</td>\n",
       "      <td>0.0</td>\n",
       "      <td>2.0</td>\n",
       "      <td>False</td>\n",
       "      <td>True</td>\n",
       "    </tr>\n",
       "    <tr>\n",
       "      <th>1</th>\n",
       "      <td>889.0</td>\n",
       "      <td>1.0</td>\n",
       "      <td>2007-01-01</td>\n",
       "      <td>series-b</td>\n",
       "      <td>9500000.0</td>\n",
       "      <td>0.0</td>\n",
       "      <td>3.0</td>\n",
       "      <td>False</td>\n",
       "      <td>False</td>\n",
       "    </tr>\n",
       "    <tr>\n",
       "      <th>2</th>\n",
       "      <td>2312.0</td>\n",
       "      <td>1.0</td>\n",
       "      <td>2008-05-19</td>\n",
       "      <td>series-c+</td>\n",
       "      <td>25000000.0</td>\n",
       "      <td>0.0</td>\n",
       "      <td>4.0</td>\n",
       "      <td>True</td>\n",
       "      <td>False</td>\n",
       "    </tr>\n",
       "    <tr>\n",
       "      <th>3</th>\n",
       "      <td>NaN</td>\n",
       "      <td>NaN</td>\n",
       "      <td>NaT</td>\n",
       "      <td>NaN</td>\n",
       "      <td>NaN</td>\n",
       "      <td>NaN</td>\n",
       "      <td>NaN</td>\n",
       "      <td>&lt;NA&gt;</td>\n",
       "      <td>&lt;NA&gt;</td>\n",
       "    </tr>\n",
       "    <tr>\n",
       "      <th>4</th>\n",
       "      <td>NaN</td>\n",
       "      <td>NaN</td>\n",
       "      <td>NaT</td>\n",
       "      <td>NaN</td>\n",
       "      <td>NaN</td>\n",
       "      <td>NaN</td>\n",
       "      <td>NaN</td>\n",
       "      <td>&lt;NA&gt;</td>\n",
       "      <td>&lt;NA&gt;</td>\n",
       "    </tr>\n",
       "    <tr>\n",
       "      <th>...</th>\n",
       "      <td>...</td>\n",
       "      <td>...</td>\n",
       "      <td>...</td>\n",
       "      <td>...</td>\n",
       "      <td>...</td>\n",
       "      <td>...</td>\n",
       "      <td>...</td>\n",
       "      <td>...</td>\n",
       "      <td>...</td>\n",
       "    </tr>\n",
       "    <tr>\n",
       "      <th>217769</th>\n",
       "      <td>56454.0</td>\n",
       "      <td>282847.0</td>\n",
       "      <td>2011-01-31</td>\n",
       "      <td>other</td>\n",
       "      <td>5500000.0</td>\n",
       "      <td>0.0</td>\n",
       "      <td>0.0</td>\n",
       "      <td>True</td>\n",
       "      <td>True</td>\n",
       "    </tr>\n",
       "    <tr>\n",
       "      <th>217770</th>\n",
       "      <td>56542.0</td>\n",
       "      <td>55477.0</td>\n",
       "      <td>2011-01-13</td>\n",
       "      <td>venture</td>\n",
       "      <td>10633300.0</td>\n",
       "      <td>0.0</td>\n",
       "      <td>0.0</td>\n",
       "      <td>False</td>\n",
       "      <td>True</td>\n",
       "    </tr>\n",
       "    <tr>\n",
       "      <th>217771</th>\n",
       "      <td>56543.0</td>\n",
       "      <td>55477.0</td>\n",
       "      <td>2012-05-31</td>\n",
       "      <td>venture</td>\n",
       "      <td>2125720.0</td>\n",
       "      <td>0.0</td>\n",
       "      <td>0.0</td>\n",
       "      <td>True</td>\n",
       "      <td>False</td>\n",
       "    </tr>\n",
       "    <tr>\n",
       "      <th>217772</th>\n",
       "      <td>56928.0</td>\n",
       "      <td>283492.0</td>\n",
       "      <td>2013-12-03</td>\n",
       "      <td>venture</td>\n",
       "      <td>3602480.0</td>\n",
       "      <td>0.0</td>\n",
       "      <td>5.0</td>\n",
       "      <td>True</td>\n",
       "      <td>True</td>\n",
       "    </tr>\n",
       "    <tr>\n",
       "      <th>217773</th>\n",
       "      <td>57063.0</td>\n",
       "      <td>284191.0</td>\n",
       "      <td>2013-12-04</td>\n",
       "      <td>venture</td>\n",
       "      <td>7000000.0</td>\n",
       "      <td>0.0</td>\n",
       "      <td>4.0</td>\n",
       "      <td>True</td>\n",
       "      <td>True</td>\n",
       "    </tr>\n",
       "  </tbody>\n",
       "</table>\n",
       "<p>217774 rows × 9 columns</p>\n",
       "</div>"
      ],
      "text/plain": [
       "        funding_round_id  company_id  funded_at funding_round_type  \\\n",
       "0                  888.0         1.0 2005-10-01           series-a   \n",
       "1                  889.0         1.0 2007-01-01           series-b   \n",
       "2                 2312.0         1.0 2008-05-19          series-c+   \n",
       "3                    NaN         NaN        NaT                NaN   \n",
       "4                    NaN         NaN        NaT                NaN   \n",
       "...                  ...         ...        ...                ...   \n",
       "217769           56454.0    282847.0 2011-01-31              other   \n",
       "217770           56542.0     55477.0 2011-01-13            venture   \n",
       "217771           56543.0     55477.0 2012-05-31            venture   \n",
       "217772           56928.0    283492.0 2013-12-03            venture   \n",
       "217773           57063.0    284191.0 2013-12-04            venture   \n",
       "\n",
       "        raised_amount  pre_money_valuation  participants  is_first_round  \\\n",
       "0           5250000.0                  0.0           2.0           False   \n",
       "1           9500000.0                  0.0           3.0           False   \n",
       "2          25000000.0                  0.0           4.0            True   \n",
       "3                 NaN                  NaN           NaN            <NA>   \n",
       "4                 NaN                  NaN           NaN            <NA>   \n",
       "...               ...                  ...           ...             ...   \n",
       "217769      5500000.0                  0.0           0.0            True   \n",
       "217770     10633300.0                  0.0           0.0           False   \n",
       "217771      2125720.0                  0.0           0.0            True   \n",
       "217772      3602480.0                  0.0           5.0            True   \n",
       "217773      7000000.0                  0.0           4.0            True   \n",
       "\n",
       "        is_last_round  \n",
       "0                True  \n",
       "1               False  \n",
       "2               False  \n",
       "3                <NA>  \n",
       "4                <NA>  \n",
       "...               ...  \n",
       "217769           True  \n",
       "217770           True  \n",
       "217771          False  \n",
       "217772           True  \n",
       "217773           True  \n",
       "\n",
       "[217774 rows x 9 columns]"
      ]
     },
     "execution_count": 61,
     "metadata": {},
     "output_type": "execute_result"
    }
   ],
   "source": [
    "rounds=company_and_rounds.iloc[:,13:22]\n",
    "rounds"
   ]
  },
  {
   "cell_type": "code",
   "execution_count": 63,
   "metadata": {},
   "outputs": [
    {
     "data": {
      "text/plain": [
       "21220"
      ]
     },
     "execution_count": 63,
     "metadata": {},
     "output_type": "execute_result"
    }
   ],
   "source": [
    "#количество явных дубликатов company\n",
    "company.duplicated().sum()"
   ]
  },
  {
   "cell_type": "code",
   "execution_count": 65,
   "metadata": {},
   "outputs": [],
   "source": [
    "company = company.drop_duplicates().reset_index(drop=True)"
   ]
  },
  {
   "cell_type": "code",
   "execution_count": 67,
   "metadata": {},
   "outputs": [
    {
     "data": {
      "text/plain": [
       "0"
      ]
     },
     "execution_count": 67,
     "metadata": {},
     "output_type": "execute_result"
    }
   ],
   "source": [
    "#количество явных дубликатов company после удаления\n",
    "company.duplicated().sum()"
   ]
  },
  {
   "cell_type": "code",
   "execution_count": 69,
   "metadata": {},
   "outputs": [
    {
     "data": {
      "text/plain": [
       "164845"
      ]
     },
     "execution_count": 69,
     "metadata": {},
     "output_type": "execute_result"
    }
   ],
   "source": [
    "#количество явных дубликатов rounds \n",
    "rounds.duplicated().sum()"
   ]
  },
  {
   "cell_type": "code",
   "execution_count": 71,
   "metadata": {},
   "outputs": [],
   "source": [
    "rounds=rounds.drop_duplicates(subset=['company_id'], keep='last').reset_index(drop=True)"
   ]
  },
  {
   "cell_type": "code",
   "execution_count": 73,
   "metadata": {},
   "outputs": [
    {
     "data": {
      "text/plain": [
       "0"
      ]
     },
     "execution_count": 73,
     "metadata": {},
     "output_type": "execute_result"
    }
   ],
   "source": [
    "#количество явных дубликатов rounds после удаления\n",
    "rounds.duplicated().sum()"
   ]
  },
  {
   "cell_type": "code",
   "execution_count": 75,
   "metadata": {},
   "outputs": [
    {
     "data": {
      "text/html": [
       "<div>\n",
       "<style scoped>\n",
       "    .dataframe tbody tr th:only-of-type {\n",
       "        vertical-align: middle;\n",
       "    }\n",
       "\n",
       "    .dataframe tbody tr th {\n",
       "        vertical-align: top;\n",
       "    }\n",
       "\n",
       "    .dataframe thead th {\n",
       "        text-align: right;\n",
       "    }\n",
       "</style>\n",
       "<table border=\"1\" class=\"dataframe\">\n",
       "  <thead>\n",
       "    <tr style=\"text-align: right;\">\n",
       "      <th></th>\n",
       "      <th>funding_round_id</th>\n",
       "      <th>company_id</th>\n",
       "      <th>funded_at</th>\n",
       "      <th>funding_round_type</th>\n",
       "      <th>raised_amount</th>\n",
       "      <th>pre_money_valuation</th>\n",
       "      <th>participants</th>\n",
       "      <th>is_first_round</th>\n",
       "      <th>is_last_round</th>\n",
       "    </tr>\n",
       "  </thead>\n",
       "  <tbody>\n",
       "    <tr>\n",
       "      <th>0</th>\n",
       "      <td>2312.0</td>\n",
       "      <td>1.0</td>\n",
       "      <td>2008-05-19</td>\n",
       "      <td>series-c+</td>\n",
       "      <td>25000000.0</td>\n",
       "      <td>0.0</td>\n",
       "      <td>4.0</td>\n",
       "      <td>True</td>\n",
       "      <td>False</td>\n",
       "    </tr>\n",
       "    <tr>\n",
       "      <th>1</th>\n",
       "      <td>1644.0</td>\n",
       "      <td>1001.0</td>\n",
       "      <td>2008-02-26</td>\n",
       "      <td>series-a</td>\n",
       "      <td>5000000.0</td>\n",
       "      <td>0.0</td>\n",
       "      <td>3.0</td>\n",
       "      <td>True</td>\n",
       "      <td>True</td>\n",
       "    </tr>\n",
       "    <tr>\n",
       "      <th>2</th>\n",
       "      <td>6682.0</td>\n",
       "      <td>10014.0</td>\n",
       "      <td>2008-09-01</td>\n",
       "      <td>angel</td>\n",
       "      <td>0.0</td>\n",
       "      <td>0.0</td>\n",
       "      <td>1.0</td>\n",
       "      <td>True</td>\n",
       "      <td>True</td>\n",
       "    </tr>\n",
       "    <tr>\n",
       "      <th>3</th>\n",
       "      <td>54006.0</td>\n",
       "      <td>10015.0</td>\n",
       "      <td>2012-01-01</td>\n",
       "      <td>venture</td>\n",
       "      <td>2069200.0</td>\n",
       "      <td>0.0</td>\n",
       "      <td>4.0</td>\n",
       "      <td>False</td>\n",
       "      <td>False</td>\n",
       "    </tr>\n",
       "    <tr>\n",
       "      <th>4</th>\n",
       "      <td>55817.0</td>\n",
       "      <td>100155.0</td>\n",
       "      <td>2011-03-08</td>\n",
       "      <td>other</td>\n",
       "      <td>375293.0</td>\n",
       "      <td>0.0</td>\n",
       "      <td>0.0</td>\n",
       "      <td>False</td>\n",
       "      <td>True</td>\n",
       "    </tr>\n",
       "    <tr>\n",
       "      <th>...</th>\n",
       "      <td>...</td>\n",
       "      <td>...</td>\n",
       "      <td>...</td>\n",
       "      <td>...</td>\n",
       "      <td>...</td>\n",
       "      <td>...</td>\n",
       "      <td>...</td>\n",
       "      <td>...</td>\n",
       "      <td>...</td>\n",
       "    </tr>\n",
       "    <tr>\n",
       "      <th>31935</th>\n",
       "      <td>56184.0</td>\n",
       "      <td>146919.0</td>\n",
       "      <td>2013-11-06</td>\n",
       "      <td>other</td>\n",
       "      <td>4900000.0</td>\n",
       "      <td>0.0</td>\n",
       "      <td>0.0</td>\n",
       "      <td>True</td>\n",
       "      <td>True</td>\n",
       "    </tr>\n",
       "    <tr>\n",
       "      <th>31936</th>\n",
       "      <td>56454.0</td>\n",
       "      <td>282847.0</td>\n",
       "      <td>2011-01-31</td>\n",
       "      <td>other</td>\n",
       "      <td>5500000.0</td>\n",
       "      <td>0.0</td>\n",
       "      <td>0.0</td>\n",
       "      <td>True</td>\n",
       "      <td>True</td>\n",
       "    </tr>\n",
       "    <tr>\n",
       "      <th>31937</th>\n",
       "      <td>56543.0</td>\n",
       "      <td>55477.0</td>\n",
       "      <td>2012-05-31</td>\n",
       "      <td>venture</td>\n",
       "      <td>2125720.0</td>\n",
       "      <td>0.0</td>\n",
       "      <td>0.0</td>\n",
       "      <td>True</td>\n",
       "      <td>False</td>\n",
       "    </tr>\n",
       "    <tr>\n",
       "      <th>31938</th>\n",
       "      <td>56928.0</td>\n",
       "      <td>283492.0</td>\n",
       "      <td>2013-12-03</td>\n",
       "      <td>venture</td>\n",
       "      <td>3602480.0</td>\n",
       "      <td>0.0</td>\n",
       "      <td>5.0</td>\n",
       "      <td>True</td>\n",
       "      <td>True</td>\n",
       "    </tr>\n",
       "    <tr>\n",
       "      <th>31939</th>\n",
       "      <td>57063.0</td>\n",
       "      <td>284191.0</td>\n",
       "      <td>2013-12-04</td>\n",
       "      <td>venture</td>\n",
       "      <td>7000000.0</td>\n",
       "      <td>0.0</td>\n",
       "      <td>4.0</td>\n",
       "      <td>True</td>\n",
       "      <td>True</td>\n",
       "    </tr>\n",
       "  </tbody>\n",
       "</table>\n",
       "<p>31940 rows × 9 columns</p>\n",
       "</div>"
      ],
      "text/plain": [
       "       funding_round_id  company_id  funded_at funding_round_type  \\\n",
       "0                2312.0         1.0 2008-05-19          series-c+   \n",
       "1                1644.0      1001.0 2008-02-26           series-a   \n",
       "2                6682.0     10014.0 2008-09-01              angel   \n",
       "3               54006.0     10015.0 2012-01-01            venture   \n",
       "4               55817.0    100155.0 2011-03-08              other   \n",
       "...                 ...         ...        ...                ...   \n",
       "31935           56184.0    146919.0 2013-11-06              other   \n",
       "31936           56454.0    282847.0 2011-01-31              other   \n",
       "31937           56543.0     55477.0 2012-05-31            venture   \n",
       "31938           56928.0    283492.0 2013-12-03            venture   \n",
       "31939           57063.0    284191.0 2013-12-04            venture   \n",
       "\n",
       "       raised_amount  pre_money_valuation  participants  is_first_round  \\\n",
       "0         25000000.0                  0.0           4.0            True   \n",
       "1          5000000.0                  0.0           3.0            True   \n",
       "2                0.0                  0.0           1.0            True   \n",
       "3          2069200.0                  0.0           4.0           False   \n",
       "4           375293.0                  0.0           0.0           False   \n",
       "...              ...                  ...           ...             ...   \n",
       "31935      4900000.0                  0.0           0.0            True   \n",
       "31936      5500000.0                  0.0           0.0            True   \n",
       "31937      2125720.0                  0.0           0.0            True   \n",
       "31938      3602480.0                  0.0           5.0            True   \n",
       "31939      7000000.0                  0.0           4.0            True   \n",
       "\n",
       "       is_last_round  \n",
       "0              False  \n",
       "1               True  \n",
       "2               True  \n",
       "3              False  \n",
       "4               True  \n",
       "...              ...  \n",
       "31935           True  \n",
       "31936           True  \n",
       "31937          False  \n",
       "31938           True  \n",
       "31939           True  \n",
       "\n",
       "[31940 rows x 9 columns]"
      ]
     },
     "execution_count": 75,
     "metadata": {},
     "output_type": "execute_result"
    }
   ],
   "source": [
    "rounds"
   ]
  },
  {
   "cell_type": "markdown",
   "metadata": {
    "id": "bmVYhphNrJg2"
   },
   "source": [
    "\n",
    "## Шаг 3. Исследовательский анализ объединённых таблиц\n"
   ]
  },
  {
   "cell_type": "markdown",
   "metadata": {
    "id": "3Di6tCT3rJg2"
   },
   "source": [
    "\n",
    "### Объединение данных\n",
    "\n",
    "Объедините данные для ответа на вопросы заказчика, которые касаются интересующих его компаний. Заказчика прежде всего интересуют те компании, которые меняли или готовы менять владельцев. Получение инвестиций или финансирования, по мнению заказчика, означает интерес к покупке или продаже компании.\n",
    "\n",
    "В качестве основы для объединённой таблицы возьмите данные из обработанного датасета `company_and_rounds.csv` — выберите только те компании, у которых указаны значения `funding_rounds` или `investment_rounds` больше нуля, или те, у которых в колонке `status` указано `acquired`. В результирующей таблице должно получиться порядка 40 тысяч компаний.\n",
    "\n",
    "Проверьте полноту и корректность получившейся таблицы. Далее работайте только с этими данными."
   ]
  },
  {
   "cell_type": "code",
   "execution_count": 77,
   "metadata": {
    "id": "kuV1b5MXFg3_"
   },
   "outputs": [
    {
     "data": {
      "text/html": [
       "<div>\n",
       "<style scoped>\n",
       "    .dataframe tbody tr th:only-of-type {\n",
       "        vertical-align: middle;\n",
       "    }\n",
       "\n",
       "    .dataframe tbody tr th {\n",
       "        vertical-align: top;\n",
       "    }\n",
       "\n",
       "    .dataframe thead th {\n",
       "        text-align: right;\n",
       "    }\n",
       "</style>\n",
       "<table border=\"1\" class=\"dataframe\">\n",
       "  <thead>\n",
       "    <tr style=\"text-align: right;\">\n",
       "      <th></th>\n",
       "      <th>index</th>\n",
       "      <th>company_id</th>\n",
       "      <th>name</th>\n",
       "      <th>category_code</th>\n",
       "      <th>status</th>\n",
       "      <th>founded_at</th>\n",
       "      <th>closed_at</th>\n",
       "      <th>domain</th>\n",
       "      <th>network_username</th>\n",
       "      <th>country_code</th>\n",
       "      <th>investment_rounds</th>\n",
       "      <th>funding_rounds</th>\n",
       "      <th>funding_total</th>\n",
       "    </tr>\n",
       "  </thead>\n",
       "  <tbody>\n",
       "    <tr>\n",
       "      <th>0</th>\n",
       "      <td>0</td>\n",
       "      <td>1.0</td>\n",
       "      <td>Wetpaint</td>\n",
       "      <td>web</td>\n",
       "      <td>operating</td>\n",
       "      <td>2005-10-17</td>\n",
       "      <td>NaT</td>\n",
       "      <td>wetpaint-inc.com</td>\n",
       "      <td>BachelrWetpaint</td>\n",
       "      <td>USA</td>\n",
       "      <td>0.0</td>\n",
       "      <td>3.0</td>\n",
       "      <td>39750000.0</td>\n",
       "    </tr>\n",
       "    <tr>\n",
       "      <th>1</th>\n",
       "      <td>1</td>\n",
       "      <td>10.0</td>\n",
       "      <td>Flektor</td>\n",
       "      <td>games_video</td>\n",
       "      <td>acquired</td>\n",
       "      <td>NaT</td>\n",
       "      <td>NaT</td>\n",
       "      <td>flektor.com</td>\n",
       "      <td>NaN</td>\n",
       "      <td>USA</td>\n",
       "      <td>0.0</td>\n",
       "      <td>0.0</td>\n",
       "      <td>0.0</td>\n",
       "    </tr>\n",
       "    <tr>\n",
       "      <th>2</th>\n",
       "      <td>2</td>\n",
       "      <td>100.0</td>\n",
       "      <td>There</td>\n",
       "      <td>games_video</td>\n",
       "      <td>acquired</td>\n",
       "      <td>NaT</td>\n",
       "      <td>NaT</td>\n",
       "      <td>there.com</td>\n",
       "      <td>NaN</td>\n",
       "      <td>USA</td>\n",
       "      <td>0.0</td>\n",
       "      <td>0.0</td>\n",
       "      <td>0.0</td>\n",
       "    </tr>\n",
       "    <tr>\n",
       "      <th>3</th>\n",
       "      <td>13</td>\n",
       "      <td>1001.0</td>\n",
       "      <td>FriendFeed</td>\n",
       "      <td>web</td>\n",
       "      <td>acquired</td>\n",
       "      <td>2007-10-01</td>\n",
       "      <td>NaT</td>\n",
       "      <td>friendfeed.com</td>\n",
       "      <td>friendfeed</td>\n",
       "      <td>USA</td>\n",
       "      <td>0.0</td>\n",
       "      <td>1.0</td>\n",
       "      <td>5000000.0</td>\n",
       "    </tr>\n",
       "    <tr>\n",
       "      <th>4</th>\n",
       "      <td>18</td>\n",
       "      <td>10014.0</td>\n",
       "      <td>Mobclix</td>\n",
       "      <td>mobile</td>\n",
       "      <td>acquired</td>\n",
       "      <td>2008-03-01</td>\n",
       "      <td>NaT</td>\n",
       "      <td>mobclix.com</td>\n",
       "      <td>mobclix</td>\n",
       "      <td>USA</td>\n",
       "      <td>0.0</td>\n",
       "      <td>1.0</td>\n",
       "      <td>0.0</td>\n",
       "    </tr>\n",
       "    <tr>\n",
       "      <th>...</th>\n",
       "      <td>...</td>\n",
       "      <td>...</td>\n",
       "      <td>...</td>\n",
       "      <td>...</td>\n",
       "      <td>...</td>\n",
       "      <td>...</td>\n",
       "      <td>...</td>\n",
       "      <td>...</td>\n",
       "      <td>...</td>\n",
       "      <td>...</td>\n",
       "      <td>...</td>\n",
       "      <td>...</td>\n",
       "      <td>...</td>\n",
       "    </tr>\n",
       "    <tr>\n",
       "      <th>40742</th>\n",
       "      <td>196544</td>\n",
       "      <td>1344.0</td>\n",
       "      <td>Vobile</td>\n",
       "      <td>web</td>\n",
       "      <td>operating</td>\n",
       "      <td>2005-01-01</td>\n",
       "      <td>NaT</td>\n",
       "      <td>vobileinc.com</td>\n",
       "      <td>networkmobile</td>\n",
       "      <td>USA</td>\n",
       "      <td>0.0</td>\n",
       "      <td>1.0</td>\n",
       "      <td>10000000.0</td>\n",
       "    </tr>\n",
       "    <tr>\n",
       "      <th>40743</th>\n",
       "      <td>196545</td>\n",
       "      <td>142181.0</td>\n",
       "      <td>Stop Being Watched</td>\n",
       "      <td>software</td>\n",
       "      <td>operating</td>\n",
       "      <td>2010-06-10</td>\n",
       "      <td>NaT</td>\n",
       "      <td>stopbeingwatched.com</td>\n",
       "      <td>SBWinfonetwork</td>\n",
       "      <td>USA</td>\n",
       "      <td>0.0</td>\n",
       "      <td>1.0</td>\n",
       "      <td>500000.0</td>\n",
       "    </tr>\n",
       "    <tr>\n",
       "      <th>40744</th>\n",
       "      <td>196549</td>\n",
       "      <td>3429.0</td>\n",
       "      <td>Zend Technologies</td>\n",
       "      <td>software</td>\n",
       "      <td>operating</td>\n",
       "      <td>1999-01-01</td>\n",
       "      <td>NaT</td>\n",
       "      <td>zend.com</td>\n",
       "      <td>networkzend</td>\n",
       "      <td>USA</td>\n",
       "      <td>0.0</td>\n",
       "      <td>4.0</td>\n",
       "      <td>44000000.0</td>\n",
       "    </tr>\n",
       "    <tr>\n",
       "      <th>40745</th>\n",
       "      <td>196550</td>\n",
       "      <td>7748.0</td>\n",
       "      <td>Flowgram</td>\n",
       "      <td>web</td>\n",
       "      <td>closed</td>\n",
       "      <td>2007-06-01</td>\n",
       "      <td>2008-06-11</td>\n",
       "      <td>flowgram.com</td>\n",
       "      <td>network</td>\n",
       "      <td>USA</td>\n",
       "      <td>0.0</td>\n",
       "      <td>1.0</td>\n",
       "      <td>1300000.0</td>\n",
       "    </tr>\n",
       "    <tr>\n",
       "      <th>40746</th>\n",
       "      <td>196552</td>\n",
       "      <td>43233.0</td>\n",
       "      <td>Photonet</td>\n",
       "      <td>photo_video</td>\n",
       "      <td>acquired</td>\n",
       "      <td>2010-03-01</td>\n",
       "      <td>NaT</td>\n",
       "      <td>Photonet.com</td>\n",
       "      <td>Photonet</td>\n",
       "      <td>USA</td>\n",
       "      <td>0.0</td>\n",
       "      <td>3.0</td>\n",
       "      <td>57500000.0</td>\n",
       "    </tr>\n",
       "  </tbody>\n",
       "</table>\n",
       "<p>40747 rows × 13 columns</p>\n",
       "</div>"
      ],
      "text/plain": [
       "        index  company_id                name category_code     status  \\\n",
       "0           0         1.0            Wetpaint           web  operating   \n",
       "1           1        10.0             Flektor   games_video   acquired   \n",
       "2           2       100.0               There   games_video   acquired   \n",
       "3          13      1001.0          FriendFeed           web   acquired   \n",
       "4          18     10014.0             Mobclix        mobile   acquired   \n",
       "...       ...         ...                 ...           ...        ...   \n",
       "40742  196544      1344.0              Vobile           web  operating   \n",
       "40743  196545    142181.0  Stop Being Watched      software  operating   \n",
       "40744  196549      3429.0   Zend Technologies      software  operating   \n",
       "40745  196550      7748.0            Flowgram           web     closed   \n",
       "40746  196552     43233.0            Photonet   photo_video   acquired   \n",
       "\n",
       "      founded_at  closed_at                domain network_username  \\\n",
       "0     2005-10-17        NaT      wetpaint-inc.com  BachelrWetpaint   \n",
       "1            NaT        NaT           flektor.com              NaN   \n",
       "2            NaT        NaT             there.com              NaN   \n",
       "3     2007-10-01        NaT        friendfeed.com       friendfeed   \n",
       "4     2008-03-01        NaT           mobclix.com          mobclix   \n",
       "...          ...        ...                   ...              ...   \n",
       "40742 2005-01-01        NaT         vobileinc.com    networkmobile   \n",
       "40743 2010-06-10        NaT  stopbeingwatched.com   SBWinfonetwork   \n",
       "40744 1999-01-01        NaT              zend.com      networkzend   \n",
       "40745 2007-06-01 2008-06-11          flowgram.com          network   \n",
       "40746 2010-03-01        NaT          Photonet.com         Photonet   \n",
       "\n",
       "      country_code  investment_rounds  funding_rounds  funding_total  \n",
       "0              USA                0.0             3.0     39750000.0  \n",
       "1              USA                0.0             0.0            0.0  \n",
       "2              USA                0.0             0.0            0.0  \n",
       "3              USA                0.0             1.0      5000000.0  \n",
       "4              USA                0.0             1.0            0.0  \n",
       "...            ...                ...             ...            ...  \n",
       "40742          USA                0.0             1.0     10000000.0  \n",
       "40743          USA                0.0             1.0       500000.0  \n",
       "40744          USA                0.0             4.0     44000000.0  \n",
       "40745          USA                0.0             1.0      1300000.0  \n",
       "40746          USA                0.0             3.0     57500000.0  \n",
       "\n",
       "[40747 rows x 13 columns]"
      ]
     },
     "execution_count": 77,
     "metadata": {},
     "output_type": "execute_result"
    }
   ],
   "source": [
    "df=company.loc[((company['funding_rounds'] > 0)|(company['investment_rounds'] > 0))|(company['status']=='acquired')].reset_index()\n",
    "df"
   ]
  },
  {
   "cell_type": "markdown",
   "metadata": {
    "id": "DFHINkV3rJg2"
   },
   "source": [
    "\n",
    "### Анализ выбросов\n",
    "\n",
    "Заказчика интересует обычный для рассматриваемого периода размер средств, который предоставлялся компаниям.\n",
    "\n",
    "- По предобработанному столбцу `funding_total` графическим способом оцените, какой размер общего финансирования для одной компании будет типичным, а какой — выбивающимся.\n",
    "- В процессе расчёта значений обратите внимание, например, на показатели, возвращаемые методом `.describe()`, — объясните их. Применимы ли к таким данным обычные способы нахождения типичных значений?"
   ]
  },
  {
   "cell_type": "code",
   "execution_count": 79,
   "metadata": {},
   "outputs": [
    {
     "data": {
      "text/plain": [
       "count    4.074700e+04\n",
       "mean     1.013561e+07\n",
       "std      5.646436e+07\n",
       "min      0.000000e+00\n",
       "25%      0.000000e+00\n",
       "50%      6.000000e+05\n",
       "75%      5.650650e+06\n",
       "max      5.700000e+09\n",
       "Name: funding_total, dtype: float64"
      ]
     },
     "execution_count": 79,
     "metadata": {},
     "output_type": "execute_result"
    }
   ],
   "source": [
    "df['funding_total'].describe()"
   ]
  },
  {
   "cell_type": "code",
   "execution_count": 81,
   "metadata": {
    "id": "8jm75fKXrJg2",
    "vscode": {
     "languageId": "plaintext"
    }
   },
   "outputs": [
    {
     "data": {
      "image/png": "[encoded data removed]",
      "text/plain": [
       "<Figure size 640x480 with 1 Axes>"
      ]
     },
     "metadata": {},
     "output_type": "display_data"
    }
   ],
   "source": [
    "boxplot = df.boxplot(column='funding_total',\n",
    "                     vert=False,\n",
    "                     showfliers=False)\n",
    "\n",
    "# Добавляем заголовок и метку оси X\n",
    "boxplot.set_title('Размер общего финансирования для одной компании')\n",
    "boxplot.set_xlabel('Млн. $')\n",
    "\n",
    "plt.show()"
   ]
  },
  {
   "cell_type": "markdown",
   "metadata": {
    "id": "S1jrfr7rFhcw"
   },
   "source": [
    "###### Выводы\n",
    "<br> В данных содержится много выбросов. Среднее значение составляет 12988100, медианное 1700000. \n",
    "<br> Так как среднее значение больше медианы, то распределение положительно искажено (есть выбросы в сторону больших значений)\n",
    "<br> 25% составляет 200000, 75% - 9023305"
   ]
  },
  {
   "cell_type": "code",
   "execution_count": 83,
   "metadata": {},
   "outputs": [
    {
     "data": {
      "image/png": "[encoded data removed]",
      "text/plain": [
       "<Figure size 1000x600 with 1 Axes>"
      ]
     },
     "metadata": {},
     "output_type": "display_data"
    }
   ],
   "source": [
    "plt.figure(figsize=(10, 6))\n",
    "plt.hist(df['funding_total'], bins=50, color='lightgreen', edgecolor='green', log=True)\n",
    "plt.xscale('log')  # Логарифмическая шкала по оси X\n",
    "plt.xlabel('Общее финансирование (логарифмическая шкала)')\n",
    "plt.ylabel('Количество компаний')\n",
    "plt.title('Распределение общего финансирования (логарифмическая шкала)')\n",
    "plt.show()"
   ]
  },
  {
   "cell_type": "markdown",
   "metadata": {
    "id": "JqkRAQrIrJg2"
   },
   "source": [
    "\n",
    "### Куплены забесплатно?\n",
    "\n",
    "- Исследуйте компании, которые были проданы за ноль или за один доллар, и при этом известно, что у них был ненулевой общий объём финансирования.\n",
    "\n",
    "- Рассчитайте аналитически верхнюю и нижнюю границу выбросов для столбца `funding_total` и укажите, каким процентилям границы соответствуют."
   ]
  },
  {
   "cell_type": "markdown",
   "metadata": {
    "id": "9IDTHfYQFhuX"
   },
   "source": [
    "###### Выводы\n",
    "<br> В данных есть инфформация о компаниях, купленных за бесплатно. Большинство таких компаний продано за 1 раунд"
   ]
  },
  {
   "cell_type": "code",
   "execution_count": 85,
   "metadata": {},
   "outputs": [
    {
     "data": {
      "text/html": [
       "<div>\n",
       "<style scoped>\n",
       "    .dataframe tbody tr th:only-of-type {\n",
       "        vertical-align: middle;\n",
       "    }\n",
       "\n",
       "    .dataframe tbody tr th {\n",
       "        vertical-align: top;\n",
       "    }\n",
       "\n",
       "    .dataframe thead th {\n",
       "        text-align: right;\n",
       "    }\n",
       "</style>\n",
       "<table border=\"1\" class=\"dataframe\">\n",
       "  <thead>\n",
       "    <tr style=\"text-align: right;\">\n",
       "      <th></th>\n",
       "      <th>level_0</th>\n",
       "      <th>index</th>\n",
       "      <th>company_id</th>\n",
       "      <th>name</th>\n",
       "      <th>category_code</th>\n",
       "      <th>status</th>\n",
       "      <th>founded_at</th>\n",
       "      <th>closed_at</th>\n",
       "      <th>domain</th>\n",
       "      <th>network_username</th>\n",
       "      <th>country_code</th>\n",
       "      <th>investment_rounds</th>\n",
       "      <th>funding_rounds</th>\n",
       "      <th>funding_total</th>\n",
       "      <th>id</th>\n",
       "      <th>acquiring_company_id</th>\n",
       "      <th>acquired_company_id</th>\n",
       "      <th>term_code</th>\n",
       "      <th>price_amount</th>\n",
       "      <th>acquired_at</th>\n",
       "    </tr>\n",
       "  </thead>\n",
       "  <tbody>\n",
       "    <tr>\n",
       "      <th>0</th>\n",
       "      <td>25</td>\n",
       "      <td>66</td>\n",
       "      <td>10054.0</td>\n",
       "      <td>Jumptap</td>\n",
       "      <td>mobile</td>\n",
       "      <td>acquired</td>\n",
       "      <td>2005-01-01</td>\n",
       "      <td>NaT</td>\n",
       "      <td>jumptap.com</td>\n",
       "      <td>jumptap</td>\n",
       "      <td>USA</td>\n",
       "      <td>0.0</td>\n",
       "      <td>7.0</td>\n",
       "      <td>121500000.0</td>\n",
       "      <td>9288.0</td>\n",
       "      <td>23283.0</td>\n",
       "      <td>10054.0</td>\n",
       "      <td>cash_and_stock</td>\n",
       "      <td>0.0</td>\n",
       "      <td>2013-08-13</td>\n",
       "    </tr>\n",
       "    <tr>\n",
       "      <th>1</th>\n",
       "      <td>63</td>\n",
       "      <td>170</td>\n",
       "      <td>101312.0</td>\n",
       "      <td>SideTour</td>\n",
       "      <td>web</td>\n",
       "      <td>acquired</td>\n",
       "      <td>2011-06-01</td>\n",
       "      <td>NaT</td>\n",
       "      <td>sidetour.com</td>\n",
       "      <td>sidetour</td>\n",
       "      <td>USA</td>\n",
       "      <td>0.0</td>\n",
       "      <td>3.0</td>\n",
       "      <td>4000000.0</td>\n",
       "      <td>9653.0</td>\n",
       "      <td>11391.0</td>\n",
       "      <td>101312.0</td>\n",
       "      <td>NaN</td>\n",
       "      <td>0.0</td>\n",
       "      <td>2013-09-18</td>\n",
       "    </tr>\n",
       "    <tr>\n",
       "      <th>2</th>\n",
       "      <td>66</td>\n",
       "      <td>177</td>\n",
       "      <td>101340.0</td>\n",
       "      <td>ChoicePass</td>\n",
       "      <td>enterprise</td>\n",
       "      <td>acquired</td>\n",
       "      <td>2011-07-01</td>\n",
       "      <td>NaT</td>\n",
       "      <td>choicepass.com</td>\n",
       "      <td>choicepass</td>\n",
       "      <td>USA</td>\n",
       "      <td>0.0</td>\n",
       "      <td>1.0</td>\n",
       "      <td>250000.0</td>\n",
       "      <td>7272.0</td>\n",
       "      <td>1972.0</td>\n",
       "      <td>101340.0</td>\n",
       "      <td>NaN</td>\n",
       "      <td>0.0</td>\n",
       "      <td>2012-06-18</td>\n",
       "    </tr>\n",
       "    <tr>\n",
       "      <th>3</th>\n",
       "      <td>67</td>\n",
       "      <td>181</td>\n",
       "      <td>10137.0</td>\n",
       "      <td>Producteev</td>\n",
       "      <td>software</td>\n",
       "      <td>acquired</td>\n",
       "      <td>2008-07-08</td>\n",
       "      <td>NaT</td>\n",
       "      <td>producteev.com</td>\n",
       "      <td>producteev</td>\n",
       "      <td>USA</td>\n",
       "      <td>0.0</td>\n",
       "      <td>3.0</td>\n",
       "      <td>1310000.0</td>\n",
       "      <td>8254.0</td>\n",
       "      <td>757.0</td>\n",
       "      <td>10137.0</td>\n",
       "      <td>cash_and_stock</td>\n",
       "      <td>0.0</td>\n",
       "      <td>2012-11-05</td>\n",
       "    </tr>\n",
       "    <tr>\n",
       "      <th>4</th>\n",
       "      <td>68</td>\n",
       "      <td>184</td>\n",
       "      <td>10139.0</td>\n",
       "      <td>TradeCard</td>\n",
       "      <td>enterprise</td>\n",
       "      <td>acquired</td>\n",
       "      <td>1999-01-01</td>\n",
       "      <td>NaT</td>\n",
       "      <td>tradecard.com</td>\n",
       "      <td>TradeCard</td>\n",
       "      <td>USA</td>\n",
       "      <td>0.0</td>\n",
       "      <td>2.0</td>\n",
       "      <td>44925000.0</td>\n",
       "      <td>9326.0</td>\n",
       "      <td>44008.0</td>\n",
       "      <td>10139.0</td>\n",
       "      <td>NaN</td>\n",
       "      <td>0.0</td>\n",
       "      <td>2013-04-01</td>\n",
       "    </tr>\n",
       "    <tr>\n",
       "      <th>...</th>\n",
       "      <td>...</td>\n",
       "      <td>...</td>\n",
       "      <td>...</td>\n",
       "      <td>...</td>\n",
       "      <td>...</td>\n",
       "      <td>...</td>\n",
       "      <td>...</td>\n",
       "      <td>...</td>\n",
       "      <td>...</td>\n",
       "      <td>...</td>\n",
       "      <td>...</td>\n",
       "      <td>...</td>\n",
       "      <td>...</td>\n",
       "      <td>...</td>\n",
       "      <td>...</td>\n",
       "      <td>...</td>\n",
       "      <td>...</td>\n",
       "      <td>...</td>\n",
       "      <td>...</td>\n",
       "      <td>...</td>\n",
       "    </tr>\n",
       "    <tr>\n",
       "      <th>1613</th>\n",
       "      <td>40834</td>\n",
       "      <td>196260</td>\n",
       "      <td>99.0</td>\n",
       "      <td>Amie Street</td>\n",
       "      <td>web</td>\n",
       "      <td>acquired</td>\n",
       "      <td>2011-07-04</td>\n",
       "      <td>NaT</td>\n",
       "      <td>amiestreet.com</td>\n",
       "      <td>amiestreet_logs</td>\n",
       "      <td>USA</td>\n",
       "      <td>0.0</td>\n",
       "      <td>2.0</td>\n",
       "      <td>3900000.0</td>\n",
       "      <td>7024.0</td>\n",
       "      <td>317.0</td>\n",
       "      <td>99.0</td>\n",
       "      <td>NaN</td>\n",
       "      <td>0.0</td>\n",
       "      <td>2010-09-22</td>\n",
       "    </tr>\n",
       "    <tr>\n",
       "      <th>1614</th>\n",
       "      <td>40836</td>\n",
       "      <td>196269</td>\n",
       "      <td>9905.0</td>\n",
       "      <td>UBmatrix</td>\n",
       "      <td>software</td>\n",
       "      <td>acquired</td>\n",
       "      <td>2005-01-01</td>\n",
       "      <td>NaT</td>\n",
       "      <td>ubmatrix.com</td>\n",
       "      <td>NaN</td>\n",
       "      <td>USA</td>\n",
       "      <td>0.0</td>\n",
       "      <td>2.0</td>\n",
       "      <td>5172350.0</td>\n",
       "      <td>3381.0</td>\n",
       "      <td>41119.0</td>\n",
       "      <td>9905.0</td>\n",
       "      <td>NaN</td>\n",
       "      <td>0.0</td>\n",
       "      <td>2010-06-24</td>\n",
       "    </tr>\n",
       "    <tr>\n",
       "      <th>1615</th>\n",
       "      <td>40840</td>\n",
       "      <td>196288</td>\n",
       "      <td>992.0</td>\n",
       "      <td>wunderloop</td>\n",
       "      <td>advertising</td>\n",
       "      <td>acquired</td>\n",
       "      <td>1999-01-01</td>\n",
       "      <td>NaT</td>\n",
       "      <td>wunderloop.com</td>\n",
       "      <td>NaN</td>\n",
       "      <td>USA</td>\n",
       "      <td>0.0</td>\n",
       "      <td>1.0</td>\n",
       "      <td>10000000.0</td>\n",
       "      <td>9916.0</td>\n",
       "      <td>19182.0</td>\n",
       "      <td>992.0</td>\n",
       "      <td>NaN</td>\n",
       "      <td>0.0</td>\n",
       "      <td>2010-07-02</td>\n",
       "    </tr>\n",
       "    <tr>\n",
       "      <th>1616</th>\n",
       "      <td>40854</td>\n",
       "      <td>196346</td>\n",
       "      <td>997.0</td>\n",
       "      <td>Zimbra</td>\n",
       "      <td>enterprise</td>\n",
       "      <td>acquired</td>\n",
       "      <td>2003-01-01</td>\n",
       "      <td>NaT</td>\n",
       "      <td>zimbra.com</td>\n",
       "      <td>zimbra</td>\n",
       "      <td>USA</td>\n",
       "      <td>0.0</td>\n",
       "      <td>1.0</td>\n",
       "      <td>14500000.0</td>\n",
       "      <td>9121.0</td>\n",
       "      <td>415.0</td>\n",
       "      <td>997.0</td>\n",
       "      <td>NaN</td>\n",
       "      <td>0.0</td>\n",
       "      <td>2013-07-15</td>\n",
       "    </tr>\n",
       "    <tr>\n",
       "      <th>1617</th>\n",
       "      <td>40872</td>\n",
       "      <td>196419</td>\n",
       "      <td>153326.0</td>\n",
       "      <td>Yoke</td>\n",
       "      <td>web</td>\n",
       "      <td>acquired</td>\n",
       "      <td>NaT</td>\n",
       "      <td>NaT</td>\n",
       "      <td>apps.socialnet.com::yokeapp</td>\n",
       "      <td>NaN</td>\n",
       "      <td>NaN</td>\n",
       "      <td>0.0</td>\n",
       "      <td>1.0</td>\n",
       "      <td>500000.0</td>\n",
       "      <td>7948.0</td>\n",
       "      <td>2352.0</td>\n",
       "      <td>153326.0</td>\n",
       "      <td>NaN</td>\n",
       "      <td>0.0</td>\n",
       "      <td>2012-09-11</td>\n",
       "    </tr>\n",
       "  </tbody>\n",
       "</table>\n",
       "<p>1618 rows × 20 columns</p>\n",
       "</div>"
      ],
      "text/plain": [
       "      level_0   index  company_id         name category_code    status  \\\n",
       "0          25      66     10054.0      Jumptap        mobile  acquired   \n",
       "1          63     170    101312.0     SideTour           web  acquired   \n",
       "2          66     177    101340.0   ChoicePass    enterprise  acquired   \n",
       "3          67     181     10137.0   Producteev      software  acquired   \n",
       "4          68     184     10139.0    TradeCard    enterprise  acquired   \n",
       "...       ...     ...         ...          ...           ...       ...   \n",
       "1613    40834  196260        99.0  Amie Street           web  acquired   \n",
       "1614    40836  196269      9905.0     UBmatrix      software  acquired   \n",
       "1615    40840  196288       992.0   wunderloop   advertising  acquired   \n",
       "1616    40854  196346       997.0       Zimbra    enterprise  acquired   \n",
       "1617    40872  196419    153326.0         Yoke           web  acquired   \n",
       "\n",
       "     founded_at closed_at                       domain network_username  \\\n",
       "0    2005-01-01       NaT                  jumptap.com          jumptap   \n",
       "1    2011-06-01       NaT                 sidetour.com         sidetour   \n",
       "2    2011-07-01       NaT               choicepass.com       choicepass   \n",
       "3    2008-07-08       NaT               producteev.com       producteev   \n",
       "4    1999-01-01       NaT                tradecard.com        TradeCard   \n",
       "...         ...       ...                          ...              ...   \n",
       "1613 2011-07-04       NaT               amiestreet.com  amiestreet_logs   \n",
       "1614 2005-01-01       NaT                 ubmatrix.com              NaN   \n",
       "1615 1999-01-01       NaT               wunderloop.com              NaN   \n",
       "1616 2003-01-01       NaT                   zimbra.com           zimbra   \n",
       "1617        NaT       NaT  apps.socialnet.com::yokeapp              NaN   \n",
       "\n",
       "     country_code  investment_rounds  funding_rounds  funding_total      id  \\\n",
       "0             USA                0.0             7.0    121500000.0  9288.0   \n",
       "1             USA                0.0             3.0      4000000.0  9653.0   \n",
       "2             USA                0.0             1.0       250000.0  7272.0   \n",
       "3             USA                0.0             3.0      1310000.0  8254.0   \n",
       "4             USA                0.0             2.0     44925000.0  9326.0   \n",
       "...           ...                ...             ...            ...     ...   \n",
       "1613          USA                0.0             2.0      3900000.0  7024.0   \n",
       "1614          USA                0.0             2.0      5172350.0  3381.0   \n",
       "1615          USA                0.0             1.0     10000000.0  9916.0   \n",
       "1616          USA                0.0             1.0     14500000.0  9121.0   \n",
       "1617          NaN                0.0             1.0       500000.0  7948.0   \n",
       "\n",
       "      acquiring_company_id  acquired_company_id       term_code  price_amount  \\\n",
       "0                  23283.0              10054.0  cash_and_stock           0.0   \n",
       "1                  11391.0             101312.0             NaN           0.0   \n",
       "2                   1972.0             101340.0             NaN           0.0   \n",
       "3                    757.0              10137.0  cash_and_stock           0.0   \n",
       "4                  44008.0              10139.0             NaN           0.0   \n",
       "...                    ...                  ...             ...           ...   \n",
       "1613                 317.0                 99.0             NaN           0.0   \n",
       "1614               41119.0               9905.0             NaN           0.0   \n",
       "1615               19182.0                992.0             NaN           0.0   \n",
       "1616                 415.0                997.0             NaN           0.0   \n",
       "1617                2352.0             153326.0             NaN           0.0   \n",
       "\n",
       "     acquired_at  \n",
       "0     2013-08-13  \n",
       "1     2013-09-18  \n",
       "2     2012-06-18  \n",
       "3     2012-11-05  \n",
       "4     2013-04-01  \n",
       "...          ...  \n",
       "1613  2010-09-22  \n",
       "1614  2010-06-24  \n",
       "1615  2010-07-02  \n",
       "1616  2013-07-15  \n",
       "1617  2012-09-11  \n",
       "\n",
       "[1618 rows x 20 columns]"
      ]
     },
     "execution_count": 85,
     "metadata": {},
     "output_type": "execute_result"
    }
   ],
   "source": [
    "df_merge=pd.merge(df, acquisition, left_on='company_id', right_on='acquired_company_id', how='left' )\n",
    "df_merge.loc[(df_merge.status == \"acquired\") & (df_merge.price_amount < 2) & (df_merge.funding_total != 0)].reset_index()"
   ]
  },
  {
   "cell_type": "code",
   "execution_count": 87,
   "metadata": {},
   "outputs": [
    {
     "data": {
      "text/html": [
       "<div>\n",
       "<style scoped>\n",
       "    .dataframe tbody tr th:only-of-type {\n",
       "        vertical-align: middle;\n",
       "    }\n",
       "\n",
       "    .dataframe tbody tr th {\n",
       "        vertical-align: top;\n",
       "    }\n",
       "\n",
       "    .dataframe thead th {\n",
       "        text-align: right;\n",
       "    }\n",
       "</style>\n",
       "<table border=\"1\" class=\"dataframe\">\n",
       "  <thead>\n",
       "    <tr style=\"text-align: right;\">\n",
       "      <th></th>\n",
       "      <th>index</th>\n",
       "      <th>company_id</th>\n",
       "      <th>name</th>\n",
       "      <th>category_code</th>\n",
       "      <th>status</th>\n",
       "      <th>founded_at</th>\n",
       "      <th>closed_at</th>\n",
       "      <th>domain</th>\n",
       "      <th>network_username</th>\n",
       "      <th>country_code</th>\n",
       "      <th>investment_rounds</th>\n",
       "      <th>funding_rounds</th>\n",
       "      <th>funding_total</th>\n",
       "      <th>id</th>\n",
       "      <th>acquiring_company_id</th>\n",
       "      <th>acquired_company_id</th>\n",
       "      <th>term_code</th>\n",
       "      <th>price_amount</th>\n",
       "      <th>acquired_at</th>\n",
       "    </tr>\n",
       "  </thead>\n",
       "  <tbody>\n",
       "    <tr>\n",
       "      <th>0</th>\n",
       "      <td>0</td>\n",
       "      <td>1.0</td>\n",
       "      <td>Wetpaint</td>\n",
       "      <td>web</td>\n",
       "      <td>operating</td>\n",
       "      <td>2005-10-17</td>\n",
       "      <td>NaT</td>\n",
       "      <td>wetpaint-inc.com</td>\n",
       "      <td>BachelrWetpaint</td>\n",
       "      <td>USA</td>\n",
       "      <td>0.0</td>\n",
       "      <td>3.0</td>\n",
       "      <td>39750000.0</td>\n",
       "      <td>NaN</td>\n",
       "      <td>NaN</td>\n",
       "      <td>NaN</td>\n",
       "      <td>NaN</td>\n",
       "      <td>NaN</td>\n",
       "      <td>NaT</td>\n",
       "    </tr>\n",
       "    <tr>\n",
       "      <th>1</th>\n",
       "      <td>1</td>\n",
       "      <td>10.0</td>\n",
       "      <td>Flektor</td>\n",
       "      <td>games_video</td>\n",
       "      <td>acquired</td>\n",
       "      <td>NaT</td>\n",
       "      <td>NaT</td>\n",
       "      <td>flektor.com</td>\n",
       "      <td>NaN</td>\n",
       "      <td>USA</td>\n",
       "      <td>0.0</td>\n",
       "      <td>0.0</td>\n",
       "      <td>0.0</td>\n",
       "      <td>1.0</td>\n",
       "      <td>11.0</td>\n",
       "      <td>10.0</td>\n",
       "      <td>NaN</td>\n",
       "      <td>2.000000e+07</td>\n",
       "      <td>2007-05-30</td>\n",
       "    </tr>\n",
       "    <tr>\n",
       "      <th>2</th>\n",
       "      <td>2</td>\n",
       "      <td>100.0</td>\n",
       "      <td>There</td>\n",
       "      <td>games_video</td>\n",
       "      <td>acquired</td>\n",
       "      <td>NaT</td>\n",
       "      <td>NaT</td>\n",
       "      <td>there.com</td>\n",
       "      <td>NaN</td>\n",
       "      <td>USA</td>\n",
       "      <td>0.0</td>\n",
       "      <td>0.0</td>\n",
       "      <td>0.0</td>\n",
       "      <td>20.0</td>\n",
       "      <td>377.0</td>\n",
       "      <td>100.0</td>\n",
       "      <td>cash</td>\n",
       "      <td>0.000000e+00</td>\n",
       "      <td>2005-05-29</td>\n",
       "    </tr>\n",
       "    <tr>\n",
       "      <th>3</th>\n",
       "      <td>13</td>\n",
       "      <td>1001.0</td>\n",
       "      <td>FriendFeed</td>\n",
       "      <td>web</td>\n",
       "      <td>acquired</td>\n",
       "      <td>2007-10-01</td>\n",
       "      <td>NaT</td>\n",
       "      <td>friendfeed.com</td>\n",
       "      <td>friendfeed</td>\n",
       "      <td>USA</td>\n",
       "      <td>0.0</td>\n",
       "      <td>1.0</td>\n",
       "      <td>5000000.0</td>\n",
       "      <td>1901.0</td>\n",
       "      <td>5.0</td>\n",
       "      <td>1001.0</td>\n",
       "      <td>cash_and_stock</td>\n",
       "      <td>4.750000e+07</td>\n",
       "      <td>2009-08-10</td>\n",
       "    </tr>\n",
       "    <tr>\n",
       "      <th>4</th>\n",
       "      <td>18</td>\n",
       "      <td>10014.0</td>\n",
       "      <td>Mobclix</td>\n",
       "      <td>mobile</td>\n",
       "      <td>acquired</td>\n",
       "      <td>2008-03-01</td>\n",
       "      <td>NaT</td>\n",
       "      <td>mobclix.com</td>\n",
       "      <td>mobclix</td>\n",
       "      <td>USA</td>\n",
       "      <td>0.0</td>\n",
       "      <td>1.0</td>\n",
       "      <td>0.0</td>\n",
       "      <td>3878.0</td>\n",
       "      <td>23054.0</td>\n",
       "      <td>10014.0</td>\n",
       "      <td>NaN</td>\n",
       "      <td>0.000000e+00</td>\n",
       "      <td>2010-09-30</td>\n",
       "    </tr>\n",
       "    <tr>\n",
       "      <th>...</th>\n",
       "      <td>...</td>\n",
       "      <td>...</td>\n",
       "      <td>...</td>\n",
       "      <td>...</td>\n",
       "      <td>...</td>\n",
       "      <td>...</td>\n",
       "      <td>...</td>\n",
       "      <td>...</td>\n",
       "      <td>...</td>\n",
       "      <td>...</td>\n",
       "      <td>...</td>\n",
       "      <td>...</td>\n",
       "      <td>...</td>\n",
       "      <td>...</td>\n",
       "      <td>...</td>\n",
       "      <td>...</td>\n",
       "      <td>...</td>\n",
       "      <td>...</td>\n",
       "      <td>...</td>\n",
       "    </tr>\n",
       "    <tr>\n",
       "      <th>40885</th>\n",
       "      <td>196544</td>\n",
       "      <td>1344.0</td>\n",
       "      <td>Vobile</td>\n",
       "      <td>web</td>\n",
       "      <td>operating</td>\n",
       "      <td>2005-01-01</td>\n",
       "      <td>NaT</td>\n",
       "      <td>vobileinc.com</td>\n",
       "      <td>networkmobile</td>\n",
       "      <td>USA</td>\n",
       "      <td>0.0</td>\n",
       "      <td>1.0</td>\n",
       "      <td>10000000.0</td>\n",
       "      <td>NaN</td>\n",
       "      <td>NaN</td>\n",
       "      <td>NaN</td>\n",
       "      <td>NaN</td>\n",
       "      <td>NaN</td>\n",
       "      <td>NaT</td>\n",
       "    </tr>\n",
       "    <tr>\n",
       "      <th>40886</th>\n",
       "      <td>196545</td>\n",
       "      <td>142181.0</td>\n",
       "      <td>Stop Being Watched</td>\n",
       "      <td>software</td>\n",
       "      <td>operating</td>\n",
       "      <td>2010-06-10</td>\n",
       "      <td>NaT</td>\n",
       "      <td>stopbeingwatched.com</td>\n",
       "      <td>SBWinfonetwork</td>\n",
       "      <td>USA</td>\n",
       "      <td>0.0</td>\n",
       "      <td>1.0</td>\n",
       "      <td>500000.0</td>\n",
       "      <td>NaN</td>\n",
       "      <td>NaN</td>\n",
       "      <td>NaN</td>\n",
       "      <td>NaN</td>\n",
       "      <td>NaN</td>\n",
       "      <td>NaT</td>\n",
       "    </tr>\n",
       "    <tr>\n",
       "      <th>40887</th>\n",
       "      <td>196549</td>\n",
       "      <td>3429.0</td>\n",
       "      <td>Zend Technologies</td>\n",
       "      <td>software</td>\n",
       "      <td>operating</td>\n",
       "      <td>1999-01-01</td>\n",
       "      <td>NaT</td>\n",
       "      <td>zend.com</td>\n",
       "      <td>networkzend</td>\n",
       "      <td>USA</td>\n",
       "      <td>0.0</td>\n",
       "      <td>4.0</td>\n",
       "      <td>44000000.0</td>\n",
       "      <td>NaN</td>\n",
       "      <td>NaN</td>\n",
       "      <td>NaN</td>\n",
       "      <td>NaN</td>\n",
       "      <td>NaN</td>\n",
       "      <td>NaT</td>\n",
       "    </tr>\n",
       "    <tr>\n",
       "      <th>40888</th>\n",
       "      <td>196550</td>\n",
       "      <td>7748.0</td>\n",
       "      <td>Flowgram</td>\n",
       "      <td>web</td>\n",
       "      <td>closed</td>\n",
       "      <td>2007-06-01</td>\n",
       "      <td>2008-06-11</td>\n",
       "      <td>flowgram.com</td>\n",
       "      <td>network</td>\n",
       "      <td>USA</td>\n",
       "      <td>0.0</td>\n",
       "      <td>1.0</td>\n",
       "      <td>1300000.0</td>\n",
       "      <td>NaN</td>\n",
       "      <td>NaN</td>\n",
       "      <td>NaN</td>\n",
       "      <td>NaN</td>\n",
       "      <td>NaN</td>\n",
       "      <td>NaT</td>\n",
       "    </tr>\n",
       "    <tr>\n",
       "      <th>40889</th>\n",
       "      <td>196552</td>\n",
       "      <td>43233.0</td>\n",
       "      <td>Photonet</td>\n",
       "      <td>photo_video</td>\n",
       "      <td>acquired</td>\n",
       "      <td>2010-03-01</td>\n",
       "      <td>NaT</td>\n",
       "      <td>Photonet.com</td>\n",
       "      <td>Photonet</td>\n",
       "      <td>USA</td>\n",
       "      <td>0.0</td>\n",
       "      <td>3.0</td>\n",
       "      <td>57500000.0</td>\n",
       "      <td>6968.0</td>\n",
       "      <td>5.0</td>\n",
       "      <td>43233.0</td>\n",
       "      <td>cash_and_stock</td>\n",
       "      <td>1.010470e+09</td>\n",
       "      <td>2012-04-09</td>\n",
       "    </tr>\n",
       "  </tbody>\n",
       "</table>\n",
       "<p>40890 rows × 19 columns</p>\n",
       "</div>"
      ],
      "text/plain": [
       "        index  company_id                name category_code     status  \\\n",
       "0           0         1.0            Wetpaint           web  operating   \n",
       "1           1        10.0             Flektor   games_video   acquired   \n",
       "2           2       100.0               There   games_video   acquired   \n",
       "3          13      1001.0          FriendFeed           web   acquired   \n",
       "4          18     10014.0             Mobclix        mobile   acquired   \n",
       "...       ...         ...                 ...           ...        ...   \n",
       "40885  196544      1344.0              Vobile           web  operating   \n",
       "40886  196545    142181.0  Stop Being Watched      software  operating   \n",
       "40887  196549      3429.0   Zend Technologies      software  operating   \n",
       "40888  196550      7748.0            Flowgram           web     closed   \n",
       "40889  196552     43233.0            Photonet   photo_video   acquired   \n",
       "\n",
       "      founded_at  closed_at                domain network_username  \\\n",
       "0     2005-10-17        NaT      wetpaint-inc.com  BachelrWetpaint   \n",
       "1            NaT        NaT           flektor.com              NaN   \n",
       "2            NaT        NaT             there.com              NaN   \n",
       "3     2007-10-01        NaT        friendfeed.com       friendfeed   \n",
       "4     2008-03-01        NaT           mobclix.com          mobclix   \n",
       "...          ...        ...                   ...              ...   \n",
       "40885 2005-01-01        NaT         vobileinc.com    networkmobile   \n",
       "40886 2010-06-10        NaT  stopbeingwatched.com   SBWinfonetwork   \n",
       "40887 1999-01-01        NaT              zend.com      networkzend   \n",
       "40888 2007-06-01 2008-06-11          flowgram.com          network   \n",
       "40889 2010-03-01        NaT          Photonet.com         Photonet   \n",
       "\n",
       "      country_code  investment_rounds  funding_rounds  funding_total      id  \\\n",
       "0              USA                0.0             3.0     39750000.0     NaN   \n",
       "1              USA                0.0             0.0            0.0     1.0   \n",
       "2              USA                0.0             0.0            0.0    20.0   \n",
       "3              USA                0.0             1.0      5000000.0  1901.0   \n",
       "4              USA                0.0             1.0            0.0  3878.0   \n",
       "...            ...                ...             ...            ...     ...   \n",
       "40885          USA                0.0             1.0     10000000.0     NaN   \n",
       "40886          USA                0.0             1.0       500000.0     NaN   \n",
       "40887          USA                0.0             4.0     44000000.0     NaN   \n",
       "40888          USA                0.0             1.0      1300000.0     NaN   \n",
       "40889          USA                0.0             3.0     57500000.0  6968.0   \n",
       "\n",
       "       acquiring_company_id  acquired_company_id       term_code  \\\n",
       "0                       NaN                  NaN             NaN   \n",
       "1                      11.0                 10.0             NaN   \n",
       "2                     377.0                100.0            cash   \n",
       "3                       5.0               1001.0  cash_and_stock   \n",
       "4                   23054.0              10014.0             NaN   \n",
       "...                     ...                  ...             ...   \n",
       "40885                   NaN                  NaN             NaN   \n",
       "40886                   NaN                  NaN             NaN   \n",
       "40887                   NaN                  NaN             NaN   \n",
       "40888                   NaN                  NaN             NaN   \n",
       "40889                   5.0              43233.0  cash_and_stock   \n",
       "\n",
       "       price_amount acquired_at  \n",
       "0               NaN         NaT  \n",
       "1      2.000000e+07  2007-05-30  \n",
       "2      0.000000e+00  2005-05-29  \n",
       "3      4.750000e+07  2009-08-10  \n",
       "4      0.000000e+00  2010-09-30  \n",
       "...             ...         ...  \n",
       "40885           NaN         NaT  \n",
       "40886           NaN         NaT  \n",
       "40887           NaN         NaT  \n",
       "40888           NaN         NaT  \n",
       "40889  1.010470e+09  2012-04-09  \n",
       "\n",
       "[40890 rows x 19 columns]"
      ]
     },
     "execution_count": 87,
     "metadata": {},
     "output_type": "execute_result"
    }
   ],
   "source": [
    "df_merge"
   ]
  },
  {
   "cell_type": "code",
   "execution_count": 89,
   "metadata": {},
   "outputs": [
    {
     "data": {
      "text/plain": [
       "count    4.089000e+04\n",
       "mean     1.013559e+07\n",
       "std      5.641289e+07\n",
       "min      0.000000e+00\n",
       "25%      0.000000e+00\n",
       "50%      6.000000e+05\n",
       "75%      5.631320e+06\n",
       "max      5.700000e+09\n",
       "Name: funding_total, dtype: float64"
      ]
     },
     "execution_count": 89,
     "metadata": {},
     "output_type": "execute_result"
    }
   ],
   "source": [
    "df_merge['funding_total'].describe()"
   ]
  },
  {
   "cell_type": "code",
   "execution_count": 91,
   "metadata": {},
   "outputs": [
    {
     "name": "stdout",
     "output_type": "stream",
     "text": [
      "Верхний порог выбросов: 14078300.0\n",
      "Нижний порог выбросов: -8446980.0\n"
     ]
    }
   ],
   "source": [
    "# Вычисляем квартили Q1 и Q3\n",
    "Q1 = df_merge['funding_total'].quantile(0.25)\n",
    "Q3 = df_merge['funding_total'].quantile(0.75)\n",
    "\n",
    "# Вычисляем межквартильный размах IQR\n",
    "IQR = Q3 - Q1\n",
    "\n",
    "# Определяем верхний порог для выбросов\n",
    "upper_bound = Q3 + 1.5 * IQR\n",
    "lower_bound= Q1 - 1.5 * IQR\n",
    "\n",
    "print(f'Верхний порог выбросов: {upper_bound}')\n",
    "print(f'Нижний порог выбросов: {lower_bound}')"
   ]
  },
  {
   "cell_type": "markdown",
   "metadata": {},
   "source": [
    "###### Выводы\n",
    "<br> Приведены пороги выбросов по funding_total. Нижний порог получился отрицательный, так как 25 процентиль равен нулю."
   ]
  },
  {
   "cell_type": "markdown",
   "metadata": {
    "id": "mEiWpROjrJg2"
   },
   "source": [
    "\n",
    "### Цены стартапов по категориям\n",
    "\n",
    "Категории стартапов с типично высокими ценами покупки стартапов и значительным разбросом цен могут быть привлекательными для крупных инвесторов, которые готовы к высоким рискам ради потенциально больших доходов. Среди категорий стартапов выделите категории стартапов, характеризующиеся:\n",
    "\n",
    "- типично высокими ценами;\n",
    "- и наибольшим разбросом цен за стартап.\n",
    "\n",
    "Объясните, почему решили составить топ именно из такого числа категорий и почему рассчитывали именно так."
   ]
  },
  {
   "cell_type": "code",
   "execution_count": 93,
   "metadata": {},
   "outputs": [],
   "source": [
    "df_merge=df_merge.loc[(df_merge.price_amount >0)].reset_index()"
   ]
  },
  {
   "cell_type": "code",
   "execution_count": 95,
   "metadata": {},
   "outputs": [
    {
     "name": "stdout",
     "output_type": "stream",
     "text": [
      "Верхний порог выбросов: 643450000.0\n"
     ]
    }
   ],
   "source": [
    "Q1 = df_merge['price_amount'].quantile(0.25)\n",
    "Q3 = df_merge['price_amount'].quantile(0.75)\n",
    "\n",
    "# Вычисляем межквартильный размах IQR\n",
    "IQR = Q3 - Q1\n",
    "\n",
    "# Определяем верхний порог для выбросов\n",
    "upper_bound = Q3 + 1.5 * IQR\n",
    "\n",
    "print(f'Верхний порог выбросов: {upper_bound}')"
   ]
  },
  {
   "cell_type": "code",
   "execution_count": 97,
   "metadata": {},
   "outputs": [
    {
     "data": {
      "text/html": [
       "<div>\n",
       "<style scoped>\n",
       "    .dataframe tbody tr th:only-of-type {\n",
       "        vertical-align: middle;\n",
       "    }\n",
       "\n",
       "    .dataframe tbody tr th {\n",
       "        vertical-align: top;\n",
       "    }\n",
       "\n",
       "    .dataframe thead th {\n",
       "        text-align: right;\n",
       "    }\n",
       "</style>\n",
       "<table border=\"1\" class=\"dataframe\">\n",
       "  <thead>\n",
       "    <tr style=\"text-align: right;\">\n",
       "      <th></th>\n",
       "      <th>level_0</th>\n",
       "      <th>index</th>\n",
       "      <th>company_id</th>\n",
       "      <th>name</th>\n",
       "      <th>category_code</th>\n",
       "      <th>status</th>\n",
       "      <th>founded_at</th>\n",
       "      <th>closed_at</th>\n",
       "      <th>domain</th>\n",
       "      <th>network_username</th>\n",
       "      <th>country_code</th>\n",
       "      <th>investment_rounds</th>\n",
       "      <th>funding_rounds</th>\n",
       "      <th>funding_total</th>\n",
       "      <th>id</th>\n",
       "      <th>acquiring_company_id</th>\n",
       "      <th>acquired_company_id</th>\n",
       "      <th>term_code</th>\n",
       "      <th>price_amount</th>\n",
       "      <th>acquired_at</th>\n",
       "    </tr>\n",
       "  </thead>\n",
       "  <tbody>\n",
       "    <tr>\n",
       "      <th>0</th>\n",
       "      <td>1</td>\n",
       "      <td>1</td>\n",
       "      <td>10.0</td>\n",
       "      <td>Flektor</td>\n",
       "      <td>games_video</td>\n",
       "      <td>acquired</td>\n",
       "      <td>NaT</td>\n",
       "      <td>NaT</td>\n",
       "      <td>flektor.com</td>\n",
       "      <td>NaN</td>\n",
       "      <td>USA</td>\n",
       "      <td>0.0</td>\n",
       "      <td>0.0</td>\n",
       "      <td>0.0</td>\n",
       "      <td>1.0</td>\n",
       "      <td>11.0</td>\n",
       "      <td>10.0</td>\n",
       "      <td>NaN</td>\n",
       "      <td>20000000.0</td>\n",
       "      <td>2007-05-30</td>\n",
       "    </tr>\n",
       "    <tr>\n",
       "      <th>1</th>\n",
       "      <td>3</td>\n",
       "      <td>13</td>\n",
       "      <td>1001.0</td>\n",
       "      <td>FriendFeed</td>\n",
       "      <td>web</td>\n",
       "      <td>acquired</td>\n",
       "      <td>2007-10-01</td>\n",
       "      <td>NaT</td>\n",
       "      <td>friendfeed.com</td>\n",
       "      <td>friendfeed</td>\n",
       "      <td>USA</td>\n",
       "      <td>0.0</td>\n",
       "      <td>1.0</td>\n",
       "      <td>5000000.0</td>\n",
       "      <td>1901.0</td>\n",
       "      <td>5.0</td>\n",
       "      <td>1001.0</td>\n",
       "      <td>cash_and_stock</td>\n",
       "      <td>47500000.0</td>\n",
       "      <td>2009-08-10</td>\n",
       "    </tr>\n",
       "    <tr>\n",
       "      <th>2</th>\n",
       "      <td>32</td>\n",
       "      <td>81</td>\n",
       "      <td>1007.0</td>\n",
       "      <td>Rupture</td>\n",
       "      <td>games_video</td>\n",
       "      <td>acquired</td>\n",
       "      <td>NaT</td>\n",
       "      <td>NaT</td>\n",
       "      <td>rupture.com</td>\n",
       "      <td>rupture</td>\n",
       "      <td>USA</td>\n",
       "      <td>0.0</td>\n",
       "      <td>1.0</td>\n",
       "      <td>3000000.0</td>\n",
       "      <td>2186.0</td>\n",
       "      <td>851.0</td>\n",
       "      <td>1007.0</td>\n",
       "      <td>cash</td>\n",
       "      <td>15000000.0</td>\n",
       "      <td>2008-05-08</td>\n",
       "    </tr>\n",
       "    <tr>\n",
       "      <th>3</th>\n",
       "      <td>77</td>\n",
       "      <td>210</td>\n",
       "      <td>101519.0</td>\n",
       "      <td>Vidacare</td>\n",
       "      <td>hardware</td>\n",
       "      <td>acquired</td>\n",
       "      <td>NaT</td>\n",
       "      <td>NaT</td>\n",
       "      <td>vidacare.com</td>\n",
       "      <td>NaN</td>\n",
       "      <td>USA</td>\n",
       "      <td>0.0</td>\n",
       "      <td>1.0</td>\n",
       "      <td>274999.0</td>\n",
       "      <td>10214.0</td>\n",
       "      <td>65984.0</td>\n",
       "      <td>101519.0</td>\n",
       "      <td>NaN</td>\n",
       "      <td>262500000.0</td>\n",
       "      <td>2013-10-29</td>\n",
       "    </tr>\n",
       "    <tr>\n",
       "      <th>4</th>\n",
       "      <td>83</td>\n",
       "      <td>221</td>\n",
       "      <td>10158.0</td>\n",
       "      <td>StudioNow</td>\n",
       "      <td>photo_video</td>\n",
       "      <td>acquired</td>\n",
       "      <td>2007-01-01</td>\n",
       "      <td>NaT</td>\n",
       "      <td>studionow.com</td>\n",
       "      <td>NaN</td>\n",
       "      <td>USA</td>\n",
       "      <td>0.0</td>\n",
       "      <td>3.0</td>\n",
       "      <td>15286400.0</td>\n",
       "      <td>2923.0</td>\n",
       "      <td>351.0</td>\n",
       "      <td>10158.0</td>\n",
       "      <td>cash_and_stock</td>\n",
       "      <td>36500000.0</td>\n",
       "      <td>2010-01-25</td>\n",
       "    </tr>\n",
       "    <tr>\n",
       "      <th>...</th>\n",
       "      <td>...</td>\n",
       "      <td>...</td>\n",
       "      <td>...</td>\n",
       "      <td>...</td>\n",
       "      <td>...</td>\n",
       "      <td>...</td>\n",
       "      <td>...</td>\n",
       "      <td>...</td>\n",
       "      <td>...</td>\n",
       "      <td>...</td>\n",
       "      <td>...</td>\n",
       "      <td>...</td>\n",
       "      <td>...</td>\n",
       "      <td>...</td>\n",
       "      <td>...</td>\n",
       "      <td>...</td>\n",
       "      <td>...</td>\n",
       "      <td>...</td>\n",
       "      <td>...</td>\n",
       "      <td>...</td>\n",
       "    </tr>\n",
       "    <tr>\n",
       "      <th>2467</th>\n",
       "      <td>40831</td>\n",
       "      <td>196246</td>\n",
       "      <td>9894.0</td>\n",
       "      <td>EyeWonder</td>\n",
       "      <td>advertising</td>\n",
       "      <td>acquired</td>\n",
       "      <td>1999-01-01</td>\n",
       "      <td>NaT</td>\n",
       "      <td>eyewonder.com</td>\n",
       "      <td>NaN</td>\n",
       "      <td>USA</td>\n",
       "      <td>0.0</td>\n",
       "      <td>0.0</td>\n",
       "      <td>0.0</td>\n",
       "      <td>6079.0</td>\n",
       "      <td>26466.0</td>\n",
       "      <td>9894.0</td>\n",
       "      <td>cash</td>\n",
       "      <td>66000000.0</td>\n",
       "      <td>2011-08-30</td>\n",
       "    </tr>\n",
       "    <tr>\n",
       "      <th>2468</th>\n",
       "      <td>40848</td>\n",
       "      <td>196323</td>\n",
       "      <td>9949.0</td>\n",
       "      <td>PPTV</td>\n",
       "      <td>games_video</td>\n",
       "      <td>acquired</td>\n",
       "      <td>2004-01-01</td>\n",
       "      <td>NaT</td>\n",
       "      <td>pptv.com</td>\n",
       "      <td>NaN</td>\n",
       "      <td>CHN</td>\n",
       "      <td>0.0</td>\n",
       "      <td>4.0</td>\n",
       "      <td>286500000.0</td>\n",
       "      <td>9692.0</td>\n",
       "      <td>267149.0</td>\n",
       "      <td>9949.0</td>\n",
       "      <td>NaN</td>\n",
       "      <td>400000000.0</td>\n",
       "      <td>2013-09-25</td>\n",
       "    </tr>\n",
       "    <tr>\n",
       "      <th>2469</th>\n",
       "      <td>40852</td>\n",
       "      <td>196345</td>\n",
       "      <td>99685.0</td>\n",
       "      <td>Symbyo Dental</td>\n",
       "      <td>biotech</td>\n",
       "      <td>acquired</td>\n",
       "      <td>2009-06-01</td>\n",
       "      <td>NaT</td>\n",
       "      <td>symbyodental.com</td>\n",
       "      <td>NaN</td>\n",
       "      <td>NaN</td>\n",
       "      <td>0.0</td>\n",
       "      <td>1.0</td>\n",
       "      <td>500000.0</td>\n",
       "      <td>7240.0</td>\n",
       "      <td>161312.0</td>\n",
       "      <td>99685.0</td>\n",
       "      <td>stock</td>\n",
       "      <td>4800000.0</td>\n",
       "      <td>2011-08-01</td>\n",
       "    </tr>\n",
       "    <tr>\n",
       "      <th>2470</th>\n",
       "      <td>40853</td>\n",
       "      <td>196346</td>\n",
       "      <td>997.0</td>\n",
       "      <td>Zimbra</td>\n",
       "      <td>enterprise</td>\n",
       "      <td>acquired</td>\n",
       "      <td>2003-01-01</td>\n",
       "      <td>NaT</td>\n",
       "      <td>zimbra.com</td>\n",
       "      <td>zimbra</td>\n",
       "      <td>USA</td>\n",
       "      <td>0.0</td>\n",
       "      <td>1.0</td>\n",
       "      <td>14500000.0</td>\n",
       "      <td>85.0</td>\n",
       "      <td>29.0</td>\n",
       "      <td>997.0</td>\n",
       "      <td>cash</td>\n",
       "      <td>350000000.0</td>\n",
       "      <td>2007-09-01</td>\n",
       "    </tr>\n",
       "    <tr>\n",
       "      <th>2471</th>\n",
       "      <td>40862</td>\n",
       "      <td>196367</td>\n",
       "      <td>999.0</td>\n",
       "      <td>buddystumbler</td>\n",
       "      <td>web</td>\n",
       "      <td>acquired</td>\n",
       "      <td>2007-01-01</td>\n",
       "      <td>NaT</td>\n",
       "      <td>buddystumbler.com</td>\n",
       "      <td>NaN</td>\n",
       "      <td>USA</td>\n",
       "      <td>0.0</td>\n",
       "      <td>0.0</td>\n",
       "      <td>0.0</td>\n",
       "      <td>1763.0</td>\n",
       "      <td>4447.0</td>\n",
       "      <td>999.0</td>\n",
       "      <td>NaN</td>\n",
       "      <td>113000.0</td>\n",
       "      <td>2008-07-09</td>\n",
       "    </tr>\n",
       "  </tbody>\n",
       "</table>\n",
       "<p>2187 rows × 20 columns</p>\n",
       "</div>"
      ],
      "text/plain": [
       "      level_0   index  company_id           name category_code    status  \\\n",
       "0           1       1        10.0        Flektor   games_video  acquired   \n",
       "1           3      13      1001.0     FriendFeed           web  acquired   \n",
       "2          32      81      1007.0        Rupture   games_video  acquired   \n",
       "3          77     210    101519.0       Vidacare      hardware  acquired   \n",
       "4          83     221     10158.0      StudioNow   photo_video  acquired   \n",
       "...       ...     ...         ...            ...           ...       ...   \n",
       "2467    40831  196246      9894.0      EyeWonder   advertising  acquired   \n",
       "2468    40848  196323      9949.0           PPTV   games_video  acquired   \n",
       "2469    40852  196345     99685.0  Symbyo Dental       biotech  acquired   \n",
       "2470    40853  196346       997.0         Zimbra    enterprise  acquired   \n",
       "2471    40862  196367       999.0  buddystumbler           web  acquired   \n",
       "\n",
       "     founded_at closed_at             domain network_username country_code  \\\n",
       "0           NaT       NaT        flektor.com              NaN          USA   \n",
       "1    2007-10-01       NaT     friendfeed.com       friendfeed          USA   \n",
       "2           NaT       NaT        rupture.com          rupture          USA   \n",
       "3           NaT       NaT       vidacare.com              NaN          USA   \n",
       "4    2007-01-01       NaT      studionow.com              NaN          USA   \n",
       "...         ...       ...                ...              ...          ...   \n",
       "2467 1999-01-01       NaT      eyewonder.com              NaN          USA   \n",
       "2468 2004-01-01       NaT           pptv.com              NaN          CHN   \n",
       "2469 2009-06-01       NaT   symbyodental.com              NaN          NaN   \n",
       "2470 2003-01-01       NaT         zimbra.com           zimbra          USA   \n",
       "2471 2007-01-01       NaT  buddystumbler.com              NaN          USA   \n",
       "\n",
       "      investment_rounds  funding_rounds  funding_total       id  \\\n",
       "0                   0.0             0.0            0.0      1.0   \n",
       "1                   0.0             1.0      5000000.0   1901.0   \n",
       "2                   0.0             1.0      3000000.0   2186.0   \n",
       "3                   0.0             1.0       274999.0  10214.0   \n",
       "4                   0.0             3.0     15286400.0   2923.0   \n",
       "...                 ...             ...            ...      ...   \n",
       "2467                0.0             0.0            0.0   6079.0   \n",
       "2468                0.0             4.0    286500000.0   9692.0   \n",
       "2469                0.0             1.0       500000.0   7240.0   \n",
       "2470                0.0             1.0     14500000.0     85.0   \n",
       "2471                0.0             0.0            0.0   1763.0   \n",
       "\n",
       "      acquiring_company_id  acquired_company_id       term_code  price_amount  \\\n",
       "0                     11.0                 10.0             NaN    20000000.0   \n",
       "1                      5.0               1001.0  cash_and_stock    47500000.0   \n",
       "2                    851.0               1007.0            cash    15000000.0   \n",
       "3                  65984.0             101519.0             NaN   262500000.0   \n",
       "4                    351.0              10158.0  cash_and_stock    36500000.0   \n",
       "...                    ...                  ...             ...           ...   \n",
       "2467               26466.0               9894.0            cash    66000000.0   \n",
       "2468              267149.0               9949.0             NaN   400000000.0   \n",
       "2469              161312.0              99685.0           stock     4800000.0   \n",
       "2470                  29.0                997.0            cash   350000000.0   \n",
       "2471                4447.0                999.0             NaN      113000.0   \n",
       "\n",
       "     acquired_at  \n",
       "0     2007-05-30  \n",
       "1     2009-08-10  \n",
       "2     2008-05-08  \n",
       "3     2013-10-29  \n",
       "4     2010-01-25  \n",
       "...          ...  \n",
       "2467  2011-08-30  \n",
       "2468  2013-09-25  \n",
       "2469  2011-08-01  \n",
       "2470  2007-09-01  \n",
       "2471  2008-07-09  \n",
       "\n",
       "[2187 rows x 20 columns]"
      ]
     },
     "execution_count": 97,
     "metadata": {},
     "output_type": "execute_result"
    }
   ],
   "source": [
    "df_merge=df_merge.loc[(df_merge.price_amount < upper_bound)]\n",
    "df_merge"
   ]
  },
  {
   "cell_type": "code",
   "execution_count": 99,
   "metadata": {},
   "outputs": [
    {
     "data": {
      "text/plain": [
       "count    2.187000e+03\n",
       "mean     1.084869e+08\n",
       "std      1.448383e+08\n",
       "min      1.000000e+00\n",
       "25%      1.000000e+07\n",
       "50%      4.000000e+07\n",
       "75%      1.500000e+08\n",
       "max      6.430000e+08\n",
       "Name: price_amount, dtype: float64"
      ]
     },
     "execution_count": 99,
     "metadata": {},
     "output_type": "execute_result"
    }
   ],
   "source": [
    "df_merge['price_amount'].describe()"
   ]
  },
  {
   "cell_type": "code",
   "execution_count": 101,
   "metadata": {},
   "outputs": [
    {
     "data": {
      "text/html": [
       "<div>\n",
       "<style scoped>\n",
       "    .dataframe tbody tr th:only-of-type {\n",
       "        vertical-align: middle;\n",
       "    }\n",
       "\n",
       "    .dataframe tbody tr th {\n",
       "        vertical-align: top;\n",
       "    }\n",
       "\n",
       "    .dataframe thead th {\n",
       "        text-align: right;\n",
       "    }\n",
       "</style>\n",
       "<table border=\"1\" class=\"dataframe\">\n",
       "  <thead>\n",
       "    <tr style=\"text-align: right;\">\n",
       "      <th></th>\n",
       "      <th>category_code</th>\n",
       "      <th>median</th>\n",
       "      <th>std</th>\n",
       "      <th>count</th>\n",
       "    </tr>\n",
       "  </thead>\n",
       "  <tbody>\n",
       "    <tr>\n",
       "      <th>0</th>\n",
       "      <td>advertising</td>\n",
       "      <td>47500000.0</td>\n",
       "      <td>1.378529e+08</td>\n",
       "      <td>74</td>\n",
       "    </tr>\n",
       "    <tr>\n",
       "      <th>1</th>\n",
       "      <td>analytics</td>\n",
       "      <td>200000000.0</td>\n",
       "      <td>9.296774e+07</td>\n",
       "      <td>3</td>\n",
       "    </tr>\n",
       "    <tr>\n",
       "      <th>2</th>\n",
       "      <td>automotive</td>\n",
       "      <td>43000000.0</td>\n",
       "      <td>NaN</td>\n",
       "      <td>1</td>\n",
       "    </tr>\n",
       "    <tr>\n",
       "      <th>3</th>\n",
       "      <td>biotech</td>\n",
       "      <td>105000000.0</td>\n",
       "      <td>1.884804e+08</td>\n",
       "      <td>216</td>\n",
       "    </tr>\n",
       "    <tr>\n",
       "      <th>4</th>\n",
       "      <td>cleantech</td>\n",
       "      <td>162500000.0</td>\n",
       "      <td>1.444089e+08</td>\n",
       "      <td>34</td>\n",
       "    </tr>\n",
       "    <tr>\n",
       "      <th>5</th>\n",
       "      <td>consulting</td>\n",
       "      <td>26250000.0</td>\n",
       "      <td>1.106711e+08</td>\n",
       "      <td>29</td>\n",
       "    </tr>\n",
       "    <tr>\n",
       "      <th>6</th>\n",
       "      <td>ecommerce</td>\n",
       "      <td>105000000.0</td>\n",
       "      <td>1.800376e+08</td>\n",
       "      <td>46</td>\n",
       "    </tr>\n",
       "    <tr>\n",
       "      <th>7</th>\n",
       "      <td>education</td>\n",
       "      <td>10000000.0</td>\n",
       "      <td>1.746954e+07</td>\n",
       "      <td>5</td>\n",
       "    </tr>\n",
       "    <tr>\n",
       "      <th>8</th>\n",
       "      <td>enterprise</td>\n",
       "      <td>41150000.0</td>\n",
       "      <td>1.235170e+08</td>\n",
       "      <td>94</td>\n",
       "    </tr>\n",
       "    <tr>\n",
       "      <th>9</th>\n",
       "      <td>fashion</td>\n",
       "      <td>195000000.0</td>\n",
       "      <td>8.649422e+07</td>\n",
       "      <td>3</td>\n",
       "    </tr>\n",
       "    <tr>\n",
       "      <th>10</th>\n",
       "      <td>finance</td>\n",
       "      <td>131500000.0</td>\n",
       "      <td>1.912827e+08</td>\n",
       "      <td>16</td>\n",
       "    </tr>\n",
       "    <tr>\n",
       "      <th>11</th>\n",
       "      <td>games_video</td>\n",
       "      <td>48000000.0</td>\n",
       "      <td>1.286301e+08</td>\n",
       "      <td>80</td>\n",
       "    </tr>\n",
       "    <tr>\n",
       "      <th>12</th>\n",
       "      <td>hardware</td>\n",
       "      <td>43400000.0</td>\n",
       "      <td>1.604245e+08</td>\n",
       "      <td>70</td>\n",
       "    </tr>\n",
       "    <tr>\n",
       "      <th>13</th>\n",
       "      <td>health</td>\n",
       "      <td>115000000.0</td>\n",
       "      <td>1.552634e+08</td>\n",
       "      <td>8</td>\n",
       "    </tr>\n",
       "    <tr>\n",
       "      <th>14</th>\n",
       "      <td>hospitality</td>\n",
       "      <td>54950000.0</td>\n",
       "      <td>2.280187e+08</td>\n",
       "      <td>6</td>\n",
       "    </tr>\n",
       "    <tr>\n",
       "      <th>15</th>\n",
       "      <td>local</td>\n",
       "      <td>16140200.0</td>\n",
       "      <td>NaN</td>\n",
       "      <td>1</td>\n",
       "    </tr>\n",
       "    <tr>\n",
       "      <th>16</th>\n",
       "      <td>manufacturing</td>\n",
       "      <td>97200000.0</td>\n",
       "      <td>2.176823e+08</td>\n",
       "      <td>14</td>\n",
       "    </tr>\n",
       "    <tr>\n",
       "      <th>17</th>\n",
       "      <td>medical</td>\n",
       "      <td>165000000.0</td>\n",
       "      <td>1.659058e+08</td>\n",
       "      <td>4</td>\n",
       "    </tr>\n",
       "    <tr>\n",
       "      <th>18</th>\n",
       "      <td>messaging</td>\n",
       "      <td>100000000.0</td>\n",
       "      <td>6.907460e+07</td>\n",
       "      <td>5</td>\n",
       "    </tr>\n",
       "    <tr>\n",
       "      <th>19</th>\n",
       "      <td>mobile</td>\n",
       "      <td>45100000.0</td>\n",
       "      <td>1.495079e+08</td>\n",
       "      <td>106</td>\n",
       "    </tr>\n",
       "    <tr>\n",
       "      <th>20</th>\n",
       "      <td>music</td>\n",
       "      <td>4860000.0</td>\n",
       "      <td>1.599781e+08</td>\n",
       "      <td>3</td>\n",
       "    </tr>\n",
       "    <tr>\n",
       "      <th>21</th>\n",
       "      <td>nanotech</td>\n",
       "      <td>584000000.0</td>\n",
       "      <td>NaN</td>\n",
       "      <td>1</td>\n",
       "    </tr>\n",
       "    <tr>\n",
       "      <th>22</th>\n",
       "      <td>network_hosting</td>\n",
       "      <td>55865000.0</td>\n",
       "      <td>1.447513e+08</td>\n",
       "      <td>54</td>\n",
       "    </tr>\n",
       "    <tr>\n",
       "      <th>23</th>\n",
       "      <td>news</td>\n",
       "      <td>40000000.0</td>\n",
       "      <td>1.008553e+08</td>\n",
       "      <td>9</td>\n",
       "    </tr>\n",
       "    <tr>\n",
       "      <th>24</th>\n",
       "      <td>other</td>\n",
       "      <td>44000000.0</td>\n",
       "      <td>1.374721e+08</td>\n",
       "      <td>70</td>\n",
       "    </tr>\n",
       "    <tr>\n",
       "      <th>25</th>\n",
       "      <td>photo_video</td>\n",
       "      <td>45000000.0</td>\n",
       "      <td>1.059383e+07</td>\n",
       "      <td>4</td>\n",
       "    </tr>\n",
       "    <tr>\n",
       "      <th>26</th>\n",
       "      <td>public_relations</td>\n",
       "      <td>40000000.0</td>\n",
       "      <td>1.706015e+08</td>\n",
       "      <td>63</td>\n",
       "    </tr>\n",
       "    <tr>\n",
       "      <th>27</th>\n",
       "      <td>real_estate</td>\n",
       "      <td>40000000.0</td>\n",
       "      <td>2.475884e+07</td>\n",
       "      <td>3</td>\n",
       "    </tr>\n",
       "    <tr>\n",
       "      <th>28</th>\n",
       "      <td>search</td>\n",
       "      <td>72500000.0</td>\n",
       "      <td>1.293638e+08</td>\n",
       "      <td>17</td>\n",
       "    </tr>\n",
       "    <tr>\n",
       "      <th>29</th>\n",
       "      <td>security</td>\n",
       "      <td>140000000.0</td>\n",
       "      <td>1.755397e+08</td>\n",
       "      <td>29</td>\n",
       "    </tr>\n",
       "    <tr>\n",
       "      <th>30</th>\n",
       "      <td>semiconductor</td>\n",
       "      <td>75000000.0</td>\n",
       "      <td>1.350668e+08</td>\n",
       "      <td>64</td>\n",
       "    </tr>\n",
       "    <tr>\n",
       "      <th>31</th>\n",
       "      <td>social</td>\n",
       "      <td>45750000.0</td>\n",
       "      <td>6.295286e+07</td>\n",
       "      <td>4</td>\n",
       "    </tr>\n",
       "    <tr>\n",
       "      <th>32</th>\n",
       "      <td>software</td>\n",
       "      <td>40000000.0</td>\n",
       "      <td>1.222603e+08</td>\n",
       "      <td>359</td>\n",
       "    </tr>\n",
       "    <tr>\n",
       "      <th>33</th>\n",
       "      <td>sports</td>\n",
       "      <td>260000000.0</td>\n",
       "      <td>NaN</td>\n",
       "      <td>1</td>\n",
       "    </tr>\n",
       "    <tr>\n",
       "      <th>34</th>\n",
       "      <td>transportation</td>\n",
       "      <td>125000000.0</td>\n",
       "      <td>1.484924e+08</td>\n",
       "      <td>2</td>\n",
       "    </tr>\n",
       "    <tr>\n",
       "      <th>35</th>\n",
       "      <td>travel</td>\n",
       "      <td>62500000.0</td>\n",
       "      <td>9.526586e+07</td>\n",
       "      <td>4</td>\n",
       "    </tr>\n",
       "    <tr>\n",
       "      <th>36</th>\n",
       "      <td>web</td>\n",
       "      <td>47900000.0</td>\n",
       "      <td>1.465020e+08</td>\n",
       "      <td>238</td>\n",
       "    </tr>\n",
       "  </tbody>\n",
       "</table>\n",
       "</div>"
      ],
      "text/plain": [
       "       category_code       median           std  count\n",
       "0        advertising   47500000.0  1.378529e+08     74\n",
       "1          analytics  200000000.0  9.296774e+07      3\n",
       "2         automotive   43000000.0           NaN      1\n",
       "3            biotech  105000000.0  1.884804e+08    216\n",
       "4          cleantech  162500000.0  1.444089e+08     34\n",
       "5         consulting   26250000.0  1.106711e+08     29\n",
       "6          ecommerce  105000000.0  1.800376e+08     46\n",
       "7          education   10000000.0  1.746954e+07      5\n",
       "8         enterprise   41150000.0  1.235170e+08     94\n",
       "9            fashion  195000000.0  8.649422e+07      3\n",
       "10           finance  131500000.0  1.912827e+08     16\n",
       "11       games_video   48000000.0  1.286301e+08     80\n",
       "12          hardware   43400000.0  1.604245e+08     70\n",
       "13            health  115000000.0  1.552634e+08      8\n",
       "14       hospitality   54950000.0  2.280187e+08      6\n",
       "15             local   16140200.0           NaN      1\n",
       "16     manufacturing   97200000.0  2.176823e+08     14\n",
       "17           medical  165000000.0  1.659058e+08      4\n",
       "18         messaging  100000000.0  6.907460e+07      5\n",
       "19            mobile   45100000.0  1.495079e+08    106\n",
       "20             music    4860000.0  1.599781e+08      3\n",
       "21          nanotech  584000000.0           NaN      1\n",
       "22   network_hosting   55865000.0  1.447513e+08     54\n",
       "23              news   40000000.0  1.008553e+08      9\n",
       "24             other   44000000.0  1.374721e+08     70\n",
       "25       photo_video   45000000.0  1.059383e+07      4\n",
       "26  public_relations   40000000.0  1.706015e+08     63\n",
       "27       real_estate   40000000.0  2.475884e+07      3\n",
       "28            search   72500000.0  1.293638e+08     17\n",
       "29          security  140000000.0  1.755397e+08     29\n",
       "30     semiconductor   75000000.0  1.350668e+08     64\n",
       "31            social   45750000.0  6.295286e+07      4\n",
       "32          software   40000000.0  1.222603e+08    359\n",
       "33            sports  260000000.0           NaN      1\n",
       "34    transportation  125000000.0  1.484924e+08      2\n",
       "35            travel   62500000.0  9.526586e+07      4\n",
       "36               web   47900000.0  1.465020e+08    238"
      ]
     },
     "execution_count": 101,
     "metadata": {},
     "output_type": "execute_result"
    }
   ],
   "source": [
    "df_new=df_merge.groupby('category_code',observed=True)['price_amount'].agg({'median','count','std'}).round(2).reset_index()\n",
    "df_new"
   ]
  },
  {
   "cell_type": "code",
   "execution_count": 103,
   "metadata": {},
   "outputs": [
    {
     "data": {
      "image/png": "[encoded data removed]",
      "text/plain": [
       "<Figure size 640x480 with 1 Axes>"
      ]
     },
     "metadata": {},
     "output_type": "display_data"
    }
   ],
   "source": [
    "\n",
    "df_new.loc[df_new['count']>15].plot(\n",
    "    kind='scatter',      # Определяет, что тип графика — scatterplot\n",
    "    x='std',  # Данные по оси X\n",
    "    y='median',  # Данные по оси Y\n",
    "    alpha=0.9,           # Прозрачность точек\n",
    "    color='lightgreen',        # Цвет точек\n",
    "    edgecolor='green',   # Цвет контура точек\n",
    "    s='count',                # Размер точек\n",
    "    title='Анализ типичной цены') # Заголовок графика\n",
    "\n",
    "x = df_new.loc[df_new['count']>15]['std'].values\n",
    "y = df_new.loc[df_new['count']>15]['median'].values\n",
    "types = df_new.loc[df_new['count']>15]['category_code'].values\n",
    "for i in range(len(x)): \n",
    "    plt.text(x[i], y[i], types[i], fontsize=8, ha='right', va='top')\n",
    "plt.show()"
   ]
  },
  {
   "cell_type": "markdown",
   "metadata": {
    "id": "ADOfyVY_rJg3"
   },
   "source": [
    "\n",
    "### Сколько раундов продержится стартап перед покупкой\n",
    "\n",
    "- Необходимо проанализировать столбец `funding_rounds`. Исследуйте значения столбца. Заказчика интересует типичное значение количества раундов для каждого возможного статуса стартапа.\n",
    "- Постройте график, который отображает, сколько в среднем раундов финансирования проходило для стартапов из каждой группы. Сделайте выводы."
   ]
  },
  {
   "cell_type": "code",
   "execution_count": 105,
   "metadata": {},
   "outputs": [
    {
     "data": {
      "text/plain": [
       "status\n",
       "acquired     0.52\n",
       "closed       1.38\n",
       "ipo          1.93\n",
       "operating    1.52\n",
       "Name: funding_rounds, dtype: float64"
      ]
     },
     "execution_count": 105,
     "metadata": {},
     "output_type": "execute_result"
    }
   ],
   "source": [
    "df.groupby('status',observed=True)['funding_rounds'].mean().round(2)"
   ]
  },
  {
   "cell_type": "code",
   "execution_count": 107,
   "metadata": {},
   "outputs": [
    {
     "data": {
      "image/png": "[encoded data removed]",
      "text/plain": [
       "<Figure size 640x480 with 1 Axes>"
      ]
     },
     "metadata": {},
     "output_type": "display_data"
    }
   ],
   "source": [
    "df.groupby('status',observed=True)['funding_rounds'].mean().plot(kind='bar',\n",
    "                                color='lightgreen',\n",
    "                                legend=False)\n",
    "plt.title('Среднее количество раундов по статусу')\n",
    "plt.ylabel('Количество раундов')\n",
    "plt.xlabel('Статус')\n",
    "plt.xticks(rotation=0)\n",
    "plt.show()"
   ]
  },
  {
   "cell_type": "markdown",
   "metadata": {
    "id": "VAFEZ2HBrJg3"
   },
   "source": [
    "\n",
    "## Шаг 4. Итоговый вывод и рекомендации\n",
    "\n",
    "Опишите, что было сделано в проекте, какие были сделаны выводы, подкрепляют ли они друг друга или заставляют сомневаться в полученных результатах.\n",
    "- Загружены и изучены данные.\n",
    "- Объединены в один датафрейм два файла для получения информации об образовании.\n",
    "- Проведен анализ и предобработка данных. Скорректированы типы данных. Изменены названия столбцов и исправлены опечатки в названии. В некоторых столбцах пропуски заменены на пустые строки.  \n",
    "- Проанализировваны раунды финансирования по годам, для этого добавлен новый столбец с годом.\n",
    "- Датасет company_and_rounds разделен на два, для приведения данных так, чтобы удобно было отобрать компании по параметрам и рассчитать показатели из расчёта на одну компанию без промежуточных агрегаций.\n",
    "- Проанализированы выбросы в столбце funding_total нового датасета\n",
    "- Обнаружены покупки за бесплатно\n",
    "- Проанализировано типичное количество раундов. Самое большое среднее значение у компаний, которые в статусе IPO"
   ]
  }
 ],
 "metadata": {
  "ExecuteTimeLog": [
   {
    "duration": 4566,
    "start_time": "2025-04-22T17:57:45.749Z"
   },
   {
    "duration": 1861,
    "start_time": "2025-04-22T18:00:46.705Z"
   },
   {
    "duration": 15,
    "start_time": "2025-04-22T18:01:35.751Z"
   },
   {
    "duration": 12,
    "start_time": "2025-04-22T18:01:42.918Z"
   },
   {
    "duration": 12,
    "start_time": "2025-04-22T18:01:51.435Z"
   },
   {
    "duration": 12,
    "start_time": "2025-04-22T18:01:59.285Z"
   },
   {
    "duration": 33,
    "start_time": "2025-04-22T18:02:45.904Z"
   },
   {
    "duration": 24,
    "start_time": "2025-04-22T18:04:05.850Z"
   },
   {
    "duration": 94,
    "start_time": "2025-04-22T18:04:07.995Z"
   },
   {
    "duration": 9,
    "start_time": "2025-04-22T18:04:11.232Z"
   },
   {
    "duration": 38,
    "start_time": "2025-04-22T18:04:13.869Z"
   },
   {
    "duration": 10,
    "start_time": "2025-04-22T18:04:15.411Z"
   },
   {
    "duration": 19,
    "start_time": "2025-04-22T18:04:17.275Z"
   },
   {
    "duration": 7,
    "start_time": "2025-04-22T18:04:18.910Z"
   },
   {
    "duration": 24,
    "start_time": "2025-04-22T18:04:21.143Z"
   },
   {
    "duration": 8,
    "start_time": "2025-04-22T18:06:59.106Z"
   },
   {
    "duration": 3531,
    "start_time": "2025-04-22T18:07:34.286Z"
   },
   {
    "duration": 3959,
    "start_time": "2025-04-22T18:07:44.791Z"
   },
   {
    "duration": 13,
    "start_time": "2025-04-22T18:07:51.292Z"
   },
   {
    "duration": 12,
    "start_time": "2025-04-22T18:07:55.691Z"
   },
   {
    "duration": 25,
    "start_time": "2025-04-22T18:09:01.045Z"
   },
   {
    "duration": 101,
    "start_time": "2025-04-22T18:09:03.446Z"
   },
   {
    "duration": 9,
    "start_time": "2025-04-22T18:10:57.766Z"
   },
   {
    "duration": 37,
    "start_time": "2025-04-22T18:11:00.188Z"
   },
   {
    "duration": 7,
    "start_time": "2025-04-22T18:12:49.388Z"
   },
   {
    "duration": 29,
    "start_time": "2025-04-22T18:12:51.593Z"
   },
   {
    "duration": 7,
    "start_time": "2025-04-22T18:13:50.996Z"
   },
   {
    "duration": 23,
    "start_time": "2025-04-22T18:13:54.044Z"
   },
   {
    "duration": 24,
    "start_time": "2025-04-22T18:14:54.049Z"
   },
   {
    "duration": 4,
    "start_time": "2025-04-22T18:18:45.688Z"
   },
   {
    "duration": 5,
    "start_time": "2025-04-22T18:21:07.958Z"
   },
   {
    "duration": 5,
    "start_time": "2025-04-22T18:21:18.772Z"
   },
   {
    "duration": 5,
    "start_time": "2025-04-22T18:22:18.236Z"
   },
   {
    "duration": 90,
    "start_time": "2025-04-22T18:22:36.973Z"
   },
   {
    "duration": 5,
    "start_time": "2025-04-22T18:22:40.378Z"
   },
   {
    "duration": 5,
    "start_time": "2025-04-22T18:22:41.180Z"
   },
   {
    "duration": 5,
    "start_time": "2025-04-22T18:22:42.552Z"
   },
   {
    "duration": 5,
    "start_time": "2025-04-22T18:22:48.616Z"
   },
   {
    "duration": 5,
    "start_time": "2025-04-22T18:22:59.217Z"
   },
   {
    "duration": 93,
    "start_time": "2025-04-22T18:23:02.230Z"
   },
   {
    "duration": 4,
    "start_time": "2025-04-22T18:23:24.041Z"
   },
   {
    "duration": 101,
    "start_time": "2025-04-22T18:25:07.014Z"
   },
   {
    "duration": 4,
    "start_time": "2025-04-22T18:25:21.495Z"
   },
   {
    "duration": 5,
    "start_time": "2025-04-22T18:27:48.703Z"
   },
   {
    "duration": 5,
    "start_time": "2025-04-22T18:27:52.525Z"
   },
   {
    "duration": 10,
    "start_time": "2025-04-22T18:28:54.840Z"
   },
   {
    "duration": 4,
    "start_time": "2025-04-22T18:29:01.698Z"
   },
   {
    "duration": 102,
    "start_time": "2025-04-22T18:29:24.776Z"
   },
   {
    "duration": 4,
    "start_time": "2025-04-22T18:29:27.292Z"
   },
   {
    "duration": 10,
    "start_time": "2025-04-22T18:33:06.721Z"
   },
   {
    "duration": 5,
    "start_time": "2025-04-22T18:33:13.700Z"
   },
   {
    "duration": 2414,
    "start_time": "2025-04-22T18:33:29.213Z"
   },
   {
    "duration": 5,
    "start_time": "2025-04-22T18:33:39.031Z"
   },
   {
    "duration": 11,
    "start_time": "2025-04-22T18:36:39.353Z"
   },
   {
    "duration": 5,
    "start_time": "2025-04-22T18:36:49.465Z"
   },
   {
    "duration": 3499,
    "start_time": "2025-04-22T18:37:35.596Z"
   },
   {
    "duration": 1715,
    "start_time": "2025-04-22T18:37:48.892Z"
   },
   {
    "duration": 14,
    "start_time": "2025-04-22T18:37:51.868Z"
   },
   {
    "duration": 12,
    "start_time": "2025-04-22T18:37:53.390Z"
   },
   {
    "duration": 24,
    "start_time": "2025-04-22T18:37:55.611Z"
   },
   {
    "duration": 122,
    "start_time": "2025-04-22T18:37:57.549Z"
   },
   {
    "duration": 10,
    "start_time": "2025-04-22T18:37:59.863Z"
   },
   {
    "duration": 41,
    "start_time": "2025-04-22T18:38:01.022Z"
   },
   {
    "duration": 7,
    "start_time": "2025-04-22T18:38:02.308Z"
   },
   {
    "duration": 20,
    "start_time": "2025-04-22T18:38:03.653Z"
   },
   {
    "duration": 8,
    "start_time": "2025-04-22T18:38:04.935Z"
   },
   {
    "duration": 25,
    "start_time": "2025-04-22T18:38:06.140Z"
   },
   {
    "duration": 5,
    "start_time": "2025-04-22T18:38:35.880Z"
   },
   {
    "duration": 11,
    "start_time": "2025-04-22T18:40:16.439Z"
   },
   {
    "duration": 100,
    "start_time": "2025-04-22T18:41:15.263Z"
   },
   {
    "duration": 11,
    "start_time": "2025-04-22T18:41:28.038Z"
   },
   {
    "duration": 11,
    "start_time": "2025-04-22T18:41:38.582Z"
   },
   {
    "duration": 10,
    "start_time": "2025-04-22T18:42:00.189Z"
   },
   {
    "duration": 10,
    "start_time": "2025-04-22T18:42:11.056Z"
   },
   {
    "duration": 9,
    "start_time": "2025-04-22T18:42:27.158Z"
   },
   {
    "duration": 10,
    "start_time": "2025-04-22T18:42:32.215Z"
   },
   {
    "duration": 15,
    "start_time": "2025-04-22T18:43:43.100Z"
   },
   {
    "duration": 13,
    "start_time": "2025-04-22T18:45:00.723Z"
   },
   {
    "duration": 11,
    "start_time": "2025-04-22T18:45:04.187Z"
   },
   {
    "duration": 12,
    "start_time": "2025-04-22T18:48:40.840Z"
   },
   {
    "duration": 13,
    "start_time": "2025-04-22T18:48:42.791Z"
   },
   {
    "duration": 100,
    "start_time": "2025-04-22T18:49:03.983Z"
   },
   {
    "duration": 29,
    "start_time": "2025-04-22T18:51:34.096Z"
   },
   {
    "duration": 11,
    "start_time": "2025-04-22T18:53:56.155Z"
   },
   {
    "duration": 3469,
    "start_time": "2025-04-22T18:54:22.541Z"
   },
   {
    "duration": 2234,
    "start_time": "2025-04-22T18:54:28.796Z"
   },
   {
    "duration": 5,
    "start_time": "2025-04-22T18:54:35.308Z"
   },
   {
    "duration": 14,
    "start_time": "2025-04-22T18:54:41.046Z"
   },
   {
    "duration": 92,
    "start_time": "2025-04-22T18:54:42.895Z"
   },
   {
    "duration": 102,
    "start_time": "2025-04-22T18:54:53.711Z"
   },
   {
    "duration": 14,
    "start_time": "2025-04-22T18:56:12.485Z"
   },
   {
    "duration": 20,
    "start_time": "2025-04-22T18:56:48.472Z"
   },
   {
    "duration": 11,
    "start_time": "2025-04-22T18:57:27.823Z"
   },
   {
    "duration": 540,
    "start_time": "2025-04-22T18:57:50.651Z"
   },
   {
    "duration": 3,
    "start_time": "2025-04-22T18:58:05.345Z"
   },
   {
    "duration": 105,
    "start_time": "2025-04-22T18:58:20.598Z"
   },
   {
    "duration": 26,
    "start_time": "2025-04-22T18:59:26.514Z"
   },
   {
    "duration": 17,
    "start_time": "2025-04-22T19:03:38.028Z"
   },
   {
    "duration": 14,
    "start_time": "2025-04-22T19:03:48.895Z"
   },
   {
    "duration": 539,
    "start_time": "2025-04-22T19:03:54.554Z"
   },
   {
    "duration": 1257,
    "start_time": "2025-04-22T19:04:06.573Z"
   },
   {
    "duration": 20,
    "start_time": "2025-04-22T19:04:31.557Z"
   },
   {
    "duration": 100,
    "start_time": "2025-04-22T19:05:02.310Z"
   },
   {
    "duration": 11,
    "start_time": "2025-04-22T19:05:14.399Z"
   },
   {
    "duration": 126,
    "start_time": "2025-04-22T19:05:50.171Z"
   },
   {
    "duration": 1001,
    "start_time": "2025-04-22T19:06:38.816Z"
   },
   {
    "duration": 964,
    "start_time": "2025-04-22T19:08:05.611Z"
   },
   {
    "duration": 14,
    "start_time": "2025-04-22T19:08:31.896Z"
   },
   {
    "duration": 111,
    "start_time": "2025-04-22T19:08:39.359Z"
   },
   {
    "duration": 916,
    "start_time": "2025-04-22T19:09:16.233Z"
   },
   {
    "duration": 820,
    "start_time": "2025-04-22T19:09:27.050Z"
   },
   {
    "duration": 111,
    "start_time": "2025-04-22T19:09:42.161Z"
   },
   {
    "duration": 15,
    "start_time": "2025-04-22T19:10:07.231Z"
   },
   {
    "duration": 128,
    "start_time": "2025-04-22T19:10:45.724Z"
   },
   {
    "duration": 15,
    "start_time": "2025-04-22T19:11:27.254Z"
   },
   {
    "duration": 19,
    "start_time": "2025-04-22T19:12:17.485Z"
   },
   {
    "duration": 10,
    "start_time": "2025-04-22T19:12:47.455Z"
   },
   {
    "duration": 20,
    "start_time": "2025-04-22T19:13:19.151Z"
   },
   {
    "duration": 14,
    "start_time": "2025-04-22T19:13:47.840Z"
   },
   {
    "duration": 18,
    "start_time": "2025-04-22T19:16:46.129Z"
   },
   {
    "duration": 179,
    "start_time": "2025-04-22T19:17:08.192Z"
   },
   {
    "duration": 150,
    "start_time": "2025-04-22T19:17:18.924Z"
   },
   {
    "duration": 129,
    "start_time": "2025-04-22T19:20:07.031Z"
   },
   {
    "duration": 21,
    "start_time": "2025-04-22T19:20:41.282Z"
   },
   {
    "duration": 130,
    "start_time": "2025-04-22T19:21:09.646Z"
   },
   {
    "duration": 52,
    "start_time": "2025-04-22T19:21:20.887Z"
   },
   {
    "duration": 16,
    "start_time": "2025-04-22T19:21:39.876Z"
   },
   {
    "duration": 8,
    "start_time": "2025-04-22T19:21:55.415Z"
   },
   {
    "duration": 619,
    "start_time": "2025-04-22T19:22:08.156Z"
   },
   {
    "duration": 154,
    "start_time": "2025-04-22T19:22:27.670Z"
   },
   {
    "duration": 16,
    "start_time": "2025-04-22T19:22:48.110Z"
   },
   {
    "duration": 111,
    "start_time": "2025-04-22T19:23:01.456Z"
   },
   {
    "duration": 121,
    "start_time": "2025-04-22T19:24:49.341Z"
   },
   {
    "duration": 25,
    "start_time": "2025-04-22T19:25:18.753Z"
   },
   {
    "duration": 24,
    "start_time": "2025-04-22T19:28:12.431Z"
   },
   {
    "duration": 15,
    "start_time": "2025-04-22T19:29:47.994Z"
   },
   {
    "duration": 116,
    "start_time": "2025-04-22T19:30:58.757Z"
   },
   {
    "duration": 21,
    "start_time": "2025-04-22T19:31:23.258Z"
   },
   {
    "duration": 35,
    "start_time": "2025-04-22T19:31:55.075Z"
   },
   {
    "duration": 30,
    "start_time": "2025-04-22T19:32:21.436Z"
   },
   {
    "duration": 14,
    "start_time": "2025-04-22T19:32:59.652Z"
   },
   {
    "duration": 22,
    "start_time": "2025-04-22T19:35:57.020Z"
   },
   {
    "duration": 187,
    "start_time": "2025-04-22T19:38:04.582Z"
   },
   {
    "duration": 93,
    "start_time": "2025-04-22T19:38:58.393Z"
   },
   {
    "duration": 1614,
    "start_time": "2025-04-22T19:39:08.021Z"
   },
   {
    "duration": 92,
    "start_time": "2025-04-22T19:39:15.795Z"
   },
   {
    "duration": 5,
    "start_time": "2025-04-22T19:39:21.708Z"
   },
   {
    "duration": 22,
    "start_time": "2025-04-22T19:39:33.102Z"
   },
   {
    "duration": 280,
    "start_time": "2025-04-22T19:39:41.398Z"
   },
   {
    "duration": 46,
    "start_time": "2025-04-22T19:40:46.148Z"
   },
   {
    "duration": 72,
    "start_time": "2025-04-22T19:41:18.409Z"
   },
   {
    "duration": 9,
    "start_time": "2025-04-22T19:41:34.677Z"
   },
   {
    "duration": 10,
    "start_time": "2025-04-22T19:42:04.768Z"
   },
   {
    "duration": 325,
    "start_time": "2025-04-22T19:42:10.701Z"
   },
   {
    "duration": 2108,
    "start_time": "2025-04-22T19:42:26.866Z"
   },
   {
    "duration": 79,
    "start_time": "2025-04-22T19:42:41.872Z"
   },
   {
    "duration": 13,
    "start_time": "2025-04-22T19:42:53.404Z"
   },
   {
    "duration": 3566,
    "start_time": "2025-04-22T19:43:28.611Z"
   },
   {
    "duration": 1821,
    "start_time": "2025-04-22T19:43:33.097Z"
   },
   {
    "duration": 5,
    "start_time": "2025-04-22T19:43:45.394Z"
   },
   {
    "duration": 24,
    "start_time": "2025-04-22T19:43:48.378Z"
   },
   {
    "duration": 301,
    "start_time": "2025-04-22T19:43:51.163Z"
   },
   {
    "duration": 96,
    "start_time": "2025-04-22T19:44:38.174Z"
   },
   {
    "duration": 36,
    "start_time": "2025-04-22T19:44:41.116Z"
   },
   {
    "duration": 66,
    "start_time": "2025-04-22T19:45:18.341Z"
   },
   {
    "duration": 35,
    "start_time": "2025-04-22T19:45:38.154Z"
   },
   {
    "duration": 62,
    "start_time": "2025-04-22T19:46:15.780Z"
   },
   {
    "duration": 21,
    "start_time": "2025-04-22T19:51:14.566Z"
   },
   {
    "duration": 100,
    "start_time": "2025-04-22T19:54:32.654Z"
   },
   {
    "duration": 131,
    "start_time": "2025-04-22T19:54:44.791Z"
   },
   {
    "duration": 9,
    "start_time": "2025-04-22T19:54:50.459Z"
   },
   {
    "duration": 11,
    "start_time": "2025-04-22T19:55:01.345Z"
   },
   {
    "duration": 37,
    "start_time": "2025-04-22T19:56:11.668Z"
   },
   {
    "duration": 33,
    "start_time": "2025-04-22T19:57:24.715Z"
   },
   {
    "duration": 33,
    "start_time": "2025-04-22T19:58:18.875Z"
   },
   {
    "duration": 39,
    "start_time": "2025-04-22T19:59:08.474Z"
   },
   {
    "duration": 66,
    "start_time": "2025-04-22T19:59:36.051Z"
   },
   {
    "duration": 27,
    "start_time": "2025-04-22T19:59:40.791Z"
   },
   {
    "duration": 43,
    "start_time": "2025-04-22T20:02:30.618Z"
   },
   {
    "duration": 28,
    "start_time": "2025-04-22T20:02:42.792Z"
   },
   {
    "duration": 27,
    "start_time": "2025-04-22T20:02:56.438Z"
   },
   {
    "duration": 24,
    "start_time": "2025-04-22T20:03:16.320Z"
   },
   {
    "duration": 17,
    "start_time": "2025-04-22T20:03:34.511Z"
   },
   {
    "duration": 81,
    "start_time": "2025-04-22T20:03:39.810Z"
   },
   {
    "duration": 37,
    "start_time": "2025-04-22T20:04:07.534Z"
   },
   {
    "duration": 555,
    "start_time": "2025-04-22T20:05:04.320Z"
   },
   {
    "duration": 73,
    "start_time": "2025-04-22T20:05:17.219Z"
   },
   {
    "duration": 26,
    "start_time": "2025-04-22T20:07:16.746Z"
   },
   {
    "duration": 28,
    "start_time": "2025-04-22T20:07:50.811Z"
   },
   {
    "duration": 27,
    "start_time": "2025-04-22T20:08:08.875Z"
   },
   {
    "duration": 28,
    "start_time": "2025-04-22T20:08:39.966Z"
   },
   {
    "duration": 169,
    "start_time": "2025-04-22T20:10:35.975Z"
   },
   {
    "duration": 146,
    "start_time": "2025-04-22T20:10:53.871Z"
   },
   {
    "duration": 15,
    "start_time": "2025-04-22T20:11:41.697Z"
   },
   {
    "duration": 156,
    "start_time": "2025-04-22T20:11:50.441Z"
   },
   {
    "duration": 13,
    "start_time": "2025-04-22T20:14:22.907Z"
   },
   {
    "duration": 4,
    "start_time": "2025-04-22T20:14:36.496Z"
   },
   {
    "duration": 153,
    "start_time": "2025-04-22T20:15:26.593Z"
   },
   {
    "duration": 131,
    "start_time": "2025-04-22T20:15:56.749Z"
   },
   {
    "duration": 1001,
    "start_time": "2025-04-22T20:18:31.744Z"
   },
   {
    "duration": 171,
    "start_time": "2025-04-22T20:18:54.153Z"
   },
   {
    "duration": 233,
    "start_time": "2025-04-22T20:20:23.403Z"
   },
   {
    "duration": 143,
    "start_time": "2025-04-22T20:20:46.672Z"
   },
   {
    "duration": 10,
    "start_time": "2025-04-22T20:21:36.338Z"
   },
   {
    "duration": 139,
    "start_time": "2025-04-22T20:21:44.195Z"
   },
   {
    "duration": 161,
    "start_time": "2025-04-22T20:21:50.151Z"
   },
   {
    "duration": 154,
    "start_time": "2025-04-22T20:22:02.937Z"
   },
   {
    "duration": 151,
    "start_time": "2025-04-22T20:23:00.044Z"
   },
   {
    "duration": 155,
    "start_time": "2025-04-22T20:23:28.355Z"
   },
   {
    "duration": 149,
    "start_time": "2025-04-22T20:23:41.120Z"
   },
   {
    "duration": 160,
    "start_time": "2025-04-22T20:23:52.269Z"
   },
   {
    "duration": 155,
    "start_time": "2025-04-22T20:24:32.576Z"
   },
   {
    "duration": 10,
    "start_time": "2025-04-22T20:33:38.096Z"
   },
   {
    "duration": 12,
    "start_time": "2025-04-22T20:33:40.240Z"
   },
   {
    "duration": 27,
    "start_time": "2025-04-22T20:33:43.031Z"
   },
   {
    "duration": 66,
    "start_time": "2025-04-22T20:33:46.950Z"
   },
   {
    "duration": 38,
    "start_time": "2025-04-22T20:33:53.041Z"
   },
   {
    "duration": 9,
    "start_time": "2025-04-22T20:33:55.311Z"
   },
   {
    "duration": 8,
    "start_time": "2025-04-22T20:33:58.758Z"
   },
   {
    "duration": 15,
    "start_time": "2025-04-22T20:34:00.042Z"
   },
   {
    "duration": 8,
    "start_time": "2025-04-22T20:34:01.388Z"
   },
   {
    "duration": 15,
    "start_time": "2025-04-22T20:38:13.896Z"
   },
   {
    "duration": 12,
    "start_time": "2025-04-22T20:38:29.712Z"
   },
   {
    "duration": 11,
    "start_time": "2025-04-22T20:38:51.272Z"
   },
   {
    "duration": 99,
    "start_time": "2025-04-22T20:44:19.654Z"
   },
   {
    "duration": 52,
    "start_time": "2025-04-22T20:44:36.765Z"
   },
   {
    "duration": 57,
    "start_time": "2025-04-22T20:44:50.314Z"
   },
   {
    "duration": 54,
    "start_time": "2025-04-22T20:45:08.741Z"
   },
   {
    "duration": 10,
    "start_time": "2025-04-22T20:47:01.997Z"
   },
   {
    "duration": 11,
    "start_time": "2025-04-22T20:50:28.232Z"
   },
   {
    "duration": 5,
    "start_time": "2025-04-22T20:50:38.647Z"
   },
   {
    "duration": 4,
    "start_time": "2025-04-22T20:51:12.336Z"
   },
   {
    "duration": 4,
    "start_time": "2025-04-22T20:51:28.565Z"
   },
   {
    "duration": 12,
    "start_time": "2025-04-22T20:51:47.923Z"
   },
   {
    "duration": 16,
    "start_time": "2025-04-22T20:52:02.403Z"
   },
   {
    "duration": 33,
    "start_time": "2025-04-22T20:53:34.588Z"
   },
   {
    "duration": 151,
    "start_time": "2025-04-22T20:53:42.707Z"
   },
   {
    "duration": 18,
    "start_time": "2025-04-22T20:54:22.609Z"
   },
   {
    "duration": 42,
    "start_time": "2025-04-22T20:54:46.924Z"
   },
   {
    "duration": 21,
    "start_time": "2025-04-22T20:55:07.464Z"
   },
   {
    "duration": 4538,
    "start_time": "2025-04-23T05:30:53.368Z"
   },
   {
    "duration": 1855,
    "start_time": "2025-04-23T05:30:58.406Z"
   },
   {
    "duration": 14,
    "start_time": "2025-04-23T05:31:01.159Z"
   },
   {
    "duration": 13,
    "start_time": "2025-04-23T05:31:02.184Z"
   },
   {
    "duration": 26,
    "start_time": "2025-04-23T05:31:03.960Z"
   },
   {
    "duration": 94,
    "start_time": "2025-04-23T05:31:05.134Z"
   },
   {
    "duration": 9,
    "start_time": "2025-04-23T05:31:06.086Z"
   },
   {
    "duration": 38,
    "start_time": "2025-04-23T05:31:07.111Z"
   },
   {
    "duration": 8,
    "start_time": "2025-04-23T05:31:07.983Z"
   },
   {
    "duration": 18,
    "start_time": "2025-04-23T05:31:08.807Z"
   },
   {
    "duration": 8,
    "start_time": "2025-04-23T05:31:09.719Z"
   },
   {
    "duration": 25,
    "start_time": "2025-04-23T05:31:10.734Z"
   },
   {
    "duration": 5,
    "start_time": "2025-04-23T05:31:12.920Z"
   },
   {
    "duration": 22,
    "start_time": "2025-04-23T05:31:14.272Z"
   },
   {
    "duration": 305,
    "start_time": "2025-04-23T05:31:15.583Z"
   },
   {
    "duration": 81,
    "start_time": "2025-04-23T05:31:17.079Z"
   },
   {
    "duration": 42,
    "start_time": "2025-04-23T05:31:18.239Z"
   },
   {
    "duration": 69,
    "start_time": "2025-04-23T05:31:19.232Z"
   },
   {
    "duration": 1168,
    "start_time": "2025-04-23T05:32:02.657Z"
   },
   {
    "duration": 40,
    "start_time": "2025-04-23T05:32:22.090Z"
   },
   {
    "duration": 39,
    "start_time": "2025-04-23T05:32:34.513Z"
   },
   {
    "duration": 30,
    "start_time": "2025-04-23T05:32:52.514Z"
   },
   {
    "duration": 163,
    "start_time": "2025-04-23T05:32:58.257Z"
   },
   {
    "duration": 106,
    "start_time": "2025-04-23T05:35:17.173Z"
   },
   {
    "duration": 37,
    "start_time": "2025-04-23T05:36:04.478Z"
   },
   {
    "duration": 46,
    "start_time": "2025-04-23T05:36:12.653Z"
   },
   {
    "duration": 114,
    "start_time": "2025-04-23T05:37:23.689Z"
   },
   {
    "duration": 19,
    "start_time": "2025-04-23T05:37:48.831Z"
   },
   {
    "duration": 21,
    "start_time": "2025-04-23T05:43:20.080Z"
   },
   {
    "duration": 81,
    "start_time": "2025-04-23T05:47:25.325Z"
   },
   {
    "duration": 82,
    "start_time": "2025-04-23T05:47:41.894Z"
   },
   {
    "duration": 82,
    "start_time": "2025-04-23T05:48:09.006Z"
   },
   {
    "duration": 68,
    "start_time": "2025-04-23T05:48:26.574Z"
   },
   {
    "duration": 977,
    "start_time": "2025-04-23T05:48:52.031Z"
   },
   {
    "duration": 93,
    "start_time": "2025-04-23T05:49:07.153Z"
   },
   {
    "duration": 70,
    "start_time": "2025-04-23T05:49:12.832Z"
   },
   {
    "duration": 22,
    "start_time": "2025-04-23T05:49:46.345Z"
   },
   {
    "duration": 71,
    "start_time": "2025-04-23T05:49:56.200Z"
   },
   {
    "duration": 21,
    "start_time": "2025-04-23T05:50:09.553Z"
   },
   {
    "duration": 21,
    "start_time": "2025-04-23T05:50:18.522Z"
   },
   {
    "duration": 73,
    "start_time": "2025-04-23T05:50:22.761Z"
   },
   {
    "duration": 1034,
    "start_time": "2025-04-23T05:50:59.139Z"
   },
   {
    "duration": 954,
    "start_time": "2025-04-23T05:51:03.531Z"
   },
   {
    "duration": 81,
    "start_time": "2025-04-23T05:51:12.994Z"
   },
   {
    "duration": 104,
    "start_time": "2025-04-23T05:52:15.308Z"
   },
   {
    "duration": 1051,
    "start_time": "2025-04-23T05:54:43.525Z"
   },
   {
    "duration": 73,
    "start_time": "2025-04-23T05:54:52.991Z"
   },
   {
    "duration": 69,
    "start_time": "2025-04-23T05:57:48.565Z"
   },
   {
    "duration": 65,
    "start_time": "2025-04-23T05:58:01.172Z"
   },
   {
    "duration": 877,
    "start_time": "2025-04-23T06:01:43.794Z"
   },
   {
    "duration": 13,
    "start_time": "2025-04-23T06:02:17.290Z"
   },
   {
    "duration": 11,
    "start_time": "2025-04-23T06:03:01.490Z"
   },
   {
    "duration": 335,
    "start_time": "2025-04-23T06:03:09.483Z"
   },
   {
    "duration": 3,
    "start_time": "2025-04-23T06:04:04.141Z"
   },
   {
    "duration": 1035,
    "start_time": "2025-04-23T06:04:53.500Z"
   },
   {
    "duration": 1113,
    "start_time": "2025-04-23T06:05:05.294Z"
   },
   {
    "duration": 367,
    "start_time": "2025-04-23T06:06:58.888Z"
   },
   {
    "duration": 467,
    "start_time": "2025-04-23T06:07:16.802Z"
   },
   {
    "duration": 19,
    "start_time": "2025-04-23T06:08:01.762Z"
   },
   {
    "duration": 20,
    "start_time": "2025-04-23T06:08:59.860Z"
   },
   {
    "duration": 31,
    "start_time": "2025-04-23T06:09:13.116Z"
   },
   {
    "duration": 32,
    "start_time": "2025-04-23T06:09:49.038Z"
   },
   {
    "duration": 18,
    "start_time": "2025-04-23T06:10:25.326Z"
   },
   {
    "duration": 19,
    "start_time": "2025-04-23T06:10:30.974Z"
   },
   {
    "duration": 20,
    "start_time": "2025-04-23T06:10:49.999Z"
   },
   {
    "duration": 29,
    "start_time": "2025-04-23T06:10:57.488Z"
   },
   {
    "duration": 30,
    "start_time": "2025-04-23T06:11:05.432Z"
   },
   {
    "duration": 27,
    "start_time": "2025-04-23T06:11:41.648Z"
   },
   {
    "duration": 26,
    "start_time": "2025-04-23T06:12:06.672Z"
   },
   {
    "duration": 25,
    "start_time": "2025-04-23T06:12:30.050Z"
   },
   {
    "duration": 34,
    "start_time": "2025-04-23T06:12:46.891Z"
   },
   {
    "duration": 33,
    "start_time": "2025-04-23T06:13:14.772Z"
   },
   {
    "duration": 43,
    "start_time": "2025-04-23T06:13:29.396Z"
   },
   {
    "duration": 33,
    "start_time": "2025-04-23T06:13:33.875Z"
   },
   {
    "duration": 33,
    "start_time": "2025-04-23T06:13:40.852Z"
   },
   {
    "duration": 35,
    "start_time": "2025-04-23T06:13:45.628Z"
   },
   {
    "duration": 33,
    "start_time": "2025-04-23T06:13:50.548Z"
   },
   {
    "duration": 28,
    "start_time": "2025-04-23T06:13:58.900Z"
   },
   {
    "duration": 20,
    "start_time": "2025-04-23T06:14:19.780Z"
   },
   {
    "duration": 32,
    "start_time": "2025-04-23T06:14:24.796Z"
   },
   {
    "duration": 18,
    "start_time": "2025-04-23T06:15:28.375Z"
   },
   {
    "duration": 71,
    "start_time": "2025-04-23T06:15:34.183Z"
   },
   {
    "duration": 69,
    "start_time": "2025-04-23T06:15:46.376Z"
   },
   {
    "duration": 70,
    "start_time": "2025-04-23T06:16:09.248Z"
   },
   {
    "duration": 67,
    "start_time": "2025-04-23T06:16:23.208Z"
   },
   {
    "duration": 79,
    "start_time": "2025-04-23T06:16:46.465Z"
   },
   {
    "duration": 108,
    "start_time": "2025-04-23T06:17:28.410Z"
   },
   {
    "duration": 12,
    "start_time": "2025-04-23T06:17:31.841Z"
   },
   {
    "duration": 80,
    "start_time": "2025-04-23T06:17:42.689Z"
   },
   {
    "duration": 10,
    "start_time": "2025-04-23T06:21:13.232Z"
   },
   {
    "duration": 9,
    "start_time": "2025-04-23T06:21:40.752Z"
   },
   {
    "duration": 71,
    "start_time": "2025-04-23T06:22:08.609Z"
   },
   {
    "duration": 118,
    "start_time": "2025-04-23T06:22:24.777Z"
   },
   {
    "duration": 90,
    "start_time": "2025-04-23T06:22:36.482Z"
   },
   {
    "duration": 134,
    "start_time": "2025-04-23T06:26:30.905Z"
   },
   {
    "duration": 188,
    "start_time": "2025-04-23T06:27:54.635Z"
   },
   {
    "duration": 164,
    "start_time": "2025-04-23T06:28:11.235Z"
   },
   {
    "duration": 172,
    "start_time": "2025-04-23T06:29:22.044Z"
   },
   {
    "duration": 3522,
    "start_time": "2025-04-23T06:29:39.843Z"
   },
   {
    "duration": 1887,
    "start_time": "2025-04-23T06:29:43.367Z"
   },
   {
    "duration": 13,
    "start_time": "2025-04-23T06:29:47.339Z"
   },
   {
    "duration": 12,
    "start_time": "2025-04-23T06:29:48.340Z"
   },
   {
    "duration": 23,
    "start_time": "2025-04-23T06:29:49.316Z"
   },
   {
    "duration": 98,
    "start_time": "2025-04-23T06:29:50.043Z"
   },
   {
    "duration": 9,
    "start_time": "2025-04-23T06:29:50.699Z"
   },
   {
    "duration": 36,
    "start_time": "2025-04-23T06:29:51.356Z"
   },
   {
    "duration": 8,
    "start_time": "2025-04-23T06:29:52.068Z"
   },
   {
    "duration": 19,
    "start_time": "2025-04-23T06:29:54.260Z"
   },
   {
    "duration": 8,
    "start_time": "2025-04-23T06:29:55.187Z"
   },
   {
    "duration": 24,
    "start_time": "2025-04-23T06:29:55.972Z"
   },
   {
    "duration": 5,
    "start_time": "2025-04-23T06:29:57.908Z"
   },
   {
    "duration": 24,
    "start_time": "2025-04-23T06:30:02.220Z"
   },
   {
    "duration": 316,
    "start_time": "2025-04-23T06:30:04.541Z"
   },
   {
    "duration": 77,
    "start_time": "2025-04-23T06:30:06.924Z"
   },
   {
    "duration": 41,
    "start_time": "2025-04-23T06:30:07.908Z"
   },
   {
    "duration": 64,
    "start_time": "2025-04-23T06:30:08.803Z"
   },
   {
    "duration": 43,
    "start_time": "2025-04-23T06:30:11.652Z"
   },
   {
    "duration": 163,
    "start_time": "2025-04-23T06:30:13.348Z"
   },
   {
    "duration": 140,
    "start_time": "2025-04-23T06:30:17.396Z"
   },
   {
    "duration": 13,
    "start_time": "2025-04-23T06:30:47.142Z"
   },
   {
    "duration": 13,
    "start_time": "2025-04-23T06:31:32.087Z"
   },
   {
    "duration": 136,
    "start_time": "2025-04-23T06:31:38.391Z"
   },
   {
    "duration": 158,
    "start_time": "2025-04-23T06:31:43.599Z"
   },
   {
    "duration": 107,
    "start_time": "2025-04-23T06:32:09.072Z"
   },
   {
    "duration": 73,
    "start_time": "2025-04-23T06:32:16.416Z"
   },
   {
    "duration": 59,
    "start_time": "2025-04-23T06:32:23.904Z"
   },
   {
    "duration": 33,
    "start_time": "2025-04-23T06:32:55.024Z"
   },
   {
    "duration": 13,
    "start_time": "2025-04-23T06:33:07.480Z"
   },
   {
    "duration": 52,
    "start_time": "2025-04-23T06:33:14.248Z"
   },
   {
    "duration": 35,
    "start_time": "2025-04-23T06:34:06.658Z"
   },
   {
    "duration": 40,
    "start_time": "2025-04-23T06:36:11.901Z"
   },
   {
    "duration": 7,
    "start_time": "2025-04-23T06:37:33.319Z"
   },
   {
    "duration": 13,
    "start_time": "2025-04-23T06:38:19.688Z"
   },
   {
    "duration": 31,
    "start_time": "2025-04-23T06:39:22.409Z"
   },
   {
    "duration": 6,
    "start_time": "2025-04-23T06:39:33.290Z"
   },
   {
    "duration": 76,
    "start_time": "2025-04-23T06:40:42.356Z"
   },
   {
    "duration": 72,
    "start_time": "2025-04-23T06:42:00.997Z"
   },
   {
    "duration": 18,
    "start_time": "2025-04-23T06:44:25.176Z"
   },
   {
    "duration": 68,
    "start_time": "2025-04-23T06:44:35.128Z"
   },
   {
    "duration": 22,
    "start_time": "2025-04-23T06:44:39.009Z"
   },
   {
    "duration": 20,
    "start_time": "2025-04-23T06:44:54.223Z"
   },
   {
    "duration": 7,
    "start_time": "2025-04-23T06:44:55.824Z"
   },
   {
    "duration": 72,
    "start_time": "2025-04-23T06:45:05.993Z"
   },
   {
    "duration": 18,
    "start_time": "2025-04-23T06:49:17.853Z"
   },
   {
    "duration": 188,
    "start_time": "2025-04-23T06:52:17.048Z"
   },
   {
    "duration": 73,
    "start_time": "2025-04-23T06:52:21.233Z"
   },
   {
    "duration": 7,
    "start_time": "2025-04-23T06:52:32.577Z"
   },
   {
    "duration": 77,
    "start_time": "2025-04-23T06:53:02.754Z"
   },
   {
    "duration": 167,
    "start_time": "2025-04-23T06:53:18.988Z"
   },
   {
    "duration": 75,
    "start_time": "2025-04-23T06:57:07.863Z"
   },
   {
    "duration": 78,
    "start_time": "2025-04-23T07:00:43.246Z"
   },
   {
    "duration": 7,
    "start_time": "2025-04-23T07:00:45.140Z"
   },
   {
    "duration": 52,
    "start_time": "2025-04-23T07:01:09.452Z"
   },
   {
    "duration": 129,
    "start_time": "2025-04-23T07:05:14.442Z"
   },
   {
    "duration": 127,
    "start_time": "2025-04-23T07:05:52.259Z"
   },
   {
    "duration": 13,
    "start_time": "2025-04-23T07:06:00.251Z"
   },
   {
    "duration": 102,
    "start_time": "2025-04-23T07:06:14.267Z"
   },
   {
    "duration": 1933,
    "start_time": "2025-04-23T07:06:47.380Z"
   },
   {
    "duration": 5,
    "start_time": "2025-04-23T07:06:55.444Z"
   },
   {
    "duration": 299,
    "start_time": "2025-04-23T07:06:58.836Z"
   },
   {
    "duration": 43,
    "start_time": "2025-04-23T07:07:11.132Z"
   },
   {
    "duration": 147,
    "start_time": "2025-04-23T07:07:13.221Z"
   },
   {
    "duration": 120,
    "start_time": "2025-04-23T07:07:22.909Z"
   },
   {
    "duration": 13,
    "start_time": "2025-04-23T07:08:07.902Z"
   },
   {
    "duration": 12,
    "start_time": "2025-04-23T07:08:11.486Z"
   },
   {
    "duration": 58,
    "start_time": "2025-04-23T07:08:32.831Z"
   },
   {
    "duration": 287,
    "start_time": "2025-04-23T07:12:04.731Z"
   },
   {
    "duration": 318,
    "start_time": "2025-04-23T07:12:29.446Z"
   },
   {
    "duration": 285,
    "start_time": "2025-04-23T07:12:33.276Z"
   },
   {
    "duration": 3517,
    "start_time": "2025-04-23T07:14:56.202Z"
   },
   {
    "duration": 2189,
    "start_time": "2025-04-23T07:14:59.721Z"
   },
   {
    "duration": 13,
    "start_time": "2025-04-23T07:15:01.912Z"
   },
   {
    "duration": 20,
    "start_time": "2025-04-23T07:15:01.936Z"
   },
   {
    "duration": 47,
    "start_time": "2025-04-23T07:15:01.958Z"
   },
   {
    "duration": 106,
    "start_time": "2025-04-23T07:15:02.007Z"
   },
   {
    "duration": 9,
    "start_time": "2025-04-23T07:15:02.115Z"
   },
   {
    "duration": 104,
    "start_time": "2025-04-23T07:15:02.125Z"
   },
   {
    "duration": 8,
    "start_time": "2025-04-23T07:15:02.230Z"
   },
   {
    "duration": 22,
    "start_time": "2025-04-23T07:15:02.240Z"
   },
   {
    "duration": 45,
    "start_time": "2025-04-23T07:15:02.264Z"
   },
   {
    "duration": 36,
    "start_time": "2025-04-23T07:15:02.311Z"
   },
   {
    "duration": 6,
    "start_time": "2025-04-23T07:15:02.349Z"
   },
   {
    "duration": 60,
    "start_time": "2025-04-23T07:15:02.356Z"
   },
   {
    "duration": 310,
    "start_time": "2025-04-23T07:15:02.417Z"
   },
   {
    "duration": 85,
    "start_time": "2025-04-23T07:15:02.728Z"
   },
   {
    "duration": 58,
    "start_time": "2025-04-23T07:15:02.815Z"
   },
   {
    "duration": 74,
    "start_time": "2025-04-23T07:15:02.875Z"
   },
   {
    "duration": 43,
    "start_time": "2025-04-23T07:15:02.951Z"
   },
   {
    "duration": 183,
    "start_time": "2025-04-23T07:15:02.996Z"
   },
   {
    "duration": 174,
    "start_time": "2025-04-23T07:15:03.181Z"
   },
   {
    "duration": 86,
    "start_time": "2025-04-23T07:15:03.357Z"
   },
   {
    "duration": 54,
    "start_time": "2025-04-23T07:15:03.444Z"
   },
   {
    "duration": 147,
    "start_time": "2025-04-23T07:15:03.500Z"
   },
   {
    "duration": 56,
    "start_time": "2025-04-23T07:15:03.649Z"
   },
   {
    "duration": 322,
    "start_time": "2025-04-23T07:15:03.707Z"
   },
   {
    "duration": 331,
    "start_time": "2025-04-23T07:15:04.031Z"
   },
   {
    "duration": 51,
    "start_time": "2025-04-23T07:16:47.124Z"
   },
   {
    "duration": 68,
    "start_time": "2025-04-23T07:17:34.318Z"
   },
   {
    "duration": 426,
    "start_time": "2025-04-23T07:18:00.173Z"
   },
   {
    "duration": 39,
    "start_time": "2025-04-23T07:18:12.382Z"
   },
   {
    "duration": 70,
    "start_time": "2025-04-23T07:18:21.982Z"
   },
   {
    "duration": 77,
    "start_time": "2025-04-23T07:19:02.503Z"
   },
   {
    "duration": 73,
    "start_time": "2025-04-23T07:19:15.687Z"
   },
   {
    "duration": 38,
    "start_time": "2025-04-23T07:19:21.950Z"
   },
   {
    "duration": 73,
    "start_time": "2025-04-23T07:19:33.254Z"
   },
   {
    "duration": 46,
    "start_time": "2025-04-23T07:19:46.383Z"
   },
   {
    "duration": 47,
    "start_time": "2025-04-23T07:19:56.072Z"
   },
   {
    "duration": 3457,
    "start_time": "2025-04-23T07:21:55.394Z"
   },
   {
    "duration": 2349,
    "start_time": "2025-04-23T07:21:58.853Z"
   },
   {
    "duration": 12,
    "start_time": "2025-04-23T07:22:01.204Z"
   },
   {
    "duration": 26,
    "start_time": "2025-04-23T07:22:01.218Z"
   },
   {
    "duration": 23,
    "start_time": "2025-04-23T07:22:01.245Z"
   },
   {
    "duration": 112,
    "start_time": "2025-04-23T07:22:01.269Z"
   },
   {
    "duration": 9,
    "start_time": "2025-04-23T07:22:01.383Z"
   },
   {
    "duration": 61,
    "start_time": "2025-04-23T07:22:01.393Z"
   },
   {
    "duration": 7,
    "start_time": "2025-04-23T07:22:01.456Z"
   },
   {
    "duration": 94,
    "start_time": "2025-04-23T07:22:01.465Z"
   },
   {
    "duration": 7,
    "start_time": "2025-04-23T07:22:01.561Z"
   },
   {
    "duration": 49,
    "start_time": "2025-04-23T07:22:01.570Z"
   },
   {
    "duration": 7,
    "start_time": "2025-04-23T07:22:01.621Z"
   },
   {
    "duration": 36,
    "start_time": "2025-04-23T07:22:01.630Z"
   },
   {
    "duration": 308,
    "start_time": "2025-04-23T07:22:01.668Z"
   },
   {
    "duration": 84,
    "start_time": "2025-04-23T07:22:01.978Z"
   },
   {
    "duration": 43,
    "start_time": "2025-04-23T07:22:02.063Z"
   },
   {
    "duration": 83,
    "start_time": "2025-04-23T07:22:02.108Z"
   },
   {
    "duration": 58,
    "start_time": "2025-04-23T07:22:02.193Z"
   },
   {
    "duration": 187,
    "start_time": "2025-04-23T07:22:02.252Z"
   },
   {
    "duration": 186,
    "start_time": "2025-04-23T07:22:02.441Z"
   },
   {
    "duration": 82,
    "start_time": "2025-04-23T07:22:02.629Z"
   },
   {
    "duration": 71,
    "start_time": "2025-04-23T07:22:02.713Z"
   },
   {
    "duration": 142,
    "start_time": "2025-04-23T07:22:02.785Z"
   },
   {
    "duration": 65,
    "start_time": "2025-04-23T07:22:02.928Z"
   },
   {
    "duration": 316,
    "start_time": "2025-04-23T07:22:02.994Z"
   },
   {
    "duration": 301,
    "start_time": "2025-04-23T07:22:03.311Z"
   },
   {
    "duration": 60,
    "start_time": "2025-04-23T07:22:03.615Z"
   },
   {
    "duration": 1308,
    "start_time": "2025-04-23T09:16:56.791Z"
   },
   {
    "duration": 76,
    "start_time": "2025-04-23T09:17:00.341Z"
   },
   {
    "duration": 81,
    "start_time": "2025-04-23T09:17:26.342Z"
   },
   {
    "duration": 2278,
    "start_time": "2025-04-23T09:17:47.679Z"
   },
   {
    "duration": 94,
    "start_time": "2025-04-23T09:19:30.425Z"
   },
   {
    "duration": 12,
    "start_time": "2025-04-23T09:19:51.330Z"
   },
   {
    "duration": 10,
    "start_time": "2025-04-23T09:20:09.049Z"
   },
   {
    "duration": 9,
    "start_time": "2025-04-23T09:20:16.690Z"
   },
   {
    "duration": 9,
    "start_time": "2025-04-23T09:21:56.668Z"
   },
   {
    "duration": 10,
    "start_time": "2025-04-23T09:21:58.596Z"
   },
   {
    "duration": 1712,
    "start_time": "2025-04-23T09:22:05.283Z"
   },
   {
    "duration": 32,
    "start_time": "2025-04-23T09:22:13.821Z"
   },
   {
    "duration": 9,
    "start_time": "2025-04-23T09:23:03.070Z"
   },
   {
    "duration": 45,
    "start_time": "2025-04-23T09:23:22.630Z"
   },
   {
    "duration": 8206,
    "start_time": "2025-04-23T09:24:02.462Z"
   },
   {
    "duration": 2613,
    "start_time": "2025-04-23T09:24:38.408Z"
   },
   {
    "duration": 5,
    "start_time": "2025-04-23T09:26:54.484Z"
   },
   {
    "duration": 16,
    "start_time": "2025-04-23T09:29:23.265Z"
   },
   {
    "duration": 1254,
    "start_time": "2025-04-23T09:29:37.950Z"
   },
   {
    "duration": 2255,
    "start_time": "2025-04-23T09:29:39.206Z"
   },
   {
    "duration": 15,
    "start_time": "2025-04-23T09:29:41.462Z"
   },
   {
    "duration": 15,
    "start_time": "2025-04-23T09:29:41.479Z"
   },
   {
    "duration": 24,
    "start_time": "2025-04-23T09:29:41.495Z"
   },
   {
    "duration": 123,
    "start_time": "2025-04-23T09:29:41.521Z"
   },
   {
    "duration": 22,
    "start_time": "2025-04-23T09:29:41.654Z"
   },
   {
    "duration": 38,
    "start_time": "2025-04-23T09:29:41.678Z"
   },
   {
    "duration": 30,
    "start_time": "2025-04-23T09:29:41.718Z"
   },
   {
    "duration": 30,
    "start_time": "2025-04-23T09:29:41.756Z"
   },
   {
    "duration": 7,
    "start_time": "2025-04-23T09:29:41.788Z"
   },
   {
    "duration": 35,
    "start_time": "2025-04-23T09:29:41.797Z"
   },
   {
    "duration": 41,
    "start_time": "2025-04-23T09:29:41.834Z"
   },
   {
    "duration": 2797,
    "start_time": "2025-04-23T09:29:41.877Z"
   },
   {
    "duration": 7,
    "start_time": "2025-04-23T09:29:44.676Z"
   },
   {
    "duration": 30,
    "start_time": "2025-04-23T09:29:44.685Z"
   },
   {
    "duration": 368,
    "start_time": "2025-04-23T09:29:44.717Z"
   },
   {
    "duration": 104,
    "start_time": "2025-04-23T09:29:45.087Z"
   },
   {
    "duration": 63,
    "start_time": "2025-04-23T09:29:45.193Z"
   },
   {
    "duration": 76,
    "start_time": "2025-04-23T09:29:45.258Z"
   },
   {
    "duration": 46,
    "start_time": "2025-04-23T09:29:45.335Z"
   },
   {
    "duration": 194,
    "start_time": "2025-04-23T09:29:45.383Z"
   },
   {
    "duration": 158,
    "start_time": "2025-04-23T09:29:45.579Z"
   },
   {
    "duration": 82,
    "start_time": "2025-04-23T09:29:45.743Z"
   },
   {
    "duration": 69,
    "start_time": "2025-04-23T09:29:45.827Z"
   },
   {
    "duration": 150,
    "start_time": "2025-04-23T09:29:45.898Z"
   },
   {
    "duration": 63,
    "start_time": "2025-04-23T09:29:46.053Z"
   },
   {
    "duration": 312,
    "start_time": "2025-04-23T09:29:46.119Z"
   },
   {
    "duration": 341,
    "start_time": "2025-04-23T09:29:46.433Z"
   },
   {
    "duration": 47,
    "start_time": "2025-04-23T09:29:46.775Z"
   },
   {
    "duration": 373,
    "start_time": "2025-04-23T09:31:46.652Z"
   },
   {
    "duration": 329,
    "start_time": "2025-04-23T09:31:50.552Z"
   },
   {
    "duration": 145,
    "start_time": "2025-04-23T09:31:55.967Z"
   },
   {
    "duration": 284,
    "start_time": "2025-04-23T09:33:03.079Z"
   },
   {
    "duration": 4,
    "start_time": "2025-04-23T09:33:12.368Z"
   },
   {
    "duration": 101,
    "start_time": "2025-04-23T09:33:18.784Z"
   },
   {
    "duration": 1265,
    "start_time": "2025-04-23T09:33:21.432Z"
   },
   {
    "duration": 158,
    "start_time": "2025-04-23T09:35:28.771Z"
   },
   {
    "duration": 2289,
    "start_time": "2025-04-23T09:36:14.427Z"
   },
   {
    "duration": 244,
    "start_time": "2025-04-23T09:36:27.323Z"
   },
   {
    "duration": 232,
    "start_time": "2025-04-23T09:36:51.636Z"
   },
   {
    "duration": 238,
    "start_time": "2025-04-23T09:37:08.846Z"
   },
   {
    "duration": 432,
    "start_time": "2025-04-23T09:37:46.998Z"
   },
   {
    "duration": 498,
    "start_time": "2025-04-23T09:37:52.367Z"
   },
   {
    "duration": 493,
    "start_time": "2025-04-23T09:38:17.487Z"
   },
   {
    "duration": 84,
    "start_time": "2025-04-23T09:39:16.688Z"
   },
   {
    "duration": 1206,
    "start_time": "2025-04-23T09:39:38.692Z"
   },
   {
    "duration": 2340,
    "start_time": "2025-04-23T09:39:39.900Z"
   },
   {
    "duration": 18,
    "start_time": "2025-04-23T09:39:42.249Z"
   },
   {
    "duration": 14,
    "start_time": "2025-04-23T09:39:42.269Z"
   },
   {
    "duration": 37,
    "start_time": "2025-04-23T09:39:42.285Z"
   },
   {
    "duration": 167,
    "start_time": "2025-04-23T09:39:42.324Z"
   },
   {
    "duration": 57,
    "start_time": "2025-04-23T09:39:42.493Z"
   },
   {
    "duration": 79,
    "start_time": "2025-04-23T09:39:42.555Z"
   },
   {
    "duration": 30,
    "start_time": "2025-04-23T09:39:42.636Z"
   },
   {
    "duration": 34,
    "start_time": "2025-04-23T09:39:42.668Z"
   },
   {
    "duration": 25,
    "start_time": "2025-04-23T09:39:42.704Z"
   },
   {
    "duration": 78,
    "start_time": "2025-04-23T09:39:42.731Z"
   },
   {
    "duration": 61,
    "start_time": "2025-04-23T09:39:42.811Z"
   },
   {
    "duration": 2620,
    "start_time": "2025-04-23T09:39:42.873Z"
   },
   {
    "duration": 5,
    "start_time": "2025-04-23T09:39:45.496Z"
   },
   {
    "duration": 67,
    "start_time": "2025-04-23T09:39:45.503Z"
   },
   {
    "duration": 348,
    "start_time": "2025-04-23T09:39:45.572Z"
   },
   {
    "duration": 94,
    "start_time": "2025-04-23T09:39:45.922Z"
   },
   {
    "duration": 64,
    "start_time": "2025-04-23T09:39:46.018Z"
   },
   {
    "duration": 89,
    "start_time": "2025-04-23T09:39:46.084Z"
   },
   {
    "duration": 41,
    "start_time": "2025-04-23T09:39:46.175Z"
   },
   {
    "duration": 179,
    "start_time": "2025-04-23T09:39:46.218Z"
   },
   {
    "duration": 168,
    "start_time": "2025-04-23T09:39:46.399Z"
   },
   {
    "duration": 87,
    "start_time": "2025-04-23T09:39:46.569Z"
   },
   {
    "duration": 57,
    "start_time": "2025-04-23T09:39:46.658Z"
   },
   {
    "duration": 150,
    "start_time": "2025-04-23T09:39:46.717Z"
   },
   {
    "duration": 52,
    "start_time": "2025-04-23T09:39:46.868Z"
   },
   {
    "duration": 339,
    "start_time": "2025-04-23T09:39:46.923Z"
   },
   {
    "duration": 379,
    "start_time": "2025-04-23T09:39:47.266Z"
   },
   {
    "duration": 56,
    "start_time": "2025-04-23T09:39:47.654Z"
   },
   {
    "duration": 158,
    "start_time": "2025-04-23T09:40:37.752Z"
   },
   {
    "duration": 48,
    "start_time": "2025-04-23T09:40:47.782Z"
   },
   {
    "duration": 100,
    "start_time": "2025-04-23T09:40:59.198Z"
   },
   {
    "duration": 26,
    "start_time": "2025-04-23T09:43:02.194Z"
   },
   {
    "duration": 13,
    "start_time": "2025-04-23T09:43:11.985Z"
   },
   {
    "duration": 133,
    "start_time": "2025-04-23T09:43:27.051Z"
   },
   {
    "duration": 147,
    "start_time": "2025-04-23T09:43:44.549Z"
   },
   {
    "duration": 151,
    "start_time": "2025-04-23T09:43:54.235Z"
   },
   {
    "duration": 10,
    "start_time": "2025-04-23T09:46:10.678Z"
   },
   {
    "duration": 197,
    "start_time": "2025-04-23T09:46:16.856Z"
   },
   {
    "duration": 18,
    "start_time": "2025-04-23T09:46:23.647Z"
   },
   {
    "duration": 131,
    "start_time": "2025-04-23T09:47:22.763Z"
   },
   {
    "duration": 11,
    "start_time": "2025-04-23T09:47:39.563Z"
   },
   {
    "duration": 14,
    "start_time": "2025-04-23T09:48:09.433Z"
   },
   {
    "duration": 10,
    "start_time": "2025-04-23T09:48:22.880Z"
   },
   {
    "duration": 18,
    "start_time": "2025-04-23T09:48:50.106Z"
   },
   {
    "duration": 15,
    "start_time": "2025-04-23T09:48:55.089Z"
   },
   {
    "duration": 14,
    "start_time": "2025-04-23T09:48:58.609Z"
   },
   {
    "duration": 22,
    "start_time": "2025-04-23T09:49:37.577Z"
   },
   {
    "duration": 15,
    "start_time": "2025-04-23T09:49:48.106Z"
   },
   {
    "duration": 26,
    "start_time": "2025-04-23T09:50:24.804Z"
   },
   {
    "duration": 26,
    "start_time": "2025-04-23T09:50:24.979Z"
   },
   {
    "duration": 366,
    "start_time": "2025-04-23T09:51:19.494Z"
   },
   {
    "duration": 94,
    "start_time": "2025-04-23T09:51:28.582Z"
   },
   {
    "duration": 39,
    "start_time": "2025-04-23T09:51:37.398Z"
   },
   {
    "duration": 357,
    "start_time": "2025-04-23T09:51:45.813Z"
   },
   {
    "duration": 73,
    "start_time": "2025-04-23T09:51:56.438Z"
   },
   {
    "duration": 91,
    "start_time": "2025-04-23T09:51:59.782Z"
   },
   {
    "duration": 89,
    "start_time": "2025-04-23T09:52:19.038Z"
   },
   {
    "duration": 27,
    "start_time": "2025-04-23T09:52:38.407Z"
   },
   {
    "duration": 174,
    "start_time": "2025-04-23T09:52:43.918Z"
   },
   {
    "duration": 30,
    "start_time": "2025-04-23T09:52:46.457Z"
   },
   {
    "duration": 162,
    "start_time": "2025-04-23T09:53:49.617Z"
   },
   {
    "duration": 17,
    "start_time": "2025-04-23T09:56:10.051Z"
   },
   {
    "duration": 175,
    "start_time": "2025-04-23T09:56:21.965Z"
   },
   {
    "duration": 163,
    "start_time": "2025-04-23T09:56:24.324Z"
   },
   {
    "duration": 12,
    "start_time": "2025-04-23T09:56:52.828Z"
   },
   {
    "duration": 11,
    "start_time": "2025-04-23T09:57:19.693Z"
   },
   {
    "duration": 16,
    "start_time": "2025-04-23T09:58:13.775Z"
   },
   {
    "duration": 18,
    "start_time": "2025-04-23T09:58:23.544Z"
   },
   {
    "duration": 1526,
    "start_time": "2025-04-23T14:34:09.618Z"
   },
   {
    "duration": 2195,
    "start_time": "2025-04-23T14:34:11.146Z"
   },
   {
    "duration": 13,
    "start_time": "2025-04-23T14:34:13.343Z"
   },
   {
    "duration": 42,
    "start_time": "2025-04-23T14:34:13.358Z"
   },
   {
    "duration": 25,
    "start_time": "2025-04-23T14:34:13.405Z"
   },
   {
    "duration": 123,
    "start_time": "2025-04-23T14:34:13.431Z"
   },
   {
    "duration": 32,
    "start_time": "2025-04-23T14:34:13.555Z"
   },
   {
    "duration": 78,
    "start_time": "2025-04-23T14:34:13.590Z"
   },
   {
    "duration": 17,
    "start_time": "2025-04-23T14:34:13.670Z"
   },
   {
    "duration": 20,
    "start_time": "2025-04-23T14:34:13.690Z"
   },
   {
    "duration": 8,
    "start_time": "2025-04-23T14:34:13.712Z"
   },
   {
    "duration": 44,
    "start_time": "2025-04-23T14:34:13.722Z"
   },
   {
    "duration": 37,
    "start_time": "2025-04-23T14:34:13.778Z"
   },
   {
    "duration": 10206,
    "start_time": "2025-04-23T14:34:13.817Z"
   },
   {
    "duration": 6,
    "start_time": "2025-04-23T14:34:24.025Z"
   },
   {
    "duration": 40,
    "start_time": "2025-04-23T14:34:24.033Z"
   },
   {
    "duration": 386,
    "start_time": "2025-04-23T14:34:24.075Z"
   },
   {
    "duration": 111,
    "start_time": "2025-04-23T14:34:24.463Z"
   },
   {
    "duration": 62,
    "start_time": "2025-04-23T14:34:24.575Z"
   },
   {
    "duration": 97,
    "start_time": "2025-04-23T14:34:24.638Z"
   },
   {
    "duration": 63,
    "start_time": "2025-04-23T14:34:24.737Z"
   },
   {
    "duration": 200,
    "start_time": "2025-04-23T14:34:24.803Z"
   },
   {
    "duration": 169,
    "start_time": "2025-04-23T14:34:25.005Z"
   },
   {
    "duration": 187,
    "start_time": "2025-04-23T14:34:25.176Z"
   },
   {
    "duration": 1213,
    "start_time": "2025-04-23T14:34:25.365Z"
   },
   {
    "duration": 0,
    "start_time": "2025-04-23T14:34:26.582Z"
   },
   {
    "duration": 0,
    "start_time": "2025-04-23T14:34:26.588Z"
   },
   {
    "duration": 0,
    "start_time": "2025-04-23T14:34:26.589Z"
   },
   {
    "duration": 0,
    "start_time": "2025-04-23T14:34:26.591Z"
   },
   {
    "duration": 0,
    "start_time": "2025-04-23T14:34:26.593Z"
   },
   {
    "duration": 0,
    "start_time": "2025-04-23T14:34:26.601Z"
   },
   {
    "duration": 0,
    "start_time": "2025-04-23T14:34:26.604Z"
   },
   {
    "duration": 37,
    "start_time": "2025-04-23T14:36:11.464Z"
   },
   {
    "duration": 4,
    "start_time": "2025-04-23T14:36:23.065Z"
   },
   {
    "duration": 16,
    "start_time": "2025-04-23T14:36:59.596Z"
   },
   {
    "duration": 308,
    "start_time": "2025-04-23T14:38:06.743Z"
   },
   {
    "duration": 14,
    "start_time": "2025-04-23T14:40:01.605Z"
   },
   {
    "duration": 12,
    "start_time": "2025-04-23T14:42:08.401Z"
   },
   {
    "duration": 284,
    "start_time": "2025-04-23T14:42:21.212Z"
   },
   {
    "duration": 326,
    "start_time": "2025-04-23T14:42:42.347Z"
   },
   {
    "duration": 6,
    "start_time": "2025-04-23T14:44:25.157Z"
   },
   {
    "duration": 32,
    "start_time": "2025-04-23T14:45:00.967Z"
   },
   {
    "duration": 47,
    "start_time": "2025-04-23T14:45:14.243Z"
   },
   {
    "duration": 308,
    "start_time": "2025-04-23T14:45:30.163Z"
   },
   {
    "duration": 50,
    "start_time": "2025-04-23T14:45:42.277Z"
   },
   {
    "duration": 78,
    "start_time": "2025-04-23T14:48:50.546Z"
   },
   {
    "duration": 7,
    "start_time": "2025-04-23T14:50:03.516Z"
   },
   {
    "duration": 26,
    "start_time": "2025-04-23T14:51:15.877Z"
   },
   {
    "duration": 12,
    "start_time": "2025-04-23T14:53:19.964Z"
   },
   {
    "duration": 11,
    "start_time": "2025-04-23T14:53:21.858Z"
   },
   {
    "duration": 46,
    "start_time": "2025-04-23T14:53:28.656Z"
   },
   {
    "duration": 16,
    "start_time": "2025-04-23T14:53:51.508Z"
   },
   {
    "duration": 13,
    "start_time": "2025-04-23T14:54:12.321Z"
   },
   {
    "duration": 179,
    "start_time": "2025-04-23T14:54:25.544Z"
   },
   {
    "duration": 162,
    "start_time": "2025-04-23T14:54:28.096Z"
   },
   {
    "duration": 33,
    "start_time": "2025-04-23T14:54:31.300Z"
   },
   {
    "duration": 76,
    "start_time": "2025-04-23T14:54:36.354Z"
   },
   {
    "duration": 16,
    "start_time": "2025-04-23T14:54:38.857Z"
   },
   {
    "duration": 16,
    "start_time": "2025-04-23T14:54:51.662Z"
   },
   {
    "duration": 188,
    "start_time": "2025-04-23T14:55:00.459Z"
   },
   {
    "duration": 181,
    "start_time": "2025-04-23T14:55:10.527Z"
   },
   {
    "duration": 35,
    "start_time": "2025-04-23T14:55:16.412Z"
   },
   {
    "duration": 74,
    "start_time": "2025-04-23T14:55:20.175Z"
   },
   {
    "duration": 22,
    "start_time": "2025-04-23T14:55:22.399Z"
   },
   {
    "duration": 16,
    "start_time": "2025-04-23T14:55:44.366Z"
   },
   {
    "duration": 175,
    "start_time": "2025-04-23T14:55:46.897Z"
   },
   {
    "duration": 162,
    "start_time": "2025-04-23T14:55:48.947Z"
   },
   {
    "duration": 34,
    "start_time": "2025-04-23T14:55:51.535Z"
   },
   {
    "duration": 62,
    "start_time": "2025-04-23T14:55:54.711Z"
   },
   {
    "duration": 23,
    "start_time": "2025-04-23T14:55:56.970Z"
   },
   {
    "duration": 88,
    "start_time": "2025-04-23T15:04:06.802Z"
   },
   {
    "duration": 52,
    "start_time": "2025-04-23T15:06:50.535Z"
   },
   {
    "duration": 1450,
    "start_time": "2025-04-23T15:07:00.938Z"
   },
   {
    "duration": 2064,
    "start_time": "2025-04-23T15:07:02.390Z"
   },
   {
    "duration": 24,
    "start_time": "2025-04-23T15:07:04.456Z"
   },
   {
    "duration": 19,
    "start_time": "2025-04-23T15:07:04.484Z"
   },
   {
    "duration": 74,
    "start_time": "2025-04-23T15:07:04.505Z"
   },
   {
    "duration": 126,
    "start_time": "2025-04-23T15:07:04.581Z"
   },
   {
    "duration": 13,
    "start_time": "2025-04-23T15:07:04.709Z"
   },
   {
    "duration": 128,
    "start_time": "2025-04-23T15:07:04.725Z"
   },
   {
    "duration": 11,
    "start_time": "2025-04-23T15:07:04.854Z"
   },
   {
    "duration": 40,
    "start_time": "2025-04-23T15:07:04.869Z"
   },
   {
    "duration": 14,
    "start_time": "2025-04-23T15:07:04.912Z"
   },
   {
    "duration": 32,
    "start_time": "2025-04-23T15:07:04.928Z"
   },
   {
    "duration": 105,
    "start_time": "2025-04-23T15:07:04.962Z"
   },
   {
    "duration": 3012,
    "start_time": "2025-04-23T15:07:05.069Z"
   },
   {
    "duration": 6,
    "start_time": "2025-04-23T15:07:08.083Z"
   },
   {
    "duration": 50,
    "start_time": "2025-04-23T15:07:08.091Z"
   },
   {
    "duration": 347,
    "start_time": "2025-04-23T15:07:08.143Z"
   },
   {
    "duration": 109,
    "start_time": "2025-04-23T15:07:08.492Z"
   },
   {
    "duration": 50,
    "start_time": "2025-04-23T15:07:08.603Z"
   },
   {
    "duration": 103,
    "start_time": "2025-04-23T15:07:08.655Z"
   },
   {
    "duration": 55,
    "start_time": "2025-04-23T15:07:08.759Z"
   },
   {
    "duration": 192,
    "start_time": "2025-04-23T15:07:08.815Z"
   },
   {
    "duration": 169,
    "start_time": "2025-04-23T15:07:09.009Z"
   },
   {
    "duration": 174,
    "start_time": "2025-04-23T15:07:09.180Z"
   },
   {
    "duration": 127,
    "start_time": "2025-04-23T15:07:09.355Z"
   },
   {
    "duration": 59,
    "start_time": "2025-04-23T15:07:09.484Z"
   },
   {
    "duration": 16,
    "start_time": "2025-04-23T15:07:09.545Z"
   },
   {
    "duration": 55,
    "start_time": "2025-04-23T15:08:05.763Z"
   },
   {
    "duration": 1514,
    "start_time": "2025-04-23T15:08:31.367Z"
   },
   {
    "duration": 2118,
    "start_time": "2025-04-23T15:08:37.692Z"
   },
   {
    "duration": 13,
    "start_time": "2025-04-23T15:08:43.370Z"
   },
   {
    "duration": 16,
    "start_time": "2025-04-23T15:08:44.994Z"
   },
   {
    "duration": 25,
    "start_time": "2025-04-23T15:08:47.123Z"
   },
   {
    "duration": 139,
    "start_time": "2025-04-23T15:08:49.275Z"
   },
   {
    "duration": 43,
    "start_time": "2025-04-23T15:08:51.127Z"
   },
   {
    "duration": 12,
    "start_time": "2025-04-23T15:08:53.370Z"
   },
   {
    "duration": 8,
    "start_time": "2025-04-23T15:08:55.513Z"
   },
   {
    "duration": 22,
    "start_time": "2025-04-23T15:08:57.208Z"
   },
   {
    "duration": 9,
    "start_time": "2025-04-23T15:08:58.928Z"
   },
   {
    "duration": 27,
    "start_time": "2025-04-23T15:09:00.410Z"
   },
   {
    "duration": 25,
    "start_time": "2025-04-23T15:09:03.367Z"
   },
   {
    "duration": 2958,
    "start_time": "2025-04-23T15:09:06.508Z"
   },
   {
    "duration": 6,
    "start_time": "2025-04-23T15:09:42.224Z"
   },
   {
    "duration": 26,
    "start_time": "2025-04-23T15:09:46.021Z"
   },
   {
    "duration": 358,
    "start_time": "2025-04-23T15:09:48.207Z"
   },
   {
    "duration": 101,
    "start_time": "2025-04-23T15:09:54.553Z"
   },
   {
    "duration": 50,
    "start_time": "2025-04-23T15:09:57.819Z"
   },
   {
    "duration": 87,
    "start_time": "2025-04-23T15:10:00.008Z"
   },
   {
    "duration": 54,
    "start_time": "2025-04-23T15:10:12.391Z"
   },
   {
    "duration": 178,
    "start_time": "2025-04-23T15:10:15.367Z"
   },
   {
    "duration": 171,
    "start_time": "2025-04-23T15:10:57.087Z"
   },
   {
    "duration": 188,
    "start_time": "2025-04-23T15:11:00.242Z"
   },
   {
    "duration": 55,
    "start_time": "2025-04-23T15:11:01.981Z"
   },
   {
    "duration": 64,
    "start_time": "2025-04-23T15:11:05.566Z"
   },
   {
    "duration": 25,
    "start_time": "2025-04-23T15:11:08.151Z"
   },
   {
    "duration": 1369,
    "start_time": "2025-04-23T15:11:48.455Z"
   },
   {
    "duration": 2111,
    "start_time": "2025-04-23T15:11:52.315Z"
   },
   {
    "duration": 14,
    "start_time": "2025-04-23T15:11:56.499Z"
   },
   {
    "duration": 16,
    "start_time": "2025-04-23T15:11:59.067Z"
   },
   {
    "duration": 30,
    "start_time": "2025-04-23T15:12:00.889Z"
   },
   {
    "duration": 118,
    "start_time": "2025-04-23T15:12:03.821Z"
   },
   {
    "duration": 10,
    "start_time": "2025-04-23T15:12:05.630Z"
   },
   {
    "duration": 47,
    "start_time": "2025-04-23T15:12:07.493Z"
   },
   {
    "duration": 8,
    "start_time": "2025-04-23T15:12:08.912Z"
   },
   {
    "duration": 21,
    "start_time": "2025-04-23T15:12:10.444Z"
   },
   {
    "duration": 9,
    "start_time": "2025-04-23T15:12:12.151Z"
   },
   {
    "duration": 42,
    "start_time": "2025-04-23T15:12:13.797Z"
   },
   {
    "duration": 24,
    "start_time": "2025-04-23T15:12:28.163Z"
   },
   {
    "duration": 3064,
    "start_time": "2025-04-23T15:12:29.689Z"
   },
   {
    "duration": 6,
    "start_time": "2025-04-23T15:12:33.165Z"
   },
   {
    "duration": 31,
    "start_time": "2025-04-23T15:12:36.192Z"
   },
   {
    "duration": 365,
    "start_time": "2025-04-23T15:12:37.896Z"
   },
   {
    "duration": 112,
    "start_time": "2025-04-23T15:12:43.205Z"
   },
   {
    "duration": 52,
    "start_time": "2025-04-23T15:12:45.019Z"
   },
   {
    "duration": 91,
    "start_time": "2025-04-23T15:12:46.534Z"
   },
   {
    "duration": 46,
    "start_time": "2025-04-23T15:12:50.908Z"
   },
   {
    "duration": 178,
    "start_time": "2025-04-23T15:12:52.497Z"
   },
   {
    "duration": 184,
    "start_time": "2025-04-23T15:12:56.552Z"
   },
   {
    "duration": 166,
    "start_time": "2025-04-23T15:12:58.266Z"
   },
   {
    "duration": 35,
    "start_time": "2025-04-23T15:13:00.723Z"
   },
   {
    "duration": 59,
    "start_time": "2025-04-23T15:13:06.304Z"
   },
   {
    "duration": 16,
    "start_time": "2025-04-23T15:13:07.938Z"
   },
   {
    "duration": 1343,
    "start_time": "2025-04-23T15:20:13.109Z"
   },
   {
    "duration": 2080,
    "start_time": "2025-04-23T15:20:16.057Z"
   },
   {
    "duration": 24,
    "start_time": "2025-04-23T15:20:20.276Z"
   },
   {
    "duration": 16,
    "start_time": "2025-04-23T15:20:21.767Z"
   },
   {
    "duration": 35,
    "start_time": "2025-04-23T15:20:23.374Z"
   },
   {
    "duration": 141,
    "start_time": "2025-04-23T15:20:25.779Z"
   },
   {
    "duration": 16,
    "start_time": "2025-04-23T15:20:27.671Z"
   },
   {
    "duration": 44,
    "start_time": "2025-04-23T15:20:29.062Z"
   },
   {
    "duration": 9,
    "start_time": "2025-04-23T15:20:30.339Z"
   },
   {
    "duration": 28,
    "start_time": "2025-04-23T15:20:31.768Z"
   },
   {
    "duration": 8,
    "start_time": "2025-04-23T15:20:33.438Z"
   },
   {
    "duration": 27,
    "start_time": "2025-04-23T15:20:34.699Z"
   },
   {
    "duration": 35,
    "start_time": "2025-04-23T15:20:37.966Z"
   },
   {
    "duration": 3042,
    "start_time": "2025-04-23T15:20:39.345Z"
   },
   {
    "duration": 7,
    "start_time": "2025-04-23T15:20:46.530Z"
   },
   {
    "duration": 41,
    "start_time": "2025-04-23T15:20:48.910Z"
   },
   {
    "duration": 370,
    "start_time": "2025-04-23T15:20:51.095Z"
   },
   {
    "duration": 99,
    "start_time": "2025-04-23T15:20:55.593Z"
   },
   {
    "duration": 51,
    "start_time": "2025-04-23T15:20:57.010Z"
   },
   {
    "duration": 97,
    "start_time": "2025-04-23T15:20:58.262Z"
   },
   {
    "duration": 46,
    "start_time": "2025-04-23T15:21:02.919Z"
   },
   {
    "duration": 180,
    "start_time": "2025-04-23T15:21:04.406Z"
   },
   {
    "duration": 169,
    "start_time": "2025-04-23T15:21:08.069Z"
   },
   {
    "duration": 170,
    "start_time": "2025-04-23T15:21:09.894Z"
   },
   {
    "duration": 7,
    "start_time": "2025-04-23T15:21:14.896Z"
   },
   {
    "duration": 41,
    "start_time": "2025-04-23T15:21:17.862Z"
   },
   {
    "duration": 74,
    "start_time": "2025-04-23T15:21:21.851Z"
   },
   {
    "duration": 17,
    "start_time": "2025-04-23T15:21:24.945Z"
   },
   {
    "duration": 139,
    "start_time": "2025-04-23T15:32:01.578Z"
   },
   {
    "duration": 65,
    "start_time": "2025-04-23T15:37:06.350Z"
   },
   {
    "duration": 1334,
    "start_time": "2025-04-23T15:37:14.505Z"
   },
   {
    "duration": 3189,
    "start_time": "2025-04-23T15:37:16.870Z"
   },
   {
    "duration": 6,
    "start_time": "2025-04-23T15:37:34.422Z"
   },
   {
    "duration": 54,
    "start_time": "2025-04-23T15:39:13.827Z"
   },
   {
    "duration": 1436,
    "start_time": "2025-04-23T15:39:18.373Z"
   },
   {
    "duration": 2466,
    "start_time": "2025-04-23T15:39:19.811Z"
   },
   {
    "duration": 13,
    "start_time": "2025-04-23T15:39:22.279Z"
   },
   {
    "duration": 12,
    "start_time": "2025-04-23T15:39:22.294Z"
   },
   {
    "duration": 32,
    "start_time": "2025-04-23T15:39:22.308Z"
   },
   {
    "duration": 118,
    "start_time": "2025-04-23T15:39:22.342Z"
   },
   {
    "duration": 16,
    "start_time": "2025-04-23T15:39:22.462Z"
   },
   {
    "duration": 51,
    "start_time": "2025-04-23T15:39:22.479Z"
   },
   {
    "duration": 8,
    "start_time": "2025-04-23T15:39:22.532Z"
   },
   {
    "duration": 35,
    "start_time": "2025-04-23T15:39:22.542Z"
   },
   {
    "duration": 9,
    "start_time": "2025-04-23T15:39:22.579Z"
   },
   {
    "duration": 26,
    "start_time": "2025-04-23T15:39:22.589Z"
   },
   {
    "duration": 28,
    "start_time": "2025-04-23T15:39:22.617Z"
   },
   {
    "duration": 2750,
    "start_time": "2025-04-23T15:39:22.647Z"
   },
   {
    "duration": 5,
    "start_time": "2025-04-23T15:39:25.399Z"
   },
   {
    "duration": 138,
    "start_time": "2025-04-23T15:39:25.406Z"
   },
   {
    "duration": 336,
    "start_time": "2025-04-23T15:39:25.545Z"
   },
   {
    "duration": 108,
    "start_time": "2025-04-23T15:39:25.883Z"
   },
   {
    "duration": 52,
    "start_time": "2025-04-23T15:39:25.993Z"
   },
   {
    "duration": 98,
    "start_time": "2025-04-23T15:39:26.046Z"
   },
   {
    "duration": 52,
    "start_time": "2025-04-23T15:39:26.146Z"
   },
   {
    "duration": 179,
    "start_time": "2025-04-23T15:39:26.200Z"
   },
   {
    "duration": 166,
    "start_time": "2025-04-23T15:39:26.381Z"
   },
   {
    "duration": 166,
    "start_time": "2025-04-23T15:39:26.549Z"
   },
   {
    "duration": 6,
    "start_time": "2025-04-23T15:39:26.717Z"
   },
   {
    "duration": 52,
    "start_time": "2025-04-23T15:39:26.725Z"
   },
   {
    "duration": 62,
    "start_time": "2025-04-23T15:39:26.779Z"
   },
   {
    "duration": 37,
    "start_time": "2025-04-23T15:39:26.844Z"
   },
   {
    "duration": 1276,
    "start_time": "2025-04-23T15:39:43.142Z"
   },
   {
    "duration": 1801,
    "start_time": "2025-04-23T15:39:44.420Z"
   },
   {
    "duration": 14,
    "start_time": "2025-04-23T15:39:46.222Z"
   },
   {
    "duration": 13,
    "start_time": "2025-04-23T15:39:46.238Z"
   },
   {
    "duration": 43,
    "start_time": "2025-04-23T15:39:46.254Z"
   },
   {
    "duration": 117,
    "start_time": "2025-04-23T15:39:46.298Z"
   },
   {
    "duration": 11,
    "start_time": "2025-04-23T15:39:46.417Z"
   },
   {
    "duration": 61,
    "start_time": "2025-04-23T15:39:46.430Z"
   },
   {
    "duration": 9,
    "start_time": "2025-04-23T15:39:46.493Z"
   },
   {
    "duration": 26,
    "start_time": "2025-04-23T15:39:46.504Z"
   },
   {
    "duration": 10,
    "start_time": "2025-04-23T15:39:46.532Z"
   },
   {
    "duration": 54,
    "start_time": "2025-04-23T15:39:46.544Z"
   },
   {
    "duration": 23,
    "start_time": "2025-04-23T15:39:46.604Z"
   },
   {
    "duration": 2788,
    "start_time": "2025-04-23T15:39:46.630Z"
   },
   {
    "duration": 5,
    "start_time": "2025-04-23T15:39:49.420Z"
   },
   {
    "duration": 27,
    "start_time": "2025-04-23T15:39:49.427Z"
   },
   {
    "duration": 401,
    "start_time": "2025-04-23T15:39:49.455Z"
   },
   {
    "duration": 112,
    "start_time": "2025-04-23T15:39:49.857Z"
   },
   {
    "duration": 59,
    "start_time": "2025-04-23T15:39:49.976Z"
   },
   {
    "duration": 97,
    "start_time": "2025-04-23T15:39:50.036Z"
   },
   {
    "duration": 56,
    "start_time": "2025-04-23T15:39:50.136Z"
   },
   {
    "duration": 183,
    "start_time": "2025-04-23T15:39:50.193Z"
   },
   {
    "duration": 175,
    "start_time": "2025-04-23T15:39:50.378Z"
   },
   {
    "duration": 171,
    "start_time": "2025-04-23T15:39:50.555Z"
   },
   {
    "duration": 7,
    "start_time": "2025-04-23T15:39:50.728Z"
   },
   {
    "duration": 52,
    "start_time": "2025-04-23T15:39:50.737Z"
   },
   {
    "duration": 66,
    "start_time": "2025-04-23T15:39:50.791Z"
   },
   {
    "duration": 50,
    "start_time": "2025-04-23T15:39:50.860Z"
   },
   {
    "duration": 63,
    "start_time": "2025-04-23T15:40:05.246Z"
   },
   {
    "duration": 1411,
    "start_time": "2025-04-23T15:40:13.449Z"
   },
   {
    "duration": 2269,
    "start_time": "2025-04-23T15:40:14.862Z"
   },
   {
    "duration": 12,
    "start_time": "2025-04-23T15:40:17.133Z"
   },
   {
    "duration": 12,
    "start_time": "2025-04-23T15:40:17.148Z"
   },
   {
    "duration": 26,
    "start_time": "2025-04-23T15:40:17.177Z"
   },
   {
    "duration": 126,
    "start_time": "2025-04-23T15:40:17.204Z"
   },
   {
    "duration": 11,
    "start_time": "2025-04-23T15:40:17.332Z"
   },
   {
    "duration": 94,
    "start_time": "2025-04-23T15:40:17.345Z"
   },
   {
    "duration": 126,
    "start_time": "2025-04-23T15:40:17.441Z"
   },
   {
    "duration": 23,
    "start_time": "2025-04-23T15:40:17.570Z"
   },
   {
    "duration": 11,
    "start_time": "2025-04-23T15:40:17.595Z"
   },
   {
    "duration": 32,
    "start_time": "2025-04-23T15:40:17.607Z"
   },
   {
    "duration": 44,
    "start_time": "2025-04-23T15:40:17.642Z"
   },
   {
    "duration": 3020,
    "start_time": "2025-04-23T15:40:17.689Z"
   },
   {
    "duration": 5,
    "start_time": "2025-04-23T15:40:20.711Z"
   },
   {
    "duration": 48,
    "start_time": "2025-04-23T15:40:20.718Z"
   },
   {
    "duration": 341,
    "start_time": "2025-04-23T15:40:20.769Z"
   },
   {
    "duration": 114,
    "start_time": "2025-04-23T15:40:21.112Z"
   },
   {
    "duration": 79,
    "start_time": "2025-04-23T15:40:21.228Z"
   },
   {
    "duration": 98,
    "start_time": "2025-04-23T15:40:21.308Z"
   },
   {
    "duration": 152,
    "start_time": "2025-04-23T15:40:21.408Z"
   },
   {
    "duration": 185,
    "start_time": "2025-04-23T15:40:21.562Z"
   },
   {
    "duration": 206,
    "start_time": "2025-04-23T15:40:21.749Z"
   },
   {
    "duration": 200,
    "start_time": "2025-04-23T15:40:21.957Z"
   },
   {
    "duration": 17,
    "start_time": "2025-04-23T15:40:22.159Z"
   },
   {
    "duration": 34,
    "start_time": "2025-04-23T15:40:22.178Z"
   },
   {
    "duration": 78,
    "start_time": "2025-04-23T15:40:22.214Z"
   },
   {
    "duration": 16,
    "start_time": "2025-04-23T15:40:22.296Z"
   },
   {
    "duration": 77,
    "start_time": "2025-04-23T15:40:22.314Z"
   },
   {
    "duration": 194,
    "start_time": "2025-04-23T15:43:25.845Z"
   },
   {
    "duration": 2046,
    "start_time": "2025-04-23T15:46:55.005Z"
   },
   {
    "duration": 2881,
    "start_time": "2025-04-23T15:47:18.790Z"
   },
   {
    "duration": 2150,
    "start_time": "2025-04-23T15:47:25.485Z"
   },
   {
    "duration": 23,
    "start_time": "2025-04-23T15:47:41.122Z"
   },
   {
    "duration": 161,
    "start_time": "2025-04-23T15:47:42.680Z"
   },
   {
    "duration": 5,
    "start_time": "2025-04-23T15:47:50.065Z"
   },
   {
    "duration": 26,
    "start_time": "2025-04-23T15:47:53.194Z"
   },
   {
    "duration": 332,
    "start_time": "2025-04-23T15:47:54.859Z"
   },
   {
    "duration": 94,
    "start_time": "2025-04-23T15:47:59.031Z"
   },
   {
    "duration": 58,
    "start_time": "2025-04-23T15:48:00.678Z"
   },
   {
    "duration": 87,
    "start_time": "2025-04-23T15:48:02.111Z"
   },
   {
    "duration": 48,
    "start_time": "2025-04-23T15:48:08.378Z"
   },
   {
    "duration": 175,
    "start_time": "2025-04-23T15:48:09.912Z"
   },
   {
    "duration": 158,
    "start_time": "2025-04-23T15:48:19.731Z"
   },
   {
    "duration": 165,
    "start_time": "2025-04-23T15:48:21.397Z"
   },
   {
    "duration": 6,
    "start_time": "2025-04-23T15:48:23.231Z"
   },
   {
    "duration": 36,
    "start_time": "2025-04-23T15:48:24.698Z"
   },
   {
    "duration": 73,
    "start_time": "2025-04-23T15:48:27.729Z"
   },
   {
    "duration": 20,
    "start_time": "2025-04-23T15:48:30.266Z"
   },
   {
    "duration": 235,
    "start_time": "2025-04-23T15:49:27.509Z"
   },
   {
    "duration": 162,
    "start_time": "2025-04-23T15:50:27.846Z"
   },
   {
    "duration": 142,
    "start_time": "2025-04-23T15:50:29.533Z"
   },
   {
    "duration": 3947,
    "start_time": "2025-04-23T16:52:35.376Z"
   },
   {
    "duration": 1979,
    "start_time": "2025-04-23T16:52:39.326Z"
   },
   {
    "duration": 13,
    "start_time": "2025-04-23T16:52:41.306Z"
   },
   {
    "duration": 105,
    "start_time": "2025-04-23T16:52:41.321Z"
   },
   {
    "duration": 26,
    "start_time": "2025-04-23T16:52:41.428Z"
   },
   {
    "duration": 115,
    "start_time": "2025-04-23T16:52:41.456Z"
   },
   {
    "duration": 21,
    "start_time": "2025-04-23T16:52:41.573Z"
   },
   {
    "duration": 135,
    "start_time": "2025-04-23T16:52:41.595Z"
   },
   {
    "duration": 32,
    "start_time": "2025-04-23T16:52:41.732Z"
   },
   {
    "duration": 60,
    "start_time": "2025-04-23T16:52:41.766Z"
   },
   {
    "duration": 19,
    "start_time": "2025-04-23T16:52:41.828Z"
   },
   {
    "duration": 38,
    "start_time": "2025-04-23T16:52:41.849Z"
   },
   {
    "duration": 23,
    "start_time": "2025-04-23T16:52:41.890Z"
   },
   {
    "duration": 202,
    "start_time": "2025-04-23T16:52:41.914Z"
   },
   {
    "duration": 6,
    "start_time": "2025-04-23T16:52:42.117Z"
   },
   {
    "duration": 28,
    "start_time": "2025-04-23T16:52:42.125Z"
   },
   {
    "duration": 363,
    "start_time": "2025-04-23T16:52:42.155Z"
   },
   {
    "duration": 100,
    "start_time": "2025-04-23T16:52:42.520Z"
   },
   {
    "duration": 66,
    "start_time": "2025-04-23T16:52:42.622Z"
   },
   {
    "duration": 76,
    "start_time": "2025-04-23T16:52:42.691Z"
   },
   {
    "duration": 51,
    "start_time": "2025-04-23T16:52:42.769Z"
   },
   {
    "duration": 191,
    "start_time": "2025-04-23T16:52:42.821Z"
   },
   {
    "duration": 177,
    "start_time": "2025-04-23T16:52:43.014Z"
   },
   {
    "duration": 168,
    "start_time": "2025-04-23T16:52:43.193Z"
   },
   {
    "duration": 5,
    "start_time": "2025-04-23T16:52:43.363Z"
   },
   {
    "duration": 86,
    "start_time": "2025-04-23T16:52:43.370Z"
   },
   {
    "duration": 72,
    "start_time": "2025-04-23T16:52:43.458Z"
   },
   {
    "duration": 17,
    "start_time": "2025-04-23T16:52:43.534Z"
   },
   {
    "duration": 195,
    "start_time": "2025-04-23T16:52:43.553Z"
   },
   {
    "duration": 162,
    "start_time": "2025-04-23T16:52:43.750Z"
   },
   {
    "duration": 78,
    "start_time": "2025-04-23T16:52:43.914Z"
   },
   {
    "duration": 71,
    "start_time": "2025-04-23T16:59:47.188Z"
   },
   {
    "duration": 117,
    "start_time": "2025-04-23T17:00:05.405Z"
   },
   {
    "duration": 20,
    "start_time": "2025-04-23T17:00:22.563Z"
   },
   {
    "duration": 17,
    "start_time": "2025-04-23T17:00:27.868Z"
   },
   {
    "duration": 19,
    "start_time": "2025-04-23T17:00:36.950Z"
   },
   {
    "duration": 5,
    "start_time": "2025-04-23T17:01:21.153Z"
   },
   {
    "duration": 5,
    "start_time": "2025-04-23T17:01:22.432Z"
   },
   {
    "duration": 9,
    "start_time": "2025-04-23T17:01:30.310Z"
   },
   {
    "duration": 83,
    "start_time": "2025-04-23T17:02:04.300Z"
   },
   {
    "duration": 10,
    "start_time": "2025-04-23T17:02:22.628Z"
   },
   {
    "duration": 10,
    "start_time": "2025-04-23T17:02:29.838Z"
   },
   {
    "duration": 17,
    "start_time": "2025-04-23T17:02:35.902Z"
   },
   {
    "duration": 98,
    "start_time": "2025-04-23T17:02:59.999Z"
   },
   {
    "duration": 16,
    "start_time": "2025-04-23T17:03:10.644Z"
   },
   {
    "duration": 13,
    "start_time": "2025-04-23T17:03:52.171Z"
   },
   {
    "duration": 7,
    "start_time": "2025-04-23T17:03:56.816Z"
   },
   {
    "duration": 30,
    "start_time": "2025-04-23T17:04:04.469Z"
   },
   {
    "duration": 29,
    "start_time": "2025-04-23T17:04:13.648Z"
   },
   {
    "duration": 32,
    "start_time": "2025-04-23T17:05:01.071Z"
   },
   {
    "duration": 37,
    "start_time": "2025-04-23T17:05:08.674Z"
   },
   {
    "duration": 38,
    "start_time": "2025-04-23T17:05:14.643Z"
   },
   {
    "duration": 41,
    "start_time": "2025-04-23T17:06:53.113Z"
   },
   {
    "duration": 43,
    "start_time": "2025-04-23T17:07:04.260Z"
   },
   {
    "duration": 39,
    "start_time": "2025-04-23T17:07:17.122Z"
   },
   {
    "duration": 42,
    "start_time": "2025-04-23T17:07:25.957Z"
   },
   {
    "duration": 39,
    "start_time": "2025-04-23T17:07:31.372Z"
   },
   {
    "duration": 42,
    "start_time": "2025-04-23T17:07:38.361Z"
   },
   {
    "duration": 39,
    "start_time": "2025-04-23T17:07:47.229Z"
   },
   {
    "duration": 261,
    "start_time": "2025-04-23T17:08:30.728Z"
   },
   {
    "duration": 256,
    "start_time": "2025-04-23T17:09:07.609Z"
   },
   {
    "duration": 211,
    "start_time": "2025-04-23T17:09:19.469Z"
   },
   {
    "duration": 54,
    "start_time": "2025-04-23T17:09:32.698Z"
   },
   {
    "duration": 76,
    "start_time": "2025-04-23T17:10:13.096Z"
   },
   {
    "duration": 73,
    "start_time": "2025-04-23T17:10:47.475Z"
   },
   {
    "duration": 34,
    "start_time": "2025-04-23T17:10:57.230Z"
   },
   {
    "duration": 15,
    "start_time": "2025-04-23T17:11:13.559Z"
   },
   {
    "duration": 42,
    "start_time": "2025-04-23T17:17:45.877Z"
   },
   {
    "duration": 199,
    "start_time": "2025-04-23T17:17:56.553Z"
   },
   {
    "duration": 298,
    "start_time": "2025-04-23T17:18:32.928Z"
   },
   {
    "duration": 137,
    "start_time": "2025-04-23T17:19:21.589Z"
   },
   {
    "duration": 237,
    "start_time": "2025-04-23T17:19:23.038Z"
   },
   {
    "duration": 194,
    "start_time": "2025-04-23T17:19:31.165Z"
   },
   {
    "duration": 22,
    "start_time": "2025-04-23T17:19:56.632Z"
   },
   {
    "duration": 218,
    "start_time": "2025-04-23T17:20:10.259Z"
   },
   {
    "duration": 264,
    "start_time": "2025-04-23T17:20:11.874Z"
   },
   {
    "duration": 212,
    "start_time": "2025-04-23T17:20:12.921Z"
   },
   {
    "duration": 23,
    "start_time": "2025-04-23T17:20:16.144Z"
   },
   {
    "duration": 49,
    "start_time": "2025-04-23T17:20:22.004Z"
   },
   {
    "duration": 47,
    "start_time": "2025-04-23T17:20:23.841Z"
   },
   {
    "duration": 34,
    "start_time": "2025-04-23T17:20:24.389Z"
   },
   {
    "duration": 160,
    "start_time": "2025-04-23T17:20:29.353Z"
   },
   {
    "duration": 213,
    "start_time": "2025-04-23T17:20:31.037Z"
   },
   {
    "duration": 113,
    "start_time": "2025-04-23T17:20:40.701Z"
   },
   {
    "duration": 241,
    "start_time": "2025-04-23T17:20:43.223Z"
   },
   {
    "duration": 158,
    "start_time": "2025-04-23T17:21:00.089Z"
   },
   {
    "duration": 223,
    "start_time": "2025-04-23T17:21:01.143Z"
   },
   {
    "duration": 160,
    "start_time": "2025-04-23T17:22:13.329Z"
   },
   {
    "duration": 186,
    "start_time": "2025-04-23T17:22:15.793Z"
   },
   {
    "duration": 253,
    "start_time": "2025-04-23T17:22:16.648Z"
   },
   {
    "duration": 15,
    "start_time": "2025-04-23T17:26:11.440Z"
   },
   {
    "duration": 38,
    "start_time": "2025-04-23T17:26:20.214Z"
   },
   {
    "duration": 24,
    "start_time": "2025-04-23T17:33:11.180Z"
   },
   {
    "duration": 22,
    "start_time": "2025-04-23T17:33:20.076Z"
   },
   {
    "duration": 43,
    "start_time": "2025-04-23T17:33:35.387Z"
   },
   {
    "duration": 38,
    "start_time": "2025-04-23T17:33:37.003Z"
   },
   {
    "duration": 19,
    "start_time": "2025-04-23T17:33:38.370Z"
   },
   {
    "duration": 13,
    "start_time": "2025-04-23T17:33:42.471Z"
   },
   {
    "duration": 3934,
    "start_time": "2025-04-23T17:33:55.914Z"
   },
   {
    "duration": 2104,
    "start_time": "2025-04-23T17:33:59.850Z"
   },
   {
    "duration": 14,
    "start_time": "2025-04-23T17:34:01.956Z"
   },
   {
    "duration": 85,
    "start_time": "2025-04-23T17:34:01.972Z"
   },
   {
    "duration": 95,
    "start_time": "2025-04-23T17:34:02.060Z"
   },
   {
    "duration": 148,
    "start_time": "2025-04-23T17:34:02.157Z"
   },
   {
    "duration": 8,
    "start_time": "2025-04-23T17:34:02.307Z"
   },
   {
    "duration": 74,
    "start_time": "2025-04-23T17:34:02.317Z"
   },
   {
    "duration": 8,
    "start_time": "2025-04-23T17:34:02.393Z"
   },
   {
    "duration": 62,
    "start_time": "2025-04-23T17:34:02.403Z"
   },
   {
    "duration": 17,
    "start_time": "2025-04-23T17:34:02.466Z"
   },
   {
    "duration": 69,
    "start_time": "2025-04-23T17:34:02.485Z"
   },
   {
    "duration": 39,
    "start_time": "2025-04-23T17:34:02.556Z"
   },
   {
    "duration": 174,
    "start_time": "2025-04-23T17:34:02.598Z"
   },
   {
    "duration": 5,
    "start_time": "2025-04-23T17:34:02.776Z"
   },
   {
    "duration": 75,
    "start_time": "2025-04-23T17:34:02.783Z"
   },
   {
    "duration": 362,
    "start_time": "2025-04-23T17:34:02.860Z"
   },
   {
    "duration": 93,
    "start_time": "2025-04-23T17:34:03.224Z"
   },
   {
    "duration": 47,
    "start_time": "2025-04-23T17:34:03.319Z"
   },
   {
    "duration": 88,
    "start_time": "2025-04-23T17:34:03.368Z"
   },
   {
    "duration": 52,
    "start_time": "2025-04-23T17:34:03.458Z"
   },
   {
    "duration": 182,
    "start_time": "2025-04-23T17:34:03.512Z"
   },
   {
    "duration": 169,
    "start_time": "2025-04-23T17:34:03.696Z"
   },
   {
    "duration": 177,
    "start_time": "2025-04-23T17:34:03.867Z"
   },
   {
    "duration": 7,
    "start_time": "2025-04-23T17:34:04.046Z"
   },
   {
    "duration": 85,
    "start_time": "2025-04-23T17:34:04.054Z"
   },
   {
    "duration": 65,
    "start_time": "2025-04-23T17:34:04.140Z"
   },
   {
    "duration": 18,
    "start_time": "2025-04-23T17:34:04.207Z"
   },
   {
    "duration": 204,
    "start_time": "2025-04-23T17:34:04.227Z"
   },
   {
    "duration": 156,
    "start_time": "2025-04-23T17:34:04.432Z"
   },
   {
    "duration": 30,
    "start_time": "2025-04-23T17:34:04.590Z"
   },
   {
    "duration": 21,
    "start_time": "2025-04-23T17:34:04.622Z"
   },
   {
    "duration": 52,
    "start_time": "2025-04-23T17:34:04.645Z"
   },
   {
    "duration": 264,
    "start_time": "2025-04-23T17:34:04.698Z"
   },
   {
    "duration": 239,
    "start_time": "2025-04-23T17:34:04.964Z"
   },
   {
    "duration": 218,
    "start_time": "2025-04-23T17:34:05.205Z"
   },
   {
    "duration": 38,
    "start_time": "2025-04-23T17:34:05.425Z"
   },
   {
    "duration": 49,
    "start_time": "2025-04-23T17:34:05.465Z"
   },
   {
    "duration": 21,
    "start_time": "2025-04-23T17:34:05.515Z"
   },
   {
    "duration": 179,
    "start_time": "2025-04-23T17:34:05.537Z"
   },
   {
    "duration": 0,
    "start_time": "2025-04-23T17:34:05.717Z"
   },
   {
    "duration": 2723,
    "start_time": "2025-04-23T17:36:54.449Z"
   },
   {
    "duration": 1911,
    "start_time": "2025-04-23T17:37:04.532Z"
   },
   {
    "duration": 3856,
    "start_time": "2025-04-23T17:37:13.997Z"
   },
   {
    "duration": 2000,
    "start_time": "2025-04-23T17:37:17.855Z"
   },
   {
    "duration": 14,
    "start_time": "2025-04-23T17:37:19.856Z"
   },
   {
    "duration": 24,
    "start_time": "2025-04-23T17:37:19.872Z"
   },
   {
    "duration": 24,
    "start_time": "2025-04-23T17:37:19.899Z"
   },
   {
    "duration": 224,
    "start_time": "2025-04-23T17:37:19.925Z"
   },
   {
    "duration": 10,
    "start_time": "2025-04-23T17:37:20.150Z"
   },
   {
    "duration": 52,
    "start_time": "2025-04-23T17:37:20.161Z"
   },
   {
    "duration": 8,
    "start_time": "2025-04-23T17:37:20.215Z"
   },
   {
    "duration": 31,
    "start_time": "2025-04-23T17:37:20.224Z"
   },
   {
    "duration": 24,
    "start_time": "2025-04-23T17:37:20.257Z"
   },
   {
    "duration": 58,
    "start_time": "2025-04-23T17:37:20.282Z"
   },
   {
    "duration": 23,
    "start_time": "2025-04-23T17:37:20.342Z"
   },
   {
    "duration": 179,
    "start_time": "2025-04-23T17:37:20.368Z"
   },
   {
    "duration": 6,
    "start_time": "2025-04-23T17:37:20.549Z"
   },
   {
    "duration": 40,
    "start_time": "2025-04-23T17:37:20.557Z"
   },
   {
    "duration": 364,
    "start_time": "2025-04-23T17:37:20.599Z"
   },
   {
    "duration": 92,
    "start_time": "2025-04-23T17:37:20.964Z"
   },
   {
    "duration": 61,
    "start_time": "2025-04-23T17:37:21.058Z"
   },
   {
    "duration": 105,
    "start_time": "2025-04-23T17:37:21.121Z"
   },
   {
    "duration": 48,
    "start_time": "2025-04-23T17:37:21.228Z"
   },
   {
    "duration": 185,
    "start_time": "2025-04-23T17:37:21.278Z"
   },
   {
    "duration": 185,
    "start_time": "2025-04-23T17:37:21.465Z"
   },
   {
    "duration": 170,
    "start_time": "2025-04-23T17:37:21.652Z"
   },
   {
    "duration": 6,
    "start_time": "2025-04-23T17:37:21.823Z"
   },
   {
    "duration": 103,
    "start_time": "2025-04-23T17:37:21.830Z"
   },
   {
    "duration": 84,
    "start_time": "2025-04-23T17:37:21.934Z"
   },
   {
    "duration": 51,
    "start_time": "2025-04-23T17:37:22.021Z"
   },
   {
    "duration": 176,
    "start_time": "2025-04-23T17:37:22.074Z"
   },
   {
    "duration": 150,
    "start_time": "2025-04-23T17:37:22.252Z"
   },
   {
    "duration": 29,
    "start_time": "2025-04-23T17:37:22.404Z"
   },
   {
    "duration": 19,
    "start_time": "2025-04-23T17:37:22.435Z"
   },
   {
    "duration": 24,
    "start_time": "2025-04-23T17:37:22.477Z"
   },
   {
    "duration": 268,
    "start_time": "2025-04-23T17:37:22.502Z"
   },
   {
    "duration": 230,
    "start_time": "2025-04-23T17:37:22.771Z"
   },
   {
    "duration": 198,
    "start_time": "2025-04-23T17:37:23.003Z"
   },
   {
    "duration": 37,
    "start_time": "2025-04-23T17:37:23.202Z"
   },
   {
    "duration": 62,
    "start_time": "2025-04-23T17:37:23.241Z"
   },
   {
    "duration": 21,
    "start_time": "2025-04-23T17:37:23.305Z"
   },
   {
    "duration": 133,
    "start_time": "2025-04-23T17:37:23.328Z"
   },
   {
    "duration": 0,
    "start_time": "2025-04-23T17:37:23.463Z"
   },
   {
    "duration": 23,
    "start_time": "2025-04-23T17:37:39.826Z"
   },
   {
    "duration": 23,
    "start_time": "2025-04-23T17:37:48.812Z"
   },
   {
    "duration": 86,
    "start_time": "2025-04-23T17:38:01.634Z"
   },
   {
    "duration": 32,
    "start_time": "2025-04-23T17:38:09.839Z"
   },
   {
    "duration": 24,
    "start_time": "2025-04-23T17:38:40.925Z"
   },
   {
    "duration": 20,
    "start_time": "2025-04-23T17:38:50.989Z"
   },
   {
    "duration": 38,
    "start_time": "2025-04-23T17:38:57.006Z"
   },
   {
    "duration": 27,
    "start_time": "2025-04-23T17:38:58.527Z"
   },
   {
    "duration": 12,
    "start_time": "2025-04-23T17:38:59.489Z"
   },
   {
    "duration": 128,
    "start_time": "2025-04-23T17:39:03.319Z"
   },
   {
    "duration": 187,
    "start_time": "2025-04-23T17:39:05.004Z"
   },
   {
    "duration": 129,
    "start_time": "2025-04-23T17:39:41.125Z"
   },
   {
    "duration": 97,
    "start_time": "2025-04-23T17:45:00.592Z"
   },
   {
    "duration": 201,
    "start_time": "2025-04-23T17:45:02.094Z"
   },
   {
    "duration": 116,
    "start_time": "2025-04-23T17:45:09.606Z"
   },
   {
    "duration": 155,
    "start_time": "2025-04-23T17:45:11.197Z"
   },
   {
    "duration": 4088,
    "start_time": "2025-04-23T17:46:01.382Z"
   },
   {
    "duration": 2082,
    "start_time": "2025-04-23T17:46:05.473Z"
   },
   {
    "duration": 16,
    "start_time": "2025-04-23T17:46:07.556Z"
   },
   {
    "duration": 94,
    "start_time": "2025-04-23T17:46:07.574Z"
   },
   {
    "duration": 43,
    "start_time": "2025-04-23T17:46:07.670Z"
   },
   {
    "duration": 138,
    "start_time": "2025-04-23T17:46:07.715Z"
   },
   {
    "duration": 10,
    "start_time": "2025-04-23T17:46:07.854Z"
   },
   {
    "duration": 130,
    "start_time": "2025-04-23T17:46:07.866Z"
   },
   {
    "duration": 95,
    "start_time": "2025-04-23T17:46:07.998Z"
   },
   {
    "duration": 21,
    "start_time": "2025-04-23T17:46:08.097Z"
   },
   {
    "duration": 8,
    "start_time": "2025-04-23T17:46:08.120Z"
   },
   {
    "duration": 35,
    "start_time": "2025-04-23T17:46:08.130Z"
   },
   {
    "duration": 30,
    "start_time": "2025-04-23T17:46:08.179Z"
   },
   {
    "duration": 201,
    "start_time": "2025-04-23T17:46:08.211Z"
   },
   {
    "duration": 5,
    "start_time": "2025-04-23T17:46:08.414Z"
   },
   {
    "duration": 25,
    "start_time": "2025-04-23T17:46:08.421Z"
   },
   {
    "duration": 388,
    "start_time": "2025-04-23T17:46:08.448Z"
   },
   {
    "duration": 105,
    "start_time": "2025-04-23T17:46:08.838Z"
   },
   {
    "duration": 65,
    "start_time": "2025-04-23T17:46:08.944Z"
   },
   {
    "duration": 88,
    "start_time": "2025-04-23T17:46:09.010Z"
   },
   {
    "duration": 48,
    "start_time": "2025-04-23T17:46:09.099Z"
   },
   {
    "duration": 224,
    "start_time": "2025-04-23T17:46:09.148Z"
   },
   {
    "duration": 191,
    "start_time": "2025-04-23T17:46:09.374Z"
   },
   {
    "duration": 184,
    "start_time": "2025-04-23T17:46:09.567Z"
   },
   {
    "duration": 6,
    "start_time": "2025-04-23T17:46:09.753Z"
   },
   {
    "duration": 63,
    "start_time": "2025-04-23T17:46:09.761Z"
   },
   {
    "duration": 70,
    "start_time": "2025-04-23T17:46:09.826Z"
   },
   {
    "duration": 44,
    "start_time": "2025-04-23T17:46:09.900Z"
   },
   {
    "duration": 186,
    "start_time": "2025-04-23T17:46:09.946Z"
   },
   {
    "duration": 163,
    "start_time": "2025-04-23T17:46:10.134Z"
   },
   {
    "duration": 31,
    "start_time": "2025-04-23T17:46:10.299Z"
   },
   {
    "duration": 52,
    "start_time": "2025-04-23T17:46:10.331Z"
   },
   {
    "duration": 18,
    "start_time": "2025-04-23T17:46:10.393Z"
   },
   {
    "duration": 276,
    "start_time": "2025-04-23T17:46:10.413Z"
   },
   {
    "duration": 250,
    "start_time": "2025-04-23T17:46:10.691Z"
   },
   {
    "duration": 221,
    "start_time": "2025-04-23T17:46:10.943Z"
   },
   {
    "duration": 46,
    "start_time": "2025-04-23T17:46:11.166Z"
   },
   {
    "duration": 28,
    "start_time": "2025-04-23T17:46:11.214Z"
   },
   {
    "duration": 13,
    "start_time": "2025-04-23T17:46:11.243Z"
   },
   {
    "duration": 136,
    "start_time": "2025-04-23T17:46:11.279Z"
   },
   {
    "duration": 195,
    "start_time": "2025-04-23T17:46:11.417Z"
   },
   {
    "duration": 48,
    "start_time": "2025-04-23T17:46:49.342Z"
   },
   {
    "duration": 3846,
    "start_time": "2025-04-23T17:47:09.890Z"
   },
   {
    "duration": 1876,
    "start_time": "2025-04-23T17:47:13.739Z"
   },
   {
    "duration": 15,
    "start_time": "2025-04-23T17:47:15.617Z"
   },
   {
    "duration": 26,
    "start_time": "2025-04-23T17:47:15.634Z"
   },
   {
    "duration": 36,
    "start_time": "2025-04-23T17:47:15.661Z"
   },
   {
    "duration": 111,
    "start_time": "2025-04-23T17:47:15.699Z"
   },
   {
    "duration": 11,
    "start_time": "2025-04-23T17:47:15.812Z"
   },
   {
    "duration": 68,
    "start_time": "2025-04-23T17:47:15.825Z"
   },
   {
    "duration": 25,
    "start_time": "2025-04-23T17:47:15.895Z"
   },
   {
    "duration": 168,
    "start_time": "2025-04-23T17:47:15.923Z"
   },
   {
    "duration": 10,
    "start_time": "2025-04-23T17:47:16.093Z"
   },
   {
    "duration": 39,
    "start_time": "2025-04-23T17:47:16.105Z"
   },
   {
    "duration": 34,
    "start_time": "2025-04-23T17:47:16.146Z"
   },
   {
    "duration": 172,
    "start_time": "2025-04-23T17:47:16.182Z"
   },
   {
    "duration": 6,
    "start_time": "2025-04-23T17:47:16.356Z"
   },
   {
    "duration": 36,
    "start_time": "2025-04-23T17:47:16.364Z"
   },
   {
    "duration": 336,
    "start_time": "2025-04-23T17:47:16.402Z"
   },
   {
    "duration": 95,
    "start_time": "2025-04-23T17:47:16.740Z"
   },
   {
    "duration": 55,
    "start_time": "2025-04-23T17:47:16.837Z"
   },
   {
    "duration": 82,
    "start_time": "2025-04-23T17:47:16.894Z"
   },
   {
    "duration": 45,
    "start_time": "2025-04-23T17:47:16.979Z"
   },
   {
    "duration": 187,
    "start_time": "2025-04-23T17:47:17.026Z"
   },
   {
    "duration": 162,
    "start_time": "2025-04-23T17:47:17.215Z"
   },
   {
    "duration": 165,
    "start_time": "2025-04-23T17:47:17.379Z"
   },
   {
    "duration": 6,
    "start_time": "2025-04-23T17:47:17.546Z"
   },
   {
    "duration": 127,
    "start_time": "2025-04-23T17:47:17.554Z"
   },
   {
    "duration": 60,
    "start_time": "2025-04-23T17:47:17.683Z"
   },
   {
    "duration": 33,
    "start_time": "2025-04-23T17:47:17.747Z"
   },
   {
    "duration": 174,
    "start_time": "2025-04-23T17:47:17.782Z"
   },
   {
    "duration": 155,
    "start_time": "2025-04-23T17:47:17.959Z"
   },
   {
    "duration": 30,
    "start_time": "2025-04-23T17:47:18.116Z"
   },
   {
    "duration": 42,
    "start_time": "2025-04-23T17:47:18.149Z"
   },
   {
    "duration": 18,
    "start_time": "2025-04-23T17:47:18.193Z"
   },
   {
    "duration": 257,
    "start_time": "2025-04-23T17:47:18.213Z"
   },
   {
    "duration": 228,
    "start_time": "2025-04-23T17:47:18.475Z"
   },
   {
    "duration": 221,
    "start_time": "2025-04-23T17:47:18.705Z"
   },
   {
    "duration": 29,
    "start_time": "2025-04-23T17:47:18.928Z"
   },
   {
    "duration": 29,
    "start_time": "2025-04-23T17:47:18.976Z"
   },
   {
    "duration": 13,
    "start_time": "2025-04-23T17:47:19.007Z"
   },
   {
    "duration": 145,
    "start_time": "2025-04-23T17:47:19.022Z"
   },
   {
    "duration": 72,
    "start_time": "2025-04-23T17:47:19.169Z"
   },
   {
    "duration": 113,
    "start_time": "2025-04-23T17:49:34.167Z"
   },
   {
    "duration": 128,
    "start_time": "2025-04-23T17:49:51.515Z"
   },
   {
    "duration": 135,
    "start_time": "2025-04-23T17:50:35.085Z"
   },
   {
    "duration": 137,
    "start_time": "2025-04-23T17:51:28.960Z"
   },
   {
    "duration": 177,
    "start_time": "2025-04-23T17:52:37.846Z"
   },
   {
    "duration": 257,
    "start_time": "2025-04-23T17:52:50.660Z"
   },
   {
    "duration": 149,
    "start_time": "2025-04-23T17:54:13.029Z"
   },
   {
    "duration": 166,
    "start_time": "2025-04-23T17:54:17.103Z"
   },
   {
    "duration": 139,
    "start_time": "2025-04-23T17:56:41.286Z"
   },
   {
    "duration": 152,
    "start_time": "2025-04-23T17:56:51.642Z"
   },
   {
    "duration": 76,
    "start_time": "2025-04-23T17:57:54.997Z"
   },
   {
    "duration": 18,
    "start_time": "2025-04-23T17:59:16.190Z"
   },
   {
    "duration": 121,
    "start_time": "2025-04-23T18:13:46.004Z"
   },
   {
    "duration": 49,
    "start_time": "2025-04-23T18:13:46.814Z"
   },
   {
    "duration": 19,
    "start_time": "2025-04-23T18:13:49.220Z"
   },
   {
    "duration": 25,
    "start_time": "2025-04-23T18:14:01.192Z"
   },
   {
    "duration": 24,
    "start_time": "2025-04-23T18:14:21.975Z"
   },
   {
    "duration": 23,
    "start_time": "2025-04-23T18:14:29.947Z"
   },
   {
    "duration": 23,
    "start_time": "2025-04-23T18:14:31.244Z"
   },
   {
    "duration": 121,
    "start_time": "2025-04-23T18:14:33.661Z"
   },
   {
    "duration": 85,
    "start_time": "2025-04-23T18:14:34.388Z"
   },
   {
    "duration": 18,
    "start_time": "2025-04-23T18:14:44.268Z"
   },
   {
    "duration": 43,
    "start_time": "2025-04-23T18:14:51.713Z"
   },
   {
    "duration": 12,
    "start_time": "2025-04-23T18:15:01.705Z"
   },
   {
    "duration": 134,
    "start_time": "2025-04-23T18:15:09.724Z"
   },
   {
    "duration": 99,
    "start_time": "2025-04-23T18:17:24.249Z"
   },
   {
    "duration": 41,
    "start_time": "2025-04-23T18:17:25.271Z"
   },
   {
    "duration": 3795,
    "start_time": "2025-04-23T18:17:37.198Z"
   },
   {
    "duration": 2231,
    "start_time": "2025-04-23T18:17:40.995Z"
   },
   {
    "duration": 14,
    "start_time": "2025-04-23T18:17:43.227Z"
   },
   {
    "duration": 40,
    "start_time": "2025-04-23T18:17:43.243Z"
   },
   {
    "duration": 27,
    "start_time": "2025-04-23T18:17:43.285Z"
   },
   {
    "duration": 117,
    "start_time": "2025-04-23T18:17:43.314Z"
   },
   {
    "duration": 11,
    "start_time": "2025-04-23T18:17:43.433Z"
   },
   {
    "duration": 64,
    "start_time": "2025-04-23T18:17:43.446Z"
   },
   {
    "duration": 8,
    "start_time": "2025-04-23T18:17:43.512Z"
   },
   {
    "duration": 24,
    "start_time": "2025-04-23T18:17:43.524Z"
   },
   {
    "duration": 27,
    "start_time": "2025-04-23T18:17:43.550Z"
   },
   {
    "duration": 34,
    "start_time": "2025-04-23T18:17:43.580Z"
   },
   {
    "duration": 23,
    "start_time": "2025-04-23T18:17:43.617Z"
   },
   {
    "duration": 184,
    "start_time": "2025-04-23T18:17:43.642Z"
   },
   {
    "duration": 6,
    "start_time": "2025-04-23T18:17:43.828Z"
   },
   {
    "duration": 41,
    "start_time": "2025-04-23T18:17:43.836Z"
   },
   {
    "duration": 355,
    "start_time": "2025-04-23T18:17:43.879Z"
   },
   {
    "duration": 93,
    "start_time": "2025-04-23T18:17:44.235Z"
   },
   {
    "duration": 55,
    "start_time": "2025-04-23T18:17:44.330Z"
   },
   {
    "duration": 75,
    "start_time": "2025-04-23T18:17:44.386Z"
   },
   {
    "duration": 55,
    "start_time": "2025-04-23T18:17:44.463Z"
   },
   {
    "duration": 187,
    "start_time": "2025-04-23T18:17:44.520Z"
   },
   {
    "duration": 182,
    "start_time": "2025-04-23T18:17:44.709Z"
   },
   {
    "duration": 176,
    "start_time": "2025-04-23T18:17:44.893Z"
   },
   {
    "duration": 9,
    "start_time": "2025-04-23T18:17:45.071Z"
   },
   {
    "duration": 107,
    "start_time": "2025-04-23T18:17:45.082Z"
   },
   {
    "duration": 161,
    "start_time": "2025-04-23T18:17:45.191Z"
   },
   {
    "duration": 17,
    "start_time": "2025-04-23T18:17:45.356Z"
   },
   {
    "duration": 230,
    "start_time": "2025-04-23T18:17:45.374Z"
   },
   {
    "duration": 150,
    "start_time": "2025-04-23T18:17:45.606Z"
   },
   {
    "duration": 39,
    "start_time": "2025-04-23T18:17:45.757Z"
   },
   {
    "duration": 24,
    "start_time": "2025-04-23T18:17:45.798Z"
   },
   {
    "duration": 44,
    "start_time": "2025-04-23T18:17:45.825Z"
   },
   {
    "duration": 255,
    "start_time": "2025-04-23T18:17:45.871Z"
   },
   {
    "duration": 243,
    "start_time": "2025-04-23T18:17:46.128Z"
   },
   {
    "duration": 212,
    "start_time": "2025-04-23T18:17:46.373Z"
   },
   {
    "duration": 29,
    "start_time": "2025-04-23T18:17:46.587Z"
   },
   {
    "duration": 28,
    "start_time": "2025-04-23T18:17:46.618Z"
   },
   {
    "duration": 29,
    "start_time": "2025-04-23T18:17:46.648Z"
   },
   {
    "duration": 134,
    "start_time": "2025-04-23T18:17:46.679Z"
   },
   {
    "duration": 82,
    "start_time": "2025-04-23T18:17:46.815Z"
   },
   {
    "duration": 12,
    "start_time": "2025-04-23T18:17:46.898Z"
   },
   {
    "duration": 151,
    "start_time": "2025-04-23T18:17:46.912Z"
   },
   {
    "duration": 32,
    "start_time": "2025-04-23T18:19:11.821Z"
   },
   {
    "duration": 35,
    "start_time": "2025-04-23T18:19:54.661Z"
   },
   {
    "duration": 19,
    "start_time": "2025-04-23T18:22:16.098Z"
   },
   {
    "duration": 33,
    "start_time": "2025-04-23T18:23:39.139Z"
   },
   {
    "duration": 28,
    "start_time": "2025-04-23T18:23:40.494Z"
   },
   {
    "duration": 14,
    "start_time": "2025-04-23T18:23:41.440Z"
   },
   {
    "duration": 15,
    "start_time": "2025-04-23T18:23:52.655Z"
   },
   {
    "duration": 18,
    "start_time": "2025-04-23T18:25:01.825Z"
   },
   {
    "duration": 16,
    "start_time": "2025-04-23T18:25:02.813Z"
   },
   {
    "duration": 15,
    "start_time": "2025-04-23T18:25:03.578Z"
   },
   {
    "duration": 9,
    "start_time": "2025-04-23T18:25:53.738Z"
   },
   {
    "duration": 12,
    "start_time": "2025-04-23T18:25:54.346Z"
   },
   {
    "duration": 15,
    "start_time": "2025-04-23T18:25:55.334Z"
   },
   {
    "duration": 3729,
    "start_time": "2025-04-23T18:26:11.019Z"
   },
   {
    "duration": 2684,
    "start_time": "2025-04-23T18:26:14.751Z"
   },
   {
    "duration": 14,
    "start_time": "2025-04-23T18:26:17.437Z"
   },
   {
    "duration": 18,
    "start_time": "2025-04-23T18:26:17.453Z"
   },
   {
    "duration": 28,
    "start_time": "2025-04-23T18:26:17.473Z"
   },
   {
    "duration": 111,
    "start_time": "2025-04-23T18:26:17.503Z"
   },
   {
    "duration": 10,
    "start_time": "2025-04-23T18:26:17.615Z"
   },
   {
    "duration": 59,
    "start_time": "2025-04-23T18:26:17.626Z"
   },
   {
    "duration": 7,
    "start_time": "2025-04-23T18:26:17.687Z"
   },
   {
    "duration": 25,
    "start_time": "2025-04-23T18:26:17.697Z"
   },
   {
    "duration": 8,
    "start_time": "2025-04-23T18:26:17.724Z"
   },
   {
    "duration": 84,
    "start_time": "2025-04-23T18:26:17.733Z"
   },
   {
    "duration": 39,
    "start_time": "2025-04-23T18:26:17.819Z"
   },
   {
    "duration": 184,
    "start_time": "2025-04-23T18:26:17.860Z"
   },
   {
    "duration": 5,
    "start_time": "2025-04-23T18:26:18.047Z"
   },
   {
    "duration": 55,
    "start_time": "2025-04-23T18:26:18.054Z"
   },
   {
    "duration": 341,
    "start_time": "2025-04-23T18:26:18.111Z"
   },
   {
    "duration": 95,
    "start_time": "2025-04-23T18:26:18.454Z"
   },
   {
    "duration": 64,
    "start_time": "2025-04-23T18:26:18.551Z"
   },
   {
    "duration": 85,
    "start_time": "2025-04-23T18:26:18.617Z"
   },
   {
    "duration": 51,
    "start_time": "2025-04-23T18:26:18.704Z"
   },
   {
    "duration": 193,
    "start_time": "2025-04-23T18:26:18.757Z"
   },
   {
    "duration": 166,
    "start_time": "2025-04-23T18:26:18.953Z"
   },
   {
    "duration": 165,
    "start_time": "2025-04-23T18:26:19.121Z"
   },
   {
    "duration": 6,
    "start_time": "2025-04-23T18:26:19.289Z"
   },
   {
    "duration": 43,
    "start_time": "2025-04-23T18:26:19.296Z"
   },
   {
    "duration": 69,
    "start_time": "2025-04-23T18:26:19.340Z"
   },
   {
    "duration": 15,
    "start_time": "2025-04-23T18:26:19.413Z"
   },
   {
    "duration": 188,
    "start_time": "2025-04-23T18:26:19.429Z"
   },
   {
    "duration": 145,
    "start_time": "2025-04-23T18:26:19.619Z"
   },
   {
    "duration": 34,
    "start_time": "2025-04-23T18:26:19.766Z"
   },
   {
    "duration": 34,
    "start_time": "2025-04-23T18:26:19.802Z"
   },
   {
    "duration": 18,
    "start_time": "2025-04-23T18:26:19.838Z"
   },
   {
    "duration": 258,
    "start_time": "2025-04-23T18:26:19.858Z"
   },
   {
    "duration": 240,
    "start_time": "2025-04-23T18:26:20.117Z"
   },
   {
    "duration": 220,
    "start_time": "2025-04-23T18:26:20.359Z"
   },
   {
    "duration": 27,
    "start_time": "2025-04-23T18:26:20.580Z"
   },
   {
    "duration": 13,
    "start_time": "2025-04-23T18:26:20.608Z"
   },
   {
    "duration": 12,
    "start_time": "2025-04-23T18:26:20.622Z"
   },
   {
    "duration": 43,
    "start_time": "2025-04-23T18:26:20.635Z"
   },
   {
    "duration": 138,
    "start_time": "2025-04-23T18:26:20.679Z"
   },
   {
    "duration": 77,
    "start_time": "2025-04-23T18:26:20.819Z"
   },
   {
    "duration": 11,
    "start_time": "2025-04-23T18:26:20.897Z"
   },
   {
    "duration": 148,
    "start_time": "2025-04-23T18:26:20.909Z"
   },
   {
    "duration": 40,
    "start_time": "2025-04-23T18:26:21.058Z"
   },
   {
    "duration": 4,
    "start_time": "2025-04-23T18:27:39.841Z"
   },
   {
    "duration": 1136,
    "start_time": "2025-04-23T18:28:04.170Z"
   },
   {
    "duration": 13,
    "start_time": "2025-04-23T18:28:14.502Z"
   },
   {
    "duration": 32,
    "start_time": "2025-04-23T18:28:29.276Z"
   },
   {
    "duration": 4053,
    "start_time": "2025-04-23T18:30:27.790Z"
   },
   {
    "duration": 3202,
    "start_time": "2025-04-23T18:30:31.846Z"
   },
   {
    "duration": 14,
    "start_time": "2025-04-23T18:30:35.050Z"
   },
   {
    "duration": 25,
    "start_time": "2025-04-23T18:30:35.066Z"
   },
   {
    "duration": 26,
    "start_time": "2025-04-23T18:30:35.093Z"
   },
   {
    "duration": 118,
    "start_time": "2025-04-23T18:30:35.120Z"
   },
   {
    "duration": 10,
    "start_time": "2025-04-23T18:30:35.240Z"
   },
   {
    "duration": 78,
    "start_time": "2025-04-23T18:30:35.251Z"
   },
   {
    "duration": 8,
    "start_time": "2025-04-23T18:30:35.330Z"
   },
   {
    "duration": 32,
    "start_time": "2025-04-23T18:30:35.339Z"
   },
   {
    "duration": 26,
    "start_time": "2025-04-23T18:30:35.373Z"
   },
   {
    "duration": 43,
    "start_time": "2025-04-23T18:30:35.400Z"
   },
   {
    "duration": 22,
    "start_time": "2025-04-23T18:30:35.445Z"
   },
   {
    "duration": 170,
    "start_time": "2025-04-23T18:30:35.470Z"
   },
   {
    "duration": 5,
    "start_time": "2025-04-23T18:30:35.642Z"
   },
   {
    "duration": 64,
    "start_time": "2025-04-23T18:30:35.649Z"
   },
   {
    "duration": 355,
    "start_time": "2025-04-23T18:30:35.715Z"
   },
   {
    "duration": 88,
    "start_time": "2025-04-23T18:30:36.076Z"
   },
   {
    "duration": 46,
    "start_time": "2025-04-23T18:30:36.176Z"
   },
   {
    "duration": 139,
    "start_time": "2025-04-23T18:30:36.224Z"
   },
   {
    "duration": 86,
    "start_time": "2025-04-23T18:30:36.365Z"
   },
   {
    "duration": 184,
    "start_time": "2025-04-23T18:30:36.453Z"
   },
   {
    "duration": 176,
    "start_time": "2025-04-23T18:30:36.639Z"
   },
   {
    "duration": 181,
    "start_time": "2025-04-23T18:30:36.821Z"
   },
   {
    "duration": 7,
    "start_time": "2025-04-23T18:30:37.004Z"
   },
   {
    "duration": 57,
    "start_time": "2025-04-23T18:30:37.013Z"
   },
   {
    "duration": 105,
    "start_time": "2025-04-23T18:30:37.072Z"
   },
   {
    "duration": 31,
    "start_time": "2025-04-23T18:30:37.178Z"
   },
   {
    "duration": 256,
    "start_time": "2025-04-23T18:30:37.210Z"
   },
   {
    "duration": 160,
    "start_time": "2025-04-23T18:30:37.467Z"
   },
   {
    "duration": 30,
    "start_time": "2025-04-23T18:30:37.629Z"
   },
   {
    "duration": 33,
    "start_time": "2025-04-23T18:30:37.661Z"
   },
   {
    "duration": 17,
    "start_time": "2025-04-23T18:30:37.696Z"
   },
   {
    "duration": 273,
    "start_time": "2025-04-23T18:30:37.714Z"
   },
   {
    "duration": 239,
    "start_time": "2025-04-23T18:30:37.989Z"
   },
   {
    "duration": 211,
    "start_time": "2025-04-23T18:30:38.230Z"
   },
   {
    "duration": 33,
    "start_time": "2025-04-23T18:30:38.443Z"
   },
   {
    "duration": 13,
    "start_time": "2025-04-23T18:30:38.478Z"
   },
   {
    "duration": 11,
    "start_time": "2025-04-23T18:30:38.493Z"
   },
   {
    "duration": 13,
    "start_time": "2025-04-23T18:30:38.506Z"
   },
   {
    "duration": 148,
    "start_time": "2025-04-23T18:30:38.523Z"
   },
   {
    "duration": 68,
    "start_time": "2025-04-23T18:30:38.673Z"
   },
   {
    "duration": 11,
    "start_time": "2025-04-23T18:30:38.743Z"
   },
   {
    "duration": 157,
    "start_time": "2025-04-23T18:30:38.755Z"
   },
   {
    "duration": 39,
    "start_time": "2025-04-23T18:30:38.914Z"
   },
   {
    "duration": 28,
    "start_time": "2025-04-23T18:45:32.061Z"
   },
   {
    "duration": 27,
    "start_time": "2025-04-23T18:45:47.129Z"
   },
   {
    "duration": 36,
    "start_time": "2025-04-23T18:46:37.942Z"
   },
   {
    "duration": 18,
    "start_time": "2025-04-23T18:47:44.529Z"
   },
   {
    "duration": 33,
    "start_time": "2025-04-23T18:47:51.799Z"
   },
   {
    "duration": 13,
    "start_time": "2025-04-23T18:47:52.925Z"
   },
   {
    "duration": 13,
    "start_time": "2025-04-23T18:47:55.304Z"
   },
   {
    "duration": 15,
    "start_time": "2025-04-23T18:47:56.647Z"
   },
   {
    "duration": 123,
    "start_time": "2025-04-23T18:48:16.085Z"
   },
   {
    "duration": 65,
    "start_time": "2025-04-23T18:48:16.976Z"
   },
   {
    "duration": 11,
    "start_time": "2025-04-23T18:48:22.152Z"
   },
   {
    "duration": 130,
    "start_time": "2025-04-23T18:48:23.623Z"
   },
   {
    "duration": 121,
    "start_time": "2025-04-23T18:49:01.257Z"
   },
   {
    "duration": 80,
    "start_time": "2025-04-23T18:49:02.022Z"
   },
   {
    "duration": 11,
    "start_time": "2025-04-23T18:49:35.083Z"
   },
   {
    "duration": 136,
    "start_time": "2025-04-23T18:49:36.444Z"
   },
   {
    "duration": 34,
    "start_time": "2025-04-23T18:49:38.889Z"
   },
   {
    "duration": 120,
    "start_time": "2025-04-23T18:49:50.099Z"
   },
   {
    "duration": 61,
    "start_time": "2025-04-23T18:49:50.914Z"
   },
   {
    "duration": 11,
    "start_time": "2025-04-23T18:49:57.078Z"
   },
   {
    "duration": 131,
    "start_time": "2025-04-23T18:49:58.307Z"
   },
   {
    "duration": 33,
    "start_time": "2025-04-23T18:50:02.526Z"
   },
   {
    "duration": 33,
    "start_time": "2025-04-23T18:50:16.436Z"
   },
   {
    "duration": 39,
    "start_time": "2025-04-23T18:51:27.097Z"
   },
   {
    "duration": 134,
    "start_time": "2025-04-23T18:52:26.903Z"
   },
   {
    "duration": 10,
    "start_time": "2025-04-23T18:53:40.711Z"
   },
   {
    "duration": 9,
    "start_time": "2025-04-23T18:54:03.354Z"
   },
   {
    "duration": 441,
    "start_time": "2025-04-23T18:54:55.981Z"
   },
   {
    "duration": 174,
    "start_time": "2025-04-23T18:55:08.167Z"
   },
   {
    "duration": 175,
    "start_time": "2025-04-23T18:55:58.965Z"
   },
   {
    "duration": 32,
    "start_time": "2025-04-23T19:01:02.124Z"
   },
   {
    "duration": 31,
    "start_time": "2025-04-23T19:01:11.941Z"
   },
   {
    "duration": 10,
    "start_time": "2025-04-23T19:04:46.289Z"
   },
   {
    "duration": 8,
    "start_time": "2025-04-23T19:04:50.648Z"
   },
   {
    "duration": 8,
    "start_time": "2025-04-23T19:04:55.493Z"
   },
   {
    "duration": 8,
    "start_time": "2025-04-23T19:05:01.272Z"
   },
   {
    "duration": 10,
    "start_time": "2025-04-23T19:05:06.331Z"
   },
   {
    "duration": 10,
    "start_time": "2025-04-23T19:05:10.440Z"
   },
   {
    "duration": 9,
    "start_time": "2025-04-23T19:05:14.054Z"
   },
   {
    "duration": 9,
    "start_time": "2025-04-23T19:05:18.286Z"
   },
   {
    "duration": 9,
    "start_time": "2025-04-23T19:05:24.236Z"
   },
   {
    "duration": 9,
    "start_time": "2025-04-23T19:05:36.876Z"
   },
   {
    "duration": 9,
    "start_time": "2025-04-23T19:05:44.691Z"
   },
   {
    "duration": 11,
    "start_time": "2025-04-23T19:05:51.383Z"
   },
   {
    "duration": 3912,
    "start_time": "2025-04-23T19:08:08.041Z"
   },
   {
    "duration": 2709,
    "start_time": "2025-04-23T19:08:11.956Z"
   },
   {
    "duration": 14,
    "start_time": "2025-04-23T19:08:14.667Z"
   },
   {
    "duration": 14,
    "start_time": "2025-04-23T19:08:14.683Z"
   },
   {
    "duration": 37,
    "start_time": "2025-04-23T19:08:14.700Z"
   },
   {
    "duration": 110,
    "start_time": "2025-04-23T19:08:14.739Z"
   },
   {
    "duration": 9,
    "start_time": "2025-04-23T19:08:14.851Z"
   },
   {
    "duration": 55,
    "start_time": "2025-04-23T19:08:14.862Z"
   },
   {
    "duration": 8,
    "start_time": "2025-04-23T19:08:14.919Z"
   },
   {
    "duration": 55,
    "start_time": "2025-04-23T19:08:14.929Z"
   },
   {
    "duration": 8,
    "start_time": "2025-04-23T19:08:14.986Z"
   },
   {
    "duration": 103,
    "start_time": "2025-04-23T19:08:14.996Z"
   },
   {
    "duration": 56,
    "start_time": "2025-04-23T19:08:15.101Z"
   },
   {
    "duration": 207,
    "start_time": "2025-04-23T19:08:15.160Z"
   },
   {
    "duration": 10,
    "start_time": "2025-04-23T19:08:15.369Z"
   },
   {
    "duration": 72,
    "start_time": "2025-04-23T19:08:15.381Z"
   },
   {
    "duration": 339,
    "start_time": "2025-04-23T19:08:15.455Z"
   },
   {
    "duration": 113,
    "start_time": "2025-04-23T19:08:15.796Z"
   },
   {
    "duration": 49,
    "start_time": "2025-04-23T19:08:15.911Z"
   },
   {
    "duration": 96,
    "start_time": "2025-04-23T19:08:15.961Z"
   },
   {
    "duration": 50,
    "start_time": "2025-04-23T19:08:16.059Z"
   },
   {
    "duration": 185,
    "start_time": "2025-04-23T19:08:16.111Z"
   },
   {
    "duration": 162,
    "start_time": "2025-04-23T19:08:16.297Z"
   },
   {
    "duration": 177,
    "start_time": "2025-04-23T19:08:16.461Z"
   },
   {
    "duration": 6,
    "start_time": "2025-04-23T19:08:16.640Z"
   },
   {
    "duration": 54,
    "start_time": "2025-04-23T19:08:16.649Z"
   },
   {
    "duration": 77,
    "start_time": "2025-04-23T19:08:16.708Z"
   },
   {
    "duration": 17,
    "start_time": "2025-04-23T19:08:16.787Z"
   },
   {
    "duration": 194,
    "start_time": "2025-04-23T19:08:16.806Z"
   },
   {
    "duration": 152,
    "start_time": "2025-04-23T19:08:17.003Z"
   },
   {
    "duration": 40,
    "start_time": "2025-04-23T19:08:17.157Z"
   },
   {
    "duration": 22,
    "start_time": "2025-04-23T19:08:17.200Z"
   },
   {
    "duration": 20,
    "start_time": "2025-04-23T19:08:17.224Z"
   },
   {
    "duration": 258,
    "start_time": "2025-04-23T19:08:17.276Z"
   },
   {
    "duration": 247,
    "start_time": "2025-04-23T19:08:17.536Z"
   },
   {
    "duration": 212,
    "start_time": "2025-04-23T19:08:17.785Z"
   },
   {
    "duration": 28,
    "start_time": "2025-04-23T19:08:17.999Z"
   },
   {
    "duration": 16,
    "start_time": "2025-04-23T19:08:18.029Z"
   },
   {
    "duration": 40,
    "start_time": "2025-04-23T19:08:18.047Z"
   },
   {
    "duration": 15,
    "start_time": "2025-04-23T19:08:18.089Z"
   },
   {
    "duration": 137,
    "start_time": "2025-04-23T19:08:18.108Z"
   },
   {
    "duration": 77,
    "start_time": "2025-04-23T19:08:18.247Z"
   },
   {
    "duration": 32,
    "start_time": "2025-04-23T19:08:18.326Z"
   },
   {
    "duration": 133,
    "start_time": "2025-04-23T19:08:18.360Z"
   },
   {
    "duration": 32,
    "start_time": "2025-04-23T19:08:18.495Z"
   },
   {
    "duration": 31,
    "start_time": "2025-04-23T19:08:18.529Z"
   },
   {
    "duration": 9,
    "start_time": "2025-04-23T19:08:18.577Z"
   },
   {
    "duration": 196,
    "start_time": "2025-04-23T19:08:18.587Z"
   },
   {
    "duration": 11,
    "start_time": "2025-04-23T19:17:46.391Z"
   },
   {
    "duration": 149,
    "start_time": "2025-04-23T19:18:26.407Z"
   },
   {
    "duration": 263,
    "start_time": "2025-04-23T19:18:57.458Z"
   },
   {
    "duration": 147,
    "start_time": "2025-04-23T19:19:10.247Z"
   },
   {
    "duration": 3797,
    "start_time": "2025-04-23T19:19:41.918Z"
   },
   {
    "duration": 2421,
    "start_time": "2025-04-23T19:19:45.717Z"
   },
   {
    "duration": 15,
    "start_time": "2025-04-23T19:19:48.140Z"
   },
   {
    "duration": 3623,
    "start_time": "2025-04-23T19:19:48.157Z"
   },
   {
    "duration": 3836,
    "start_time": "2025-04-23T19:19:51.783Z"
   },
   {
    "duration": 114,
    "start_time": "2025-04-23T19:19:55.621Z"
   },
   {
    "duration": 10,
    "start_time": "2025-04-23T19:19:55.737Z"
   },
   {
    "duration": 53,
    "start_time": "2025-04-23T19:19:55.749Z"
   },
   {
    "duration": 8,
    "start_time": "2025-04-23T19:19:55.804Z"
   },
   {
    "duration": 39,
    "start_time": "2025-04-23T19:19:55.815Z"
   },
   {
    "duration": 25,
    "start_time": "2025-04-23T19:19:55.856Z"
   },
   {
    "duration": 47,
    "start_time": "2025-04-23T19:19:55.883Z"
   },
   {
    "duration": 21,
    "start_time": "2025-04-23T19:19:55.933Z"
   },
   {
    "duration": 261,
    "start_time": "2025-04-23T19:19:55.957Z"
   },
   {
    "duration": 6,
    "start_time": "2025-04-23T19:19:56.219Z"
   },
   {
    "duration": 125,
    "start_time": "2025-04-23T19:19:56.227Z"
   },
   {
    "duration": 413,
    "start_time": "2025-04-23T19:19:56.354Z"
   },
   {
    "duration": 89,
    "start_time": "2025-04-23T19:19:56.769Z"
   },
   {
    "duration": 57,
    "start_time": "2025-04-23T19:19:56.860Z"
   },
   {
    "duration": 96,
    "start_time": "2025-04-23T19:19:56.919Z"
   },
   {
    "duration": 47,
    "start_time": "2025-04-23T19:19:57.017Z"
   },
   {
    "duration": 191,
    "start_time": "2025-04-23T19:19:57.077Z"
   },
   {
    "duration": 176,
    "start_time": "2025-04-23T19:19:57.270Z"
   },
   {
    "duration": 174,
    "start_time": "2025-04-23T19:19:57.448Z"
   },
   {
    "duration": 7,
    "start_time": "2025-04-23T19:19:57.624Z"
   },
   {
    "duration": 54,
    "start_time": "2025-04-23T19:19:57.633Z"
   },
   {
    "duration": 62,
    "start_time": "2025-04-23T19:19:57.689Z"
   },
   {
    "duration": 33,
    "start_time": "2025-04-23T19:19:57.753Z"
   },
   {
    "duration": 183,
    "start_time": "2025-04-23T19:19:57.788Z"
   },
   {
    "duration": 152,
    "start_time": "2025-04-23T19:19:57.976Z"
   },
   {
    "duration": 47,
    "start_time": "2025-04-23T19:19:58.131Z"
   },
   {
    "duration": 36,
    "start_time": "2025-04-23T19:19:58.181Z"
   },
   {
    "duration": 132,
    "start_time": "2025-04-23T19:19:58.219Z"
   },
   {
    "duration": 322,
    "start_time": "2025-04-23T19:19:58.353Z"
   },
   {
    "duration": 252,
    "start_time": "2025-04-23T19:19:58.677Z"
   },
   {
    "duration": 233,
    "start_time": "2025-04-23T19:19:58.932Z"
   },
   {
    "duration": 33,
    "start_time": "2025-04-23T19:19:59.167Z"
   },
   {
    "duration": 13,
    "start_time": "2025-04-23T19:19:59.202Z"
   },
   {
    "duration": 13,
    "start_time": "2025-04-23T19:19:59.216Z"
   },
   {
    "duration": 48,
    "start_time": "2025-04-23T19:19:59.231Z"
   },
   {
    "duration": 138,
    "start_time": "2025-04-23T19:19:59.284Z"
   },
   {
    "duration": 77,
    "start_time": "2025-04-23T19:19:59.424Z"
   },
   {
    "duration": 15,
    "start_time": "2025-04-23T19:19:59.504Z"
   },
   {
    "duration": 158,
    "start_time": "2025-04-23T19:19:59.521Z"
   },
   {
    "duration": 33,
    "start_time": "2025-04-23T19:19:59.680Z"
   },
   {
    "duration": 32,
    "start_time": "2025-04-23T19:19:59.715Z"
   },
   {
    "duration": 37,
    "start_time": "2025-04-23T19:19:59.749Z"
   },
   {
    "duration": 11,
    "start_time": "2025-04-23T19:19:59.789Z"
   },
   {
    "duration": 205,
    "start_time": "2025-04-23T19:19:59.802Z"
   },
   {
    "duration": 162,
    "start_time": "2025-04-23T19:20:00.009Z"
   },
   {
    "duration": 12375,
    "start_time": "2025-04-24T05:45:41.044Z"
   },
   {
    "duration": 2445,
    "start_time": "2025-04-24T05:45:53.421Z"
   },
   {
    "duration": 22,
    "start_time": "2025-04-24T05:45:55.868Z"
   },
   {
    "duration": 14,
    "start_time": "2025-04-24T05:45:55.892Z"
   },
   {
    "duration": 45,
    "start_time": "2025-04-24T05:45:55.909Z"
   },
   {
    "duration": 161,
    "start_time": "2025-04-24T05:45:55.956Z"
   },
   {
    "duration": 16,
    "start_time": "2025-04-24T05:45:56.119Z"
   },
   {
    "duration": 83,
    "start_time": "2025-04-24T05:45:56.137Z"
   },
   {
    "duration": 25,
    "start_time": "2025-04-24T05:45:56.221Z"
   },
   {
    "duration": 38,
    "start_time": "2025-04-24T05:45:56.250Z"
   },
   {
    "duration": 10,
    "start_time": "2025-04-24T05:45:56.290Z"
   },
   {
    "duration": 49,
    "start_time": "2025-04-24T05:45:56.302Z"
   },
   {
    "duration": 42,
    "start_time": "2025-04-24T05:45:56.354Z"
   },
   {
    "duration": 238,
    "start_time": "2025-04-24T05:45:56.400Z"
   },
   {
    "duration": 15,
    "start_time": "2025-04-24T05:45:56.640Z"
   },
   {
    "duration": 46,
    "start_time": "2025-04-24T05:45:56.657Z"
   },
   {
    "duration": 439,
    "start_time": "2025-04-24T05:45:56.707Z"
   },
   {
    "duration": 120,
    "start_time": "2025-04-24T05:45:57.151Z"
   },
   {
    "duration": 58,
    "start_time": "2025-04-24T05:45:57.273Z"
   },
   {
    "duration": 107,
    "start_time": "2025-04-24T05:45:57.332Z"
   },
   {
    "duration": 62,
    "start_time": "2025-04-24T05:45:57.442Z"
   },
   {
    "duration": 288,
    "start_time": "2025-04-24T05:45:57.506Z"
   },
   {
    "duration": 187,
    "start_time": "2025-04-24T05:45:57.796Z"
   },
   {
    "duration": 179,
    "start_time": "2025-04-24T05:45:57.985Z"
   },
   {
    "duration": 11,
    "start_time": "2025-04-24T05:45:58.166Z"
   },
   {
    "duration": 37,
    "start_time": "2025-04-24T05:45:58.179Z"
   },
   {
    "duration": 116,
    "start_time": "2025-04-24T05:45:58.218Z"
   },
   {
    "duration": 23,
    "start_time": "2025-04-24T05:45:58.337Z"
   },
   {
    "duration": 220,
    "start_time": "2025-04-24T05:45:58.362Z"
   },
   {
    "duration": 166,
    "start_time": "2025-04-24T05:45:58.584Z"
   },
   {
    "duration": 45,
    "start_time": "2025-04-24T05:45:58.755Z"
   },
   {
    "duration": 46,
    "start_time": "2025-04-24T05:45:58.801Z"
   },
   {
    "duration": 24,
    "start_time": "2025-04-24T05:45:58.849Z"
   },
   {
    "duration": 387,
    "start_time": "2025-04-24T05:45:58.875Z"
   },
   {
    "duration": 310,
    "start_time": "2025-04-24T05:45:59.264Z"
   },
   {
    "duration": 312,
    "start_time": "2025-04-24T05:45:59.581Z"
   },
   {
    "duration": 24,
    "start_time": "2025-04-24T05:45:59.895Z"
   },
   {
    "duration": 26,
    "start_time": "2025-04-24T05:45:59.921Z"
   },
   {
    "duration": 24,
    "start_time": "2025-04-24T05:45:59.949Z"
   },
   {
    "duration": 18,
    "start_time": "2025-04-24T05:45:59.978Z"
   },
   {
    "duration": 141,
    "start_time": "2025-04-24T05:46:00.000Z"
   },
   {
    "duration": 1216,
    "start_time": "2025-04-24T05:46:00.146Z"
   },
   {
    "duration": 0,
    "start_time": "2025-04-24T05:46:01.373Z"
   },
   {
    "duration": 0,
    "start_time": "2025-04-24T05:46:01.380Z"
   },
   {
    "duration": 0,
    "start_time": "2025-04-24T05:46:01.386Z"
   },
   {
    "duration": 0,
    "start_time": "2025-04-24T05:46:01.390Z"
   },
   {
    "duration": 0,
    "start_time": "2025-04-24T05:46:01.392Z"
   },
   {
    "duration": 0,
    "start_time": "2025-04-24T05:46:01.393Z"
   },
   {
    "duration": 0,
    "start_time": "2025-04-24T05:46:01.395Z"
   },
   {
    "duration": 0,
    "start_time": "2025-04-24T05:46:01.396Z"
   },
   {
    "duration": 69,
    "start_time": "2025-04-24T05:46:53.030Z"
   },
   {
    "duration": 47,
    "start_time": "2025-04-24T05:47:14.540Z"
   },
   {
    "duration": 30,
    "start_time": "2025-04-24T05:47:24.370Z"
   },
   {
    "duration": 104,
    "start_time": "2025-04-24T05:47:33.695Z"
   },
   {
    "duration": 15,
    "start_time": "2025-04-24T05:47:35.421Z"
   },
   {
    "duration": 36,
    "start_time": "2025-04-24T05:47:36.017Z"
   },
   {
    "duration": 28,
    "start_time": "2025-04-24T05:47:38.370Z"
   },
   {
    "duration": 57,
    "start_time": "2025-04-24T05:50:34.109Z"
   },
   {
    "duration": 4209,
    "start_time": "2025-04-24T05:51:15.734Z"
   },
   {
    "duration": 2884,
    "start_time": "2025-04-24T05:51:19.948Z"
   },
   {
    "duration": 19,
    "start_time": "2025-04-24T05:51:22.834Z"
   },
   {
    "duration": 21,
    "start_time": "2025-04-24T05:51:22.857Z"
   },
   {
    "duration": 94,
    "start_time": "2025-04-24T05:51:22.884Z"
   },
   {
    "duration": 139,
    "start_time": "2025-04-24T05:51:22.980Z"
   },
   {
    "duration": 9,
    "start_time": "2025-04-24T05:51:23.121Z"
   },
   {
    "duration": 74,
    "start_time": "2025-04-24T05:51:23.135Z"
   },
   {
    "duration": 9,
    "start_time": "2025-04-24T05:51:23.211Z"
   },
   {
    "duration": 34,
    "start_time": "2025-04-24T05:51:23.223Z"
   },
   {
    "duration": 17,
    "start_time": "2025-04-24T05:51:23.259Z"
   },
   {
    "duration": 28,
    "start_time": "2025-04-24T05:51:23.278Z"
   },
   {
    "duration": 36,
    "start_time": "2025-04-24T05:51:23.307Z"
   },
   {
    "duration": 200,
    "start_time": "2025-04-24T05:51:23.344Z"
   },
   {
    "duration": 7,
    "start_time": "2025-04-24T05:51:23.545Z"
   },
   {
    "duration": 64,
    "start_time": "2025-04-24T05:51:23.556Z"
   },
   {
    "duration": 400,
    "start_time": "2025-04-24T05:51:23.621Z"
   },
   {
    "duration": 103,
    "start_time": "2025-04-24T05:51:24.023Z"
   },
   {
    "duration": 83,
    "start_time": "2025-04-24T05:51:24.128Z"
   },
   {
    "duration": 103,
    "start_time": "2025-04-24T05:51:24.217Z"
   },
   {
    "duration": 66,
    "start_time": "2025-04-24T05:51:24.322Z"
   },
   {
    "duration": 197,
    "start_time": "2025-04-24T05:51:24.390Z"
   },
   {
    "duration": 176,
    "start_time": "2025-04-24T05:51:24.589Z"
   },
   {
    "duration": 192,
    "start_time": "2025-04-24T05:51:24.769Z"
   },
   {
    "duration": 16,
    "start_time": "2025-04-24T05:51:24.965Z"
   },
   {
    "duration": 33,
    "start_time": "2025-04-24T05:51:24.983Z"
   },
   {
    "duration": 86,
    "start_time": "2025-04-24T05:51:25.018Z"
   },
   {
    "duration": 16,
    "start_time": "2025-04-24T05:51:25.110Z"
   },
   {
    "duration": 222,
    "start_time": "2025-04-24T05:51:25.127Z"
   },
   {
    "duration": 182,
    "start_time": "2025-04-24T05:51:25.351Z"
   },
   {
    "duration": 43,
    "start_time": "2025-04-24T05:51:25.535Z"
   },
   {
    "duration": 40,
    "start_time": "2025-04-24T05:51:25.580Z"
   },
   {
    "duration": 41,
    "start_time": "2025-04-24T05:51:25.621Z"
   },
   {
    "duration": 267,
    "start_time": "2025-04-24T05:51:25.664Z"
   },
   {
    "duration": 309,
    "start_time": "2025-04-24T05:51:25.932Z"
   },
   {
    "duration": 317,
    "start_time": "2025-04-24T05:51:26.243Z"
   },
   {
    "duration": 77,
    "start_time": "2025-04-24T05:51:26.566Z"
   },
   {
    "duration": 33,
    "start_time": "2025-04-24T05:51:26.648Z"
   },
   {
    "duration": 21,
    "start_time": "2025-04-24T05:51:26.683Z"
   },
   {
    "duration": 22,
    "start_time": "2025-04-24T05:51:26.706Z"
   },
   {
    "duration": 15,
    "start_time": "2025-04-24T05:51:26.730Z"
   },
   {
    "duration": 53,
    "start_time": "2025-04-24T05:51:26.749Z"
   },
   {
    "duration": 12,
    "start_time": "2025-04-24T05:51:26.803Z"
   },
   {
    "duration": 196,
    "start_time": "2025-04-24T05:51:26.817Z"
   },
   {
    "duration": 55,
    "start_time": "2025-04-24T05:51:27.015Z"
   },
   {
    "duration": 41,
    "start_time": "2025-04-24T05:51:27.072Z"
   },
   {
    "duration": 7,
    "start_time": "2025-04-24T05:51:27.115Z"
   },
   {
    "duration": 18,
    "start_time": "2025-04-24T05:51:27.124Z"
   },
   {
    "duration": 218,
    "start_time": "2025-04-24T05:51:27.144Z"
   },
   {
    "duration": 203,
    "start_time": "2025-04-24T05:51:27.364Z"
   },
   {
    "duration": 1041,
    "start_time": "2025-04-24T05:55:10.553Z"
   },
   {
    "duration": 822,
    "start_time": "2025-04-24T05:55:40.764Z"
   },
   {
    "duration": 50,
    "start_time": "2025-04-24T05:57:45.653Z"
   },
   {
    "duration": 133,
    "start_time": "2025-04-24T05:59:16.044Z"
   },
   {
    "duration": 148,
    "start_time": "2025-04-24T06:00:23.057Z"
   },
   {
    "duration": 138,
    "start_time": "2025-04-24T06:05:32.317Z"
   },
   {
    "duration": 168,
    "start_time": "2025-04-24T06:05:42.836Z"
   },
   {
    "duration": 141,
    "start_time": "2025-04-24T06:06:22.441Z"
   },
   {
    "duration": 192,
    "start_time": "2025-04-24T06:06:42.598Z"
   },
   {
    "duration": 9,
    "start_time": "2025-04-24T06:06:56.773Z"
   },
   {
    "duration": 11,
    "start_time": "2025-04-24T06:07:21.758Z"
   },
   {
    "duration": 296,
    "start_time": "2025-04-24T06:07:36.086Z"
   },
   {
    "duration": 8,
    "start_time": "2025-04-24T06:08:04.813Z"
   },
   {
    "duration": 26,
    "start_time": "2025-04-24T06:08:10.022Z"
   },
   {
    "duration": 96,
    "start_time": "2025-04-24T06:15:06.887Z"
   },
   {
    "duration": 152,
    "start_time": "2025-04-24T06:15:10.367Z"
   },
   {
    "duration": 2688,
    "start_time": "2025-04-24T06:16:31.120Z"
   },
   {
    "duration": 3995,
    "start_time": "2025-04-24T06:17:04.592Z"
   },
   {
    "duration": 2315,
    "start_time": "2025-04-24T06:17:53.418Z"
   },
   {
    "duration": 13,
    "start_time": "2025-04-24T06:18:03.305Z"
   },
   {
    "duration": 13,
    "start_time": "2025-04-24T06:18:05.481Z"
   },
   {
    "duration": 24,
    "start_time": "2025-04-24T06:18:08.484Z"
   },
   {
    "duration": 133,
    "start_time": "2025-04-24T06:18:10.297Z"
   },
   {
    "duration": 32,
    "start_time": "2025-04-24T06:18:12.032Z"
   },
   {
    "duration": 39,
    "start_time": "2025-04-24T06:18:12.791Z"
   },
   {
    "duration": 12,
    "start_time": "2025-04-24T06:18:13.513Z"
   },
   {
    "duration": 49,
    "start_time": "2025-04-24T06:18:14.210Z"
   },
   {
    "duration": 8,
    "start_time": "2025-04-24T06:18:14.921Z"
   },
   {
    "duration": 30,
    "start_time": "2025-04-24T06:18:15.616Z"
   },
   {
    "duration": 33,
    "start_time": "2025-04-24T06:18:21.928Z"
   },
   {
    "duration": 172,
    "start_time": "2025-04-24T06:18:25.994Z"
   },
   {
    "duration": 5,
    "start_time": "2025-04-24T06:18:32.785Z"
   },
   {
    "duration": 414,
    "start_time": "2025-04-24T06:20:43.340Z"
   },
   {
    "duration": 119,
    "start_time": "2025-04-24T06:21:34.981Z"
   },
   {
    "duration": 131,
    "start_time": "2025-04-24T06:21:55.944Z"
   },
   {
    "duration": 66,
    "start_time": "2025-04-24T06:22:07.545Z"
   },
   {
    "duration": 106,
    "start_time": "2025-04-24T06:23:18.201Z"
   },
   {
    "duration": 131,
    "start_time": "2025-04-24T06:23:23.823Z"
   },
   {
    "duration": 115,
    "start_time": "2025-04-24T06:24:35.682Z"
   },
   {
    "duration": 127,
    "start_time": "2025-04-24T06:24:42.523Z"
   },
   {
    "duration": 71,
    "start_time": "2025-04-24T06:25:52.115Z"
   },
   {
    "duration": 219,
    "start_time": "2025-04-24T06:25:55.698Z"
   },
   {
    "duration": 112,
    "start_time": "2025-04-24T06:26:00.819Z"
   },
   {
    "duration": 117,
    "start_time": "2025-04-24T06:26:04.507Z"
   },
   {
    "duration": 68,
    "start_time": "2025-04-24T06:26:07.827Z"
   },
   {
    "duration": 67,
    "start_time": "2025-04-24T06:26:10.428Z"
   },
   {
    "duration": 123,
    "start_time": "2025-04-24T06:26:12.996Z"
   },
   {
    "duration": 3943,
    "start_time": "2025-04-24T06:26:30.644Z"
   },
   {
    "duration": 2508,
    "start_time": "2025-04-24T06:26:39.772Z"
   },
   {
    "duration": 22,
    "start_time": "2025-04-24T06:26:47.532Z"
   },
   {
    "duration": 12,
    "start_time": "2025-04-24T06:26:48.891Z"
   },
   {
    "duration": 28,
    "start_time": "2025-04-24T06:26:49.955Z"
   },
   {
    "duration": 120,
    "start_time": "2025-04-24T06:26:50.661Z"
   },
   {
    "duration": 9,
    "start_time": "2025-04-24T06:26:51.419Z"
   },
   {
    "duration": 49,
    "start_time": "2025-04-24T06:26:52.156Z"
   },
   {
    "duration": 7,
    "start_time": "2025-04-24T06:26:52.972Z"
   },
   {
    "duration": 19,
    "start_time": "2025-04-24T06:26:53.707Z"
   },
   {
    "duration": 8,
    "start_time": "2025-04-24T06:26:54.524Z"
   },
   {
    "duration": 27,
    "start_time": "2025-04-24T06:26:55.315Z"
   },
   {
    "duration": 43,
    "start_time": "2025-04-24T06:26:58.340Z"
   },
   {
    "duration": 161,
    "start_time": "2025-04-24T06:27:00.380Z"
   },
   {
    "duration": 6,
    "start_time": "2025-04-24T06:27:02.571Z"
   },
   {
    "duration": 42,
    "start_time": "2025-04-24T06:27:05.228Z"
   },
   {
    "duration": 464,
    "start_time": "2025-04-24T06:27:06.885Z"
   },
   {
    "duration": 136,
    "start_time": "2025-04-24T06:27:26.597Z"
   },
   {
    "duration": 134,
    "start_time": "2025-04-24T06:27:36.476Z"
   },
   {
    "duration": 46,
    "start_time": "2025-04-24T06:27:38.766Z"
   },
   {
    "duration": 92,
    "start_time": "2025-04-24T06:27:40.406Z"
   },
   {
    "duration": 121,
    "start_time": "2025-04-24T06:27:47.413Z"
   },
   {
    "duration": 38,
    "start_time": "2025-04-24T06:27:54.981Z"
   },
   {
    "duration": 191,
    "start_time": "2025-04-24T06:27:56.829Z"
   },
   {
    "duration": 176,
    "start_time": "2025-04-24T06:28:03.708Z"
   },
   {
    "duration": 179,
    "start_time": "2025-04-24T06:28:07.373Z"
   },
   {
    "duration": 21,
    "start_time": "2025-04-24T06:28:09.342Z"
   },
   {
    "duration": 58,
    "start_time": "2025-04-24T06:28:10.828Z"
   },
   {
    "duration": 97,
    "start_time": "2025-04-24T06:28:14.429Z"
   },
   {
    "duration": 15,
    "start_time": "2025-04-24T06:28:17.309Z"
   },
   {
    "duration": 182,
    "start_time": "2025-04-24T06:28:21.757Z"
   },
   {
    "duration": 163,
    "start_time": "2025-04-24T06:28:23.630Z"
   },
   {
    "duration": 30,
    "start_time": "2025-04-24T06:28:27.781Z"
   },
   {
    "duration": 31,
    "start_time": "2025-04-24T06:28:31.758Z"
   },
   {
    "duration": 38,
    "start_time": "2025-04-24T06:28:33.528Z"
   },
   {
    "duration": 288,
    "start_time": "2025-04-24T06:28:35.198Z"
   },
   {
    "duration": 298,
    "start_time": "2025-04-24T06:28:37.944Z"
   },
   {
    "duration": 224,
    "start_time": "2025-04-24T06:28:39.357Z"
   },
   {
    "duration": 55,
    "start_time": "2025-04-24T06:28:41.398Z"
   },
   {
    "duration": 26,
    "start_time": "2025-04-24T06:28:42.641Z"
   },
   {
    "duration": 19,
    "start_time": "2025-04-24T06:28:43.814Z"
   },
   {
    "duration": 19,
    "start_time": "2025-04-24T06:28:45.006Z"
   },
   {
    "duration": 63,
    "start_time": "2025-04-24T06:28:51.911Z"
   },
   {
    "duration": 10,
    "start_time": "2025-04-24T06:29:05.470Z"
   },
   {
    "duration": 179,
    "start_time": "2025-04-24T06:29:06.934Z"
   },
   {
    "duration": 964,
    "start_time": "2025-04-24T06:29:10.127Z"
   },
   {
    "duration": 275,
    "start_time": "2025-04-24T06:29:23.320Z"
   },
   {
    "duration": 4187,
    "start_time": "2025-04-24T06:31:53.266Z"
   },
   {
    "duration": 3338,
    "start_time": "2025-04-24T06:31:57.464Z"
   },
   {
    "duration": 12,
    "start_time": "2025-04-24T06:32:00.804Z"
   },
   {
    "duration": 30,
    "start_time": "2025-04-24T06:32:00.818Z"
   },
   {
    "duration": 37,
    "start_time": "2025-04-24T06:32:00.861Z"
   },
   {
    "duration": 123,
    "start_time": "2025-04-24T06:32:00.899Z"
   },
   {
    "duration": 8,
    "start_time": "2025-04-24T06:32:01.024Z"
   },
   {
    "duration": 87,
    "start_time": "2025-04-24T06:32:01.033Z"
   },
   {
    "duration": 8,
    "start_time": "2025-04-24T06:32:01.121Z"
   },
   {
    "duration": 41,
    "start_time": "2025-04-24T06:32:01.132Z"
   },
   {
    "duration": 29,
    "start_time": "2025-04-24T06:32:01.175Z"
   },
   {
    "duration": 40,
    "start_time": "2025-04-24T06:32:01.207Z"
   },
   {
    "duration": 29,
    "start_time": "2025-04-24T06:32:01.251Z"
   },
   {
    "duration": 162,
    "start_time": "2025-04-24T06:32:01.282Z"
   },
   {
    "duration": 12,
    "start_time": "2025-04-24T06:32:01.446Z"
   },
   {
    "duration": 38,
    "start_time": "2025-04-24T06:32:01.467Z"
   },
   {
    "duration": 410,
    "start_time": "2025-04-24T06:32:01.507Z"
   },
   {
    "duration": 105,
    "start_time": "2025-04-24T06:32:01.918Z"
   },
   {
    "duration": 67,
    "start_time": "2025-04-24T06:32:02.025Z"
   },
   {
    "duration": 102,
    "start_time": "2025-04-24T06:32:02.094Z"
   },
   {
    "duration": 62,
    "start_time": "2025-04-24T06:32:02.198Z"
   },
   {
    "duration": 215,
    "start_time": "2025-04-24T06:32:02.263Z"
   },
   {
    "duration": 196,
    "start_time": "2025-04-24T06:32:02.480Z"
   },
   {
    "duration": 194,
    "start_time": "2025-04-24T06:32:02.678Z"
   },
   {
    "duration": 6,
    "start_time": "2025-04-24T06:32:02.874Z"
   },
   {
    "duration": 60,
    "start_time": "2025-04-24T06:32:02.882Z"
   },
   {
    "duration": 83,
    "start_time": "2025-04-24T06:32:02.945Z"
   },
   {
    "duration": 42,
    "start_time": "2025-04-24T06:32:03.041Z"
   },
   {
    "duration": 201,
    "start_time": "2025-04-24T06:32:03.085Z"
   },
   {
    "duration": 166,
    "start_time": "2025-04-24T06:32:03.288Z"
   },
   {
    "duration": 38,
    "start_time": "2025-04-24T06:32:03.457Z"
   },
   {
    "duration": 23,
    "start_time": "2025-04-24T06:32:03.497Z"
   },
   {
    "duration": 53,
    "start_time": "2025-04-24T06:32:03.521Z"
   },
   {
    "duration": 319,
    "start_time": "2025-04-24T06:32:03.575Z"
   },
   {
    "duration": 378,
    "start_time": "2025-04-24T06:32:03.896Z"
   },
   {
    "duration": 241,
    "start_time": "2025-04-24T06:32:04.277Z"
   },
   {
    "duration": 72,
    "start_time": "2025-04-24T06:32:04.520Z"
   },
   {
    "duration": 14,
    "start_time": "2025-04-24T06:32:04.594Z"
   },
   {
    "duration": 37,
    "start_time": "2025-04-24T06:32:04.610Z"
   },
   {
    "duration": 37,
    "start_time": "2025-04-24T06:32:04.649Z"
   },
   {
    "duration": 2,
    "start_time": "2025-04-24T06:32:04.689Z"
   },
   {
    "duration": 53,
    "start_time": "2025-04-24T06:32:04.693Z"
   },
   {
    "duration": 20,
    "start_time": "2025-04-24T06:32:04.750Z"
   },
   {
    "duration": 169,
    "start_time": "2025-04-24T06:32:04.776Z"
   },
   {
    "duration": 935,
    "start_time": "2025-04-24T06:32:04.947Z"
   },
   {
    "duration": 2,
    "start_time": "2025-04-24T06:32:05.884Z"
   },
   {
    "duration": 199,
    "start_time": "2025-04-24T06:32:05.888Z"
   },
   {
    "duration": 24,
    "start_time": "2025-04-24T06:32:06.089Z"
   },
   {
    "duration": 109,
    "start_time": "2025-04-24T06:32:06.115Z"
   },
   {
    "duration": 32,
    "start_time": "2025-04-24T06:32:06.226Z"
   },
   {
    "duration": 30,
    "start_time": "2025-04-24T06:32:06.260Z"
   },
   {
    "duration": 227,
    "start_time": "2025-04-24T06:32:06.293Z"
   },
   {
    "duration": 352,
    "start_time": "2025-04-24T06:32:06.523Z"
   },
   {
    "duration": 397,
    "start_time": "2025-04-24T06:33:47.399Z"
   },
   {
    "duration": 806,
    "start_time": "2025-04-24T06:34:32.576Z"
   },
   {
    "duration": 430,
    "start_time": "2025-04-24T06:34:48.339Z"
   },
   {
    "duration": 23,
    "start_time": "2025-04-24T06:34:58.586Z"
   },
   {
    "duration": 130,
    "start_time": "2025-04-24T06:35:43.646Z"
   },
   {
    "duration": 140,
    "start_time": "2025-04-24T06:35:52.597Z"
   },
   {
    "duration": 344,
    "start_time": "2025-04-24T06:35:59.462Z"
   },
   {
    "duration": 27,
    "start_time": "2025-04-24T06:36:36.789Z"
   },
   {
    "duration": 18,
    "start_time": "2025-04-24T06:36:39.893Z"
   },
   {
    "duration": 261,
    "start_time": "2025-04-24T06:36:45.949Z"
   },
   {
    "duration": 3725,
    "start_time": "2025-04-24T06:36:53.432Z"
   },
   {
    "duration": 2721,
    "start_time": "2025-04-24T06:36:57.161Z"
   },
   {
    "duration": 13,
    "start_time": "2025-04-24T06:36:59.884Z"
   },
   {
    "duration": 14,
    "start_time": "2025-04-24T06:36:59.899Z"
   },
   {
    "duration": 37,
    "start_time": "2025-04-24T06:36:59.915Z"
   },
   {
    "duration": 99,
    "start_time": "2025-04-24T06:36:59.954Z"
   },
   {
    "duration": 9,
    "start_time": "2025-04-24T06:37:00.055Z"
   },
   {
    "duration": 51,
    "start_time": "2025-04-24T06:37:00.066Z"
   },
   {
    "duration": 7,
    "start_time": "2025-04-24T06:37:00.119Z"
   },
   {
    "duration": 25,
    "start_time": "2025-04-24T06:37:00.138Z"
   },
   {
    "duration": 8,
    "start_time": "2025-04-24T06:37:00.164Z"
   },
   {
    "duration": 39,
    "start_time": "2025-04-24T06:37:00.174Z"
   },
   {
    "duration": 31,
    "start_time": "2025-04-24T06:37:00.215Z"
   },
   {
    "duration": 168,
    "start_time": "2025-04-24T06:37:00.250Z"
   },
   {
    "duration": 5,
    "start_time": "2025-04-24T06:37:00.419Z"
   },
   {
    "duration": 38,
    "start_time": "2025-04-24T06:37:00.426Z"
   },
   {
    "duration": 366,
    "start_time": "2025-04-24T06:37:00.465Z"
   },
   {
    "duration": 92,
    "start_time": "2025-04-24T06:37:00.833Z"
   },
   {
    "duration": 66,
    "start_time": "2025-04-24T06:37:00.926Z"
   },
   {
    "duration": 92,
    "start_time": "2025-04-24T06:37:00.993Z"
   },
   {
    "duration": 57,
    "start_time": "2025-04-24T06:37:01.086Z"
   },
   {
    "duration": 165,
    "start_time": "2025-04-24T06:37:01.145Z"
   },
   {
    "duration": 171,
    "start_time": "2025-04-24T06:37:01.312Z"
   },
   {
    "duration": 205,
    "start_time": "2025-04-24T06:37:01.485Z"
   },
   {
    "duration": 7,
    "start_time": "2025-04-24T06:37:01.693Z"
   },
   {
    "duration": 103,
    "start_time": "2025-04-24T06:37:01.702Z"
   },
   {
    "duration": 62,
    "start_time": "2025-04-24T06:37:01.807Z"
   },
   {
    "duration": 25,
    "start_time": "2025-04-24T06:37:01.874Z"
   },
   {
    "duration": 281,
    "start_time": "2025-04-24T06:37:01.901Z"
   },
   {
    "duration": 204,
    "start_time": "2025-04-24T06:37:02.183Z"
   },
   {
    "duration": 30,
    "start_time": "2025-04-24T06:37:02.389Z"
   },
   {
    "duration": 44,
    "start_time": "2025-04-24T06:37:02.420Z"
   },
   {
    "duration": 24,
    "start_time": "2025-04-24T06:37:02.467Z"
   },
   {
    "duration": 273,
    "start_time": "2025-04-24T06:37:02.493Z"
   },
   {
    "duration": 297,
    "start_time": "2025-04-24T06:37:02.769Z"
   },
   {
    "duration": 215,
    "start_time": "2025-04-24T06:37:03.068Z"
   },
   {
    "duration": 67,
    "start_time": "2025-04-24T06:37:03.285Z"
   },
   {
    "duration": 16,
    "start_time": "2025-04-24T06:37:03.354Z"
   },
   {
    "duration": 33,
    "start_time": "2025-04-24T06:37:03.372Z"
   },
   {
    "duration": 39,
    "start_time": "2025-04-24T06:37:03.407Z"
   },
   {
    "duration": 5,
    "start_time": "2025-04-24T06:37:03.449Z"
   },
   {
    "duration": 51,
    "start_time": "2025-04-24T06:37:03.455Z"
   },
   {
    "duration": 9,
    "start_time": "2025-04-24T06:37:03.508Z"
   },
   {
    "duration": 150,
    "start_time": "2025-04-24T06:37:03.519Z"
   },
   {
    "duration": 847,
    "start_time": "2025-04-24T06:37:03.671Z"
   },
   {
    "duration": 3,
    "start_time": "2025-04-24T06:37:04.519Z"
   },
   {
    "duration": 70,
    "start_time": "2025-04-24T06:37:04.535Z"
   },
   {
    "duration": 8,
    "start_time": "2025-04-24T06:37:04.607Z"
   },
   {
    "duration": 46,
    "start_time": "2025-04-24T06:37:04.616Z"
   },
   {
    "duration": 7,
    "start_time": "2025-04-24T06:37:04.664Z"
   },
   {
    "duration": 30,
    "start_time": "2025-04-24T06:37:04.673Z"
   },
   {
    "duration": 177,
    "start_time": "2025-04-24T06:37:04.704Z"
   },
   {
    "duration": 137,
    "start_time": "2025-04-24T06:37:04.882Z"
   },
   {
    "duration": 90,
    "start_time": "2025-04-24T06:37:44.219Z"
   },
   {
    "duration": 84,
    "start_time": "2025-04-24T06:37:56.579Z"
   },
   {
    "duration": 10,
    "start_time": "2025-04-24T06:38:05.461Z"
   },
   {
    "duration": 7,
    "start_time": "2025-04-24T06:41:19.049Z"
   },
   {
    "duration": 8,
    "start_time": "2025-04-24T06:42:03.992Z"
   },
   {
    "duration": 8,
    "start_time": "2025-04-24T06:42:42.401Z"
   },
   {
    "duration": 9,
    "start_time": "2025-04-24T06:43:00.329Z"
   },
   {
    "duration": 10,
    "start_time": "2025-04-24T06:43:42.245Z"
   },
   {
    "duration": 15,
    "start_time": "2025-04-24T06:43:52.035Z"
   },
   {
    "duration": 3621,
    "start_time": "2025-04-24T06:52:08.796Z"
   },
   {
    "duration": 1964,
    "start_time": "2025-04-24T06:52:15.167Z"
   },
   {
    "duration": 27,
    "start_time": "2025-04-24T06:52:24.670Z"
   },
   {
    "duration": 176,
    "start_time": "2025-04-24T06:52:27.942Z"
   },
   {
    "duration": 7,
    "start_time": "2025-04-24T06:52:31.023Z"
   },
   {
    "duration": 32,
    "start_time": "2025-04-24T06:52:34.159Z"
   },
   {
    "duration": 370,
    "start_time": "2025-04-24T06:52:36.824Z"
   },
   {
    "duration": 89,
    "start_time": "2025-04-24T06:52:40.412Z"
   },
   {
    "duration": 57,
    "start_time": "2025-04-24T06:52:42.503Z"
   },
   {
    "duration": 95,
    "start_time": "2025-04-24T06:52:44.581Z"
   },
   {
    "duration": 55,
    "start_time": "2025-04-24T06:52:48.246Z"
   },
   {
    "duration": 228,
    "start_time": "2025-04-24T06:52:50.622Z"
   },
   {
    "duration": 160,
    "start_time": "2025-04-24T06:53:00.453Z"
   },
   {
    "duration": 163,
    "start_time": "2025-04-24T06:53:00.615Z"
   },
   {
    "duration": 7,
    "start_time": "2025-04-24T06:53:08.647Z"
   },
   {
    "duration": 31,
    "start_time": "2025-04-24T06:53:10.453Z"
   },
   {
    "duration": 56,
    "start_time": "2025-04-24T06:53:19.268Z"
   },
   {
    "duration": 17,
    "start_time": "2025-04-24T06:53:23.185Z"
   },
   {
    "duration": 171,
    "start_time": "2025-04-24T06:53:30.384Z"
   },
   {
    "duration": 140,
    "start_time": "2025-04-24T06:53:32.740Z"
   },
   {
    "duration": 31,
    "start_time": "2025-04-24T06:53:37.948Z"
   },
   {
    "duration": 25,
    "start_time": "2025-04-24T06:53:42.443Z"
   },
   {
    "duration": 234,
    "start_time": "2025-04-24T06:53:47.650Z"
   },
   {
    "duration": 274,
    "start_time": "2025-04-24T06:53:49.643Z"
   },
   {
    "duration": 207,
    "start_time": "2025-04-24T06:53:50.349Z"
   },
   {
    "duration": 38,
    "start_time": "2025-04-24T06:53:58.080Z"
   },
   {
    "duration": 14,
    "start_time": "2025-04-24T06:54:17.741Z"
   },
   {
    "duration": 152,
    "start_time": "2025-04-24T06:54:19.720Z"
   },
   {
    "duration": 791,
    "start_time": "2025-04-24T06:54:24.177Z"
   },
   {
    "duration": 84,
    "start_time": "2025-04-24T06:54:30.445Z"
   },
   {
    "duration": 10,
    "start_time": "2025-04-24T06:54:34.157Z"
   },
   {
    "duration": 9,
    "start_time": "2025-04-24T06:54:36.110Z"
   },
   {
    "duration": 8,
    "start_time": "2025-04-24T06:54:39.471Z"
   },
   {
    "duration": 148,
    "start_time": "2025-04-24T06:58:10.960Z"
   },
   {
    "duration": 6,
    "start_time": "2025-04-24T06:58:16.728Z"
   },
   {
    "duration": 8,
    "start_time": "2025-04-24T07:07:38.629Z"
   },
   {
    "duration": 8,
    "start_time": "2025-04-24T07:08:43.102Z"
   },
   {
    "duration": 141,
    "start_time": "2025-04-24T07:10:06.777Z"
   },
   {
    "duration": 135,
    "start_time": "2025-04-24T07:10:15.417Z"
   },
   {
    "duration": 151,
    "start_time": "2025-04-24T07:11:07.235Z"
   },
   {
    "duration": 146,
    "start_time": "2025-04-24T07:11:30.076Z"
   },
   {
    "duration": 143,
    "start_time": "2025-04-24T07:11:33.381Z"
   },
   {
    "duration": 8,
    "start_time": "2025-04-24T07:16:26.792Z"
   },
   {
    "duration": 7,
    "start_time": "2025-04-24T07:16:32.381Z"
   },
   {
    "duration": 8,
    "start_time": "2025-04-24T07:16:40.375Z"
   },
   {
    "duration": 138,
    "start_time": "2025-04-24T07:16:48.344Z"
   },
   {
    "duration": 34,
    "start_time": "2025-04-24T07:17:35.978Z"
   },
   {
    "duration": 9,
    "start_time": "2025-04-24T07:19:21.445Z"
   },
   {
    "duration": 7,
    "start_time": "2025-04-24T07:20:14.527Z"
   },
   {
    "duration": 44,
    "start_time": "2025-04-24T07:20:28.895Z"
   },
   {
    "duration": 8,
    "start_time": "2025-04-24T07:21:15.888Z"
   },
   {
    "duration": 35,
    "start_time": "2025-04-24T07:24:07.270Z"
   },
   {
    "duration": 35,
    "start_time": "2025-04-24T07:24:19.504Z"
   },
   {
    "duration": 8,
    "start_time": "2025-04-24T07:24:28.413Z"
   },
   {
    "duration": 36,
    "start_time": "2025-04-24T07:24:58.865Z"
   },
   {
    "duration": 8,
    "start_time": "2025-04-24T07:25:02.329Z"
   },
   {
    "duration": 40,
    "start_time": "2025-04-24T07:25:50.906Z"
   },
   {
    "duration": 7,
    "start_time": "2025-04-24T07:26:00.065Z"
   },
   {
    "duration": 153,
    "start_time": "2025-04-24T07:27:13.123Z"
   },
   {
    "duration": 4,
    "start_time": "2025-04-24T07:30:09.936Z"
   },
   {
    "duration": 11,
    "start_time": "2025-04-24T07:30:14.344Z"
   },
   {
    "duration": 10,
    "start_time": "2025-04-24T07:30:24.896Z"
   },
   {
    "duration": 13,
    "start_time": "2025-04-24T07:30:43.521Z"
   },
   {
    "duration": 49,
    "start_time": "2025-04-24T07:34:00.414Z"
   },
   {
    "duration": 41,
    "start_time": "2025-04-24T07:34:16.791Z"
   },
   {
    "duration": 36,
    "start_time": "2025-04-24T07:34:27.580Z"
   },
   {
    "duration": 6,
    "start_time": "2025-04-24T07:34:37.918Z"
   },
   {
    "duration": 17,
    "start_time": "2025-04-24T07:34:46.701Z"
   },
   {
    "duration": 3596,
    "start_time": "2025-04-24T07:34:56.129Z"
   },
   {
    "duration": 2042,
    "start_time": "2025-04-24T07:34:59.728Z"
   },
   {
    "duration": 13,
    "start_time": "2025-04-24T07:35:01.772Z"
   },
   {
    "duration": 36,
    "start_time": "2025-04-24T07:35:01.787Z"
   },
   {
    "duration": 85,
    "start_time": "2025-04-24T07:35:01.825Z"
   },
   {
    "duration": 150,
    "start_time": "2025-04-24T07:35:01.912Z"
   },
   {
    "duration": 8,
    "start_time": "2025-04-24T07:35:02.064Z"
   },
   {
    "duration": 67,
    "start_time": "2025-04-24T07:35:02.074Z"
   },
   {
    "duration": 7,
    "start_time": "2025-04-24T07:35:02.143Z"
   },
   {
    "duration": 40,
    "start_time": "2025-04-24T07:35:02.152Z"
   },
   {
    "duration": 46,
    "start_time": "2025-04-24T07:35:02.194Z"
   },
   {
    "duration": 29,
    "start_time": "2025-04-24T07:35:02.242Z"
   },
   {
    "duration": 65,
    "start_time": "2025-04-24T07:35:02.272Z"
   },
   {
    "duration": 152,
    "start_time": "2025-04-24T07:35:02.339Z"
   },
   {
    "duration": 5,
    "start_time": "2025-04-24T07:35:02.492Z"
   },
   {
    "duration": 39,
    "start_time": "2025-04-24T07:35:02.499Z"
   },
   {
    "duration": 317,
    "start_time": "2025-04-24T07:35:02.540Z"
   },
   {
    "duration": 88,
    "start_time": "2025-04-24T07:35:02.859Z"
   },
   {
    "duration": 46,
    "start_time": "2025-04-24T07:35:02.949Z"
   },
   {
    "duration": 80,
    "start_time": "2025-04-24T07:35:02.996Z"
   },
   {
    "duration": 43,
    "start_time": "2025-04-24T07:35:03.078Z"
   },
   {
    "duration": 176,
    "start_time": "2025-04-24T07:35:03.122Z"
   },
   {
    "duration": 154,
    "start_time": "2025-04-24T07:35:03.299Z"
   },
   {
    "duration": 156,
    "start_time": "2025-04-24T07:35:03.454Z"
   },
   {
    "duration": 6,
    "start_time": "2025-04-24T07:35:03.612Z"
   },
   {
    "duration": 40,
    "start_time": "2025-04-24T07:35:03.620Z"
   },
   {
    "duration": 58,
    "start_time": "2025-04-24T07:35:03.661Z"
   },
   {
    "duration": 15,
    "start_time": "2025-04-24T07:35:03.735Z"
   },
   {
    "duration": 169,
    "start_time": "2025-04-24T07:35:03.752Z"
   },
   {
    "duration": 146,
    "start_time": "2025-04-24T07:35:03.923Z"
   },
   {
    "duration": 34,
    "start_time": "2025-04-24T07:35:04.071Z"
   },
   {
    "duration": 47,
    "start_time": "2025-04-24T07:35:04.107Z"
   },
   {
    "duration": 35,
    "start_time": "2025-04-24T07:35:04.156Z"
   },
   {
    "duration": 255,
    "start_time": "2025-04-24T07:35:04.193Z"
   },
   {
    "duration": 272,
    "start_time": "2025-04-24T07:35:04.450Z"
   },
   {
    "duration": 219,
    "start_time": "2025-04-24T07:35:04.724Z"
   },
   {
    "duration": 52,
    "start_time": "2025-04-24T07:35:04.945Z"
   },
   {
    "duration": 15,
    "start_time": "2025-04-24T07:35:04.999Z"
   },
   {
    "duration": 22,
    "start_time": "2025-04-24T07:35:05.035Z"
   },
   {
    "duration": 25,
    "start_time": "2025-04-24T07:35:05.059Z"
   },
   {
    "duration": 15,
    "start_time": "2025-04-24T07:35:05.086Z"
   },
   {
    "duration": 58,
    "start_time": "2025-04-24T07:35:05.103Z"
   },
   {
    "duration": 10,
    "start_time": "2025-04-24T07:35:05.162Z"
   },
   {
    "duration": 169,
    "start_time": "2025-04-24T07:35:05.173Z"
   },
   {
    "duration": 769,
    "start_time": "2025-04-24T07:35:05.344Z"
   },
   {
    "duration": 3,
    "start_time": "2025-04-24T07:35:06.114Z"
   },
   {
    "duration": 102,
    "start_time": "2025-04-24T07:35:06.118Z"
   },
   {
    "duration": 9,
    "start_time": "2025-04-24T07:35:06.221Z"
   },
   {
    "duration": 23,
    "start_time": "2025-04-24T07:35:06.231Z"
   },
   {
    "duration": 7,
    "start_time": "2025-04-24T07:35:06.256Z"
   },
   {
    "duration": 2,
    "start_time": "2025-04-24T07:35:06.265Z"
   },
   {
    "duration": 54,
    "start_time": "2025-04-24T07:35:06.268Z"
   },
   {
    "duration": 38,
    "start_time": "2025-04-24T07:35:06.323Z"
   },
   {
    "duration": 64,
    "start_time": "2025-04-24T07:35:06.362Z"
   },
   {
    "duration": 197,
    "start_time": "2025-04-24T07:35:06.428Z"
   },
   {
    "duration": 12,
    "start_time": "2025-04-24T07:35:06.626Z"
   },
   {
    "duration": 8,
    "start_time": "2025-04-24T07:35:06.640Z"
   },
   {
    "duration": 220,
    "start_time": "2025-04-24T07:35:06.650Z"
   },
   {
    "duration": 131,
    "start_time": "2025-04-24T07:35:06.872Z"
   },
   {
    "duration": 7,
    "start_time": "2025-04-24T07:35:07.005Z"
   },
   {
    "duration": 155,
    "start_time": "2025-04-24T07:35:07.013Z"
   },
   {
    "duration": 4,
    "start_time": "2025-04-24T07:36:48.790Z"
   },
   {
    "duration": 2,
    "start_time": "2025-04-24T07:37:02.193Z"
   },
   {
    "duration": 3,
    "start_time": "2025-04-24T07:37:25.862Z"
   },
   {
    "duration": 2,
    "start_time": "2025-04-24T07:37:27.326Z"
   },
   {
    "duration": 2,
    "start_time": "2025-04-24T07:37:29.375Z"
   },
   {
    "duration": 145,
    "start_time": "2025-04-24T07:37:52.032Z"
   },
   {
    "duration": 10,
    "start_time": "2025-04-24T07:39:55.563Z"
   },
   {
    "duration": 14,
    "start_time": "2025-04-24T07:39:59.882Z"
   },
   {
    "duration": 130,
    "start_time": "2025-04-24T07:40:32.092Z"
   },
   {
    "duration": 128,
    "start_time": "2025-04-24T07:40:43.588Z"
   },
   {
    "duration": 124,
    "start_time": "2025-04-24T07:40:57.782Z"
   },
   {
    "duration": 132,
    "start_time": "2025-04-24T07:41:01.396Z"
   },
   {
    "duration": 121,
    "start_time": "2025-04-24T07:42:07.278Z"
   },
   {
    "duration": 37,
    "start_time": "2025-04-24T07:42:41.663Z"
   },
   {
    "duration": 14,
    "start_time": "2025-04-24T07:42:43.343Z"
   },
   {
    "duration": 37,
    "start_time": "2025-04-24T07:42:59.169Z"
   },
   {
    "duration": 15,
    "start_time": "2025-04-24T07:43:02.124Z"
   },
   {
    "duration": 231,
    "start_time": "2025-04-24T07:43:13.824Z"
   },
   {
    "duration": 70,
    "start_time": "2025-04-24T07:43:45.249Z"
   },
   {
    "duration": 41,
    "start_time": "2025-04-24T07:43:51.248Z"
   },
   {
    "duration": 15,
    "start_time": "2025-04-24T07:43:54.226Z"
   },
   {
    "duration": 128,
    "start_time": "2025-04-24T07:44:02.464Z"
   },
   {
    "duration": 125,
    "start_time": "2025-04-24T07:44:08.089Z"
   },
   {
    "duration": 36,
    "start_time": "2025-04-24T07:46:26.284Z"
   },
   {
    "duration": 15,
    "start_time": "2025-04-24T07:46:28.149Z"
   },
   {
    "duration": 132,
    "start_time": "2025-04-24T07:46:32.132Z"
   },
   {
    "duration": 9,
    "start_time": "2025-04-24T07:47:09.884Z"
   },
   {
    "duration": 6,
    "start_time": "2025-04-24T07:49:05.527Z"
   },
   {
    "duration": 108,
    "start_time": "2025-04-24T07:50:29.416Z"
   },
   {
    "duration": 3571,
    "start_time": "2025-04-24T07:50:47.951Z"
   },
   {
    "duration": 1782,
    "start_time": "2025-04-24T07:50:51.525Z"
   },
   {
    "duration": 13,
    "start_time": "2025-04-24T07:50:53.308Z"
   },
   {
    "duration": 22,
    "start_time": "2025-04-24T07:50:53.323Z"
   },
   {
    "duration": 24,
    "start_time": "2025-04-24T07:50:53.347Z"
   },
   {
    "duration": 109,
    "start_time": "2025-04-24T07:50:53.372Z"
   },
   {
    "duration": 9,
    "start_time": "2025-04-24T07:50:53.482Z"
   },
   {
    "duration": 58,
    "start_time": "2025-04-24T07:50:53.492Z"
   },
   {
    "duration": 6,
    "start_time": "2025-04-24T07:50:53.552Z"
   },
   {
    "duration": 17,
    "start_time": "2025-04-24T07:50:53.561Z"
   },
   {
    "duration": 8,
    "start_time": "2025-04-24T07:50:53.580Z"
   },
   {
    "duration": 48,
    "start_time": "2025-04-24T07:50:53.589Z"
   },
   {
    "duration": 24,
    "start_time": "2025-04-24T07:50:53.639Z"
   },
   {
    "duration": 154,
    "start_time": "2025-04-24T07:50:53.664Z"
   },
   {
    "duration": 5,
    "start_time": "2025-04-24T07:50:53.819Z"
   },
   {
    "duration": 35,
    "start_time": "2025-04-24T07:50:53.825Z"
   },
   {
    "duration": 351,
    "start_time": "2025-04-24T07:50:53.861Z"
   },
   {
    "duration": 93,
    "start_time": "2025-04-24T07:50:54.214Z"
   },
   {
    "duration": 54,
    "start_time": "2025-04-24T07:50:54.309Z"
   },
   {
    "duration": 74,
    "start_time": "2025-04-24T07:50:54.365Z"
   },
   {
    "duration": 42,
    "start_time": "2025-04-24T07:50:54.446Z"
   },
   {
    "duration": 171,
    "start_time": "2025-04-24T07:50:54.489Z"
   },
   {
    "duration": 151,
    "start_time": "2025-04-24T07:50:54.661Z"
   },
   {
    "duration": 159,
    "start_time": "2025-04-24T07:50:54.814Z"
   },
   {
    "duration": 5,
    "start_time": "2025-04-24T07:50:54.975Z"
   },
   {
    "duration": 46,
    "start_time": "2025-04-24T07:50:54.981Z"
   },
   {
    "duration": 62,
    "start_time": "2025-04-24T07:50:55.029Z"
   },
   {
    "duration": 13,
    "start_time": "2025-04-24T07:50:55.094Z"
   },
   {
    "duration": 174,
    "start_time": "2025-04-24T07:50:55.108Z"
   },
   {
    "duration": 130,
    "start_time": "2025-04-24T07:50:55.284Z"
   },
   {
    "duration": 45,
    "start_time": "2025-04-24T07:50:55.415Z"
   },
   {
    "duration": 23,
    "start_time": "2025-04-24T07:50:55.461Z"
   },
   {
    "duration": 31,
    "start_time": "2025-04-24T07:50:55.485Z"
   },
   {
    "duration": 257,
    "start_time": "2025-04-24T07:50:55.517Z"
   },
   {
    "duration": 264,
    "start_time": "2025-04-24T07:50:55.775Z"
   },
   {
    "duration": 202,
    "start_time": "2025-04-24T07:50:56.041Z"
   },
   {
    "duration": 46,
    "start_time": "2025-04-24T07:50:56.248Z"
   },
   {
    "duration": 13,
    "start_time": "2025-04-24T07:50:56.296Z"
   },
   {
    "duration": 35,
    "start_time": "2025-04-24T07:50:56.310Z"
   },
   {
    "duration": 20,
    "start_time": "2025-04-24T07:50:56.347Z"
   },
   {
    "duration": 3,
    "start_time": "2025-04-24T07:50:56.369Z"
   },
   {
    "duration": 43,
    "start_time": "2025-04-24T07:50:56.373Z"
   },
   {
    "duration": 16,
    "start_time": "2025-04-24T07:50:56.436Z"
   },
   {
    "duration": 174,
    "start_time": "2025-04-24T07:50:56.454Z"
   },
   {
    "duration": 789,
    "start_time": "2025-04-24T07:50:56.630Z"
   },
   {
    "duration": 16,
    "start_time": "2025-04-24T07:50:57.421Z"
   },
   {
    "duration": 76,
    "start_time": "2025-04-24T07:50:57.439Z"
   },
   {
    "duration": 8,
    "start_time": "2025-04-24T07:50:57.517Z"
   },
   {
    "duration": 26,
    "start_time": "2025-04-24T07:50:57.526Z"
   },
   {
    "duration": 8,
    "start_time": "2025-04-24T07:50:57.554Z"
   },
   {
    "duration": 3,
    "start_time": "2025-04-24T07:50:57.563Z"
   },
   {
    "duration": 39,
    "start_time": "2025-04-24T07:50:57.567Z"
   },
   {
    "duration": 34,
    "start_time": "2025-04-24T07:50:57.608Z"
   },
   {
    "duration": 9,
    "start_time": "2025-04-24T07:50:57.645Z"
   },
   {
    "duration": 40,
    "start_time": "2025-04-24T07:50:57.656Z"
   },
   {
    "duration": 15,
    "start_time": "2025-04-24T07:50:57.697Z"
   },
   {
    "duration": 132,
    "start_time": "2025-04-24T07:50:57.736Z"
   },
   {
    "duration": 3,
    "start_time": "2025-04-24T07:50:57.870Z"
   },
   {
    "duration": 48,
    "start_time": "2025-04-24T07:50:57.874Z"
   },
   {
    "duration": 4,
    "start_time": "2025-04-24T07:50:57.923Z"
   },
   {
    "duration": 2,
    "start_time": "2025-04-24T07:50:57.929Z"
   },
   {
    "duration": 13,
    "start_time": "2025-04-24T07:50:57.933Z"
   },
   {
    "duration": 132,
    "start_time": "2025-04-24T07:50:57.947Z"
   },
   {
    "duration": 8,
    "start_time": "2025-04-24T07:52:16.422Z"
   },
   {
    "duration": 3641,
    "start_time": "2025-04-24T07:52:24.452Z"
   },
   {
    "duration": 1904,
    "start_time": "2025-04-24T07:52:28.096Z"
   },
   {
    "duration": 13,
    "start_time": "2025-04-24T07:52:30.002Z"
   },
   {
    "duration": 77,
    "start_time": "2025-04-24T07:52:30.017Z"
   },
   {
    "duration": 35,
    "start_time": "2025-04-24T07:52:30.096Z"
   },
   {
    "duration": 130,
    "start_time": "2025-04-24T07:52:30.132Z"
   },
   {
    "duration": 9,
    "start_time": "2025-04-24T07:52:30.264Z"
   },
   {
    "duration": 71,
    "start_time": "2025-04-24T07:52:30.274Z"
   },
   {
    "duration": 8,
    "start_time": "2025-04-24T07:52:30.349Z"
   },
   {
    "duration": 24,
    "start_time": "2025-04-24T07:52:30.360Z"
   },
   {
    "duration": 90,
    "start_time": "2025-04-24T07:52:30.385Z"
   },
   {
    "duration": 55,
    "start_time": "2025-04-24T07:52:30.477Z"
   },
   {
    "duration": 34,
    "start_time": "2025-04-24T07:52:30.534Z"
   },
   {
    "duration": 152,
    "start_time": "2025-04-24T07:52:30.569Z"
   },
   {
    "duration": 5,
    "start_time": "2025-04-24T07:52:30.723Z"
   },
   {
    "duration": 31,
    "start_time": "2025-04-24T07:52:30.729Z"
   },
   {
    "duration": 337,
    "start_time": "2025-04-24T07:52:30.761Z"
   },
   {
    "duration": 97,
    "start_time": "2025-04-24T07:52:31.100Z"
   },
   {
    "duration": 58,
    "start_time": "2025-04-24T07:52:31.199Z"
   },
   {
    "duration": 65,
    "start_time": "2025-04-24T07:52:31.258Z"
   },
   {
    "duration": 43,
    "start_time": "2025-04-24T07:52:31.337Z"
   },
   {
    "duration": 187,
    "start_time": "2025-04-24T07:52:31.381Z"
   },
   {
    "duration": 163,
    "start_time": "2025-04-24T07:52:31.570Z"
   },
   {
    "duration": 156,
    "start_time": "2025-04-24T07:52:31.737Z"
   },
   {
    "duration": 6,
    "start_time": "2025-04-24T07:52:31.895Z"
   },
   {
    "duration": 69,
    "start_time": "2025-04-24T07:52:31.902Z"
   },
   {
    "duration": 57,
    "start_time": "2025-04-24T07:52:31.972Z"
   },
   {
    "duration": 17,
    "start_time": "2025-04-24T07:52:32.038Z"
   },
   {
    "duration": 184,
    "start_time": "2025-04-24T07:52:32.056Z"
   },
   {
    "duration": 132,
    "start_time": "2025-04-24T07:52:32.241Z"
   },
   {
    "duration": 31,
    "start_time": "2025-04-24T07:52:32.375Z"
   },
   {
    "duration": 73,
    "start_time": "2025-04-24T07:52:32.408Z"
   },
   {
    "duration": 38,
    "start_time": "2025-04-24T07:52:32.483Z"
   },
   {
    "duration": 253,
    "start_time": "2025-04-24T07:52:32.523Z"
   },
   {
    "duration": 284,
    "start_time": "2025-04-24T07:52:32.778Z"
   },
   {
    "duration": 201,
    "start_time": "2025-04-24T07:52:33.064Z"
   },
   {
    "duration": 48,
    "start_time": "2025-04-24T07:52:33.267Z"
   },
   {
    "duration": 31,
    "start_time": "2025-04-24T07:52:33.316Z"
   },
   {
    "duration": 89,
    "start_time": "2025-04-24T07:52:33.351Z"
   },
   {
    "duration": 31,
    "start_time": "2025-04-24T07:52:33.442Z"
   },
   {
    "duration": 15,
    "start_time": "2025-04-24T07:52:33.475Z"
   },
   {
    "duration": 44,
    "start_time": "2025-04-24T07:52:33.492Z"
   },
   {
    "duration": 14,
    "start_time": "2025-04-24T07:52:33.541Z"
   },
   {
    "duration": 147,
    "start_time": "2025-04-24T07:52:33.557Z"
   },
   {
    "duration": 771,
    "start_time": "2025-04-24T07:52:33.706Z"
   },
   {
    "duration": 3,
    "start_time": "2025-04-24T07:52:34.479Z"
   },
   {
    "duration": 91,
    "start_time": "2025-04-24T07:52:34.484Z"
   },
   {
    "duration": 9,
    "start_time": "2025-04-24T07:52:34.578Z"
   },
   {
    "duration": 12,
    "start_time": "2025-04-24T07:52:34.589Z"
   },
   {
    "duration": 45,
    "start_time": "2025-04-24T07:52:34.603Z"
   },
   {
    "duration": 3,
    "start_time": "2025-04-24T07:52:34.651Z"
   },
   {
    "duration": 8,
    "start_time": "2025-04-24T07:52:34.655Z"
   },
   {
    "duration": 38,
    "start_time": "2025-04-24T07:52:34.664Z"
   },
   {
    "duration": 8,
    "start_time": "2025-04-24T07:52:34.703Z"
   },
   {
    "duration": 60,
    "start_time": "2025-04-24T07:52:34.712Z"
   },
   {
    "duration": 14,
    "start_time": "2025-04-24T07:52:34.774Z"
   },
   {
    "duration": 153,
    "start_time": "2025-04-24T07:52:34.790Z"
   },
   {
    "duration": 4,
    "start_time": "2025-04-24T07:52:34.945Z"
   },
   {
    "duration": 3,
    "start_time": "2025-04-24T07:52:34.951Z"
   },
   {
    "duration": 9,
    "start_time": "2025-04-24T07:52:34.955Z"
   },
   {
    "duration": 4,
    "start_time": "2025-04-24T07:52:34.965Z"
   },
   {
    "duration": 14,
    "start_time": "2025-04-24T07:52:34.971Z"
   },
   {
    "duration": 188,
    "start_time": "2025-04-24T07:52:34.986Z"
   },
   {
    "duration": 124,
    "start_time": "2025-04-24T07:53:17.049Z"
   },
   {
    "duration": 3572,
    "start_time": "2025-04-24T07:53:35.493Z"
   },
   {
    "duration": 2134,
    "start_time": "2025-04-24T07:53:39.067Z"
   },
   {
    "duration": 13,
    "start_time": "2025-04-24T07:53:41.203Z"
   },
   {
    "duration": 12,
    "start_time": "2025-04-24T07:53:41.219Z"
   },
   {
    "duration": 32,
    "start_time": "2025-04-24T07:53:41.233Z"
   },
   {
    "duration": 102,
    "start_time": "2025-04-24T07:53:41.267Z"
   },
   {
    "duration": 9,
    "start_time": "2025-04-24T07:53:41.371Z"
   },
   {
    "duration": 39,
    "start_time": "2025-04-24T07:53:41.381Z"
   },
   {
    "duration": 10,
    "start_time": "2025-04-24T07:53:41.436Z"
   },
   {
    "duration": 18,
    "start_time": "2025-04-24T07:53:41.449Z"
   },
   {
    "duration": 7,
    "start_time": "2025-04-24T07:53:41.469Z"
   },
   {
    "duration": 22,
    "start_time": "2025-04-24T07:53:41.477Z"
   },
   {
    "duration": 50,
    "start_time": "2025-04-24T07:53:41.501Z"
   },
   {
    "duration": 158,
    "start_time": "2025-04-24T07:53:41.553Z"
   },
   {
    "duration": 4,
    "start_time": "2025-04-24T07:53:41.713Z"
   },
   {
    "duration": 27,
    "start_time": "2025-04-24T07:53:41.734Z"
   },
   {
    "duration": 329,
    "start_time": "2025-04-24T07:53:41.762Z"
   },
   {
    "duration": 80,
    "start_time": "2025-04-24T07:53:42.093Z"
   },
   {
    "duration": 41,
    "start_time": "2025-04-24T07:53:42.174Z"
   },
   {
    "duration": 89,
    "start_time": "2025-04-24T07:53:42.217Z"
   },
   {
    "duration": 50,
    "start_time": "2025-04-24T07:53:42.308Z"
   },
   {
    "duration": 168,
    "start_time": "2025-04-24T07:53:42.360Z"
   },
   {
    "duration": 167,
    "start_time": "2025-04-24T07:53:42.530Z"
   },
   {
    "duration": 166,
    "start_time": "2025-04-24T07:53:42.699Z"
   },
   {
    "duration": 5,
    "start_time": "2025-04-24T07:53:42.867Z"
   },
   {
    "duration": 30,
    "start_time": "2025-04-24T07:53:42.874Z"
   },
   {
    "duration": 81,
    "start_time": "2025-04-24T07:53:42.906Z"
   },
   {
    "duration": 14,
    "start_time": "2025-04-24T07:53:42.990Z"
   },
   {
    "duration": 176,
    "start_time": "2025-04-24T07:53:43.005Z"
   },
   {
    "duration": 137,
    "start_time": "2025-04-24T07:53:43.183Z"
   },
   {
    "duration": 41,
    "start_time": "2025-04-24T07:53:43.322Z"
   },
   {
    "duration": 30,
    "start_time": "2025-04-24T07:53:43.365Z"
   },
   {
    "duration": 57,
    "start_time": "2025-04-24T07:53:43.397Z"
   },
   {
    "duration": 234,
    "start_time": "2025-04-24T07:53:43.456Z"
   },
   {
    "duration": 262,
    "start_time": "2025-04-24T07:53:43.692Z"
   },
   {
    "duration": 226,
    "start_time": "2025-04-24T07:53:43.955Z"
   },
   {
    "duration": 68,
    "start_time": "2025-04-24T07:53:44.183Z"
   },
   {
    "duration": 13,
    "start_time": "2025-04-24T07:53:44.253Z"
   },
   {
    "duration": 17,
    "start_time": "2025-04-24T07:53:44.268Z"
   },
   {
    "duration": 18,
    "start_time": "2025-04-24T07:53:44.287Z"
   },
   {
    "duration": 3,
    "start_time": "2025-04-24T07:53:44.306Z"
   },
   {
    "duration": 40,
    "start_time": "2025-04-24T07:53:44.337Z"
   },
   {
    "duration": 8,
    "start_time": "2025-04-24T07:53:44.379Z"
   },
   {
    "duration": 163,
    "start_time": "2025-04-24T07:53:44.389Z"
   },
   {
    "duration": 742,
    "start_time": "2025-04-24T07:53:44.554Z"
   },
   {
    "duration": 2,
    "start_time": "2025-04-24T07:53:45.298Z"
   },
   {
    "duration": 180,
    "start_time": "2025-04-24T07:53:45.302Z"
   },
   {
    "duration": 8,
    "start_time": "2025-04-24T07:53:45.484Z"
   },
   {
    "duration": 10,
    "start_time": "2025-04-24T07:53:45.493Z"
   },
   {
    "duration": 33,
    "start_time": "2025-04-24T07:53:45.504Z"
   },
   {
    "duration": 3,
    "start_time": "2025-04-24T07:53:45.544Z"
   },
   {
    "duration": 19,
    "start_time": "2025-04-24T07:53:45.549Z"
   },
   {
    "duration": 37,
    "start_time": "2025-04-24T07:53:45.570Z"
   },
   {
    "duration": 12,
    "start_time": "2025-04-24T07:53:45.609Z"
   },
   {
    "duration": 67,
    "start_time": "2025-04-24T07:53:45.622Z"
   },
   {
    "duration": 14,
    "start_time": "2025-04-24T07:53:45.691Z"
   },
   {
    "duration": 121,
    "start_time": "2025-04-24T07:53:45.707Z"
   },
   {
    "duration": 9,
    "start_time": "2025-04-24T07:53:45.830Z"
   },
   {
    "duration": 4,
    "start_time": "2025-04-24T07:53:45.844Z"
   },
   {
    "duration": 22,
    "start_time": "2025-04-24T07:53:45.850Z"
   },
   {
    "duration": 59,
    "start_time": "2025-04-24T07:53:45.874Z"
   },
   {
    "duration": 19,
    "start_time": "2025-04-24T07:53:45.935Z"
   },
   {
    "duration": 130,
    "start_time": "2025-04-24T07:53:45.955Z"
   },
   {
    "duration": 137,
    "start_time": "2025-04-24T07:55:34.710Z"
   },
   {
    "duration": 39,
    "start_time": "2025-04-24T07:56:04.689Z"
   },
   {
    "duration": 19,
    "start_time": "2025-04-24T07:56:06.648Z"
   },
   {
    "duration": 131,
    "start_time": "2025-04-24T07:56:08.527Z"
   },
   {
    "duration": 1311,
    "start_time": "2025-04-24T07:59:09.444Z"
   },
   {
    "duration": 17,
    "start_time": "2025-04-24T07:59:19.236Z"
   },
   {
    "duration": 136,
    "start_time": "2025-04-24T07:59:30.300Z"
   },
   {
    "duration": 3515,
    "start_time": "2025-04-24T08:01:02.858Z"
   },
   {
    "duration": 2295,
    "start_time": "2025-04-24T08:01:06.376Z"
   },
   {
    "duration": 12,
    "start_time": "2025-04-24T08:01:08.673Z"
   },
   {
    "duration": 11,
    "start_time": "2025-04-24T08:01:08.687Z"
   },
   {
    "duration": 24,
    "start_time": "2025-04-24T08:01:08.700Z"
   },
   {
    "duration": 100,
    "start_time": "2025-04-24T08:01:08.726Z"
   },
   {
    "duration": 9,
    "start_time": "2025-04-24T08:01:08.835Z"
   },
   {
    "duration": 45,
    "start_time": "2025-04-24T08:01:08.846Z"
   },
   {
    "duration": 8,
    "start_time": "2025-04-24T08:01:08.893Z"
   },
   {
    "duration": 40,
    "start_time": "2025-04-24T08:01:08.904Z"
   },
   {
    "duration": 7,
    "start_time": "2025-04-24T08:01:08.946Z"
   },
   {
    "duration": 23,
    "start_time": "2025-04-24T08:01:08.955Z"
   },
   {
    "duration": 31,
    "start_time": "2025-04-24T08:01:08.980Z"
   },
   {
    "duration": 157,
    "start_time": "2025-04-24T08:01:09.036Z"
   },
   {
    "duration": 5,
    "start_time": "2025-04-24T08:01:09.195Z"
   },
   {
    "duration": 36,
    "start_time": "2025-04-24T08:01:09.201Z"
   },
   {
    "duration": 305,
    "start_time": "2025-04-24T08:01:09.238Z"
   },
   {
    "duration": 72,
    "start_time": "2025-04-24T08:01:09.545Z"
   },
   {
    "duration": 55,
    "start_time": "2025-04-24T08:01:09.619Z"
   },
   {
    "duration": 72,
    "start_time": "2025-04-24T08:01:09.676Z"
   },
   {
    "duration": 41,
    "start_time": "2025-04-24T08:01:09.749Z"
   },
   {
    "duration": 168,
    "start_time": "2025-04-24T08:01:09.791Z"
   },
   {
    "duration": 150,
    "start_time": "2025-04-24T08:01:09.961Z"
   },
   {
    "duration": 149,
    "start_time": "2025-04-24T08:01:10.113Z"
   },
   {
    "duration": 6,
    "start_time": "2025-04-24T08:01:10.264Z"
   },
   {
    "duration": 31,
    "start_time": "2025-04-24T08:01:10.271Z"
   },
   {
    "duration": 81,
    "start_time": "2025-04-24T08:01:10.304Z"
   },
   {
    "duration": 15,
    "start_time": "2025-04-24T08:01:10.389Z"
   },
   {
    "duration": 175,
    "start_time": "2025-04-24T08:01:10.405Z"
   },
   {
    "duration": 137,
    "start_time": "2025-04-24T08:01:10.582Z"
   },
   {
    "duration": 33,
    "start_time": "2025-04-24T08:01:10.721Z"
   },
   {
    "duration": 22,
    "start_time": "2025-04-24T08:01:10.756Z"
   },
   {
    "duration": 21,
    "start_time": "2025-04-24T08:01:10.780Z"
   },
   {
    "duration": 255,
    "start_time": "2025-04-24T08:01:10.802Z"
   },
   {
    "duration": 250,
    "start_time": "2025-04-24T08:01:11.058Z"
   },
   {
    "duration": 192,
    "start_time": "2025-04-24T08:01:11.310Z"
   },
   {
    "duration": 60,
    "start_time": "2025-04-24T08:01:11.503Z"
   },
   {
    "duration": 16,
    "start_time": "2025-04-24T08:01:11.565Z"
   },
   {
    "duration": 20,
    "start_time": "2025-04-24T08:01:11.582Z"
   },
   {
    "duration": 45,
    "start_time": "2025-04-24T08:01:11.604Z"
   },
   {
    "duration": 3,
    "start_time": "2025-04-24T08:01:11.651Z"
   },
   {
    "duration": 47,
    "start_time": "2025-04-24T08:01:11.655Z"
   },
   {
    "duration": 9,
    "start_time": "2025-04-24T08:01:11.704Z"
   },
   {
    "duration": 163,
    "start_time": "2025-04-24T08:01:11.715Z"
   },
   {
    "duration": 703,
    "start_time": "2025-04-24T08:01:11.881Z"
   },
   {
    "duration": 3,
    "start_time": "2025-04-24T08:01:12.587Z"
   },
   {
    "duration": 94,
    "start_time": "2025-04-24T08:01:12.591Z"
   },
   {
    "duration": 9,
    "start_time": "2025-04-24T08:01:12.687Z"
   },
   {
    "duration": 9,
    "start_time": "2025-04-24T08:01:12.698Z"
   },
   {
    "duration": 28,
    "start_time": "2025-04-24T08:01:12.708Z"
   },
   {
    "duration": 2,
    "start_time": "2025-04-24T08:01:12.738Z"
   },
   {
    "duration": 15,
    "start_time": "2025-04-24T08:01:12.741Z"
   },
   {
    "duration": 39,
    "start_time": "2025-04-24T08:01:12.758Z"
   },
   {
    "duration": 7,
    "start_time": "2025-04-24T08:01:12.799Z"
   },
   {
    "duration": 54,
    "start_time": "2025-04-24T08:01:12.808Z"
   },
   {
    "duration": 15,
    "start_time": "2025-04-24T08:01:12.864Z"
   },
   {
    "duration": 151,
    "start_time": "2025-04-24T08:01:12.880Z"
   },
   {
    "duration": 3,
    "start_time": "2025-04-24T08:01:13.035Z"
   },
   {
    "duration": 5,
    "start_time": "2025-04-24T08:01:13.039Z"
   },
   {
    "duration": 3,
    "start_time": "2025-04-24T08:01:13.045Z"
   },
   {
    "duration": 4,
    "start_time": "2025-04-24T08:01:13.049Z"
   },
   {
    "duration": 10,
    "start_time": "2025-04-24T08:01:13.054Z"
   },
   {
    "duration": 145,
    "start_time": "2025-04-24T08:01:13.065Z"
   },
   {
    "duration": 200,
    "start_time": "2025-04-24T08:01:41.522Z"
   },
   {
    "duration": 126,
    "start_time": "2025-04-24T08:01:45.452Z"
   },
   {
    "duration": 9719,
    "start_time": "2025-04-24T10:59:51.391Z"
   },
   {
    "duration": 2795,
    "start_time": "2025-04-24T11:00:01.112Z"
   },
   {
    "duration": 13,
    "start_time": "2025-04-24T11:00:03.908Z"
   },
   {
    "duration": 13,
    "start_time": "2025-04-24T11:00:03.923Z"
   },
   {
    "duration": 37,
    "start_time": "2025-04-24T11:00:03.938Z"
   },
   {
    "duration": 140,
    "start_time": "2025-04-24T11:00:03.976Z"
   },
   {
    "duration": 9,
    "start_time": "2025-04-24T11:00:04.119Z"
   },
   {
    "duration": 79,
    "start_time": "2025-04-24T11:00:04.130Z"
   },
   {
    "duration": 17,
    "start_time": "2025-04-24T11:00:04.212Z"
   },
   {
    "duration": 26,
    "start_time": "2025-04-24T11:00:04.232Z"
   },
   {
    "duration": 49,
    "start_time": "2025-04-24T11:00:04.259Z"
   },
   {
    "duration": 42,
    "start_time": "2025-04-24T11:00:04.310Z"
   },
   {
    "duration": 114,
    "start_time": "2025-04-24T11:00:04.354Z"
   },
   {
    "duration": 193,
    "start_time": "2025-04-24T11:00:04.470Z"
   },
   {
    "duration": 5,
    "start_time": "2025-04-24T11:00:04.665Z"
   },
   {
    "duration": 74,
    "start_time": "2025-04-24T11:00:04.672Z"
   },
   {
    "duration": 320,
    "start_time": "2025-04-24T11:00:04.748Z"
   },
   {
    "duration": 73,
    "start_time": "2025-04-24T11:00:05.069Z"
   },
   {
    "duration": 60,
    "start_time": "2025-04-24T11:00:05.144Z"
   },
   {
    "duration": 76,
    "start_time": "2025-04-24T11:00:05.206Z"
   },
   {
    "duration": 41,
    "start_time": "2025-04-24T11:00:05.284Z"
   },
   {
    "duration": 180,
    "start_time": "2025-04-24T11:00:05.327Z"
   },
   {
    "duration": 142,
    "start_time": "2025-04-24T11:00:05.509Z"
   },
   {
    "duration": 153,
    "start_time": "2025-04-24T11:00:05.652Z"
   },
   {
    "duration": 6,
    "start_time": "2025-04-24T11:00:05.807Z"
   },
   {
    "duration": 48,
    "start_time": "2025-04-24T11:00:05.814Z"
   },
   {
    "duration": 61,
    "start_time": "2025-04-24T11:00:05.864Z"
   },
   {
    "duration": 14,
    "start_time": "2025-04-24T11:00:05.929Z"
   },
   {
    "duration": 193,
    "start_time": "2025-04-24T11:00:05.945Z"
   },
   {
    "duration": 133,
    "start_time": "2025-04-24T11:00:06.140Z"
   },
   {
    "duration": 30,
    "start_time": "2025-04-24T11:00:06.275Z"
   },
   {
    "duration": 37,
    "start_time": "2025-04-24T11:00:06.306Z"
   },
   {
    "duration": 138,
    "start_time": "2025-04-24T11:00:06.344Z"
   },
   {
    "duration": 284,
    "start_time": "2025-04-24T11:00:06.484Z"
   },
   {
    "duration": 310,
    "start_time": "2025-04-24T11:00:06.769Z"
   },
   {
    "duration": 205,
    "start_time": "2025-04-24T11:00:07.080Z"
   },
   {
    "duration": 49,
    "start_time": "2025-04-24T11:00:07.287Z"
   },
   {
    "duration": 26,
    "start_time": "2025-04-24T11:00:07.338Z"
   },
   {
    "duration": 20,
    "start_time": "2025-04-24T11:00:07.366Z"
   },
   {
    "duration": 24,
    "start_time": "2025-04-24T11:00:07.388Z"
   },
   {
    "duration": 124,
    "start_time": "2025-04-24T11:00:07.413Z"
   },
   {
    "duration": 43,
    "start_time": "2025-04-24T11:00:07.539Z"
   },
   {
    "duration": 10,
    "start_time": "2025-04-24T11:00:07.584Z"
   },
   {
    "duration": 161,
    "start_time": "2025-04-24T11:00:07.596Z"
   },
   {
    "duration": 785,
    "start_time": "2025-04-24T11:00:07.759Z"
   },
   {
    "duration": 3,
    "start_time": "2025-04-24T11:00:08.545Z"
   },
   {
    "duration": 82,
    "start_time": "2025-04-24T11:00:08.549Z"
   },
   {
    "duration": 9,
    "start_time": "2025-04-24T11:00:08.632Z"
   },
   {
    "duration": 26,
    "start_time": "2025-04-24T11:00:08.642Z"
   },
   {
    "duration": 8,
    "start_time": "2025-04-24T11:00:08.670Z"
   },
   {
    "duration": 11,
    "start_time": "2025-04-24T11:00:08.679Z"
   },
   {
    "duration": 29,
    "start_time": "2025-04-24T11:00:08.692Z"
   },
   {
    "duration": 44,
    "start_time": "2025-04-24T11:00:08.722Z"
   },
   {
    "duration": 8,
    "start_time": "2025-04-24T11:00:08.768Z"
   },
   {
    "duration": 59,
    "start_time": "2025-04-24T11:00:08.778Z"
   },
   {
    "duration": 24,
    "start_time": "2025-04-24T11:00:08.838Z"
   },
   {
    "duration": 136,
    "start_time": "2025-04-24T11:00:08.863Z"
   },
   {
    "duration": 3,
    "start_time": "2025-04-24T11:00:09.000Z"
   },
   {
    "duration": 7,
    "start_time": "2025-04-24T11:00:09.004Z"
   },
   {
    "duration": 6,
    "start_time": "2025-04-24T11:00:09.012Z"
   },
   {
    "duration": 3,
    "start_time": "2025-04-24T11:00:09.020Z"
   },
   {
    "duration": 17,
    "start_time": "2025-04-24T11:00:09.025Z"
   },
   {
    "duration": 143,
    "start_time": "2025-04-24T11:00:09.044Z"
   },
   {
    "duration": 14,
    "start_time": "2025-04-24T11:00:16.753Z"
   },
   {
    "duration": 15,
    "start_time": "2025-04-24T11:00:50.266Z"
   },
   {
    "duration": 9711,
    "start_time": "2025-04-24T11:08:50.912Z"
   },
   {
    "duration": 2134,
    "start_time": "2025-04-24T11:09:00.626Z"
   },
   {
    "duration": 13,
    "start_time": "2025-04-24T11:09:02.762Z"
   },
   {
    "duration": 66,
    "start_time": "2025-04-24T11:09:02.778Z"
   },
   {
    "duration": 37,
    "start_time": "2025-04-24T11:09:02.846Z"
   },
   {
    "duration": 151,
    "start_time": "2025-04-24T11:09:02.885Z"
   },
   {
    "duration": 8,
    "start_time": "2025-04-24T11:09:03.039Z"
   },
   {
    "duration": 89,
    "start_time": "2025-04-24T11:09:03.049Z"
   },
   {
    "duration": 10,
    "start_time": "2025-04-24T11:09:03.140Z"
   },
   {
    "duration": 31,
    "start_time": "2025-04-24T11:09:03.154Z"
   },
   {
    "duration": 49,
    "start_time": "2025-04-24T11:09:03.187Z"
   },
   {
    "duration": 48,
    "start_time": "2025-04-24T11:09:03.238Z"
   },
   {
    "duration": 49,
    "start_time": "2025-04-24T11:09:03.288Z"
   },
   {
    "duration": 157,
    "start_time": "2025-04-24T11:09:03.339Z"
   },
   {
    "duration": 5,
    "start_time": "2025-04-24T11:09:03.497Z"
   },
   {
    "duration": 121,
    "start_time": "2025-04-24T11:09:03.503Z"
   },
   {
    "duration": 304,
    "start_time": "2025-04-24T11:09:03.626Z"
   },
   {
    "duration": 76,
    "start_time": "2025-04-24T11:09:03.936Z"
   },
   {
    "duration": 55,
    "start_time": "2025-04-24T11:09:04.014Z"
   },
   {
    "duration": 75,
    "start_time": "2025-04-24T11:09:04.071Z"
   },
   {
    "duration": 43,
    "start_time": "2025-04-24T11:09:04.147Z"
   },
   {
    "duration": 176,
    "start_time": "2025-04-24T11:09:04.192Z"
   },
   {
    "duration": 173,
    "start_time": "2025-04-24T11:09:04.370Z"
   },
   {
    "duration": 151,
    "start_time": "2025-04-24T11:09:04.545Z"
   },
   {
    "duration": 6,
    "start_time": "2025-04-24T11:09:04.697Z"
   },
   {
    "duration": 45,
    "start_time": "2025-04-24T11:09:04.705Z"
   },
   {
    "duration": 56,
    "start_time": "2025-04-24T11:09:04.751Z"
   },
   {
    "duration": 65,
    "start_time": "2025-04-24T11:09:04.810Z"
   },
   {
    "duration": 170,
    "start_time": "2025-04-24T11:09:04.877Z"
   },
   {
    "duration": 139,
    "start_time": "2025-04-24T11:09:05.049Z"
   },
   {
    "duration": 32,
    "start_time": "2025-04-24T11:09:05.190Z"
   },
   {
    "duration": 34,
    "start_time": "2025-04-24T11:09:05.224Z"
   },
   {
    "duration": 41,
    "start_time": "2025-04-24T11:09:05.259Z"
   },
   {
    "duration": 238,
    "start_time": "2025-04-24T11:09:05.302Z"
   },
   {
    "duration": 261,
    "start_time": "2025-04-24T11:09:05.542Z"
   },
   {
    "duration": 201,
    "start_time": "2025-04-24T11:09:05.805Z"
   },
   {
    "duration": 61,
    "start_time": "2025-04-24T11:09:06.007Z"
   },
   {
    "duration": 13,
    "start_time": "2025-04-24T11:09:06.070Z"
   },
   {
    "duration": 58,
    "start_time": "2025-04-24T11:09:06.085Z"
   },
   {
    "duration": 24,
    "start_time": "2025-04-24T11:09:06.144Z"
   },
   {
    "duration": 34,
    "start_time": "2025-04-24T11:09:06.169Z"
   },
   {
    "duration": 70,
    "start_time": "2025-04-24T11:09:06.205Z"
   },
   {
    "duration": 9,
    "start_time": "2025-04-24T11:09:06.277Z"
   },
   {
    "duration": 179,
    "start_time": "2025-04-24T11:09:06.287Z"
   },
   {
    "duration": 745,
    "start_time": "2025-04-24T11:09:06.468Z"
   },
   {
    "duration": 3,
    "start_time": "2025-04-24T11:09:07.214Z"
   },
   {
    "duration": 99,
    "start_time": "2025-04-24T11:09:07.218Z"
   },
   {
    "duration": 8,
    "start_time": "2025-04-24T11:09:07.318Z"
   },
   {
    "duration": 17,
    "start_time": "2025-04-24T11:09:07.328Z"
   },
   {
    "duration": 32,
    "start_time": "2025-04-24T11:09:07.347Z"
   },
   {
    "duration": 19,
    "start_time": "2025-04-24T11:09:07.381Z"
   },
   {
    "duration": 33,
    "start_time": "2025-04-24T11:09:07.402Z"
   },
   {
    "duration": 37,
    "start_time": "2025-04-24T11:09:07.437Z"
   },
   {
    "duration": 137,
    "start_time": "2025-04-24T11:09:07.476Z"
   },
   {
    "duration": 55,
    "start_time": "2025-04-24T11:09:07.614Z"
   },
   {
    "duration": 17,
    "start_time": "2025-04-24T11:09:07.671Z"
   },
   {
    "duration": 149,
    "start_time": "2025-04-24T11:09:07.689Z"
   },
   {
    "duration": 2,
    "start_time": "2025-04-24T11:09:07.840Z"
   },
   {
    "duration": 8,
    "start_time": "2025-04-24T11:09:07.844Z"
   },
   {
    "duration": 4,
    "start_time": "2025-04-24T11:09:07.853Z"
   },
   {
    "duration": 11,
    "start_time": "2025-04-24T11:09:07.858Z"
   },
   {
    "duration": 8,
    "start_time": "2025-04-24T11:09:07.870Z"
   },
   {
    "duration": 146,
    "start_time": "2025-04-24T11:09:07.879Z"
   },
   {
    "duration": 7,
    "start_time": "2025-04-24T11:11:43.132Z"
   },
   {
    "duration": 8,
    "start_time": "2025-04-24T11:11:49.718Z"
   },
   {
    "duration": 10,
    "start_time": "2025-04-24T11:11:54.136Z"
   },
   {
    "duration": 3896,
    "start_time": "2025-04-24T11:13:05.022Z"
   },
   {
    "duration": 2146,
    "start_time": "2025-04-24T11:13:08.921Z"
   },
   {
    "duration": 12,
    "start_time": "2025-04-24T11:13:11.069Z"
   },
   {
    "duration": 20,
    "start_time": "2025-04-24T11:13:11.082Z"
   },
   {
    "duration": 40,
    "start_time": "2025-04-24T11:13:11.103Z"
   },
   {
    "duration": 106,
    "start_time": "2025-04-24T11:13:11.145Z"
   },
   {
    "duration": 8,
    "start_time": "2025-04-24T11:13:11.253Z"
   },
   {
    "duration": 46,
    "start_time": "2025-04-24T11:13:11.263Z"
   },
   {
    "duration": 7,
    "start_time": "2025-04-24T11:13:11.311Z"
   },
   {
    "duration": 32,
    "start_time": "2025-04-24T11:13:11.321Z"
   },
   {
    "duration": 17,
    "start_time": "2025-04-24T11:13:11.354Z"
   },
   {
    "duration": 40,
    "start_time": "2025-04-24T11:13:11.373Z"
   },
   {
    "duration": 23,
    "start_time": "2025-04-24T11:13:11.414Z"
   },
   {
    "duration": 151,
    "start_time": "2025-04-24T11:13:11.438Z"
   },
   {
    "duration": 5,
    "start_time": "2025-04-24T11:13:11.591Z"
   },
   {
    "duration": 40,
    "start_time": "2025-04-24T11:13:11.598Z"
   },
   {
    "duration": 313,
    "start_time": "2025-04-24T11:13:11.640Z"
   },
   {
    "duration": 84,
    "start_time": "2025-04-24T11:13:11.955Z"
   },
   {
    "duration": 43,
    "start_time": "2025-04-24T11:13:12.041Z"
   },
   {
    "duration": 78,
    "start_time": "2025-04-24T11:13:12.085Z"
   },
   {
    "duration": 41,
    "start_time": "2025-04-24T11:13:12.164Z"
   },
   {
    "duration": 181,
    "start_time": "2025-04-24T11:13:12.207Z"
   },
   {
    "duration": 161,
    "start_time": "2025-04-24T11:13:12.389Z"
   },
   {
    "duration": 156,
    "start_time": "2025-04-24T11:13:12.552Z"
   },
   {
    "duration": 6,
    "start_time": "2025-04-24T11:13:12.710Z"
   },
   {
    "duration": 45,
    "start_time": "2025-04-24T11:13:12.717Z"
   },
   {
    "duration": 56,
    "start_time": "2025-04-24T11:13:12.764Z"
   },
   {
    "duration": 69,
    "start_time": "2025-04-24T11:13:12.836Z"
   },
   {
    "duration": 161,
    "start_time": "2025-04-24T11:13:12.907Z"
   },
   {
    "duration": 140,
    "start_time": "2025-04-24T11:13:13.070Z"
   },
   {
    "duration": 46,
    "start_time": "2025-04-24T11:13:13.212Z"
   },
   {
    "duration": 26,
    "start_time": "2025-04-24T11:13:13.259Z"
   },
   {
    "duration": 27,
    "start_time": "2025-04-24T11:13:13.288Z"
   },
   {
    "duration": 268,
    "start_time": "2025-04-24T11:13:13.316Z"
   },
   {
    "duration": 275,
    "start_time": "2025-04-24T11:13:13.585Z"
   },
   {
    "duration": 235,
    "start_time": "2025-04-24T11:13:13.862Z"
   },
   {
    "duration": 56,
    "start_time": "2025-04-24T11:13:14.098Z"
   },
   {
    "duration": 13,
    "start_time": "2025-04-24T11:13:14.156Z"
   },
   {
    "duration": 22,
    "start_time": "2025-04-24T11:13:14.170Z"
   },
   {
    "duration": 20,
    "start_time": "2025-04-24T11:13:14.193Z"
   },
   {
    "duration": 8,
    "start_time": "2025-04-24T11:13:14.236Z"
   },
   {
    "duration": 47,
    "start_time": "2025-04-24T11:13:14.246Z"
   },
   {
    "duration": 9,
    "start_time": "2025-04-24T11:13:14.295Z"
   },
   {
    "duration": 185,
    "start_time": "2025-04-24T11:13:14.306Z"
   },
   {
    "duration": 763,
    "start_time": "2025-04-24T11:13:14.493Z"
   },
   {
    "duration": 3,
    "start_time": "2025-04-24T11:13:15.258Z"
   },
   {
    "duration": 122,
    "start_time": "2025-04-24T11:13:15.263Z"
   },
   {
    "duration": 8,
    "start_time": "2025-04-24T11:13:15.387Z"
   },
   {
    "duration": 28,
    "start_time": "2025-04-24T11:13:15.396Z"
   },
   {
    "duration": 17,
    "start_time": "2025-04-24T11:13:15.426Z"
   },
   {
    "duration": 24,
    "start_time": "2025-04-24T11:13:15.444Z"
   },
   {
    "duration": 24,
    "start_time": "2025-04-24T11:13:15.470Z"
   },
   {
    "duration": 38,
    "start_time": "2025-04-24T11:13:15.496Z"
   },
   {
    "duration": 104,
    "start_time": "2025-04-24T11:13:15.536Z"
   },
   {
    "duration": 76,
    "start_time": "2025-04-24T11:13:15.642Z"
   },
   {
    "duration": 7,
    "start_time": "2025-04-24T11:13:15.720Z"
   },
   {
    "duration": 53,
    "start_time": "2025-04-24T11:13:15.728Z"
   },
   {
    "duration": 17,
    "start_time": "2025-04-24T11:13:15.782Z"
   },
   {
    "duration": 147,
    "start_time": "2025-04-24T11:13:15.801Z"
   },
   {
    "duration": 2,
    "start_time": "2025-04-24T11:13:15.950Z"
   },
   {
    "duration": 9,
    "start_time": "2025-04-24T11:13:15.954Z"
   },
   {
    "duration": 14,
    "start_time": "2025-04-24T11:13:15.964Z"
   },
   {
    "duration": 17,
    "start_time": "2025-04-24T11:13:15.980Z"
   },
   {
    "duration": 34,
    "start_time": "2025-04-24T11:13:15.999Z"
   },
   {
    "duration": 159,
    "start_time": "2025-04-24T11:13:16.035Z"
   },
   {
    "duration": 25,
    "start_time": "2025-04-24T11:14:02.630Z"
   },
   {
    "duration": 133,
    "start_time": "2025-04-24T11:14:17.361Z"
   },
   {
    "duration": 3940,
    "start_time": "2025-04-24T11:15:24.838Z"
   },
   {
    "duration": 2551,
    "start_time": "2025-04-24T11:15:28.781Z"
   },
   {
    "duration": 14,
    "start_time": "2025-04-24T11:15:31.334Z"
   },
   {
    "duration": 34,
    "start_time": "2025-04-24T11:15:31.351Z"
   },
   {
    "duration": 43,
    "start_time": "2025-04-24T11:15:31.387Z"
   },
   {
    "duration": 120,
    "start_time": "2025-04-24T11:15:31.432Z"
   },
   {
    "duration": 20,
    "start_time": "2025-04-24T11:15:31.554Z"
   },
   {
    "duration": 87,
    "start_time": "2025-04-24T11:15:31.576Z"
   },
   {
    "duration": 9,
    "start_time": "2025-04-24T11:15:31.665Z"
   },
   {
    "duration": 31,
    "start_time": "2025-04-24T11:15:31.677Z"
   },
   {
    "duration": 25,
    "start_time": "2025-04-24T11:15:31.711Z"
   },
   {
    "duration": 30,
    "start_time": "2025-04-24T11:15:31.738Z"
   },
   {
    "duration": 47,
    "start_time": "2025-04-24T11:15:31.770Z"
   },
   {
    "duration": 177,
    "start_time": "2025-04-24T11:15:31.820Z"
   },
   {
    "duration": 7,
    "start_time": "2025-04-24T11:15:31.998Z"
   },
   {
    "duration": 92,
    "start_time": "2025-04-24T11:15:32.006Z"
   },
   {
    "duration": 351,
    "start_time": "2025-04-24T11:15:32.100Z"
   },
   {
    "duration": 95,
    "start_time": "2025-04-24T11:15:32.453Z"
   },
   {
    "duration": 48,
    "start_time": "2025-04-24T11:15:32.549Z"
   },
   {
    "duration": 91,
    "start_time": "2025-04-24T11:15:32.599Z"
   },
   {
    "duration": 55,
    "start_time": "2025-04-24T11:15:32.692Z"
   },
   {
    "duration": 194,
    "start_time": "2025-04-24T11:15:32.748Z"
   },
   {
    "duration": 178,
    "start_time": "2025-04-24T11:15:32.945Z"
   },
   {
    "duration": 182,
    "start_time": "2025-04-24T11:15:33.125Z"
   },
   {
    "duration": 7,
    "start_time": "2025-04-24T11:15:33.309Z"
   },
   {
    "duration": 55,
    "start_time": "2025-04-24T11:15:33.317Z"
   },
   {
    "duration": 76,
    "start_time": "2025-04-24T11:15:33.374Z"
   },
   {
    "duration": 21,
    "start_time": "2025-04-24T11:15:33.456Z"
   },
   {
    "duration": 203,
    "start_time": "2025-04-24T11:15:33.479Z"
   },
   {
    "duration": 158,
    "start_time": "2025-04-24T11:15:33.684Z"
   },
   {
    "duration": 35,
    "start_time": "2025-04-24T11:15:33.844Z"
   },
   {
    "duration": 27,
    "start_time": "2025-04-24T11:15:33.880Z"
   },
   {
    "duration": 49,
    "start_time": "2025-04-24T11:15:33.909Z"
   },
   {
    "duration": 283,
    "start_time": "2025-04-24T11:15:33.960Z"
   },
   {
    "duration": 349,
    "start_time": "2025-04-24T11:15:34.245Z"
   },
   {
    "duration": 250,
    "start_time": "2025-04-24T11:15:34.596Z"
   },
   {
    "duration": 54,
    "start_time": "2025-04-24T11:15:34.847Z"
   },
   {
    "duration": 34,
    "start_time": "2025-04-24T11:15:34.902Z"
   },
   {
    "duration": 24,
    "start_time": "2025-04-24T11:15:34.938Z"
   },
   {
    "duration": 23,
    "start_time": "2025-04-24T11:15:34.963Z"
   },
   {
    "duration": 19,
    "start_time": "2025-04-24T11:15:34.988Z"
   },
   {
    "duration": 56,
    "start_time": "2025-04-24T11:15:35.009Z"
   },
   {
    "duration": 12,
    "start_time": "2025-04-24T11:15:35.067Z"
   },
   {
    "duration": 171,
    "start_time": "2025-04-24T11:15:35.081Z"
   },
   {
    "duration": 817,
    "start_time": "2025-04-24T11:15:35.253Z"
   },
   {
    "duration": 3,
    "start_time": "2025-04-24T11:15:36.072Z"
   },
   {
    "duration": 105,
    "start_time": "2025-04-24T11:15:36.077Z"
   },
   {
    "duration": 10,
    "start_time": "2025-04-24T11:15:36.184Z"
   },
   {
    "duration": 62,
    "start_time": "2025-04-24T11:15:36.195Z"
   },
   {
    "duration": 13,
    "start_time": "2025-04-24T11:15:36.259Z"
   },
   {
    "duration": 48,
    "start_time": "2025-04-24T11:15:36.274Z"
   },
   {
    "duration": 35,
    "start_time": "2025-04-24T11:15:36.324Z"
   },
   {
    "duration": 27,
    "start_time": "2025-04-24T11:15:36.361Z"
   },
   {
    "duration": 31,
    "start_time": "2025-04-24T11:15:36.390Z"
   },
   {
    "duration": 58,
    "start_time": "2025-04-24T11:15:36.423Z"
   },
   {
    "duration": 8,
    "start_time": "2025-04-24T11:15:36.483Z"
   },
   {
    "duration": 28,
    "start_time": "2025-04-24T11:15:36.493Z"
   },
   {
    "duration": 30,
    "start_time": "2025-04-24T11:15:36.523Z"
   },
   {
    "duration": 183,
    "start_time": "2025-04-24T11:15:36.554Z"
   },
   {
    "duration": 3,
    "start_time": "2025-04-24T11:15:36.739Z"
   },
   {
    "duration": 35,
    "start_time": "2025-04-24T11:15:36.744Z"
   },
   {
    "duration": 136,
    "start_time": "2025-04-24T11:15:36.781Z"
   },
   {
    "duration": 12,
    "start_time": "2025-04-24T11:15:36.918Z"
   },
   {
    "duration": 10,
    "start_time": "2025-04-24T11:15:36.931Z"
   },
   {
    "duration": 162,
    "start_time": "2025-04-24T11:15:36.942Z"
   },
   {
    "duration": 7,
    "start_time": "2025-04-24T11:16:39.334Z"
   },
   {
    "duration": 10,
    "start_time": "2025-04-24T11:16:41.830Z"
   },
   {
    "duration": 9,
    "start_time": "2025-04-24T11:16:43.506Z"
   },
   {
    "duration": 3963,
    "start_time": "2025-04-24T11:17:16.108Z"
   },
   {
    "duration": 2055,
    "start_time": "2025-04-24T11:17:20.073Z"
   },
   {
    "duration": 15,
    "start_time": "2025-04-24T11:17:22.129Z"
   },
   {
    "duration": 24,
    "start_time": "2025-04-24T11:17:22.146Z"
   },
   {
    "duration": 29,
    "start_time": "2025-04-24T11:17:22.172Z"
   },
   {
    "duration": 119,
    "start_time": "2025-04-24T11:17:22.202Z"
   },
   {
    "duration": 15,
    "start_time": "2025-04-24T11:17:22.322Z"
   },
   {
    "duration": 62,
    "start_time": "2025-04-24T11:17:22.338Z"
   },
   {
    "duration": 8,
    "start_time": "2025-04-24T11:17:22.401Z"
   },
   {
    "duration": 30,
    "start_time": "2025-04-24T11:17:22.412Z"
   },
   {
    "duration": 10,
    "start_time": "2025-04-24T11:17:22.445Z"
   },
   {
    "duration": 32,
    "start_time": "2025-04-24T11:17:22.457Z"
   },
   {
    "duration": 51,
    "start_time": "2025-04-24T11:17:22.490Z"
   },
   {
    "duration": 187,
    "start_time": "2025-04-24T11:17:22.543Z"
   },
   {
    "duration": 6,
    "start_time": "2025-04-24T11:17:22.736Z"
   },
   {
    "duration": 38,
    "start_time": "2025-04-24T11:17:22.745Z"
   },
   {
    "duration": 356,
    "start_time": "2025-04-24T11:17:22.785Z"
   },
   {
    "duration": 105,
    "start_time": "2025-04-24T11:17:23.144Z"
   },
   {
    "duration": 53,
    "start_time": "2025-04-24T11:17:23.252Z"
   },
   {
    "duration": 102,
    "start_time": "2025-04-24T11:17:23.307Z"
   },
   {
    "duration": 60,
    "start_time": "2025-04-24T11:17:23.412Z"
   },
   {
    "duration": 201,
    "start_time": "2025-04-24T11:17:23.474Z"
   },
   {
    "duration": 189,
    "start_time": "2025-04-24T11:17:23.678Z"
   },
   {
    "duration": 178,
    "start_time": "2025-04-24T11:17:23.870Z"
   },
   {
    "duration": 8,
    "start_time": "2025-04-24T11:17:24.050Z"
   },
   {
    "duration": 51,
    "start_time": "2025-04-24T11:17:24.060Z"
   },
   {
    "duration": 73,
    "start_time": "2025-04-24T11:17:24.112Z"
   },
   {
    "duration": 17,
    "start_time": "2025-04-24T11:17:24.190Z"
   },
   {
    "duration": 212,
    "start_time": "2025-04-24T11:17:24.209Z"
   },
   {
    "duration": 156,
    "start_time": "2025-04-24T11:17:24.424Z"
   },
   {
    "duration": 37,
    "start_time": "2025-04-24T11:17:24.581Z"
   },
   {
    "duration": 41,
    "start_time": "2025-04-24T11:17:24.620Z"
   },
   {
    "duration": 29,
    "start_time": "2025-04-24T11:17:24.663Z"
   },
   {
    "duration": 317,
    "start_time": "2025-04-24T11:17:24.694Z"
   },
   {
    "duration": 294,
    "start_time": "2025-04-24T11:17:25.013Z"
   },
   {
    "duration": 237,
    "start_time": "2025-04-24T11:17:25.309Z"
   },
   {
    "duration": 56,
    "start_time": "2025-04-24T11:17:25.548Z"
   },
   {
    "duration": 32,
    "start_time": "2025-04-24T11:17:25.606Z"
   },
   {
    "duration": 43,
    "start_time": "2025-04-24T11:17:25.639Z"
   },
   {
    "duration": 25,
    "start_time": "2025-04-24T11:17:25.684Z"
   },
   {
    "duration": 22,
    "start_time": "2025-04-24T11:17:25.711Z"
   },
   {
    "duration": 77,
    "start_time": "2025-04-24T11:17:25.734Z"
   },
   {
    "duration": 10,
    "start_time": "2025-04-24T11:17:25.813Z"
   },
   {
    "duration": 156,
    "start_time": "2025-04-24T11:17:25.825Z"
   },
   {
    "duration": 834,
    "start_time": "2025-04-24T11:17:25.984Z"
   },
   {
    "duration": 2,
    "start_time": "2025-04-24T11:17:26.820Z"
   },
   {
    "duration": 157,
    "start_time": "2025-04-24T11:17:26.823Z"
   },
   {
    "duration": 10,
    "start_time": "2025-04-24T11:17:26.982Z"
   },
   {
    "duration": 23,
    "start_time": "2025-04-24T11:17:26.994Z"
   },
   {
    "duration": 11,
    "start_time": "2025-04-24T11:17:27.020Z"
   },
   {
    "duration": 22,
    "start_time": "2025-04-24T11:17:27.033Z"
   },
   {
    "duration": 59,
    "start_time": "2025-04-24T11:17:27.057Z"
   },
   {
    "duration": 10,
    "start_time": "2025-04-24T11:17:27.118Z"
   },
   {
    "duration": 18,
    "start_time": "2025-04-24T11:17:27.130Z"
   },
   {
    "duration": 40,
    "start_time": "2025-04-24T11:17:27.150Z"
   },
   {
    "duration": 147,
    "start_time": "2025-04-24T11:17:27.192Z"
   },
   {
    "duration": 2,
    "start_time": "2025-04-24T11:17:27.341Z"
   },
   {
    "duration": 18,
    "start_time": "2025-04-24T11:17:27.345Z"
   },
   {
    "duration": 10,
    "start_time": "2025-04-24T11:17:27.365Z"
   },
   {
    "duration": 34,
    "start_time": "2025-04-24T11:17:27.376Z"
   },
   {
    "duration": 28,
    "start_time": "2025-04-24T11:17:27.411Z"
   },
   {
    "duration": 174,
    "start_time": "2025-04-24T11:17:27.440Z"
   },
   {
    "duration": 8,
    "start_time": "2025-04-24T11:17:49.499Z"
   },
   {
    "duration": 24,
    "start_time": "2025-04-24T11:18:31.458Z"
   },
   {
    "duration": 9,
    "start_time": "2025-04-24T11:18:38.145Z"
   },
   {
    "duration": 8,
    "start_time": "2025-04-24T11:18:41.322Z"
   },
   {
    "duration": 112,
    "start_time": "2025-04-24T11:18:44.587Z"
   },
   {
    "duration": 7,
    "start_time": "2025-04-24T11:18:50.410Z"
   },
   {
    "duration": 71,
    "start_time": "2025-04-24T11:18:53.730Z"
   },
   {
    "duration": 10,
    "start_time": "2025-04-24T11:18:56.930Z"
   },
   {
    "duration": 9,
    "start_time": "2025-04-24T11:18:59.106Z"
   },
   {
    "duration": 7,
    "start_time": "2025-04-24T11:19:04.739Z"
   },
   {
    "duration": 1044,
    "start_time": "2025-04-24T11:19:59.986Z"
   },
   {
    "duration": 3435,
    "start_time": "2025-04-24T11:20:15.964Z"
   },
   {
    "duration": 1717,
    "start_time": "2025-04-24T11:20:19.402Z"
   },
   {
    "duration": 12,
    "start_time": "2025-04-24T11:20:21.121Z"
   },
   {
    "duration": 16,
    "start_time": "2025-04-24T11:20:21.134Z"
   },
   {
    "duration": 22,
    "start_time": "2025-04-24T11:20:21.152Z"
   },
   {
    "duration": 107,
    "start_time": "2025-04-24T11:20:21.175Z"
   },
   {
    "duration": 8,
    "start_time": "2025-04-24T11:20:21.284Z"
   },
   {
    "duration": 56,
    "start_time": "2025-04-24T11:20:21.293Z"
   },
   {
    "duration": 7,
    "start_time": "2025-04-24T11:20:21.350Z"
   },
   {
    "duration": 31,
    "start_time": "2025-04-24T11:20:21.360Z"
   },
   {
    "duration": 15,
    "start_time": "2025-04-24T11:20:21.393Z"
   },
   {
    "duration": 47,
    "start_time": "2025-04-24T11:20:21.410Z"
   },
   {
    "duration": 43,
    "start_time": "2025-04-24T11:20:21.458Z"
   },
   {
    "duration": 153,
    "start_time": "2025-04-24T11:20:21.503Z"
   },
   {
    "duration": 5,
    "start_time": "2025-04-24T11:20:21.657Z"
   },
   {
    "duration": 33,
    "start_time": "2025-04-24T11:20:21.664Z"
   },
   {
    "duration": 310,
    "start_time": "2025-04-24T11:20:21.699Z"
   },
   {
    "duration": 82,
    "start_time": "2025-04-24T11:20:22.010Z"
   },
   {
    "duration": 45,
    "start_time": "2025-04-24T11:20:22.093Z"
   },
   {
    "duration": 61,
    "start_time": "2025-04-24T11:20:22.140Z"
   },
   {
    "duration": 55,
    "start_time": "2025-04-24T11:20:22.202Z"
   },
   {
    "duration": 164,
    "start_time": "2025-04-24T11:20:22.259Z"
   },
   {
    "duration": 151,
    "start_time": "2025-04-24T11:20:22.425Z"
   },
   {
    "duration": 140,
    "start_time": "2025-04-24T11:20:22.577Z"
   },
   {
    "duration": 5,
    "start_time": "2025-04-24T11:20:22.719Z"
   },
   {
    "duration": 28,
    "start_time": "2025-04-24T11:20:22.737Z"
   },
   {
    "duration": 54,
    "start_time": "2025-04-24T11:20:22.766Z"
   },
   {
    "duration": 20,
    "start_time": "2025-04-24T11:20:22.836Z"
   },
   {
    "duration": 173,
    "start_time": "2025-04-24T11:20:22.858Z"
   },
   {
    "duration": 124,
    "start_time": "2025-04-24T11:20:23.033Z"
   },
   {
    "duration": 31,
    "start_time": "2025-04-24T11:20:23.158Z"
   },
   {
    "duration": 23,
    "start_time": "2025-04-24T11:20:23.190Z"
   },
   {
    "duration": 43,
    "start_time": "2025-04-24T11:20:23.214Z"
   },
   {
    "duration": 249,
    "start_time": "2025-04-24T11:20:23.258Z"
   },
   {
    "duration": 249,
    "start_time": "2025-04-24T11:20:23.508Z"
   },
   {
    "duration": 192,
    "start_time": "2025-04-24T11:20:23.758Z"
   },
   {
    "duration": 47,
    "start_time": "2025-04-24T11:20:23.952Z"
   },
   {
    "duration": 14,
    "start_time": "2025-04-24T11:20:24.001Z"
   },
   {
    "duration": 20,
    "start_time": "2025-04-24T11:20:24.035Z"
   },
   {
    "duration": 20,
    "start_time": "2025-04-24T11:20:24.056Z"
   },
   {
    "duration": 21,
    "start_time": "2025-04-24T11:20:24.078Z"
   },
   {
    "duration": 41,
    "start_time": "2025-04-24T11:20:24.100Z"
   },
   {
    "duration": 10,
    "start_time": "2025-04-24T11:20:24.143Z"
   },
   {
    "duration": 175,
    "start_time": "2025-04-24T11:20:24.154Z"
   },
   {
    "duration": 735,
    "start_time": "2025-04-24T11:20:24.331Z"
   },
   {
    "duration": 3,
    "start_time": "2025-04-24T11:20:25.067Z"
   },
   {
    "duration": 77,
    "start_time": "2025-04-24T11:20:25.071Z"
   },
   {
    "duration": 9,
    "start_time": "2025-04-24T11:20:25.149Z"
   },
   {
    "duration": 6,
    "start_time": "2025-04-24T11:20:25.160Z"
   },
   {
    "duration": 2,
    "start_time": "2025-04-24T11:20:25.168Z"
   },
   {
    "duration": 1035,
    "start_time": "2025-04-24T11:20:25.171Z"
   },
   {
    "duration": 0,
    "start_time": "2025-04-24T11:20:26.208Z"
   },
   {
    "duration": 0,
    "start_time": "2025-04-24T11:20:26.210Z"
   },
   {
    "duration": 0,
    "start_time": "2025-04-24T11:20:26.211Z"
   },
   {
    "duration": 0,
    "start_time": "2025-04-24T11:20:26.212Z"
   },
   {
    "duration": 0,
    "start_time": "2025-04-24T11:20:26.213Z"
   },
   {
    "duration": 0,
    "start_time": "2025-04-24T11:20:26.215Z"
   },
   {
    "duration": 0,
    "start_time": "2025-04-24T11:20:26.216Z"
   },
   {
    "duration": 0,
    "start_time": "2025-04-24T11:20:26.217Z"
   },
   {
    "duration": 0,
    "start_time": "2025-04-24T11:20:26.218Z"
   },
   {
    "duration": 0,
    "start_time": "2025-04-24T11:20:26.219Z"
   },
   {
    "duration": 0,
    "start_time": "2025-04-24T11:20:26.221Z"
   },
   {
    "duration": 33,
    "start_time": "2025-04-24T11:21:06.862Z"
   },
   {
    "duration": 10,
    "start_time": "2025-04-24T11:21:17.261Z"
   },
   {
    "duration": 8,
    "start_time": "2025-04-24T11:21:23.437Z"
   },
   {
    "duration": 37,
    "start_time": "2025-04-24T11:21:48.926Z"
   },
   {
    "duration": 1006,
    "start_time": "2025-04-24T11:21:53.864Z"
   },
   {
    "duration": 7,
    "start_time": "2025-04-24T11:22:06.896Z"
   },
   {
    "duration": 8,
    "start_time": "2025-04-24T11:23:13.465Z"
   },
   {
    "duration": 7,
    "start_time": "2025-04-24T11:23:18.225Z"
   },
   {
    "duration": 15,
    "start_time": "2025-04-24T11:23:25.576Z"
   },
   {
    "duration": 13,
    "start_time": "2025-04-24T11:23:34.881Z"
   },
   {
    "duration": 3487,
    "start_time": "2025-04-24T11:23:49.105Z"
   },
   {
    "duration": 1938,
    "start_time": "2025-04-24T11:23:52.595Z"
   },
   {
    "duration": 12,
    "start_time": "2025-04-24T11:23:54.535Z"
   },
   {
    "duration": 24,
    "start_time": "2025-04-24T11:23:54.550Z"
   },
   {
    "duration": 34,
    "start_time": "2025-04-24T11:23:54.576Z"
   },
   {
    "duration": 103,
    "start_time": "2025-04-24T11:23:54.612Z"
   },
   {
    "duration": 9,
    "start_time": "2025-04-24T11:23:54.717Z"
   },
   {
    "duration": 50,
    "start_time": "2025-04-24T11:23:54.728Z"
   },
   {
    "duration": 8,
    "start_time": "2025-04-24T11:23:54.779Z"
   },
   {
    "duration": 33,
    "start_time": "2025-04-24T11:23:54.790Z"
   },
   {
    "duration": 87,
    "start_time": "2025-04-24T11:23:54.824Z"
   },
   {
    "duration": 36,
    "start_time": "2025-04-24T11:23:54.912Z"
   },
   {
    "duration": 24,
    "start_time": "2025-04-24T11:23:54.950Z"
   },
   {
    "duration": 150,
    "start_time": "2025-04-24T11:23:54.975Z"
   },
   {
    "duration": 9,
    "start_time": "2025-04-24T11:23:55.127Z"
   },
   {
    "duration": 21,
    "start_time": "2025-04-24T11:23:55.138Z"
   },
   {
    "duration": 322,
    "start_time": "2025-04-24T11:23:55.161Z"
   },
   {
    "duration": 80,
    "start_time": "2025-04-24T11:23:55.485Z"
   },
   {
    "duration": 42,
    "start_time": "2025-04-24T11:23:55.567Z"
   },
   {
    "duration": 127,
    "start_time": "2025-04-24T11:23:55.611Z"
   },
   {
    "duration": 43,
    "start_time": "2025-04-24T11:23:55.740Z"
   },
   {
    "duration": 170,
    "start_time": "2025-04-24T11:23:55.784Z"
   },
   {
    "duration": 155,
    "start_time": "2025-04-24T11:23:55.956Z"
   },
   {
    "duration": 151,
    "start_time": "2025-04-24T11:23:56.113Z"
   },
   {
    "duration": 5,
    "start_time": "2025-04-24T11:23:56.266Z"
   },
   {
    "duration": 38,
    "start_time": "2025-04-24T11:23:56.272Z"
   },
   {
    "duration": 64,
    "start_time": "2025-04-24T11:23:56.311Z"
   },
   {
    "duration": 15,
    "start_time": "2025-04-24T11:23:56.379Z"
   },
   {
    "duration": 173,
    "start_time": "2025-04-24T11:23:56.395Z"
   },
   {
    "duration": 133,
    "start_time": "2025-04-24T11:23:56.569Z"
   },
   {
    "duration": 43,
    "start_time": "2025-04-24T11:23:56.704Z"
   },
   {
    "duration": 23,
    "start_time": "2025-04-24T11:23:56.749Z"
   },
   {
    "duration": 28,
    "start_time": "2025-04-24T11:23:56.773Z"
   },
   {
    "duration": 235,
    "start_time": "2025-04-24T11:23:56.802Z"
   },
   {
    "duration": 243,
    "start_time": "2025-04-24T11:23:57.038Z"
   },
   {
    "duration": 180,
    "start_time": "2025-04-24T11:23:57.282Z"
   },
   {
    "duration": 48,
    "start_time": "2025-04-24T11:23:57.464Z"
   },
   {
    "duration": 30,
    "start_time": "2025-04-24T11:23:57.513Z"
   },
   {
    "duration": 19,
    "start_time": "2025-04-24T11:23:57.544Z"
   },
   {
    "duration": 133,
    "start_time": "2025-04-24T11:23:57.565Z"
   },
   {
    "duration": 3,
    "start_time": "2025-04-24T11:23:57.699Z"
   },
   {
    "duration": 37,
    "start_time": "2025-04-24T11:23:57.704Z"
   },
   {
    "duration": 9,
    "start_time": "2025-04-24T11:23:57.742Z"
   },
   {
    "duration": 150,
    "start_time": "2025-04-24T11:23:57.753Z"
   },
   {
    "duration": 716,
    "start_time": "2025-04-24T11:23:57.905Z"
   },
   {
    "duration": 3,
    "start_time": "2025-04-24T11:23:58.623Z"
   },
   {
    "duration": 81,
    "start_time": "2025-04-24T11:23:58.627Z"
   },
   {
    "duration": 8,
    "start_time": "2025-04-24T11:23:58.710Z"
   },
   {
    "duration": 22,
    "start_time": "2025-04-24T11:23:58.719Z"
   },
   {
    "duration": 6,
    "start_time": "2025-04-24T11:23:58.742Z"
   },
   {
    "duration": 16,
    "start_time": "2025-04-24T11:23:58.749Z"
   },
   {
    "duration": 21,
    "start_time": "2025-04-24T11:23:58.766Z"
   },
   {
    "duration": 108,
    "start_time": "2025-04-24T11:23:58.789Z"
   },
   {
    "duration": 0,
    "start_time": "2025-04-24T11:23:58.899Z"
   },
   {
    "duration": 0,
    "start_time": "2025-04-24T11:23:58.900Z"
   },
   {
    "duration": 0,
    "start_time": "2025-04-24T11:23:58.901Z"
   },
   {
    "duration": 0,
    "start_time": "2025-04-24T11:23:58.902Z"
   },
   {
    "duration": 0,
    "start_time": "2025-04-24T11:23:58.903Z"
   },
   {
    "duration": 0,
    "start_time": "2025-04-24T11:23:58.904Z"
   },
   {
    "duration": 0,
    "start_time": "2025-04-24T11:23:58.905Z"
   },
   {
    "duration": 0,
    "start_time": "2025-04-24T11:23:58.906Z"
   },
   {
    "duration": 0,
    "start_time": "2025-04-24T11:23:58.907Z"
   },
   {
    "duration": 0,
    "start_time": "2025-04-24T11:23:58.909Z"
   },
   {
    "duration": 6,
    "start_time": "2025-04-24T11:24:31.021Z"
   },
   {
    "duration": 13,
    "start_time": "2025-04-24T11:24:33.721Z"
   },
   {
    "duration": 35,
    "start_time": "2025-04-24T11:24:46.711Z"
   },
   {
    "duration": 10,
    "start_time": "2025-04-24T11:25:10.138Z"
   },
   {
    "duration": 22,
    "start_time": "2025-04-24T11:25:13.475Z"
   },
   {
    "duration": 10,
    "start_time": "2025-04-24T11:25:18.804Z"
   },
   {
    "duration": 23,
    "start_time": "2025-04-24T11:25:50.987Z"
   },
   {
    "duration": 135,
    "start_time": "2025-04-24T11:25:53.508Z"
   },
   {
    "duration": 157,
    "start_time": "2025-04-24T11:27:13.926Z"
   },
   {
    "duration": 144,
    "start_time": "2025-04-24T11:27:56.057Z"
   },
   {
    "duration": 142,
    "start_time": "2025-04-24T11:28:00.207Z"
   },
   {
    "duration": 143,
    "start_time": "2025-04-24T11:29:12.169Z"
   },
   {
    "duration": 151,
    "start_time": "2025-04-24T11:30:48.587Z"
   },
   {
    "duration": 244,
    "start_time": "2025-04-24T11:31:34.748Z"
   },
   {
    "duration": 252,
    "start_time": "2025-04-24T11:31:43.317Z"
   },
   {
    "duration": 229,
    "start_time": "2025-04-24T11:32:12.653Z"
   },
   {
    "duration": 3604,
    "start_time": "2025-04-24T11:34:59.409Z"
   },
   {
    "duration": 2342,
    "start_time": "2025-04-24T11:35:03.016Z"
   },
   {
    "duration": 15,
    "start_time": "2025-04-24T11:35:05.359Z"
   },
   {
    "duration": 48,
    "start_time": "2025-04-24T11:35:05.377Z"
   },
   {
    "duration": 68,
    "start_time": "2025-04-24T11:35:05.426Z"
   },
   {
    "duration": 141,
    "start_time": "2025-04-24T11:35:05.496Z"
   },
   {
    "duration": 10,
    "start_time": "2025-04-24T11:35:05.639Z"
   },
   {
    "duration": 137,
    "start_time": "2025-04-24T11:35:05.650Z"
   },
   {
    "duration": 7,
    "start_time": "2025-04-24T11:35:05.791Z"
   },
   {
    "duration": 26,
    "start_time": "2025-04-24T11:35:05.802Z"
   },
   {
    "duration": 27,
    "start_time": "2025-04-24T11:35:05.830Z"
   },
   {
    "duration": 48,
    "start_time": "2025-04-24T11:35:05.859Z"
   },
   {
    "duration": 62,
    "start_time": "2025-04-24T11:35:05.909Z"
   },
   {
    "duration": 195,
    "start_time": "2025-04-24T11:35:05.973Z"
   },
   {
    "duration": 6,
    "start_time": "2025-04-24T11:35:06.170Z"
   },
   {
    "duration": 57,
    "start_time": "2025-04-24T11:35:06.178Z"
   },
   {
    "duration": 314,
    "start_time": "2025-04-24T11:35:06.237Z"
   },
   {
    "duration": 83,
    "start_time": "2025-04-24T11:35:06.553Z"
   },
   {
    "duration": 43,
    "start_time": "2025-04-24T11:35:06.638Z"
   },
   {
    "duration": 79,
    "start_time": "2025-04-24T11:35:06.682Z"
   },
   {
    "duration": 42,
    "start_time": "2025-04-24T11:35:06.763Z"
   },
   {
    "duration": 171,
    "start_time": "2025-04-24T11:35:06.806Z"
   },
   {
    "duration": 159,
    "start_time": "2025-04-24T11:35:06.979Z"
   },
   {
    "duration": 149,
    "start_time": "2025-04-24T11:35:07.139Z"
   },
   {
    "duration": 6,
    "start_time": "2025-04-24T11:35:07.289Z"
   },
   {
    "duration": 88,
    "start_time": "2025-04-24T11:35:07.297Z"
   },
   {
    "duration": 77,
    "start_time": "2025-04-24T11:35:07.387Z"
   },
   {
    "duration": 33,
    "start_time": "2025-04-24T11:35:07.469Z"
   },
   {
    "duration": 189,
    "start_time": "2025-04-24T11:35:07.504Z"
   },
   {
    "duration": 131,
    "start_time": "2025-04-24T11:35:07.695Z"
   },
   {
    "duration": 35,
    "start_time": "2025-04-24T11:35:07.828Z"
   },
   {
    "duration": 28,
    "start_time": "2025-04-24T11:35:07.865Z"
   },
   {
    "duration": 81,
    "start_time": "2025-04-24T11:35:07.895Z"
   },
   {
    "duration": 314,
    "start_time": "2025-04-24T11:35:07.978Z"
   },
   {
    "duration": 255,
    "start_time": "2025-04-24T11:35:08.294Z"
   },
   {
    "duration": 206,
    "start_time": "2025-04-24T11:35:08.551Z"
   },
   {
    "duration": 51,
    "start_time": "2025-04-24T11:35:08.758Z"
   },
   {
    "duration": 26,
    "start_time": "2025-04-24T11:35:08.810Z"
   },
   {
    "duration": 18,
    "start_time": "2025-04-24T11:35:08.838Z"
   },
   {
    "duration": 18,
    "start_time": "2025-04-24T11:35:08.857Z"
   },
   {
    "duration": 2,
    "start_time": "2025-04-24T11:35:08.877Z"
   },
   {
    "duration": 62,
    "start_time": "2025-04-24T11:35:08.880Z"
   },
   {
    "duration": 11,
    "start_time": "2025-04-24T11:35:08.944Z"
   },
   {
    "duration": 165,
    "start_time": "2025-04-24T11:35:08.957Z"
   },
   {
    "duration": 740,
    "start_time": "2025-04-24T11:35:09.124Z"
   },
   {
    "duration": 2,
    "start_time": "2025-04-24T11:35:09.866Z"
   },
   {
    "duration": 87,
    "start_time": "2025-04-24T11:35:09.870Z"
   },
   {
    "duration": 11,
    "start_time": "2025-04-24T11:35:09.959Z"
   },
   {
    "duration": 65,
    "start_time": "2025-04-24T11:35:09.973Z"
   },
   {
    "duration": 5,
    "start_time": "2025-04-24T11:35:10.040Z"
   },
   {
    "duration": 10,
    "start_time": "2025-04-24T11:35:10.046Z"
   },
   {
    "duration": 6,
    "start_time": "2025-04-24T11:35:10.057Z"
   },
   {
    "duration": 68,
    "start_time": "2025-04-24T11:35:10.065Z"
   },
   {
    "duration": 9,
    "start_time": "2025-04-24T11:35:10.135Z"
   },
   {
    "duration": 2,
    "start_time": "2025-04-24T11:35:10.145Z"
   },
   {
    "duration": 22,
    "start_time": "2025-04-24T11:35:10.149Z"
   },
   {
    "duration": 165,
    "start_time": "2025-04-24T11:35:10.173Z"
   },
   {
    "duration": 3,
    "start_time": "2025-04-24T11:35:10.340Z"
   },
   {
    "duration": 9,
    "start_time": "2025-04-24T11:35:10.345Z"
   },
   {
    "duration": 8,
    "start_time": "2025-04-24T11:35:10.355Z"
   },
   {
    "duration": 17,
    "start_time": "2025-04-24T11:35:10.365Z"
   },
   {
    "duration": 13,
    "start_time": "2025-04-24T11:35:10.383Z"
   },
   {
    "duration": 138,
    "start_time": "2025-04-24T11:35:10.398Z"
   },
   {
    "duration": 10295,
    "start_time": "2025-04-25T06:41:31.796Z"
   },
   {
    "duration": 2479,
    "start_time": "2025-04-25T06:41:42.094Z"
   },
   {
    "duration": 14,
    "start_time": "2025-04-25T06:41:44.575Z"
   },
   {
    "duration": 14,
    "start_time": "2025-04-25T06:41:44.591Z"
   },
   {
    "duration": 26,
    "start_time": "2025-04-25T06:41:44.607Z"
   },
   {
    "duration": 109,
    "start_time": "2025-04-25T06:41:44.663Z"
   },
   {
    "duration": 10,
    "start_time": "2025-04-25T06:41:44.773Z"
   },
   {
    "duration": 49,
    "start_time": "2025-04-25T06:41:44.784Z"
   },
   {
    "duration": 24,
    "start_time": "2025-04-25T06:41:44.840Z"
   },
   {
    "duration": 33,
    "start_time": "2025-04-25T06:41:44.869Z"
   },
   {
    "duration": 8,
    "start_time": "2025-04-25T06:41:44.904Z"
   },
   {
    "duration": 57,
    "start_time": "2025-04-25T06:41:44.913Z"
   },
   {
    "duration": 26,
    "start_time": "2025-04-25T06:41:44.975Z"
   },
   {
    "duration": 171,
    "start_time": "2025-04-25T06:41:45.003Z"
   },
   {
    "duration": 5,
    "start_time": "2025-04-25T06:41:45.176Z"
   },
   {
    "duration": 65,
    "start_time": "2025-04-25T06:41:45.183Z"
   },
   {
    "duration": 335,
    "start_time": "2025-04-25T06:41:45.250Z"
   },
   {
    "duration": 88,
    "start_time": "2025-04-25T06:41:45.586Z"
   },
   {
    "duration": 45,
    "start_time": "2025-04-25T06:41:45.675Z"
   },
   {
    "duration": 114,
    "start_time": "2025-04-25T06:41:45.722Z"
   },
   {
    "duration": 53,
    "start_time": "2025-04-25T06:41:45.838Z"
   },
   {
    "duration": 182,
    "start_time": "2025-04-25T06:41:45.892Z"
   },
   {
    "duration": 165,
    "start_time": "2025-04-25T06:41:46.076Z"
   },
   {
    "duration": 155,
    "start_time": "2025-04-25T06:41:46.242Z"
   },
   {
    "duration": 6,
    "start_time": "2025-04-25T06:41:46.398Z"
   },
   {
    "duration": 33,
    "start_time": "2025-04-25T06:41:46.406Z"
   },
   {
    "duration": 80,
    "start_time": "2025-04-25T06:41:46.440Z"
   },
   {
    "duration": 16,
    "start_time": "2025-04-25T06:41:46.525Z"
   },
   {
    "duration": 183,
    "start_time": "2025-04-25T06:41:46.542Z"
   },
   {
    "duration": 149,
    "start_time": "2025-04-25T06:41:46.727Z"
   },
   {
    "duration": 32,
    "start_time": "2025-04-25T06:41:46.878Z"
   },
   {
    "duration": 24,
    "start_time": "2025-04-25T06:41:46.912Z"
   },
   {
    "duration": 25,
    "start_time": "2025-04-25T06:41:46.962Z"
   },
   {
    "duration": 255,
    "start_time": "2025-04-25T06:41:46.989Z"
   },
   {
    "duration": 304,
    "start_time": "2025-04-25T06:41:47.246Z"
   },
   {
    "duration": 223,
    "start_time": "2025-04-25T06:41:47.552Z"
   },
   {
    "duration": 51,
    "start_time": "2025-04-25T06:41:47.776Z"
   },
   {
    "duration": 15,
    "start_time": "2025-04-25T06:41:47.829Z"
   },
   {
    "duration": 35,
    "start_time": "2025-04-25T06:41:47.846Z"
   },
   {
    "duration": 21,
    "start_time": "2025-04-25T06:41:47.882Z"
   },
   {
    "duration": 3,
    "start_time": "2025-04-25T06:41:47.904Z"
   },
   {
    "duration": 67,
    "start_time": "2025-04-25T06:41:47.909Z"
   },
   {
    "duration": 11,
    "start_time": "2025-04-25T06:41:47.977Z"
   },
   {
    "duration": 167,
    "start_time": "2025-04-25T06:41:47.989Z"
   },
   {
    "duration": 793,
    "start_time": "2025-04-25T06:41:48.163Z"
   },
   {
    "duration": 2,
    "start_time": "2025-04-25T06:41:48.962Z"
   },
   {
    "duration": 99,
    "start_time": "2025-04-25T06:41:48.966Z"
   },
   {
    "duration": 14,
    "start_time": "2025-04-25T06:41:49.067Z"
   },
   {
    "duration": 40,
    "start_time": "2025-04-25T06:41:49.083Z"
   },
   {
    "duration": 14,
    "start_time": "2025-04-25T06:41:49.125Z"
   },
   {
    "duration": 24,
    "start_time": "2025-04-25T06:41:49.142Z"
   },
   {
    "duration": 28,
    "start_time": "2025-04-25T06:41:49.168Z"
   },
   {
    "duration": 95,
    "start_time": "2025-04-25T06:41:49.198Z"
   },
   {
    "duration": 9,
    "start_time": "2025-04-25T06:41:49.295Z"
   },
   {
    "duration": 41,
    "start_time": "2025-04-25T06:41:49.306Z"
   },
   {
    "duration": 31,
    "start_time": "2025-04-25T06:41:49.349Z"
   },
   {
    "duration": 245,
    "start_time": "2025-04-25T06:41:49.382Z"
   },
   {
    "duration": 0,
    "start_time": "2025-04-25T06:41:49.629Z"
   },
   {
    "duration": 0,
    "start_time": "2025-04-25T06:41:49.631Z"
   },
   {
    "duration": 0,
    "start_time": "2025-04-25T06:41:49.633Z"
   },
   {
    "duration": 0,
    "start_time": "2025-04-25T06:41:49.635Z"
   },
   {
    "duration": 0,
    "start_time": "2025-04-25T06:41:49.637Z"
   },
   {
    "duration": 0,
    "start_time": "2025-04-25T06:41:49.661Z"
   },
   {
    "duration": 158,
    "start_time": "2025-04-25T06:43:22.907Z"
   },
   {
    "duration": 152,
    "start_time": "2025-04-25T06:43:40.716Z"
   },
   {
    "duration": 156,
    "start_time": "2025-04-25T06:43:51.432Z"
   },
   {
    "duration": 169,
    "start_time": "2025-04-25T06:45:54.512Z"
   },
   {
    "duration": 159,
    "start_time": "2025-04-25T06:47:46.606Z"
   },
   {
    "duration": 481,
    "start_time": "2025-04-25T06:54:47.620Z"
   },
   {
    "duration": 209,
    "start_time": "2025-04-25T06:55:23.160Z"
   },
   {
    "duration": 314,
    "start_time": "2025-04-25T06:56:20.325Z"
   },
   {
    "duration": 125,
    "start_time": "2025-04-25T06:57:00.676Z"
   },
   {
    "duration": 59,
    "start_time": "2025-04-25T06:57:10.554Z"
   },
   {
    "duration": 270,
    "start_time": "2025-04-25T06:58:12.362Z"
   },
   {
    "duration": 261,
    "start_time": "2025-04-25T06:58:24.137Z"
   },
   {
    "duration": 257,
    "start_time": "2025-04-25T06:58:37.289Z"
   },
   {
    "duration": 218,
    "start_time": "2025-04-25T06:58:51.970Z"
   },
   {
    "duration": 213,
    "start_time": "2025-04-25T06:59:01.629Z"
   },
   {
    "duration": 9527,
    "start_time": "2025-04-26T13:00:08.561Z"
   },
   {
    "duration": 2058,
    "start_time": "2025-04-26T13:00:18.091Z"
   },
   {
    "duration": 12,
    "start_time": "2025-04-26T13:00:20.150Z"
   },
   {
    "duration": 22,
    "start_time": "2025-04-26T13:00:20.164Z"
   },
   {
    "duration": 56,
    "start_time": "2025-04-26T13:00:20.188Z"
   },
   {
    "duration": 117,
    "start_time": "2025-04-26T13:00:20.245Z"
   },
   {
    "duration": 9,
    "start_time": "2025-04-26T13:00:20.364Z"
   },
   {
    "duration": 62,
    "start_time": "2025-04-26T13:00:20.374Z"
   },
   {
    "duration": 8,
    "start_time": "2025-04-26T13:00:20.438Z"
   },
   {
    "duration": 21,
    "start_time": "2025-04-26T13:00:20.450Z"
   },
   {
    "duration": 8,
    "start_time": "2025-04-26T13:00:20.473Z"
   },
   {
    "duration": 25,
    "start_time": "2025-04-26T13:00:20.483Z"
   },
   {
    "duration": 43,
    "start_time": "2025-04-26T13:00:20.510Z"
   },
   {
    "duration": 156,
    "start_time": "2025-04-26T13:00:20.554Z"
   },
   {
    "duration": 5,
    "start_time": "2025-04-26T13:00:20.712Z"
   },
   {
    "duration": 32,
    "start_time": "2025-04-26T13:00:20.719Z"
   },
   {
    "duration": 319,
    "start_time": "2025-04-26T13:00:20.753Z"
   },
   {
    "duration": 82,
    "start_time": "2025-04-26T13:00:21.074Z"
   },
   {
    "duration": 43,
    "start_time": "2025-04-26T13:00:21.158Z"
   },
   {
    "duration": 88,
    "start_time": "2025-04-26T13:00:21.203Z"
   },
   {
    "duration": 50,
    "start_time": "2025-04-26T13:00:21.293Z"
   },
   {
    "duration": 171,
    "start_time": "2025-04-26T13:00:21.345Z"
   },
   {
    "duration": 155,
    "start_time": "2025-04-26T13:00:21.517Z"
   },
   {
    "duration": 152,
    "start_time": "2025-04-26T13:00:21.673Z"
   },
   {
    "duration": 13,
    "start_time": "2025-04-26T13:00:21.826Z"
   },
   {
    "duration": 110,
    "start_time": "2025-04-26T13:00:21.841Z"
   },
   {
    "duration": 54,
    "start_time": "2025-04-26T13:00:21.953Z"
   },
   {
    "duration": 26,
    "start_time": "2025-04-26T13:00:22.011Z"
   },
   {
    "duration": 162,
    "start_time": "2025-04-26T13:00:22.038Z"
   },
   {
    "duration": 134,
    "start_time": "2025-04-26T13:00:22.202Z"
   },
   {
    "duration": 31,
    "start_time": "2025-04-26T13:00:22.338Z"
   },
   {
    "duration": 21,
    "start_time": "2025-04-26T13:00:22.371Z"
   },
   {
    "duration": 43,
    "start_time": "2025-04-26T13:00:22.394Z"
   },
   {
    "duration": 238,
    "start_time": "2025-04-26T13:00:22.439Z"
   },
   {
    "duration": 263,
    "start_time": "2025-04-26T13:00:22.678Z"
   },
   {
    "duration": 199,
    "start_time": "2025-04-26T13:00:22.943Z"
   },
   {
    "duration": 49,
    "start_time": "2025-04-26T13:00:23.144Z"
   },
   {
    "duration": 14,
    "start_time": "2025-04-26T13:00:23.194Z"
   },
   {
    "duration": 41,
    "start_time": "2025-04-26T13:00:23.210Z"
   },
   {
    "duration": 20,
    "start_time": "2025-04-26T13:00:23.253Z"
   },
   {
    "duration": 3,
    "start_time": "2025-04-26T13:00:23.275Z"
   },
   {
    "duration": 61,
    "start_time": "2025-04-26T13:00:23.280Z"
   },
   {
    "duration": 12,
    "start_time": "2025-04-26T13:00:23.343Z"
   },
   {
    "duration": 237,
    "start_time": "2025-04-26T13:00:23.357Z"
   },
   {
    "duration": 739,
    "start_time": "2025-04-26T13:00:23.597Z"
   },
   {
    "duration": 2,
    "start_time": "2025-04-26T13:00:24.338Z"
   },
   {
    "duration": 103,
    "start_time": "2025-04-26T13:00:24.341Z"
   },
   {
    "duration": 12,
    "start_time": "2025-04-26T13:00:24.447Z"
   },
   {
    "duration": 21,
    "start_time": "2025-04-26T13:00:24.461Z"
   },
   {
    "duration": 18,
    "start_time": "2025-04-26T13:00:24.484Z"
   },
   {
    "duration": 31,
    "start_time": "2025-04-26T13:00:24.503Z"
   },
   {
    "duration": 8,
    "start_time": "2025-04-26T13:00:24.535Z"
   },
   {
    "duration": 45,
    "start_time": "2025-04-26T13:00:24.545Z"
   },
   {
    "duration": 8,
    "start_time": "2025-04-26T13:00:24.592Z"
   },
   {
    "duration": 14,
    "start_time": "2025-04-26T13:00:24.602Z"
   },
   {
    "duration": 34,
    "start_time": "2025-04-26T13:00:24.618Z"
   },
   {
    "duration": 209,
    "start_time": "2025-04-26T13:00:24.654Z"
   },
   {
    "duration": 3,
    "start_time": "2025-04-26T13:00:24.865Z"
   },
   {
    "duration": 3,
    "start_time": "2025-04-26T13:00:24.869Z"
   },
   {
    "duration": 7,
    "start_time": "2025-04-26T13:00:24.874Z"
   },
   {
    "duration": 6,
    "start_time": "2025-04-26T13:00:24.882Z"
   },
   {
    "duration": 8,
    "start_time": "2025-04-26T13:00:24.890Z"
   },
   {
    "duration": 149,
    "start_time": "2025-04-26T13:00:24.900Z"
   },
   {
    "duration": 36,
    "start_time": "2025-04-26T13:00:38.823Z"
   }
  ],
  "colab": {
   "provenance": []
  },
  "kernelspec": {
   "display_name": "Python [conda env:base] *",
   "language": "python",
   "name": "conda-base-py"
  },
  "language_info": {
   "codemirror_mode": {
    "name": "ipython",
    "version": 3
   },
   "file_extension": ".py",
   "mimetype": "text/x-python",
   "name": "python",
   "nbconvert_exporter": "python",
   "pygments_lexer": "ipython3",
   "version": "3.12.7"
  },
  "toc": {
   "base_numbering": 1,
   "nav_menu": {},
   "number_sections": true,
   "sideBar": true,
   "skip_h1_title": true,
   "title_cell": "Table of Contents",
   "title_sidebar": "Contents",
   "toc_cell": false,
   "toc_position": {},
   "toc_section_display": true,
   "toc_window_display": false
  }
 },
 "nbformat": 4,
 "nbformat_minor": 4
}
