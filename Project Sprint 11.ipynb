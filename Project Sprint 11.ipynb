{
 "cells": [
  {
   "cell_type": "markdown",
   "metadata": {
    "id": "u98L9TgH0eMk"
   },
   "source": [
    "# Разработка A/B-тестирования и анализ результатов\n",
    "\n",
    "Вы работаете продуктовым аналитиком в компании, которая разрабатывает развлекательное приложение с функцией «бесконечной» ленты, как, например, в приложениях с короткими видео. В вашем приложении существует две модели монетизации: первая — ежемесячная платная подписка, которая позволяет пользователям смотреть ленту без рекламы, вторая — демонстрация рекламы для пользователей, которые ещё не оформили подписку.\n",
    "\n",
    "Команда разработчиков рекомендательных систем создала новый алгоритм рекомендаций, который, по их мнению, будет показывать более интересный контент для каждого пользователя. Вас, как аналитика, просят помочь рассчитать параметры A/B-теста, который позволит проверить эту гипотезу, и проанализировать его результаты."
   ]
  },
  {
   "cell_type": "markdown",
   "metadata": {
    "id": "LJBRALHs0eMf"
   },
   "source": [
    "## Описание данных\n",
    "\n",
    "Вы будете работать с тремя таблицами:\n",
    "\n",
    "- `sessions_project_history.csv` — таблица с историческими данными по сессиям пользователей на период с 2025-08-15 по 2025-09-23. Путь к файлу: `/datasets/sessions_project_history.csv`.\n",
    "\n",
    "- `sessions_project_test_part.csv` — таблица с данными за первый день проведения A/B-теста, то есть за 2025-10-14. Путь к файлу: `/datasets/sessions_project_test_part.csv`.\n",
    "\n",
    "- `sessions_project_test.csv` — таблица с данными за весь период проведения A/B-теста, то есть с 2025-10-14 по 2025-11-02. Путь к файлу: `/datasets/sessions_project_test.csv`.\n",
    "\n",
    "У этих таблиц почти совпадает структура и содержание колонок, различаются лишь периоды наблюдения.\n",
    "\n",
    "Поля таблиц `sessions_project_history.csv`, `sessions_project_test.csv`, `sessions_project_test_part.csv`:\n",
    "\n",
    "- `user_id` — идентификатор пользователя;\n",
    "\n",
    "- `session_id` — идентификатор сессии в приложении;\n",
    "\n",
    "- `session_date` — дата сессии;\n",
    "\n",
    "- `session_start_ts` — дата и время начала сессии;\n",
    "\n",
    "- `install_date` — дата установки приложения;\n",
    "\n",
    "- `session_number` — порядковый номер сессии для конкретного пользователя;\n",
    "\n",
    "- `registration_flag` — является ли пользователь зарегистрированным;\n",
    "\n",
    "- `page_counter` — количество просмотренных страниц во время сессии;\n",
    "\n",
    "- `region` — регион пользователя;\n",
    "\n",
    "- `device` — тип устройства пользователя;\n",
    "\n",
    "- `test_group` — тестовая группа (в таблице с историческими данными этого столбца нет).\n",
    "\n",
    "\n",
    "## Что нужно сделать\n",
    "Ваши задачи: рассчитать параметры теста, оценить корректность его проведения и проанализировать результаты эксперимента."
   ]
  },
  {
   "cell_type": "markdown",
   "metadata": {
    "id": "UpOucjID0eMl"
   },
   "source": [
    "### 1. Работа с историческими данными (EDA)"
   ]
  },
  {
   "cell_type": "markdown",
   "metadata": {
    "id": "8iJMtL-30eMl"
   },
   "source": [
    "#### 1.1. Загрузка исторических данных\n",
    "На первом этапе поработайте с историческими данными приложения:\n",
    "\n",
    "- Импортируйте библиотеку pandas.\n",
    "\n",
    "- Считайте и сохраните в датафрейм `sessions_history` CSV-файл с историческими данными о сессиях пользователей `sessions_project_history.csv`.\n",
    "\n",
    "Выведите на экран первые пять строк полученного датафрейма."
   ]
  },
  {
   "cell_type": "code",
   "execution_count": 1,
   "metadata": {
    "id": "6TPR2-1RPboT"
   },
   "outputs": [],
   "source": [
    "import pandas as pd\n",
    "import matplotlib.pyplot as plt\n",
    "from math import fabs\n",
    "!pip install matplotlib-venn -q\n",
    "from matplotlib_venn import venn2, venn3 "
   ]
  },
  {
   "cell_type": "code",
   "execution_count": 2,
   "metadata": {},
   "outputs": [],
   "source": [
    "path = 'https://code.s3.yandex.net/datasets/'\n",
    "session_history=pd.read_csv(path+'sessions_project_history.csv')\n",
    "sessions_test_part = pd.read_csv(path+'sessions_project_test_part.csv')\n",
    "sessions_test = pd.read_csv(path+'sessions_project_test.csv')"
   ]
  },
  {
   "cell_type": "code",
   "execution_count": 3,
   "metadata": {},
   "outputs": [
    {
     "data": {
      "text/html": [
       "<div>\n",
       "<style scoped>\n",
       "    .dataframe tbody tr th:only-of-type {\n",
       "        vertical-align: middle;\n",
       "    }\n",
       "\n",
       "    .dataframe tbody tr th {\n",
       "        vertical-align: top;\n",
       "    }\n",
       "\n",
       "    .dataframe thead th {\n",
       "        text-align: right;\n",
       "    }\n",
       "</style>\n",
       "<table border=\"1\" class=\"dataframe\">\n",
       "  <thead>\n",
       "    <tr style=\"text-align: right;\">\n",
       "      <th></th>\n",
       "      <th>user_id</th>\n",
       "      <th>session_id</th>\n",
       "      <th>session_date</th>\n",
       "      <th>session_start_ts</th>\n",
       "      <th>install_date</th>\n",
       "      <th>session_number</th>\n",
       "      <th>registration_flag</th>\n",
       "      <th>page_counter</th>\n",
       "      <th>region</th>\n",
       "      <th>device</th>\n",
       "    </tr>\n",
       "  </thead>\n",
       "  <tbody>\n",
       "    <tr>\n",
       "      <th>0</th>\n",
       "      <td>E302123B7000BFE4</td>\n",
       "      <td>F9AF61A0C2023832</td>\n",
       "      <td>2025-08-15</td>\n",
       "      <td>2025-08-15 17:47:35</td>\n",
       "      <td>2025-08-15</td>\n",
       "      <td>1</td>\n",
       "      <td>0</td>\n",
       "      <td>3</td>\n",
       "      <td>CIS</td>\n",
       "      <td>iPhone</td>\n",
       "    </tr>\n",
       "    <tr>\n",
       "      <th>1</th>\n",
       "      <td>2530F72E221829FB</td>\n",
       "      <td>85003A206CBDAC6F</td>\n",
       "      <td>2025-08-15</td>\n",
       "      <td>2025-08-15 16:42:14</td>\n",
       "      <td>2025-08-15</td>\n",
       "      <td>1</td>\n",
       "      <td>0</td>\n",
       "      <td>4</td>\n",
       "      <td>MENA</td>\n",
       "      <td>Android</td>\n",
       "    </tr>\n",
       "    <tr>\n",
       "      <th>2</th>\n",
       "      <td>876E020A4FC512F5</td>\n",
       "      <td>3677423E49D72DEE</td>\n",
       "      <td>2025-08-15</td>\n",
       "      <td>2025-08-15 12:30:00</td>\n",
       "      <td>2025-08-15</td>\n",
       "      <td>1</td>\n",
       "      <td>0</td>\n",
       "      <td>4</td>\n",
       "      <td>EU</td>\n",
       "      <td>PC</td>\n",
       "    </tr>\n",
       "    <tr>\n",
       "      <th>3</th>\n",
       "      <td>2640B349E1D81584</td>\n",
       "      <td>956B45F5915CA225</td>\n",
       "      <td>2025-08-15</td>\n",
       "      <td>2025-08-15 15:31:31</td>\n",
       "      <td>2025-08-15</td>\n",
       "      <td>1</td>\n",
       "      <td>0</td>\n",
       "      <td>4</td>\n",
       "      <td>CIS</td>\n",
       "      <td>Android</td>\n",
       "    </tr>\n",
       "    <tr>\n",
       "      <th>4</th>\n",
       "      <td>94E1CBFAEF1F5EE9</td>\n",
       "      <td>83BF0DA35F9F1F40</td>\n",
       "      <td>2025-08-15</td>\n",
       "      <td>2025-08-15 21:33:53</td>\n",
       "      <td>2025-08-15</td>\n",
       "      <td>1</td>\n",
       "      <td>0</td>\n",
       "      <td>3</td>\n",
       "      <td>CIS</td>\n",
       "      <td>Android</td>\n",
       "    </tr>\n",
       "  </tbody>\n",
       "</table>\n",
       "</div>"
      ],
      "text/plain": [
       "            user_id        session_id session_date     session_start_ts  \\\n",
       "0  E302123B7000BFE4  F9AF61A0C2023832   2025-08-15  2025-08-15 17:47:35   \n",
       "1  2530F72E221829FB  85003A206CBDAC6F   2025-08-15  2025-08-15 16:42:14   \n",
       "2  876E020A4FC512F5  3677423E49D72DEE   2025-08-15  2025-08-15 12:30:00   \n",
       "3  2640B349E1D81584  956B45F5915CA225   2025-08-15  2025-08-15 15:31:31   \n",
       "4  94E1CBFAEF1F5EE9  83BF0DA35F9F1F40   2025-08-15  2025-08-15 21:33:53   \n",
       "\n",
       "  install_date  session_number  registration_flag  page_counter region  \\\n",
       "0   2025-08-15               1                  0             3    CIS   \n",
       "1   2025-08-15               1                  0             4   MENA   \n",
       "2   2025-08-15               1                  0             4     EU   \n",
       "3   2025-08-15               1                  0             4    CIS   \n",
       "4   2025-08-15               1                  0             3    CIS   \n",
       "\n",
       "    device  \n",
       "0   iPhone  \n",
       "1  Android  \n",
       "2       PC  \n",
       "3  Android  \n",
       "4  Android  "
      ]
     },
     "execution_count": 3,
     "metadata": {},
     "output_type": "execute_result"
    }
   ],
   "source": [
    "session_history.head()"
   ]
  },
  {
   "cell_type": "markdown",
   "metadata": {
    "id": "qTDoiODz0eMo"
   },
   "source": [
    "#### 1.2. Знакомство с данными\n",
    "- Для каждого уникального пользователя `user_id` рассчитайте количество уникальных сессий `session_id`.\n",
    "\n",
    "- Выведите на экран все данные из таблицы `sessions_history` для одного пользователя с наибольшим количеством сессий. Если таких пользователей несколько, выберите любого из них.\n",
    "\n",
    "- Изучите таблицу для одного пользователя, чтобы лучше понять логику формирования каждого столбца данных.\n",
    "\n"
   ]
  },
  {
   "cell_type": "code",
   "execution_count": 4,
   "metadata": {
    "id": "PWZO9vTIPbPN"
   },
   "outputs": [
    {
     "name": "stdout",
     "output_type": "stream",
     "text": [
      "                 user_id  session_id\n",
      "8948    10E0DEFC1ABDBBE0          10\n",
      "55627   6A73CB5566BB494D          10\n",
      "72346   8A60431A825D035B           9\n",
      "109383  D11541BAC141FB94           9\n",
      "47956   5BCFE7C4DCC148E9           9\n",
      "...                  ...         ...\n",
      "15859   1DF13BB1953B3497           1\n",
      "51449   628502A3CE7E0A3C           1\n",
      "15853   1DEEF40DEFBD0C65           1\n",
      "89905   AC08479B7472C628           1\n",
      "72184   8A0882B6715D9EE5           1\n",
      "\n",
      "[134039 rows x 2 columns]\n"
     ]
    }
   ],
   "source": [
    "result = session_history.groupby('user_id')['session_id'].nunique().reset_index().sort_values(by='session_id', ascending=False)\n",
    "print(result)"
   ]
  },
  {
   "cell_type": "code",
   "execution_count": 5,
   "metadata": {},
   "outputs": [
    {
     "name": "stdout",
     "output_type": "stream",
     "text": [
      "                 user_id        session_id session_date     session_start_ts  \\\n",
      "115558  10E0DEFC1ABDBBE0  B8F0423BBFFCF5DC   2025-08-14  2025-08-14 13:57:39   \n",
      "191751  10E0DEFC1ABDBBE0  87CA2FA549473837   2025-08-15  2025-08-15 16:42:10   \n",
      "239370  10E0DEFC1ABDBBE0  4ADD8011DCDCE318   2025-08-16  2025-08-16 19:53:21   \n",
      "274629  10E0DEFC1ABDBBE0  DF0FD0E09BF1F3D7   2025-08-17  2025-08-17 15:03:43   \n",
      "302501  10E0DEFC1ABDBBE0  3C221774B4DE6885   2025-08-18  2025-08-18 17:29:14   \n",
      "325557  10E0DEFC1ABDBBE0  031BD7A67048105B   2025-08-19  2025-08-19 13:23:55   \n",
      "345336  10E0DEFC1ABDBBE0  FF4315CF4AD4B100   2025-08-20  2025-08-20 19:31:54   \n",
      "377532  10E0DEFC1ABDBBE0  4045FEA0747203B4   2025-08-22  2025-08-22 17:54:13   \n",
      "403538  10E0DEFC1ABDBBE0  344B086C421C7F37   2025-08-24  2025-08-24 14:46:13   \n",
      "414743  10E0DEFC1ABDBBE0  054F20BA371E4C9D   2025-08-25  2025-08-25 18:36:41   \n",
      "\n",
      "       install_date  session_number  registration_flag  page_counter region  \\\n",
      "115558   2025-08-14               1                  0             4    CIS   \n",
      "191751   2025-08-14               2                  0             3    CIS   \n",
      "239370   2025-08-14               3                  0             3    CIS   \n",
      "274629   2025-08-14               4                  0             1    CIS   \n",
      "302501   2025-08-14               5                  0             4    CIS   \n",
      "325557   2025-08-14               6                  0             2    CIS   \n",
      "345336   2025-08-14               7                  0             2    CIS   \n",
      "377532   2025-08-14               8                  0             2    CIS   \n",
      "403538   2025-08-14               9                  0             2    CIS   \n",
      "414743   2025-08-14              10                  0             3    CIS   \n",
      "\n",
      "         device  \n",
      "115558  Android  \n",
      "191751  Android  \n",
      "239370  Android  \n",
      "274629  Android  \n",
      "302501  Android  \n",
      "325557  Android  \n",
      "345336  Android  \n",
      "377532  Android  \n",
      "403538  Android  \n",
      "414743  Android  \n"
     ]
    }
   ],
   "source": [
    "max_sessions_user = session_history.groupby('user_id')['session_id'].nunique().idxmax()\n",
    "\n",
    "# Вывести все записи для этого пользователя\n",
    "user_sessions = session_history[session_history['user_id'] == max_sessions_user]\n",
    "\n",
    "print(user_sessions)"
   ]
  },
  {
   "cell_type": "markdown",
   "metadata": {
    "id": "CmcGpJTP0eMq"
   },
   "source": [
    "#### 1.3. Анализ числа регистраций\n",
    "Одна из важнейших метрик продукта — число зарегистрированных пользователей. Используя исторические данные, визуализируйте, как менялось число регистраций в приложении за время его существования.\n",
    "\n",
    "- Агрегируйте исторические данные и рассчитайте число уникальных пользователей и число зарегистрированных пользователей для каждого дня наблюдения. Для простоты считайте, что у пользователя в течение дня бывает одна сессия максимум и статус регистрации в течение одного дня не может измениться.\n",
    "\n",
    "- Постройте линейные графики общего числа пользователей и общего числа зарегистрированных пользователей по дням. Отобразите их на одном графике.\n",
    "\n",
    "- Постройте отдельный линейный график доли зарегистрированных пользователей от всех пользователей по дням.\n",
    "\n",
    "- На обоих графиках должны быть заголовок, подписанные оси X и Y, сетка и легенда."
   ]
  },
  {
   "cell_type": "code",
   "execution_count": 6,
   "metadata": {
    "id": "tN_6Ml3EPatS"
   },
   "outputs": [],
   "source": [
    "users_count = session_history.groupby('session_date').agg({'user_id' : pd.Series.nunique,\n",
    "                                                            'registration_flag' : 'sum'}).reset_index()\n",
    "\n",
    "users_count = users_count.rename(columns = {'user_id' : 'users_total',\n",
    "                                            'registration_flag': 'registered_users_total'})\n",
    "\n",
    "users_count['registered_users_share'] = users_count['registered_users_total'] / users_count['users_total']"
   ]
  },
  {
   "cell_type": "code",
   "execution_count": 7,
   "metadata": {},
   "outputs": [
    {
     "data": {
      "image/png": "[encoded data removed]",
      "text/plain": [
       "<Figure size 1080x720 with 1 Axes>"
      ]
     },
     "metadata": {
      "needs_background": "light"
     },
     "output_type": "display_data"
    }
   ],
   "source": [
    "users_count.plot(kind = 'line',\n",
    "                 x = 'session_date',\n",
    "                 y = ['users_total','registered_users_total'],\n",
    "                 title = 'Динамика посещений приложения по дням',\n",
    "                 ylabel = 'Количество пользователей',\n",
    "                 xlabel = 'Дата',\n",
    "                 legend = True,\n",
    "                 grid = True,\n",
    "                 figsize = (15,10),\n",
    "                 marker = 'o',\n",
    "                 color = ['lightgreen' ,'yellow']\n",
    "                 )\n",
    "\n",
    "plt.show()"
   ]
  },
  {
   "cell_type": "code",
   "execution_count": 8,
   "metadata": {},
   "outputs": [
    {
     "data": {
      "image/png": "[encoded data removed]",
      "text/plain": [
       "<Figure size 1080x720 with 1 Axes>"
      ]
     },
     "metadata": {
      "needs_background": "light"
     },
     "output_type": "display_data"
    }
   ],
   "source": [
    "users_count.plot(kind = 'line',\n",
    "                           x = 'session_date',\n",
    "                           y = 'registered_users_share',\n",
    "                           title = 'Динамика доли посещений зарегистрированных пользователей по дням',\n",
    "                           ylabel = 'Доля зарегистрировавшихся пользователей,%',\n",
    "                           xlabel = 'Дата',\n",
    "                           legend = True,\n",
    "                           grid = True,\n",
    "                           figsize = (15,10),\n",
    "                           marker = 'o',\n",
    "                           color = 'lightgreen'\n",
    "                          )\n",
    "\n",
    "plt.show()"
   ]
  },
  {
   "cell_type": "markdown",
   "metadata": {},
   "source": [
    "Действительно, изменение доли зарегистрированных пользователей от общего количество пользователей, посетивших приложение, более динамично.\n",
    "\n",
    "Из-за того что в сентябре наблюдается заметное снижение общего количества пользователей при незначительно изменившемся количестве зарегистрированных пользователей, мы наблюдаем рост доли зарегистрированных пользователей, посетивших приложение."
   ]
  },
  {
   "cell_type": "markdown",
   "metadata": {
    "id": "UR7D7RhF0eMr"
   },
   "source": [
    "#### 1.4. Анализ числа просмотренных страниц\n",
    "Другая важная метрика продукта — число просмотренных страниц в приложении. Чем больше страниц просмотрено, тем сильнее пользователь увлечён контентом, а значит, выше шансы на то, что он зарегистрируется и оплатит подписку.\n",
    "\n",
    "- Найдите количество сессий для каждого значения количества просмотренных страниц. Например: одну страницу просмотрели в 29160 сессиях, две страницы в 105536 сессиях и так далее.\n",
    "\n",
    "- Постройте столбчатую диаграмму, где по оси X будет число просмотренных страниц, по оси Y — количество сессий.\n",
    "\n",
    "- На диаграмме должны быть заголовок, подписанные оси X и Y."
   ]
  },
  {
   "cell_type": "code",
   "execution_count": 9,
   "metadata": {
    "id": "cb6hPlVzPaSf"
   },
   "outputs": [],
   "source": [
    "session_count_by_pages = session_history.groupby('page_counter')['session_id'].count().reset_index()\n",
    "session_count_by_pages = session_count_by_pages.rename(columns = {'session_id' : 'sessions_count'})"
   ]
  },
  {
   "cell_type": "code",
   "execution_count": 10,
   "metadata": {},
   "outputs": [
    {
     "data": {
      "image/png": "[encoded data removed]",
      "text/plain": [
       "<Figure size 1080x720 with 1 Axes>"
      ]
     },
     "metadata": {
      "needs_background": "light"
     },
     "output_type": "display_data"
    }
   ],
   "source": [
    "session_count_by_pages.plot(kind = 'bar',\n",
    "                           x = 'page_counter',\n",
    "                           y = 'sessions_count',\n",
    "                           title = 'Число просмотренных страниц в приложении',\n",
    "                           ylabel = 'Количество сессий',\n",
    "                           xlabel = 'Количество просмотренных страниц',\n",
    "                           legend = False,\n",
    "                           grid = False,\n",
    "                           figsize = (15,10),\n",
    "                           color = 'lightgreen'\n",
    "                         )\n",
    "plt.show()"
   ]
  },
  {
   "cell_type": "markdown",
   "metadata": {},
   "source": [
    "На диаграмме видно, что наиболее частое количество просмотренных страниц в рамках одной сессии - 3. Примерно одинаковое количество сессий приходится на 2 и 4 страницы, а также на 1 и 5 страниц. 6 или 7 страниц в рамках одной сессии просматривает гораздо меньшее количество пользователей.\n",
    "\n",
    "Такие результаты говорят о том, что у пользователей приложения есть некоторая вовлеченность, однако после достижения трех страниц, вовлеченность начинает снижаться. Необходимо проанализировать причины таких показателей детально для того, чтобы разработать меры по повышению удежания пользователей в приложении."
   ]
  },
  {
   "cell_type": "markdown",
   "metadata": {
    "id": "xDltSpVP0eMr"
   },
   "source": [
    "#### 1.5. Доля пользователей, просмотревших более четырёх страниц\n",
    "Продуктовая команда продукта считает, что сессии, в рамках которых пользователь просмотрел 4 и более страниц, говорят об удовлетворённости контентом и алгоритмами рекомендаций. Этот показатель является важной прокси-метрикой для продукта.\n",
    "\n",
    "- В датафрейме `sessions_history` создайте дополнительный столбец `good_session`. В него войдёт значение `1`, если за одну сессию было просмотрено 4 и более страниц, и значение `0`, если было просмотрено меньше.\n",
    "\n",
    "- Постройте график со средним значением доли успешных сессий ко всем сессиям по дням за весь период наблюдения."
   ]
  },
  {
   "cell_type": "code",
   "execution_count": 11,
   "metadata": {
    "id": "iygaPfixPYMW"
   },
   "outputs": [],
   "source": [
    "def good_session(df):\n",
    "    \"\"\"\n",
    "    Создает столбец с признаком good_session\n",
    "\n",
    "    Parameters:\n",
    "        df (name of pd.DataFrame): Датафрейм для обработки.\n",
    "    \"\"\"\n",
    "    if df['page_counter'] >= 4:\n",
    "        return 1\n",
    "    else:\n",
    "        return 0"
   ]
  },
  {
   "cell_type": "code",
   "execution_count": 12,
   "metadata": {},
   "outputs": [],
   "source": [
    "session_history['good_session'] = session_history.apply(good_session,axis = 1)\n",
    "successful_sessions = session_history.groupby(['user_id','session_date']).agg({'session_id': 'count',\n",
    "                                                                                'good_session' : 'sum'}).reset_index()\n",
    "\n",
    "successful_sessions = successful_sessions.rename(columns = { 'session_id' : 'total_sessions',\n",
    "                                                             'good_session' : 'good_sessions_total'})\n",
    "successful_sessions['good_sessions_share'] = successful_sessions['good_sessions_total'] / successful_sessions['total_sessions']\n",
    "\n",
    "successful_sessions = successful_sessions.groupby('session_date')['good_sessions_share'].mean().reset_index()"
   ]
  },
  {
   "cell_type": "code",
   "execution_count": 13,
   "metadata": {},
   "outputs": [
    {
     "data": {
      "image/png": "[encoded data removed]",
      "text/plain": [
       "<Figure size 1080x720 with 1 Axes>"
      ]
     },
     "metadata": {
      "needs_background": "light"
     },
     "output_type": "display_data"
    }
   ],
   "source": [
    "visual = successful_sessions.plot(kind = 'line',\n",
    "                           x = 'session_date',\n",
    "                           y = 'good_sessions_share',\n",
    "                           title = 'Динамика средней доли успешных сессий по дням',\n",
    "                           ylabel = 'Средняя доля успешных сессий',\n",
    "                           xlabel = 'Дата',\n",
    "                           legend = False,\n",
    "                           grid = True,\n",
    "                           figsize = (15,10),\n",
    "                           marker = 'o',\n",
    "                           color = 'lightgreen'\n",
    "                          )\n",
    "\n",
    "\n",
    "plt.show()"
   ]
  },
  {
   "cell_type": "markdown",
   "metadata": {
    "id": "21JcG77Y0eMt"
   },
   "source": [
    "### 2. Подготовка к тесту\n",
    "При планировании теста необходимо проделать несколько важных шагов:\n",
    "\n",
    "- Определиться с целевой метрикой.\n",
    "\n",
    "- Рассчитать необходимый размер выборки.\n",
    "\n",
    "- Исходя из текущих значений трафика, рассчитать необходимую длительность проведения теста."
   ]
  },
  {
   "cell_type": "markdown",
   "metadata": {
    "id": "uzaeln270eMt"
   },
   "source": [
    "#### 2.1. Расчёт размера выборки\n",
    "В рамках курса вам уже приходилось рассчитывать размеры выборки, используя онлайн-калькуляторы. В этом задании предлагаем воспользоваться готовым кодом и рассчитать необходимое для вашего дизайна эксперимента количество пользователей.\n",
    "\n",
    "Для этого установите в коде ниже следующие параметры:\n",
    "\n",
    "- Уровень значимости — 0.05.\n",
    "\n",
    "- Вероятность ошибки второго рода — 0.2.\n",
    "\n",
    "- Мощность теста.\n",
    "\n",
    "- Минимальный детектируемый эффект, или MDE, — 3%. Обратите внимание, что здесь нужно указать десятичную дробь, а не процент.\n",
    "\n",
    "При расчёте размера выборки мы будем использовать метод `solve_power()` из класса `power.NormalIndPower` модуля `statsmodels.stats`.\n",
    "\n",
    "Запустите ячейку и изучите полученное значение."
   ]
  },
  {
   "cell_type": "code",
   "execution_count": 1,
   "metadata": {
    "id": "zSxJyPGPNdaI"
   },
   "outputs": [
    {
     "name": "stdout",
     "output_type": "stream",
     "text": [
      "Необходимый размер выборки для каждой группы: 17441\n"
     ]
    }
   ],
   "source": [
    "from statsmodels.stats.power import NormalIndPower\n",
    "\n",
    "# Задаём параметры\n",
    "alpha = 0.05  # Уровень значимости\n",
    "beta = 0.2  # Ошибка второго рода, часто 1 - мощность\n",
    "power = 0.8  # Мощность теста\n",
    "mde = 0.03  # Минимальный детектируемый эффект\n",
    "\n",
    "# Инициализируем класс NormalIndPower\n",
    "power_analysis = NormalIndPower()\n",
    "\n",
    "# Рассчитываем размер выборки\n",
    "sample_size = power_analysis.solve_power(\n",
    "    effect_size = mde,\n",
    "    power = power,\n",
    "    alpha = alpha,\n",
    "    ratio = 1 # Равномерное распределение выборок\n",
    ")\n",
    "\n",
    "print(f\"Необходимый размер выборки для каждой группы: {int(sample_size)}\")"
   ]
  },
  {
   "cell_type": "markdown",
   "metadata": {
    "id": "qLEv4RoV0eMu"
   },
   "source": [
    "#### 2.1. Расчёт длительности A/B-теста\n",
    "\n",
    "Используйте данные о количестве пользователей в каждой выборке и среднем количестве пользователей приложения. Рассчитайте длительность теста, разделив одно на другое.\n",
    "\n",
    "- Рассчитайте среднее количество уникальных пользователей приложения в день.\n",
    "\n",
    "- Определите длительность теста, исходя из рассчитанного значения размера выборок и среднего дневного трафика приложения. Количество дней округлите в большую сторону."
   ]
  },
  {
   "cell_type": "code",
   "execution_count": 15,
   "metadata": {
    "id": "KZDRbryDOGHa"
   },
   "outputs": [
    {
     "name": "stdout",
     "output_type": "stream",
     "text": [
      "Рассчитанная длительность A/B-теста при текущем уровене трафика в 9908 пользователей в день составит 4 дней\n"
     ]
    }
   ],
   "source": [
    "from math import ceil\n",
    "\n",
    "# Среднее количество пользователей приложения в день по историческим данным\n",
    "avg_daily_users = session_history.groupby('session_date').agg({'user_id' : pd.Series.nunique}).reset_index()\n",
    "avg_daily_users = ceil(avg_daily_users['user_id'].mean())\n",
    "\n",
    "# Рассчитываем длительность теста в днях как отношение размера выборки к среднему числу пользователей\n",
    "test_duration = ceil(sample_size * 2/ avg_daily_users)\n",
    "\n",
    "print(f\"Рассчитанная длительность A/B-теста при текущем уровене трафика в {avg_daily_users} пользователей в день составит {test_duration} дней\")"
   ]
  },
  {
   "cell_type": "markdown",
   "metadata": {},
   "source": [
    "При среднем трафике в 9908 пользователей в день потребуется 4 дня для проведения эксперимента. При этом необходимо отбирать по 4954 пользователя в каждую группу ежедневно. Однако на практике длительность эксперимента может быть увеличена, так как количество пользователей день ото дня может колебаться и иногда быть ниже среднего значения."
   ]
  },
  {
   "cell_type": "markdown",
   "metadata": {
    "id": "ZuvtAdha0eMv"
   },
   "source": [
    "### 3. Мониторинг А/В-теста"
   ]
  },
  {
   "cell_type": "markdown",
   "metadata": {
    "id": "jq5sE3Ya0eMv"
   },
   "source": [
    "#### 3.1. Проверка распределения пользователей\n",
    "\n",
    "A/B-тест успешно запущен, и уже доступны данные за первые три дня. На этом этапе нужно убедиться, что всё идёт хорошо: пользователи разделены правильным образом, а интересующие вас метрики корректно считаются.\n",
    "\n",
    "- Считайте и сохраните в датафрейм `sessions_test_part` CSV-файл с историческими данными о сессиях пользователей `sessions_project_test_part.csv`.\n",
    "\n",
    "- Рассчитайте количество уникальных пользователей в каждой из экспериментальных групп для одного дня наблюдения.\n",
    "\n",
    "- Рассчитайте и выведите на экран процентную разницу в количестве пользователей в группах A и B. Постройте любую удобную визуализацию, на которой можно было бы увидеть возможное различие двух групп.\n",
    "\n",
    "Для расчёта процентной разницы воспользуйтесь формулой:\n",
    "$$P = 100 \\cdot  \\frac{|A − B|}{A}$$"
   ]
  },
  {
   "cell_type": "code",
   "execution_count": 16,
   "metadata": {
    "id": "G1bqIzDJOUiz"
   },
   "outputs": [
    {
     "data": {
      "text/html": [
       "<div>\n",
       "<style scoped>\n",
       "    .dataframe tbody tr th:only-of-type {\n",
       "        vertical-align: middle;\n",
       "    }\n",
       "\n",
       "    .dataframe tbody tr th {\n",
       "        vertical-align: top;\n",
       "    }\n",
       "\n",
       "    .dataframe thead th {\n",
       "        text-align: right;\n",
       "    }\n",
       "</style>\n",
       "<table border=\"1\" class=\"dataframe\">\n",
       "  <thead>\n",
       "    <tr style=\"text-align: right;\">\n",
       "      <th></th>\n",
       "      <th>user_id</th>\n",
       "      <th>session_id</th>\n",
       "      <th>session_date</th>\n",
       "      <th>session_start_ts</th>\n",
       "      <th>install_date</th>\n",
       "      <th>session_number</th>\n",
       "      <th>registration_flag</th>\n",
       "      <th>page_counter</th>\n",
       "      <th>region</th>\n",
       "      <th>device</th>\n",
       "      <th>test_group</th>\n",
       "    </tr>\n",
       "  </thead>\n",
       "  <tbody>\n",
       "    <tr>\n",
       "      <th>0</th>\n",
       "      <td>3404844B53442747</td>\n",
       "      <td>B4901323BD537E45</td>\n",
       "      <td>2025-10-14</td>\n",
       "      <td>2025-10-14 19:28:49</td>\n",
       "      <td>2025-10-14</td>\n",
       "      <td>1</td>\n",
       "      <td>0</td>\n",
       "      <td>3</td>\n",
       "      <td>CIS</td>\n",
       "      <td>Android</td>\n",
       "      <td>B</td>\n",
       "    </tr>\n",
       "    <tr>\n",
       "      <th>1</th>\n",
       "      <td>3A2BF4D364E62D89</td>\n",
       "      <td>216FC619308F8788</td>\n",
       "      <td>2025-10-14</td>\n",
       "      <td>2025-10-14 21:11:04</td>\n",
       "      <td>2025-10-14</td>\n",
       "      <td>1</td>\n",
       "      <td>0</td>\n",
       "      <td>3</td>\n",
       "      <td>MENA</td>\n",
       "      <td>iPhone</td>\n",
       "      <td>A</td>\n",
       "    </tr>\n",
       "    <tr>\n",
       "      <th>2</th>\n",
       "      <td>79CDAE11E32B1597</td>\n",
       "      <td>EDFCE4AC1A504074</td>\n",
       "      <td>2025-10-14</td>\n",
       "      <td>2025-10-14 21:44:03</td>\n",
       "      <td>2025-10-14</td>\n",
       "      <td>1</td>\n",
       "      <td>0</td>\n",
       "      <td>3</td>\n",
       "      <td>CIS</td>\n",
       "      <td>iPhone</td>\n",
       "      <td>A</td>\n",
       "    </tr>\n",
       "    <tr>\n",
       "      <th>3</th>\n",
       "      <td>D6AF8D78297A931F</td>\n",
       "      <td>CF0AC0EEDE92C690</td>\n",
       "      <td>2025-10-14</td>\n",
       "      <td>2025-10-14 19:07:55</td>\n",
       "      <td>2025-10-14</td>\n",
       "      <td>1</td>\n",
       "      <td>0</td>\n",
       "      <td>4</td>\n",
       "      <td>CIS</td>\n",
       "      <td>PC</td>\n",
       "      <td>A</td>\n",
       "    </tr>\n",
       "    <tr>\n",
       "      <th>4</th>\n",
       "      <td>37E0CE723AE568E0</td>\n",
       "      <td>2E6ED45E8C86C4E9</td>\n",
       "      <td>2025-10-14</td>\n",
       "      <td>2025-10-14 15:39:44</td>\n",
       "      <td>2025-10-14</td>\n",
       "      <td>1</td>\n",
       "      <td>0</td>\n",
       "      <td>3</td>\n",
       "      <td>CIS</td>\n",
       "      <td>Mac</td>\n",
       "      <td>B</td>\n",
       "    </tr>\n",
       "  </tbody>\n",
       "</table>\n",
       "</div>"
      ],
      "text/plain": [
       "            user_id        session_id session_date     session_start_ts  \\\n",
       "0  3404844B53442747  B4901323BD537E45   2025-10-14  2025-10-14 19:28:49   \n",
       "1  3A2BF4D364E62D89  216FC619308F8788   2025-10-14  2025-10-14 21:11:04   \n",
       "2  79CDAE11E32B1597  EDFCE4AC1A504074   2025-10-14  2025-10-14 21:44:03   \n",
       "3  D6AF8D78297A931F  CF0AC0EEDE92C690   2025-10-14  2025-10-14 19:07:55   \n",
       "4  37E0CE723AE568E0  2E6ED45E8C86C4E9   2025-10-14  2025-10-14 15:39:44   \n",
       "\n",
       "  install_date  session_number  registration_flag  page_counter region  \\\n",
       "0   2025-10-14               1                  0             3    CIS   \n",
       "1   2025-10-14               1                  0             3   MENA   \n",
       "2   2025-10-14               1                  0             3    CIS   \n",
       "3   2025-10-14               1                  0             4    CIS   \n",
       "4   2025-10-14               1                  0             3    CIS   \n",
       "\n",
       "    device test_group  \n",
       "0  Android          B  \n",
       "1   iPhone          A  \n",
       "2   iPhone          A  \n",
       "3       PC          A  \n",
       "4      Mac          B  "
      ]
     },
     "execution_count": 16,
     "metadata": {},
     "output_type": "execute_result"
    }
   ],
   "source": [
    "sessions_test_part.head(5)"
   ]
  },
  {
   "cell_type": "code",
   "execution_count": 17,
   "metadata": {},
   "outputs": [
    {
     "data": {
      "text/html": [
       "<div>\n",
       "<style scoped>\n",
       "    .dataframe tbody tr th:only-of-type {\n",
       "        vertical-align: middle;\n",
       "    }\n",
       "\n",
       "    .dataframe tbody tr th {\n",
       "        vertical-align: top;\n",
       "    }\n",
       "\n",
       "    .dataframe thead th {\n",
       "        text-align: right;\n",
       "    }\n",
       "</style>\n",
       "<table border=\"1\" class=\"dataframe\">\n",
       "  <thead>\n",
       "    <tr style=\"text-align: right;\">\n",
       "      <th></th>\n",
       "      <th>test_group</th>\n",
       "      <th>user_id</th>\n",
       "    </tr>\n",
       "  </thead>\n",
       "  <tbody>\n",
       "    <tr>\n",
       "      <th>0</th>\n",
       "      <td>A</td>\n",
       "      <td>1477</td>\n",
       "    </tr>\n",
       "    <tr>\n",
       "      <th>1</th>\n",
       "      <td>B</td>\n",
       "      <td>1466</td>\n",
       "    </tr>\n",
       "  </tbody>\n",
       "</table>\n",
       "</div>"
      ],
      "text/plain": [
       "  test_group  user_id\n",
       "0          A     1477\n",
       "1          B     1466"
      ]
     },
     "execution_count": 17,
     "metadata": {},
     "output_type": "execute_result"
    }
   ],
   "source": [
    "unique_users = sessions_test_part.groupby('test_group').agg({'user_id' : pd.Series.nunique}).reset_index()\n",
    "unique_users"
   ]
  },
  {
   "cell_type": "code",
   "execution_count": 18,
   "metadata": {},
   "outputs": [
    {
     "name": "stdout",
     "output_type": "stream",
     "text": [
      "Процентная разница между количество пользователей в группе A и B составляет 0.74%\n"
     ]
    }
   ],
   "source": [
    "A = int(unique_users['user_id'][(unique_users['test_group'] == 'A')].iloc[0])\n",
    "\n",
    "B = int(unique_users['user_id'][(unique_users['test_group'] == 'B')].iloc[0])\n",
    "\n",
    "#рассчитываем процентную разницу\n",
    "p = round(100 * fabs(A - B)/A,2)\n",
    "\n",
    "print(f'Процентная разница между количество пользователей в группе A и B составляет {p}%')"
   ]
  },
  {
   "cell_type": "code",
   "execution_count": 19,
   "metadata": {},
   "outputs": [],
   "source": [
    "sessions_test_part['starting_hour'] = pd.to_datetime(sessions_test_part['session_start_ts']).dt.hour\n",
    "users_by_hours = sessions_test_part.pivot_table(index = 'starting_hour',\n",
    "                                                columns = 'test_group',\n",
    "                                                values = 'user_id',\n",
    "                                                aggfunc = pd.Series.nunique).reset_index().rename_axis(None, axis=1)"
   ]
  },
  {
   "cell_type": "code",
   "execution_count": 20,
   "metadata": {},
   "outputs": [
    {
     "data": {
      "image/png": "[encoded data removed]",
      "text/plain": [
       "<Figure size 1080x720 with 1 Axes>"
      ]
     },
     "metadata": {
      "needs_background": "light"
     },
     "output_type": "display_data"
    }
   ],
   "source": [
    "visual = users_by_hours.plot(kind = 'line',\n",
    "                           x = 'starting_hour',\n",
    "                           y = ['A','B'],\n",
    "                           title = 'Динамика количества пользователей по часам за первый день наблюдения',\n",
    "                           ylabel = 'Количество пользователей',\n",
    "                           xlabel = 'Час наблюдения',\n",
    "                           legend = True,\n",
    "                           grid = True,\n",
    "                           figsize = (15,10),\n",
    "                           marker = 'o',\n",
    "                           color = ['lightgreen','yellow']\n",
    "                          )\n",
    "plt.show()"
   ]
  },
  {
   "cell_type": "markdown",
   "metadata": {},
   "source": [
    "Получившаяся процентная разница и линейный график, отражающий динамику активности пользователей по часам в первый день наблюдения, говорят о том, что существенных различий между группами нет. Существует некоторая разница в почасовой динамике, однако различие между группами невелико, и в каждый час наблюдения разрыв между пользователями двух групп незначителен."
   ]
  },
  {
   "cell_type": "markdown",
   "metadata": {
    "id": "sgpNY5bv0eM0"
   },
   "source": [
    "#### 3.2. Проверка пересечений пользователей\n",
    "Помимо проверки равенства количества пользователей в группах полезно убедиться в том, что группы независимы. Для этого нужно убедиться, что никто из пользователей случайно не попал в обе группы одновременно.\n",
    "\n",
    "- Рассчитайте количество пользователей, которые встречаются одновременно в группах A и B, или убедитесь, что таких нет."
   ]
  },
  {
   "cell_type": "code",
   "execution_count": 21,
   "metadata": {
    "id": "E72ozN9FOX1u"
   },
   "outputs": [
    {
     "data": {
      "image/png": "[encoded data removed]",
      "text/plain": [
       "<Figure size 432x288 with 1 Axes>"
      ]
     },
     "metadata": {},
     "output_type": "display_data"
    }
   ],
   "source": [
    "#создаем срез каждой группы пользователем\n",
    "A = set(sessions_test_part[(sessions_test_part['test_group'] == 'A')]['user_id'].dropna().unique())\n",
    "B = set(sessions_test_part[(sessions_test_part['test_group'] == 'B')]['user_id'].dropna().unique())\n",
    "\n",
    "# Строим диаграмму Венна\n",
    "venn2([A, B], set_labels=('A', 'B'))\n",
    "\n",
    "# Отображаем график\n",
    "plt.title(\"Пересечение \")\n",
    "plt.show() "
   ]
  },
  {
   "cell_type": "markdown",
   "metadata": {},
   "source": [
    "Группы не пересекаются"
   ]
  },
  {
   "cell_type": "markdown",
   "metadata": {
    "id": "6RvkNLrg0eM1"
   },
   "source": [
    "#### 3.3. Равномерность разделения пользователей по устройствам\n",
    "Полезно также убедиться в том, что пользователи равномерно распределены по всем доступным категориальным переменным — типам устройства и регионам.\n",
    "\n",
    "Постройте две диаграммы:\n",
    "\n",
    "- доля каждого типа устройства для пользователей из группы A,\n",
    "\n",
    "- доля каждого типа устройства для пользователей из группы B.\n",
    "\n",
    "Постарайтесь добавить на диаграммы все необходимые подписи, пояснения и заголовки, которые позволят сделать вывод о том, совпадает ли распределение устройств в группах A и B.\n"
   ]
  },
  {
   "cell_type": "code",
   "execution_count": 22,
   "metadata": {
    "id": "x_IP6PUNPWHC"
   },
   "outputs": [],
   "source": [
    "users_by_device = sessions_test_part.pivot_table(index = 'device',\n",
    "                                                 columns = 'test_group',\n",
    "                                                 values = 'user_id',\n",
    "                                                 aggfunc = pd.Series.nunique).reset_index().rename_axis(None, axis=1)\n",
    "\n",
    "users_by_device['A_share'] = users_by_device['A'] / users_by_device['A'].sum()\n",
    "\n",
    "users_by_device['B_share'] = users_by_device['B'] / users_by_device['B'].sum()"
   ]
  },
  {
   "cell_type": "code",
   "execution_count": 23,
   "metadata": {},
   "outputs": [
    {
     "data": {
      "image/png": "[encoded data removed]",
      "text/plain": [
       "<Figure size 1080x720 with 1 Axes>"
      ]
     },
     "metadata": {
      "needs_background": "light"
     },
     "output_type": "display_data"
    }
   ],
   "source": [
    "users_by_device.plot(kind = 'bar',\n",
    "                           x = 'device',\n",
    "                           y = ['A_share','B_share'],\n",
    "                           title = 'Распределение пользователей в группах по типу девайса',\n",
    "                           ylabel = 'Доля пользователей',\n",
    "                           xlabel = 'Тип девайса',\n",
    "                           legend = True,\n",
    "                           grid = True,\n",
    "                           figsize = (15,10),\n",
    "                           color = ['lightgreen','yellow']\n",
    "                          )\n",
    "plt.show()"
   ]
  },
  {
   "cell_type": "markdown",
   "metadata": {},
   "source": [
    "На диаграмме видно, что распределение пользователей между группами по типу девайса достаточно равномерное. Существуют некоторые различия, однако они несущественны и не повлиют на точность эксперимента.\n",
    "\n",
    "Распределение внутри групп по типу устройств неравномерное. В каждой из групп преобладают пользователи с устройствами на базе Android. Меньше всего пользователей с устройствами на базе Mac."
   ]
  },
  {
   "cell_type": "markdown",
   "metadata": {
    "id": "gAgmP6vo0eM1"
   },
   "source": [
    "#### 3.4. Равномерность распределения пользователей по регионам\n",
    "Теперь убедитесь, что пользователи равномерно распределены по регионам.\n",
    "\n",
    "Постройте две диаграммы:\n",
    "\n",
    "- доля каждого региона для пользователей из группы A,\n",
    "\n",
    "- доля каждого региона для пользователей из группы B.\n",
    "\n",
    "Постарайтесь добавить на диаграммы все необходимые подписи, пояснения и заголовки, которые позволят сделать вывод о том, совпадает ли распределение регионов в группах A и B. Постарайтесь использовать другой тип диаграммы, не тот, что в прошлом задании.\n"
   ]
  },
  {
   "cell_type": "code",
   "execution_count": 24,
   "metadata": {
    "id": "3hAq-FG4OdYM"
   },
   "outputs": [],
   "source": [
    "users_by_region = sessions_test_part.pivot_table(index = 'region',\n",
    "                                                 columns = 'test_group',\n",
    "                                                 values = 'user_id',\n",
    "                                                 aggfunc = pd.Series.nunique).reset_index().rename_axis(None, axis=1)\n",
    "\n",
    "users_by_region['A_share'] = users_by_region['A'] / users_by_region['A'].sum()\n",
    "\n",
    "users_by_region['B_share'] = users_by_region['B'] / users_by_region['B'].sum()"
   ]
  },
  {
   "cell_type": "code",
   "execution_count": 25,
   "metadata": {},
   "outputs": [
    {
     "data": {
      "image/png": "[encoded data removed]",
      "text/plain": [
       "<Figure size 720x432 with 2 Axes>"
      ]
     },
     "metadata": {},
     "output_type": "display_data"
    }
   ],
   "source": [
    " #задаем расположение диаграмм рядом\n",
    "fig, (pie1,pie2) = plt.subplots(1,2,figsize=(10,6))\n",
    "\n",
    "colors = ['lightgreen','yellow','green']\n",
    "\n",
    "#задаем параметры для первой диаграммы\n",
    "labels = users_by_region['region']\n",
    "values = users_by_region['A_share']\n",
    "pie1.pie(values,labels = labels,colors = colors,autopct = '%1.2f%%')\n",
    "pie1.set_title('Доля пользователей по регионам в группе A')\n",
    "\n",
    "#задаем параметры для второй диаграммы\n",
    "labels = users_by_region['region']\n",
    "values = users_by_region['B_share']\n",
    "pie2.pie(values,labels = labels,colors = colors,autopct ='%1.2f%%')\n",
    "pie2.set_title('Доля пользователей по регионам в группе B')\n",
    "\n",
    "#выводим диаграммы\n",
    "plt.show()"
   ]
  },
  {
   "cell_type": "markdown",
   "metadata": {
    "id": "X2WSZ-sDrSUi"
   },
   "source": [
    "#### 3.5. Вывод после проверки A/B-теста\n",
    "\n",
    "На основании проведенного анализа A/B-теста можно сделать следующие выводы:\n",
    "\n",
    "- Распределение пользователей между группами равномерное. Существует небольшая процентная разница между количеством пользователей, однако она составляет менее 1% и на корректность проводимого теста не повлияет;\n",
    "- Полученные выборки являются независимыми, пересечение пользователей из тестовой и контрольной группы обнаржуено не было;\n",
    "- Распределение пользователей между группами по категориальным переменным равномерное. Общая структура каждой из выборок совпадет.\n"
   ]
  },
  {
   "cell_type": "markdown",
   "metadata": {
    "id": "dDELHlAcOi8d"
   },
   "source": [
    "На основании полученных данных можно заключить, что A/B-тест проходит корректно. Тем не менее за первый день наблюдений количество пользователей, по которым были собраны данные, существенно отличается от изначально рассчитанных значений на основании среднего трафика. Это говорит о том, что вместо рассчитанных четырех дней, длительность теста будет увеличена."
   ]
  },
  {
   "cell_type": "markdown",
   "metadata": {
    "id": "nudRr_BQ0eM2"
   },
   "source": [
    "### 4. Проверка результатов A/B-теста\n",
    "\n",
    "A/B-тест завершён, и у вас есть результаты за все дни проведения эксперимента. Необходимо убедиться в корректности теста и верно интерпретировать результаты."
   ]
  },
  {
   "cell_type": "markdown",
   "metadata": {
    "id": "JVve-YBB0eM2"
   },
   "source": [
    "#### 4.1. Получение результатов теста и подсчёт основной метрики\n",
    "\n",
    "- Считайте и сохраните в датафрейм `sessions_test` CSV-файл с историческими данными о сессиях пользователей `sessions_project_test.csv`.\n",
    "\n",
    "- В датафрейме `sessions_test` создайте дополнительный столбец `good_session`. В него войдёт значение `1`, если за одну сессию было просмотрено 4 и более страниц, и значение `0`, если просмотрено меньше."
   ]
  },
  {
   "cell_type": "code",
   "execution_count": 26,
   "metadata": {
    "id": "EqRlwMtKPTir"
   },
   "outputs": [],
   "source": [
    "sessions_test['good_session'] = sessions_test.apply(good_session,axis = 1)"
   ]
  },
  {
   "cell_type": "code",
   "execution_count": 27,
   "metadata": {},
   "outputs": [
    {
     "name": "stdout",
     "output_type": "stream",
     "text": [
      "Количество пользователей, участвовавших в проведении эксперимента: 30579\n",
      "Длительность эксперимента: 19 days 00:00:00\n"
     ]
    }
   ],
   "source": [
    "participants_count = sessions_test['user_id'].nunique()\n",
    "print(f'Количество пользователей, участвовавших в проведении эксперимента: {participants_count}')\n",
    "\n",
    "duration = pd.to_datetime(sessions_test['session_date'].max()) - pd.to_datetime(sessions_test['session_date'].min())\n",
    "print(f'Длительность эксперимента: {duration}')"
   ]
  },
  {
   "cell_type": "markdown",
   "metadata": {
    "id": "aeYhrMYy0eM2"
   },
   "source": [
    "#### 4.2. Проверка корректности результатов теста\n",
    "\n",
    "Прежде чем приступать к анализу ключевых продуктовых метрик, необходимо убедиться, что тест проведён корректно и вы будете сравнивать две сопоставимые группы.\n",
    "\n",
    "- Рассчитайте количество уникальных сессий для каждого дня и обеих тестовых групп, используя группировку.\n",
    "\n",
    "- Проверьте, что количество уникальных дневных сессий в двух выборках не различается или различия не статистически значимы. Используйте статистический тест, который позволит сделать вывод о равенстве средних двух выборок.\n",
    "\n",
    "- В качестве ответа выведите на экран полученное значение p-value и интерпретируйте его."
   ]
  },
  {
   "cell_type": "code",
   "execution_count": 28,
   "metadata": {
    "id": "5NUlcltkTTSU"
   },
   "outputs": [
    {
     "name": "stdout",
     "output_type": "stream",
     "text": [
      "Количество значений в каждой группе: 20\n"
     ]
    }
   ],
   "source": [
    "sessions_test_grouped = sessions_test.groupby(['session_date',\n",
    "                                               'test_group']).agg({'session_id': pd.Series.nunique}).reset_index()\n",
    "sessions_test_grouped_value_counts = sessions_test_grouped['session_date'].nunique()\n",
    "print(f'Количество значений в каждой группе: {sessions_test_grouped_value_counts}')"
   ]
  },
  {
   "cell_type": "code",
   "execution_count": 29,
   "metadata": {},
   "outputs": [
    {
     "name": "stdout",
     "output_type": "stream",
     "text": [
      "Полученное значение p_value:0.94 больше установленного значения alpha:0.05.\n",
      "Не отвергаем нулевую гипотезу о равенстве средних двух выборок\n"
     ]
    }
   ],
   "source": [
    "from scipy.stats import ttest_ind\n",
    "group_a = sessions_test_grouped[(sessions_test_grouped['test_group'] == 'A')]['session_id'].copy()\n",
    "group_b = sessions_test_grouped[(sessions_test_grouped['test_group'] == 'B')]['session_id'].copy()\n",
    "\n",
    "test_result = ttest_ind(group_a,\n",
    "                        group_b,\n",
    "                        alternative = 'two-sided')\n",
    "\n",
    "alpha = 0.05\n",
    "test_result.pvalue\n",
    "\n",
    "if test_result.pvalue <= alpha:\n",
    "    print(f'Полученное значение p_value:{round(test_result.pvalue,2)} меньше установленного значения alpha:{alpha}.\\nОтвергаем нулевую гипотезу о равенстве средних двух выборок')\n",
    "else:\n",
    "    print(f'Полученное значение p_value:{round(test_result.pvalue,2)} больше установленного значения alpha:{alpha}.\\nНе отвергаем нулевую гипотезу о равенстве средних двух выборок')"
   ]
  },
  {
   "cell_type": "markdown",
   "metadata": {
    "id": "7kwRxzg70eM3"
   },
   "source": [
    "#### 4.3. Сравнение доли успешных сессий\n",
    "\n",
    "Когда вы убедились, что количество сессий в обеих выборках не различалось, можно переходить к анализу ключевой метрики — доли успешных сессий.\n",
    "\n",
    "Используйте созданный на первом шаге задания столбец `good_session` и рассчитайте долю успешных сессий для выборок A и B, а также разницу в этом показателе. Полученный вывод отобразите на экране."
   ]
  },
  {
   "cell_type": "code",
   "execution_count": 30,
   "metadata": {
    "id": "Uku-V1CpPRCz"
   },
   "outputs": [
    {
     "name": "stdout",
     "output_type": "stream",
     "text": [
      "Доля успешных сессий в группе A: 30.77%\n",
      "Доля успешных сессий в группе B: 31.83%\n",
      "Разница между долей успешных сессий в группе A и B составляет 1.1%\n"
     ]
    }
   ],
   "source": [
    "a_group = sessions_test[(sessions_test['test_group'] == 'A')].copy()\n",
    "\n",
    "A = a_group['good_session'].sum() / a_group['session_id'].count() * 100\n",
    "\n",
    "print(f'Доля успешных сессий в группе A: {round(A,2)}%')\n",
    "\n",
    "#находим долю успешных сессий для группы B\n",
    "b_group = sessions_test[(sessions_test['test_group'] == 'B')].copy()\n",
    "\n",
    "B = b_group['good_session'].sum() / b_group['session_id'].count() * 100\n",
    "\n",
    "print(f'Доля успешных сессий в группе B: {round(B,2)}%')\n",
    "\n",
    "#рассчитываем разницу в показателе\n",
    "difference = fabs(round(A - B,1))\n",
    "\n",
    "print(f'Разница между долей успешных сессий в группе A и B составляет {difference}%')"
   ]
  },
  {
   "cell_type": "markdown",
   "metadata": {
    "id": "9fMFuja10eM4"
   },
   "source": [
    "#### 4.4. Насколько статистически значимо изменение ключевой метрики\n",
    "\n",
    "На предыдущем шаге вы убедились, что количество успешных сессий в тестовой выборке примерно на 1.1% выше, чем в контрольной, но делать выводы только на основе этого значения будет некорректно. Для принятия решения всегда необходимо отвечать на вопрос: является ли это изменение статистически значимым.\n",
    "\n",
    "- Используя статистический тест, рассчитайте, является ли изменение в метрике доли успешных сессий статистически значимым.\n",
    "\n",
    "- Выведите на экран полученное значение p-value и свои выводы о статистической значимости. Напомним, что уровень значимости в эксперименте был выбран на уровне 0.05."
   ]
  },
  {
   "cell_type": "code",
   "execution_count": 31,
   "metadata": {
    "id": "gFvhRGwlPLS0"
   },
   "outputs": [
    {
     "name": "stdout",
     "output_type": "stream",
     "text": [
      "m_a = 15248, m_b = 16059\n",
      "n_a = 49551, n_b = 50454\n",
      "p_a = 0.3077233557344958, p_b = 0.31828992745867524\n",
      "\n",
      "Размер выборок достаточен для проведения  Z-теста\n"
     ]
    }
   ],
   "source": [
    "from statsmodels.stats.proportion import proportions_ztest\n",
    "\n",
    "\n",
    "m_a = a_group['good_session'].sum()\n",
    "m_b = b_group['good_session'].sum()\n",
    "print(f'm_a = {m_a}, m_b = {m_b}')\n",
    "\n",
    "\n",
    "n_a = len(a_group)\n",
    "n_b = len(b_group)\n",
    "print(f'n_a = {n_a}, n_b = {n_b}')\n",
    "\n",
    "#находим доли успешных сессий в каждой выборке\n",
    "p_a = m_a / n_a\n",
    "p_b = m_b / n_b\n",
    "print(f'p_a = {p_a}, p_b = {p_b}')\n",
    "print('')\n",
    "\n",
    "#проверяем предпосылку о достатоточном количестве данных\n",
    "if (p_a * n_a > 10) and ((1 - p_a) * n_a > 10) and (p_b * n_b > 10) and ((1 - p_b) * n_b > 10):\n",
    "    print('Размер выборок достаточен для проведения  Z-теста')\n",
    "else:\n",
    "    print('Размер выборок недостаточен для проведения Z-теста')"
   ]
  },
  {
   "cell_type": "code",
   "execution_count": 32,
   "metadata": {},
   "outputs": [
    {
     "name": "stdout",
     "output_type": "stream",
     "text": [
      "p_value равняется 0.0001574739988036123\n",
      "Полученное значение p_value: 0.0001574739988036123 меньше alpha: 0.05. Принимаем альтернативную гипотезу.\n"
     ]
    }
   ],
   "source": [
    "#устанавливаем коэффициент статистической значимости alpha\n",
    "alpha = 0.05\n",
    "\n",
    "#проводим z-тест\n",
    "stats_ztest, p_value_ztest = proportions_ztest([m_a,m_b],\n",
    "                                               [n_a,n_b],\n",
    "                                               alternative = 'smaller' #Так как H_1 = p_a < p_b\n",
    "                                               )\n",
    "print(f'p_value равняется {p_value_ztest}')\n",
    "\n",
    "#выводим результаты z-теста\n",
    "if p_value_ztest <= alpha:\n",
    "    print(f'Полученное значение p_value: {p_value_ztest} меньше alpha: {alpha}. Принимаем альтернативную гипотезу.')\n",
    "else:\n",
    "    print(f'Полученное значение {p_value_ztest} больше alpha: {alpha}. Нулевая гипотеза не может быть отвергнута.')"
   ]
  },
  {
   "cell_type": "markdown",
   "metadata": {
    "id": "GnJrkY9Q63zS"
   },
   "source": [
    "#### 4.5. Вывод по результатам A/B-эксперимента\n",
    "\n",
    "По результатам проведенного эксперимента можно сделать следующие выводы:\n",
    "\n",
    "- Эксперимент длился 19 дней, в нем было задействовано 30 579 пользователей. Реальная длительность эксперимента получилась выше, чем расчетная на основании среднего количества пользователей в день. Реальное количество пользоваталей в день зачастую оказывалось меньше, чем расчетное значение, поэтому для проведения эксперимента потребовалось больше времени;\n",
    "- Внедрение нового алгоритма рекоммендаций позволило увеличить долю успешных сессий на 1,1% в тестовой группе;\n",
    "- Для проверки статистической значимости полученного изменения был проведен Z-тест пропорций. Полученное изменение можно считать статистически значимым на основании значения p_value - 0.0001574739988036123, которое оказалось ниже установленного коэффициента alpha - 5%;\n",
    "- Так как p_value < alpha, у нас есть основания для того, чтобы принять альтернативную гипотезу, которая говорит о том, что внедрение нового алгоритма рекоммендаций позволит повысить количество пользовательских сессий, в рамках которых просматривается 4 и более страниц;\n",
    "- Разработанный алгоритм рекоммендаций может быть внедрен в приложение для повышения вовлеченности пользователей."
   ]
  }
 ],
 "metadata": {
  "ExecuteTimeLog": [
   {
    "duration": 467,
    "start_time": "2025-06-13T07:22:26.437Z"
   },
   {
    "duration": 1157,
    "start_time": "2025-06-13T07:23:16.164Z"
   },
   {
    "duration": 20,
    "start_time": "2025-06-13T07:23:36.703Z"
   },
   {
    "duration": 69,
    "start_time": "2025-06-13T07:30:12.112Z"
   },
   {
    "duration": 677,
    "start_time": "2025-06-13T07:30:26.306Z"
   },
   {
    "duration": 616,
    "start_time": "2025-06-13T07:30:37.428Z"
   },
   {
    "duration": 604,
    "start_time": "2025-06-13T07:31:51.156Z"
   },
   {
    "duration": 621,
    "start_time": "2025-06-13T07:32:06.461Z"
   },
   {
    "duration": 642,
    "start_time": "2025-06-13T07:32:15.281Z"
   },
   {
    "duration": 578,
    "start_time": "2025-06-13T07:32:27.396Z"
   },
   {
    "duration": 596,
    "start_time": "2025-06-13T07:32:57.743Z"
   },
   {
    "duration": 0,
    "start_time": "2025-06-13T07:33:46.519Z"
   },
   {
    "duration": 606,
    "start_time": "2025-06-13T07:33:53.528Z"
   },
   {
    "duration": 573,
    "start_time": "2025-06-13T07:34:07.888Z"
   },
   {
    "duration": 627,
    "start_time": "2025-06-13T07:34:20.252Z"
   },
   {
    "duration": 9,
    "start_time": "2025-06-13T07:36:57.381Z"
   },
   {
    "duration": 165,
    "start_time": "2025-06-13T07:37:05.015Z"
   },
   {
    "duration": 755,
    "start_time": "2025-06-13T07:37:21.871Z"
   },
   {
    "duration": 4,
    "start_time": "2025-06-13T07:37:44.648Z"
   },
   {
    "duration": 241,
    "start_time": "2025-06-13T07:37:48.630Z"
   },
   {
    "duration": 253,
    "start_time": "2025-06-13T07:38:40.161Z"
   },
   {
    "duration": 230,
    "start_time": "2025-06-13T07:38:49.733Z"
   },
   {
    "duration": 310,
    "start_time": "2025-06-13T07:39:29.995Z"
   },
   {
    "duration": 240,
    "start_time": "2025-06-13T07:39:36.687Z"
   },
   {
    "duration": 168,
    "start_time": "2025-06-13T07:39:46.592Z"
   },
   {
    "duration": 231,
    "start_time": "2025-06-13T07:39:52.202Z"
   },
   {
    "duration": 50,
    "start_time": "2025-06-13T07:40:44.028Z"
   },
   {
    "duration": 30,
    "start_time": "2025-06-13T07:40:46.118Z"
   },
   {
    "duration": 225,
    "start_time": "2025-06-13T07:40:46.711Z"
   },
   {
    "duration": 226,
    "start_time": "2025-06-13T07:40:57.688Z"
   },
   {
    "duration": 201,
    "start_time": "2025-06-13T07:41:11.720Z"
   },
   {
    "duration": 529,
    "start_time": "2025-06-13T07:43:52.380Z"
   },
   {
    "duration": 38,
    "start_time": "2025-06-13T07:44:18.440Z"
   },
   {
    "duration": 177,
    "start_time": "2025-06-13T07:44:27.773Z"
   },
   {
    "duration": 54,
    "start_time": "2025-06-13T07:45:13.678Z"
   },
   {
    "duration": 13,
    "start_time": "2025-06-13T07:45:32.464Z"
   },
   {
    "duration": 6,
    "start_time": "2025-06-13T07:45:48.573Z"
   },
   {
    "duration": 3,
    "start_time": "2025-06-13T07:46:02.997Z"
   },
   {
    "duration": 5,
    "start_time": "2025-06-13T07:46:09.634Z"
   },
   {
    "duration": 27,
    "start_time": "2025-06-13T07:46:42.308Z"
   },
   {
    "duration": 225,
    "start_time": "2025-06-13T07:46:51.320Z"
   },
   {
    "duration": 226,
    "start_time": "2025-06-13T07:47:06.827Z"
   },
   {
    "duration": 9,
    "start_time": "2025-06-13T07:47:42.777Z"
   },
   {
    "duration": 8731,
    "start_time": "2025-06-13T07:50:41.645Z"
   },
   {
    "duration": 82,
    "start_time": "2025-06-13T07:52:13.864Z"
   },
   {
    "duration": 2319,
    "start_time": "2025-06-13T07:52:18.801Z"
   },
   {
    "duration": 4,
    "start_time": "2025-06-13T07:54:30.733Z"
   },
   {
    "duration": 18,
    "start_time": "2025-06-13T07:54:32.525Z"
   },
   {
    "duration": 3820,
    "start_time": "2025-06-13T07:54:45.479Z"
   },
   {
    "duration": 225,
    "start_time": "2025-06-13T07:54:51.120Z"
   },
   {
    "duration": 204,
    "start_time": "2025-06-13T07:55:03.421Z"
   },
   {
    "duration": 573,
    "start_time": "2025-06-13T07:56:14.609Z"
   },
   {
    "duration": 66,
    "start_time": "2025-06-13T07:57:33.868Z"
   },
   {
    "duration": 23,
    "start_time": "2025-06-13T07:59:31.108Z"
   },
   {
    "duration": 212,
    "start_time": "2025-06-13T07:59:35.898Z"
   },
   {
    "duration": 19,
    "start_time": "2025-06-13T08:00:10.752Z"
   },
   {
    "duration": 161,
    "start_time": "2025-06-13T08:00:13.437Z"
   },
   {
    "duration": 165,
    "start_time": "2025-06-13T08:00:35.040Z"
   },
   {
    "duration": 2736,
    "start_time": "2025-06-13T08:02:48.208Z"
   },
   {
    "duration": 694,
    "start_time": "2025-06-13T08:03:15.560Z"
   },
   {
    "duration": 42,
    "start_time": "2025-06-13T08:03:33.658Z"
   },
   {
    "duration": 87,
    "start_time": "2025-06-13T08:03:47.696Z"
   },
   {
    "duration": 8,
    "start_time": "2025-06-13T08:05:00.044Z"
   },
   {
    "duration": 52,
    "start_time": "2025-06-13T08:05:21.291Z"
   },
   {
    "duration": 11,
    "start_time": "2025-06-13T08:05:37.538Z"
   },
   {
    "duration": 5,
    "start_time": "2025-06-13T08:05:57.953Z"
   },
   {
    "duration": 3729,
    "start_time": "2025-06-13T08:06:57.121Z"
   },
   {
    "duration": 2662,
    "start_time": "2025-06-13T08:07:00.852Z"
   },
   {
    "duration": 17,
    "start_time": "2025-06-13T08:07:03.515Z"
   },
   {
    "duration": 801,
    "start_time": "2025-06-13T08:07:03.534Z"
   },
   {
    "duration": 710,
    "start_time": "2025-06-13T08:07:04.337Z"
   },
   {
    "duration": 202,
    "start_time": "2025-06-13T08:07:05.049Z"
   },
   {
    "duration": 258,
    "start_time": "2025-06-13T08:07:05.252Z"
   },
   {
    "duration": 353,
    "start_time": "2025-06-13T08:07:05.512Z"
   },
   {
    "duration": 37,
    "start_time": "2025-06-13T08:07:05.867Z"
   },
   {
    "duration": 234,
    "start_time": "2025-06-13T08:07:05.907Z"
   },
   {
    "duration": 4,
    "start_time": "2025-06-13T08:07:06.143Z"
   },
   {
    "duration": 3838,
    "start_time": "2025-06-13T08:07:06.160Z"
   },
   {
    "duration": 216,
    "start_time": "2025-06-13T08:07:10.000Z"
   },
   {
    "duration": 229,
    "start_time": "2025-06-13T08:07:10.218Z"
   },
   {
    "duration": 183,
    "start_time": "2025-06-13T08:07:10.449Z"
   },
   {
    "duration": 12,
    "start_time": "2025-06-13T08:07:10.634Z"
   },
   {
    "duration": 14,
    "start_time": "2025-06-13T08:07:10.660Z"
   },
   {
    "duration": 59,
    "start_time": "2025-06-13T08:07:10.676Z"
   },
   {
    "duration": 42,
    "start_time": "2025-06-13T08:07:10.737Z"
   },
   {
    "duration": 241,
    "start_time": "2025-06-13T08:07:10.781Z"
   },
   {
    "duration": 80,
    "start_time": "2025-06-13T08:07:11.023Z"
   },
   {
    "duration": 20,
    "start_time": "2025-06-13T08:07:11.105Z"
   },
   {
    "duration": 237,
    "start_time": "2025-06-13T08:07:11.127Z"
   },
   {
    "duration": 20,
    "start_time": "2025-06-13T08:07:11.366Z"
   },
   {
    "duration": 266,
    "start_time": "2025-06-13T08:07:11.388Z"
   },
   {
    "duration": 664,
    "start_time": "2025-06-13T08:07:11.656Z"
   },
   {
    "duration": 48,
    "start_time": "2025-06-13T08:07:12.322Z"
   },
   {
    "duration": 92,
    "start_time": "2025-06-13T08:07:12.373Z"
   },
   {
    "duration": 9,
    "start_time": "2025-06-13T08:07:12.466Z"
   },
   {
    "duration": 118,
    "start_time": "2025-06-13T08:07:12.476Z"
   },
   {
    "duration": 12,
    "start_time": "2025-06-13T08:07:12.595Z"
   },
   {
    "duration": 5,
    "start_time": "2025-06-13T08:07:12.609Z"
   },
   {
    "duration": 3714,
    "start_time": "2025-06-13T08:10:14.847Z"
   },
   {
    "duration": 2718,
    "start_time": "2025-06-13T08:10:18.564Z"
   },
   {
    "duration": 17,
    "start_time": "2025-06-13T08:10:21.284Z"
   },
   {
    "duration": 689,
    "start_time": "2025-06-13T08:10:21.303Z"
   },
   {
    "duration": 699,
    "start_time": "2025-06-13T08:10:21.994Z"
   },
   {
    "duration": 198,
    "start_time": "2025-06-13T08:10:22.695Z"
   },
   {
    "duration": 265,
    "start_time": "2025-06-13T08:10:22.895Z"
   },
   {
    "duration": 313,
    "start_time": "2025-06-13T08:10:23.162Z"
   },
   {
    "duration": 37,
    "start_time": "2025-06-13T08:10:23.477Z"
   },
   {
    "duration": 305,
    "start_time": "2025-06-13T08:10:23.517Z"
   },
   {
    "duration": 4,
    "start_time": "2025-06-13T08:10:23.824Z"
   },
   {
    "duration": 3827,
    "start_time": "2025-06-13T08:10:23.830Z"
   },
   {
    "duration": 220,
    "start_time": "2025-06-13T08:10:27.661Z"
   },
   {
    "duration": 198,
    "start_time": "2025-06-13T08:10:27.883Z"
   },
   {
    "duration": 189,
    "start_time": "2025-06-13T08:10:28.084Z"
   },
   {
    "duration": 14,
    "start_time": "2025-06-13T08:10:28.275Z"
   },
   {
    "duration": 13,
    "start_time": "2025-06-13T08:10:28.291Z"
   },
   {
    "duration": 6,
    "start_time": "2025-06-13T08:10:28.307Z"
   },
   {
    "duration": 63,
    "start_time": "2025-06-13T08:10:28.315Z"
   },
   {
    "duration": 232,
    "start_time": "2025-06-13T08:10:28.380Z"
   },
   {
    "duration": 75,
    "start_time": "2025-06-13T08:10:28.614Z"
   },
   {
    "duration": 19,
    "start_time": "2025-06-13T08:10:28.691Z"
   },
   {
    "duration": 248,
    "start_time": "2025-06-13T08:10:28.712Z"
   },
   {
    "duration": 26,
    "start_time": "2025-06-13T08:10:28.962Z"
   },
   {
    "duration": 187,
    "start_time": "2025-06-13T08:10:28.990Z"
   },
   {
    "duration": 661,
    "start_time": "2025-06-13T08:10:29.179Z"
   },
   {
    "duration": 50,
    "start_time": "2025-06-13T08:10:29.842Z"
   },
   {
    "duration": 102,
    "start_time": "2025-06-13T08:10:29.897Z"
   },
   {
    "duration": 9,
    "start_time": "2025-06-13T08:10:30.002Z"
   },
   {
    "duration": 96,
    "start_time": "2025-06-13T08:10:30.013Z"
   },
   {
    "duration": 12,
    "start_time": "2025-06-13T08:10:30.112Z"
   },
   {
    "duration": 19,
    "start_time": "2025-06-13T08:10:30.126Z"
   },
   {
    "duration": 9732,
    "start_time": "2025-06-13T08:48:58.391Z"
   },
   {
    "duration": 2614,
    "start_time": "2025-06-13T08:49:08.125Z"
   },
   {
    "duration": 17,
    "start_time": "2025-06-13T08:49:10.740Z"
   },
   {
    "duration": 610,
    "start_time": "2025-06-13T08:49:10.758Z"
   },
   {
    "duration": 595,
    "start_time": "2025-06-13T08:49:11.376Z"
   },
   {
    "duration": 214,
    "start_time": "2025-06-13T08:49:11.973Z"
   },
   {
    "duration": 226,
    "start_time": "2025-06-13T08:49:12.190Z"
   },
   {
    "duration": 274,
    "start_time": "2025-06-13T08:49:12.418Z"
   },
   {
    "duration": 32,
    "start_time": "2025-06-13T08:49:12.694Z"
   },
   {
    "duration": 202,
    "start_time": "2025-06-13T08:49:12.727Z"
   },
   {
    "duration": 3,
    "start_time": "2025-06-13T08:49:12.930Z"
   },
   {
    "duration": 3501,
    "start_time": "2025-06-13T08:49:12.935Z"
   },
   {
    "duration": 209,
    "start_time": "2025-06-13T08:49:16.438Z"
   },
   {
    "duration": 183,
    "start_time": "2025-06-13T08:49:16.649Z"
   },
   {
    "duration": 167,
    "start_time": "2025-06-13T08:49:16.833Z"
   },
   {
    "duration": 11,
    "start_time": "2025-06-13T08:49:17.002Z"
   },
   {
    "duration": 11,
    "start_time": "2025-06-13T08:49:17.015Z"
   },
   {
    "duration": 5,
    "start_time": "2025-06-13T08:49:17.027Z"
   },
   {
    "duration": 56,
    "start_time": "2025-06-13T08:49:17.033Z"
   },
   {
    "duration": 211,
    "start_time": "2025-06-13T08:49:17.090Z"
   },
   {
    "duration": 56,
    "start_time": "2025-06-13T08:49:17.303Z"
   },
   {
    "duration": 38,
    "start_time": "2025-06-13T08:49:17.361Z"
   },
   {
    "duration": 205,
    "start_time": "2025-06-13T08:49:17.400Z"
   },
   {
    "duration": 17,
    "start_time": "2025-06-13T08:49:17.606Z"
   },
   {
    "duration": 149,
    "start_time": "2025-06-13T08:49:17.624Z"
   },
   {
    "duration": 619,
    "start_time": "2025-06-13T08:49:17.774Z"
   },
   {
    "duration": 34,
    "start_time": "2025-06-13T08:49:18.395Z"
   },
   {
    "duration": 83,
    "start_time": "2025-06-13T08:49:18.430Z"
   },
   {
    "duration": 7,
    "start_time": "2025-06-13T08:49:18.514Z"
   },
   {
    "duration": 66,
    "start_time": "2025-06-13T08:49:18.522Z"
   },
   {
    "duration": 9,
    "start_time": "2025-06-13T08:49:18.592Z"
   },
   {
    "duration": 5,
    "start_time": "2025-06-13T08:49:18.602Z"
   },
   {
    "duration": 872,
    "start_time": "2025-06-26T18:35:51.749Z"
   }
  ],
  "colab": {
   "provenance": []
  },
  "kernelspec": {
   "display_name": "Python [conda env:base] *",
   "language": "python",
   "name": "conda-base-py"
  },
  "language_info": {
   "codemirror_mode": {
    "name": "ipython",
    "version": 3
   },
   "file_extension": ".py",
   "mimetype": "text/x-python",
   "name": "python",
   "nbconvert_exporter": "python",
   "pygments_lexer": "ipython3",
   "version": "3.12.7"
  },
  "toc": {
   "base_numbering": 1,
   "nav_menu": {},
   "number_sections": true,
   "sideBar": true,
   "skip_h1_title": true,
   "title_cell": "Table of Contents",
   "title_sidebar": "Contents",
   "toc_cell": false,
   "toc_position": {
    "height": "calc(100% - 180px)",
    "left": "10px",
    "top": "150px",
    "width": "256px"
   },
   "toc_section_display": true,
   "toc_window_display": true
  }
 },
 "nbformat": 4,
 "nbformat_minor": 4
}
