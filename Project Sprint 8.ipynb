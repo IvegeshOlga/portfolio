{
 "cells": [
  {
   "cell_type": "markdown",
   "id": "e06910dd",
   "metadata": {
    "id": "e06910dd"
   },
   "source": [
    "# Изучение рынка заведений общественного питания Москвы\n",
    "\n",
    "- Автор: Ивегеш Ольга\n",
    "- Дата: 09.04.2025"
   ]
  },
  {
   "cell_type": "markdown",
   "id": "4149134c",
   "metadata": {
    "id": "4149134c"
   },
   "source": [
    "### Цели и задачи проекта\n",
    "\n",
    "- Познакомиться с данными\n",
    "- Проверить их корректность и провести предобработку\n",
    "- Провести исследовательский анализ исходных данных\n",
    "- Ответить на вопросы"
   ]
  },
  {
   "cell_type": "markdown",
   "id": "728986ea",
   "metadata": {
    "id": "728986ea"
   },
   "source": [
    "### Описание данных\n",
    "\n",
    "#### Файл /datasets/rest_info.csv содержит информацию о заведениях общественного питания:\n",
    "- name — название заведения;\n",
    "- address — адрес заведения;\n",
    "- district — административный район, в котором находится заведение, например Центральный административный округ;\n",
    "- category — категория заведения, например «кафе», «пиццерия» или «кофейня»;\n",
    "- hours — информация о днях и часах работы;\n",
    "- rating — рейтинг заведения по оценкам пользователей в Яндекс Картах (высшая оценка — 5.0);\n",
    "- chain — число, выраженное 0 или 1, которое показывает, является ли заведение сетевым (для маленьких сетей могут встречаться ошибки):\n",
    "0 — заведение не является сетевым;\n",
    "1 — заведение является сетевым.\n",
    "- seats — количество посадочных мест.\n",
    "#### Файл /datasets/rest_price.csv содержит информацию о среднем чеке в заведениях общественного питания:\n",
    "- price — категория цен в заведении, например «средние», «ниже среднего», «выше среднего» и так далее;\n",
    "- avg_bill — строка, которая хранит среднюю стоимость заказа в виде диапазона, например:\n",
    "«Средний счёт: 1000–1500 ₽»;\n",
    "«Цена чашки капучино: 130–220 ₽»;\n",
    "«Цена бокала пива: 400–600 ₽».\n",
    "и так далее;\n",
    "- middle_avg_bill — число с оценкой среднего чека, которое указано только для значений из столбца avg_bill, начинающихся с подстроки «Средний счёт»:\n",
    "Если в строке указан ценовой диапазон из двух значений, в столбец войдёт медиана этих двух значений.\n",
    "Если в строке указано одно число — цена без диапазона, то в столбец войдёт это число.\n",
    "Если значения нет или оно не начинается с подстроки «Средний счёт», то в столбец ничего не войдёт.\n",
    "- middle_coffee_cup — число с оценкой одной чашки капучино, которое указано только для значений из столбца avg_bill, начинающихся с подстроки «Цена одной чашки капучино»:\n",
    "Если в строке указан ценовой диапазон из двух значений, в столбец войдёт медиана этих двух значений.\n",
    "Если в строке указано одно число — цена без диапазона, то в столбец войдёт это число.\n",
    "Если значения нет или оно не начинается с подстроки «Цена одной чашки капучино», то в столбец ничего не войдёт."
   ]
  },
  {
   "cell_type": "markdown",
   "id": "4fecaf95",
   "metadata": {
    "id": "4fecaf95"
   },
   "source": [
    "### Содержимое проекта\n",
    "\n",
    "- На первом этапе необходимо загрузить данные и познакомиться с ними\n",
    "- Объединить два файла в один\n",
    "- Далее привести данные к удобному виду (изменить названия столбцов при необходимости)\n",
    "- Откорректировать типы данных\n",
    "- Проверить наличие дубликатов и устранить их при необходимости\n",
    "- Добавить новый столбец о работе круглосуточно\n",
    "- Построить необходимые графики\n",
    "- Вывести ТОП-15 популярных сетей в Москве\n",
    "\n",
    "---"
   ]
  },
  {
   "cell_type": "markdown",
   "id": "6f7d21d6",
   "metadata": {
    "id": "6f7d21d6"
   },
   "source": [
    "## 1. Загрузка данных и знакомство с ними\n",
    "\n",
    "- Загрузите данные о заведениях общественного питания Москвы. Путь к файлам: `/datasets/rest_info.csv` и `/datasets/rest_price.csv`."
   ]
  },
  {
   "cell_type": "code",
   "execution_count": 1,
   "id": "05faf34b",
   "metadata": {
    "id": "05faf34b"
   },
   "outputs": [
    {
     "name": "stdout",
     "output_type": "stream",
     "text": [
      "Requirement already satisfied: phik in /opt/conda/lib/python3.9/site-packages (0.12.4)\n",
      "Requirement already satisfied: numpy>=1.18.0 in /opt/conda/lib/python3.9/site-packages (from phik) (1.21.1)\n",
      "Requirement already satisfied: joblib>=0.14.1 in /opt/conda/lib/python3.9/site-packages (from phik) (1.1.0)\n",
      "Requirement already satisfied: pandas>=0.25.1 in /opt/conda/lib/python3.9/site-packages (from phik) (1.2.4)\n",
      "Requirement already satisfied: scipy>=1.5.2 in /opt/conda/lib/python3.9/site-packages (from phik) (1.9.1)\n",
      "Requirement already satisfied: matplotlib>=2.2.3 in /opt/conda/lib/python3.9/site-packages (from phik) (3.3.4)\n",
      "Requirement already satisfied: kiwisolver>=1.0.1 in /opt/conda/lib/python3.9/site-packages (from matplotlib>=2.2.3->phik) (1.4.4)\n",
      "Requirement already satisfied: pillow>=6.2.0 in /opt/conda/lib/python3.9/site-packages (from matplotlib>=2.2.3->phik) (8.4.0)\n",
      "Requirement already satisfied: pyparsing!=2.0.4,!=2.1.2,!=2.1.6,>=2.0.3 in /opt/conda/lib/python3.9/site-packages (from matplotlib>=2.2.3->phik) (2.4.7)\n",
      "Requirement already satisfied: cycler>=0.10 in /opt/conda/lib/python3.9/site-packages (from matplotlib>=2.2.3->phik) (0.11.0)\n",
      "Requirement already satisfied: python-dateutil>=2.1 in /opt/conda/lib/python3.9/site-packages (from matplotlib>=2.2.3->phik) (2.8.1)\n",
      "Requirement already satisfied: pytz>=2017.3 in /opt/conda/lib/python3.9/site-packages (from pandas>=0.25.1->phik) (2021.1)\n",
      "Requirement already satisfied: six>=1.5 in /opt/conda/lib/python3.9/site-packages (from python-dateutil>=2.1->matplotlib>=2.2.3->phik) (1.16.0)\n"
     ]
    }
   ],
   "source": [
    "import pandas as pd\n",
    "import matplotlib.pyplot as plt\n",
    "import numpy as np\n",
    "import seaborn as sns\n",
    "\n",
    "!pip install phik\n",
    "\n",
    "from phik import phik_matrix"
   ]
  },
  {
   "cell_type": "code",
   "execution_count": 2,
   "id": "ce87c1db",
   "metadata": {
    "id": "ce87c1db"
   },
   "outputs": [],
   "source": [
    "rest_info=pd.read_csv('https://code.s3.yandex.net/datasets/rest_info.csv')\n",
    "rest_price=pd.read_csv('https://code.s3.yandex.net/datasets/rest_price.csv')"
   ]
  },
  {
   "cell_type": "markdown",
   "id": "18b5dfff",
   "metadata": {
    "id": "18b5dfff"
   },
   "source": [
    "- Познакомьтесь с данными и изучите общую информацию о них."
   ]
  },
  {
   "cell_type": "code",
   "execution_count": 3,
   "id": "f68a7419",
   "metadata": {
    "id": "f68a7419",
    "scrolled": true
   },
   "outputs": [
    {
     "data": {
      "text/html": [
       "<div>\n",
       "<style scoped>\n",
       "    .dataframe tbody tr th:only-of-type {\n",
       "        vertical-align: middle;\n",
       "    }\n",
       "\n",
       "    .dataframe tbody tr th {\n",
       "        vertical-align: top;\n",
       "    }\n",
       "\n",
       "    .dataframe thead th {\n",
       "        text-align: right;\n",
       "    }\n",
       "</style>\n",
       "<table border=\"1\" class=\"dataframe\">\n",
       "  <thead>\n",
       "    <tr style=\"text-align: right;\">\n",
       "      <th></th>\n",
       "      <th>id</th>\n",
       "      <th>name</th>\n",
       "      <th>category</th>\n",
       "      <th>address</th>\n",
       "      <th>district</th>\n",
       "      <th>hours</th>\n",
       "      <th>rating</th>\n",
       "      <th>chain</th>\n",
       "      <th>seats</th>\n",
       "    </tr>\n",
       "  </thead>\n",
       "  <tbody>\n",
       "    <tr>\n",
       "      <th>0</th>\n",
       "      <td>0c3e3439a8c64ea5bf6ecd6ca6ae19f0</td>\n",
       "      <td>WoWфли</td>\n",
       "      <td>кафе</td>\n",
       "      <td>Москва, улица Дыбенко, 7/1</td>\n",
       "      <td>Северный административный округ</td>\n",
       "      <td>ежедневно, 10:00–22:00</td>\n",
       "      <td>5.0</td>\n",
       "      <td>0</td>\n",
       "      <td>NaN</td>\n",
       "    </tr>\n",
       "    <tr>\n",
       "      <th>1</th>\n",
       "      <td>045780ada3474c57a2112e505d74b633</td>\n",
       "      <td>Четыре комнаты</td>\n",
       "      <td>ресторан</td>\n",
       "      <td>Москва, улица Дыбенко, 36, корп. 1</td>\n",
       "      <td>Северный административный округ</td>\n",
       "      <td>ежедневно, 10:00–22:00</td>\n",
       "      <td>4.5</td>\n",
       "      <td>0</td>\n",
       "      <td>4.0</td>\n",
       "    </tr>\n",
       "    <tr>\n",
       "      <th>2</th>\n",
       "      <td>1070b6b59144425896c65889347fcff6</td>\n",
       "      <td>Хазри</td>\n",
       "      <td>кафе</td>\n",
       "      <td>Москва, Клязьминская улица, 15</td>\n",
       "      <td>Северный административный округ</td>\n",
       "      <td>пн-чт 11:00–02:00; пт,сб 11:00–05:00; вс 11:00...</td>\n",
       "      <td>4.6</td>\n",
       "      <td>0</td>\n",
       "      <td>45.0</td>\n",
       "    </tr>\n",
       "    <tr>\n",
       "      <th>3</th>\n",
       "      <td>03ac7cd772104f65b58b349dc59f03ee</td>\n",
       "      <td>Dormouse Coffee Shop</td>\n",
       "      <td>кофейня</td>\n",
       "      <td>Москва, улица Маршала Федоренко, 12</td>\n",
       "      <td>Северный административный округ</td>\n",
       "      <td>ежедневно, 09:00–22:00</td>\n",
       "      <td>5.0</td>\n",
       "      <td>0</td>\n",
       "      <td>NaN</td>\n",
       "    </tr>\n",
       "    <tr>\n",
       "      <th>4</th>\n",
       "      <td>a163aada139c4c7f87b0b1c0b466a50f</td>\n",
       "      <td>Иль Марко</td>\n",
       "      <td>пиццерия</td>\n",
       "      <td>Москва, Правобережная улица, 1Б</td>\n",
       "      <td>Северный административный округ</td>\n",
       "      <td>ежедневно, 10:00–22:00</td>\n",
       "      <td>5.0</td>\n",
       "      <td>1</td>\n",
       "      <td>148.0</td>\n",
       "    </tr>\n",
       "  </tbody>\n",
       "</table>\n",
       "</div>"
      ],
      "text/plain": [
       "                                 id                  name  category  \\\n",
       "0  0c3e3439a8c64ea5bf6ecd6ca6ae19f0                WoWфли      кафе   \n",
       "1  045780ada3474c57a2112e505d74b633        Четыре комнаты  ресторан   \n",
       "2  1070b6b59144425896c65889347fcff6                 Хазри      кафе   \n",
       "3  03ac7cd772104f65b58b349dc59f03ee  Dormouse Coffee Shop   кофейня   \n",
       "4  a163aada139c4c7f87b0b1c0b466a50f             Иль Марко  пиццерия   \n",
       "\n",
       "                               address                         district  \\\n",
       "0           Москва, улица Дыбенко, 7/1  Северный административный округ   \n",
       "1   Москва, улица Дыбенко, 36, корп. 1  Северный административный округ   \n",
       "2       Москва, Клязьминская улица, 15  Северный административный округ   \n",
       "3  Москва, улица Маршала Федоренко, 12  Северный административный округ   \n",
       "4      Москва, Правобережная улица, 1Б  Северный административный округ   \n",
       "\n",
       "                                               hours  rating  chain  seats  \n",
       "0                             ежедневно, 10:00–22:00     5.0      0    NaN  \n",
       "1                             ежедневно, 10:00–22:00     4.5      0    4.0  \n",
       "2  пн-чт 11:00–02:00; пт,сб 11:00–05:00; вс 11:00...     4.6      0   45.0  \n",
       "3                             ежедневно, 09:00–22:00     5.0      0    NaN  \n",
       "4                             ежедневно, 10:00–22:00     5.0      1  148.0  "
      ]
     },
     "execution_count": 3,
     "metadata": {},
     "output_type": "execute_result"
    }
   ],
   "source": [
    "rest_info.head()"
   ]
  },
  {
   "cell_type": "code",
   "execution_count": 4,
   "id": "dd415c80",
   "metadata": {
    "id": "dd415c80"
   },
   "outputs": [
    {
     "name": "stdout",
     "output_type": "stream",
     "text": [
      "<class 'pandas.core.frame.DataFrame'>\n",
      "RangeIndex: 8406 entries, 0 to 8405\n",
      "Data columns (total 9 columns):\n",
      " #   Column    Non-Null Count  Dtype  \n",
      "---  ------    --------------  -----  \n",
      " 0   id        8406 non-null   object \n",
      " 1   name      8406 non-null   object \n",
      " 2   category  8406 non-null   object \n",
      " 3   address   8406 non-null   object \n",
      " 4   district  8406 non-null   object \n",
      " 5   hours     7870 non-null   object \n",
      " 6   rating    8406 non-null   float64\n",
      " 7   chain     8406 non-null   int64  \n",
      " 8   seats     4795 non-null   float64\n",
      "dtypes: float64(2), int64(1), object(6)\n",
      "memory usage: 591.2+ KB\n"
     ]
    }
   ],
   "source": [
    "rest_info.info()"
   ]
  },
  {
   "cell_type": "code",
   "execution_count": 5,
   "id": "3158ad37",
   "metadata": {
    "id": "3158ad37"
   },
   "outputs": [
    {
     "data": {
      "text/html": [
       "<div>\n",
       "<style scoped>\n",
       "    .dataframe tbody tr th:only-of-type {\n",
       "        vertical-align: middle;\n",
       "    }\n",
       "\n",
       "    .dataframe tbody tr th {\n",
       "        vertical-align: top;\n",
       "    }\n",
       "\n",
       "    .dataframe thead th {\n",
       "        text-align: right;\n",
       "    }\n",
       "</style>\n",
       "<table border=\"1\" class=\"dataframe\">\n",
       "  <thead>\n",
       "    <tr style=\"text-align: right;\">\n",
       "      <th></th>\n",
       "      <th>id</th>\n",
       "      <th>price</th>\n",
       "      <th>avg_bill</th>\n",
       "      <th>middle_avg_bill</th>\n",
       "      <th>middle_coffee_cup</th>\n",
       "    </tr>\n",
       "  </thead>\n",
       "  <tbody>\n",
       "    <tr>\n",
       "      <th>0</th>\n",
       "      <td>045780ada3474c57a2112e505d74b633</td>\n",
       "      <td>выше среднего</td>\n",
       "      <td>Средний счёт:1500–1600 ₽</td>\n",
       "      <td>1550.0</td>\n",
       "      <td>NaN</td>\n",
       "    </tr>\n",
       "    <tr>\n",
       "      <th>1</th>\n",
       "      <td>1070b6b59144425896c65889347fcff6</td>\n",
       "      <td>средние</td>\n",
       "      <td>Средний счёт:от 1000 ₽</td>\n",
       "      <td>1000.0</td>\n",
       "      <td>NaN</td>\n",
       "    </tr>\n",
       "    <tr>\n",
       "      <th>2</th>\n",
       "      <td>03ac7cd772104f65b58b349dc59f03ee</td>\n",
       "      <td>NaN</td>\n",
       "      <td>Цена чашки капучино:155–185 ₽</td>\n",
       "      <td>NaN</td>\n",
       "      <td>170.0</td>\n",
       "    </tr>\n",
       "    <tr>\n",
       "      <th>3</th>\n",
       "      <td>a163aada139c4c7f87b0b1c0b466a50f</td>\n",
       "      <td>средние</td>\n",
       "      <td>Средний счёт:400–600 ₽</td>\n",
       "      <td>500.0</td>\n",
       "      <td>NaN</td>\n",
       "    </tr>\n",
       "    <tr>\n",
       "      <th>4</th>\n",
       "      <td>8a343546b24e4a499ad96eb7d0797a8a</td>\n",
       "      <td>средние</td>\n",
       "      <td>NaN</td>\n",
       "      <td>NaN</td>\n",
       "      <td>NaN</td>\n",
       "    </tr>\n",
       "  </tbody>\n",
       "</table>\n",
       "</div>"
      ],
      "text/plain": [
       "                                 id          price  \\\n",
       "0  045780ada3474c57a2112e505d74b633  выше среднего   \n",
       "1  1070b6b59144425896c65889347fcff6        средние   \n",
       "2  03ac7cd772104f65b58b349dc59f03ee            NaN   \n",
       "3  a163aada139c4c7f87b0b1c0b466a50f        средние   \n",
       "4  8a343546b24e4a499ad96eb7d0797a8a        средние   \n",
       "\n",
       "                        avg_bill  middle_avg_bill  middle_coffee_cup  \n",
       "0       Средний счёт:1500–1600 ₽           1550.0                NaN  \n",
       "1         Средний счёт:от 1000 ₽           1000.0                NaN  \n",
       "2  Цена чашки капучино:155–185 ₽              NaN              170.0  \n",
       "3         Средний счёт:400–600 ₽            500.0                NaN  \n",
       "4                            NaN              NaN                NaN  "
      ]
     },
     "execution_count": 5,
     "metadata": {},
     "output_type": "execute_result"
    }
   ],
   "source": [
    "rest_price.head()"
   ]
  },
  {
   "cell_type": "code",
   "execution_count": 6,
   "id": "41df5682-afa3-417c-aab1-9152695ffda0",
   "metadata": {},
   "outputs": [
    {
     "name": "stdout",
     "output_type": "stream",
     "text": [
      "<class 'pandas.core.frame.DataFrame'>\n",
      "RangeIndex: 4058 entries, 0 to 4057\n",
      "Data columns (total 5 columns):\n",
      " #   Column             Non-Null Count  Dtype  \n",
      "---  ------             --------------  -----  \n",
      " 0   id                 4058 non-null   object \n",
      " 1   price              3315 non-null   object \n",
      " 2   avg_bill           3816 non-null   object \n",
      " 3   middle_avg_bill    3149 non-null   float64\n",
      " 4   middle_coffee_cup  535 non-null    float64\n",
      "dtypes: float64(2), object(3)\n",
      "memory usage: 158.6+ KB\n"
     ]
    }
   ],
   "source": [
    "rest_price.info()"
   ]
  },
  {
   "cell_type": "markdown",
   "id": "2c614a62",
   "metadata": {
    "id": "2c614a62"
   },
   "source": [
    "---\n",
    "\n",
    "### Промежуточный вывод\n",
    "\n",
    "Сделайте промежуточный вывод о полученных данных: данные какого объёма вам предоставили, соответствуют ли данные описанию, встречаются ли в них пропуски, используются ли верные типы данных. Отметьте другие особенности данных, которые вы обнаружите на этой стадии и на которые стоит обратить внимание при предобработке."
   ]
  },
  {
   "cell_type": "markdown",
   "id": "d6e46cee-d43c-4c2b-a399-4ab60993eab4",
   "metadata": {},
   "source": [
    "#### Файл /datasets/rest_info.csv содержит информацию о заведениях общественного питания:\n",
    "- Представленная таблица состоит из 9 столбцов и 8406 строк. В столбце hours есть пропуски, которые можно заменить на пустую строку\n",
    "- Названия столбцов приведены к стилю snake case.\n",
    "#### Файл /datasets/rest_price.csv содержит информацию о среднем чеке в заведениях общественного питания:\n",
    "- Представленная таблица состоит из 5 столбцов и 4058 строк. В столбцах price и avg_bill есть пропуски, которые можно заменить на пустую строку\n",
    "- Названия столбцов приведены к стилю snake case."
   ]
  },
  {
   "cell_type": "markdown",
   "id": "8a8d1491",
   "metadata": {
    "id": "8a8d1491"
   },
   "source": [
    "### Подготовка единого датафрейма\n",
    "\n",
    "- Объедините данные двух датасетов в один, с которым вы и продолжите работу."
   ]
  },
  {
   "cell_type": "code",
   "execution_count": 7,
   "id": "3408e303",
   "metadata": {
    "id": "3408e303"
   },
   "outputs": [
    {
     "name": "stdout",
     "output_type": "stream",
     "text": [
      "<class 'pandas.core.frame.DataFrame'>\n",
      "Int64Index: 8406 entries, 0 to 8405\n",
      "Data columns (total 13 columns):\n",
      " #   Column             Non-Null Count  Dtype  \n",
      "---  ------             --------------  -----  \n",
      " 0   id                 8406 non-null   object \n",
      " 1   name               8406 non-null   object \n",
      " 2   category           8406 non-null   object \n",
      " 3   address            8406 non-null   object \n",
      " 4   district           8406 non-null   object \n",
      " 5   hours              7870 non-null   object \n",
      " 6   rating             8406 non-null   float64\n",
      " 7   chain              8406 non-null   int64  \n",
      " 8   seats              4795 non-null   float64\n",
      " 9   price              3315 non-null   object \n",
      " 10  avg_bill           3816 non-null   object \n",
      " 11  middle_avg_bill    3149 non-null   float64\n",
      " 12  middle_coffee_cup  535 non-null    float64\n",
      "dtypes: float64(4), int64(1), object(8)\n",
      "memory usage: 919.4+ KB\n"
     ]
    }
   ],
   "source": [
    "df=rest_info.merge(rest_price, on='id', how='left')\n",
    "df.info()"
   ]
  },
  {
   "cell_type": "code",
   "execution_count": 8,
   "id": "5695950b",
   "metadata": {
    "id": "5695950b"
   },
   "outputs": [
    {
     "data": {
      "text/html": [
       "<div>\n",
       "<style scoped>\n",
       "    .dataframe tbody tr th:only-of-type {\n",
       "        vertical-align: middle;\n",
       "    }\n",
       "\n",
       "    .dataframe tbody tr th {\n",
       "        vertical-align: top;\n",
       "    }\n",
       "\n",
       "    .dataframe thead th {\n",
       "        text-align: right;\n",
       "    }\n",
       "</style>\n",
       "<table border=\"1\" class=\"dataframe\">\n",
       "  <thead>\n",
       "    <tr style=\"text-align: right;\">\n",
       "      <th></th>\n",
       "      <th>id</th>\n",
       "      <th>name</th>\n",
       "      <th>category</th>\n",
       "      <th>address</th>\n",
       "      <th>district</th>\n",
       "      <th>hours</th>\n",
       "      <th>rating</th>\n",
       "      <th>chain</th>\n",
       "      <th>seats</th>\n",
       "      <th>price</th>\n",
       "      <th>avg_bill</th>\n",
       "      <th>middle_avg_bill</th>\n",
       "      <th>middle_coffee_cup</th>\n",
       "    </tr>\n",
       "  </thead>\n",
       "  <tbody>\n",
       "    <tr>\n",
       "      <th>8401</th>\n",
       "      <td>0342ad1a45ed41ba89dcba246a8267e5</td>\n",
       "      <td>Суши Мания</td>\n",
       "      <td>кафе</td>\n",
       "      <td>Москва, Профсоюзная улица, 56</td>\n",
       "      <td>Юго-Западный административный округ</td>\n",
       "      <td>ежедневно, 09:00–02:00</td>\n",
       "      <td>4.4</td>\n",
       "      <td>0</td>\n",
       "      <td>86.0</td>\n",
       "      <td>NaN</td>\n",
       "      <td>NaN</td>\n",
       "      <td>NaN</td>\n",
       "      <td>NaN</td>\n",
       "    </tr>\n",
       "    <tr>\n",
       "      <th>8402</th>\n",
       "      <td>ee6bb7c3650e47bd8186fca08eda1091</td>\n",
       "      <td>Миславнес</td>\n",
       "      <td>кафе</td>\n",
       "      <td>Москва, Пролетарский проспект, 19, корп. 1</td>\n",
       "      <td>Южный административный округ</td>\n",
       "      <td>ежедневно, 08:00–22:00</td>\n",
       "      <td>4.8</td>\n",
       "      <td>0</td>\n",
       "      <td>150.0</td>\n",
       "      <td>NaN</td>\n",
       "      <td>NaN</td>\n",
       "      <td>NaN</td>\n",
       "      <td>NaN</td>\n",
       "    </tr>\n",
       "    <tr>\n",
       "      <th>8403</th>\n",
       "      <td>62e8c64d4c89467aba608e39ef87616b</td>\n",
       "      <td>Самовар</td>\n",
       "      <td>кафе</td>\n",
       "      <td>Москва, Люблинская улица, 112А, стр. 1</td>\n",
       "      <td>Юго-Восточный административный округ</td>\n",
       "      <td>ежедневно, круглосуточно</td>\n",
       "      <td>3.9</td>\n",
       "      <td>0</td>\n",
       "      <td>150.0</td>\n",
       "      <td>NaN</td>\n",
       "      <td>Средний счёт:от 150 ₽</td>\n",
       "      <td>150.0</td>\n",
       "      <td>NaN</td>\n",
       "    </tr>\n",
       "    <tr>\n",
       "      <th>8404</th>\n",
       "      <td>06a0db5ecd4842d48cd6350aa923e297</td>\n",
       "      <td>Чайхана Sabr</td>\n",
       "      <td>кафе</td>\n",
       "      <td>Москва, Люблинская улица, 112А, стр. 1</td>\n",
       "      <td>Юго-Восточный административный округ</td>\n",
       "      <td>ежедневно, круглосуточно</td>\n",
       "      <td>4.2</td>\n",
       "      <td>1</td>\n",
       "      <td>150.0</td>\n",
       "      <td>NaN</td>\n",
       "      <td>NaN</td>\n",
       "      <td>NaN</td>\n",
       "      <td>NaN</td>\n",
       "    </tr>\n",
       "    <tr>\n",
       "      <th>8405</th>\n",
       "      <td>9d56f8f7a7f74df1a925bc0fd2de8aae</td>\n",
       "      <td>Kebab Time</td>\n",
       "      <td>кафе</td>\n",
       "      <td>Москва, Россошанский проезд, 6</td>\n",
       "      <td>Южный административный округ</td>\n",
       "      <td>ежедневно, круглосуточно</td>\n",
       "      <td>3.9</td>\n",
       "      <td>0</td>\n",
       "      <td>12.0</td>\n",
       "      <td>NaN</td>\n",
       "      <td>NaN</td>\n",
       "      <td>NaN</td>\n",
       "      <td>NaN</td>\n",
       "    </tr>\n",
       "  </tbody>\n",
       "</table>\n",
       "</div>"
      ],
      "text/plain": [
       "                                    id          name category  \\\n",
       "8401  0342ad1a45ed41ba89dcba246a8267e5    Суши Мания     кафе   \n",
       "8402  ee6bb7c3650e47bd8186fca08eda1091     Миславнес     кафе   \n",
       "8403  62e8c64d4c89467aba608e39ef87616b       Самовар     кафе   \n",
       "8404  06a0db5ecd4842d48cd6350aa923e297  Чайхана Sabr     кафе   \n",
       "8405  9d56f8f7a7f74df1a925bc0fd2de8aae    Kebab Time     кафе   \n",
       "\n",
       "                                         address  \\\n",
       "8401               Москва, Профсоюзная улица, 56   \n",
       "8402  Москва, Пролетарский проспект, 19, корп. 1   \n",
       "8403      Москва, Люблинская улица, 112А, стр. 1   \n",
       "8404      Москва, Люблинская улица, 112А, стр. 1   \n",
       "8405              Москва, Россошанский проезд, 6   \n",
       "\n",
       "                                  district                     hours  rating  \\\n",
       "8401   Юго-Западный административный округ    ежедневно, 09:00–02:00     4.4   \n",
       "8402          Южный административный округ    ежедневно, 08:00–22:00     4.8   \n",
       "8403  Юго-Восточный административный округ  ежедневно, круглосуточно     3.9   \n",
       "8404  Юго-Восточный административный округ  ежедневно, круглосуточно     4.2   \n",
       "8405          Южный административный округ  ежедневно, круглосуточно     3.9   \n",
       "\n",
       "      chain  seats price               avg_bill  middle_avg_bill  \\\n",
       "8401      0   86.0   NaN                    NaN              NaN   \n",
       "8402      0  150.0   NaN                    NaN              NaN   \n",
       "8403      0  150.0   NaN  Средний счёт:от 150 ₽            150.0   \n",
       "8404      1  150.0   NaN                    NaN              NaN   \n",
       "8405      0   12.0   NaN                    NaN              NaN   \n",
       "\n",
       "      middle_coffee_cup  \n",
       "8401                NaN  \n",
       "8402                NaN  \n",
       "8403                NaN  \n",
       "8404                NaN  \n",
       "8405                NaN  "
      ]
     },
     "execution_count": 8,
     "metadata": {},
     "output_type": "execute_result"
    }
   ],
   "source": [
    "df.tail()"
   ]
  },
  {
   "cell_type": "markdown",
   "id": "956e82e2",
   "metadata": {
    "id": "956e82e2"
   },
   "source": [
    "## 2. Предобработка данных\n",
    "\n",
    "Подготовьте данные к исследовательскому анализу:\n",
    "\n",
    "- Изучите корректность типов данных и при необходимости проведите их преобразование."
   ]
  },
  {
   "cell_type": "code",
   "execution_count": 9,
   "id": "67956690",
   "metadata": {
    "id": "67956690"
   },
   "outputs": [],
   "source": [
    "columns_to_low_float = ['rating', 'seats', 'middle_avg_bill', 'middle_coffee_cup' ]\n",
    "\n",
    "for i in columns_to_low_float:\n",
    "  df[i]=pd.to_numeric(df[i], downcast='float')\n",
    "df['chain']=pd.to_numeric(df['chain'], downcast='integer')"
   ]
  },
  {
   "cell_type": "code",
   "execution_count": 10,
   "id": "b5f2a94d",
   "metadata": {
    "id": "b5f2a94d"
   },
   "outputs": [],
   "source": [
    "columns_to_replace = ['hours', 'price', 'avg_bill']\n",
    "\n",
    "for i in columns_to_replace:\n",
    "    df[i] = df[i].fillna('')"
   ]
  },
  {
   "cell_type": "code",
   "execution_count": 11,
   "id": "620d2f08",
   "metadata": {
    "id": "620d2f08"
   },
   "outputs": [
    {
     "name": "stdout",
     "output_type": "stream",
     "text": [
      "<class 'pandas.core.frame.DataFrame'>\n",
      "Int64Index: 8406 entries, 0 to 8405\n",
      "Data columns (total 13 columns):\n",
      " #   Column             Non-Null Count  Dtype  \n",
      "---  ------             --------------  -----  \n",
      " 0   id                 8406 non-null   object \n",
      " 1   name               8406 non-null   object \n",
      " 2   category           8406 non-null   object \n",
      " 3   address            8406 non-null   object \n",
      " 4   district           8406 non-null   object \n",
      " 5   hours              8406 non-null   object \n",
      " 6   rating             8406 non-null   float32\n",
      " 7   chain              8406 non-null   int8   \n",
      " 8   seats              4795 non-null   float32\n",
      " 9   price              8406 non-null   object \n",
      " 10  avg_bill           8406 non-null   object \n",
      " 11  middle_avg_bill    3149 non-null   float32\n",
      " 12  middle_coffee_cup  535 non-null    float32\n",
      "dtypes: float32(4), int8(1), object(8)\n",
      "memory usage: 730.6+ KB\n"
     ]
    }
   ],
   "source": [
    "df.info()"
   ]
  },
  {
   "cell_type": "markdown",
   "id": "4b7ee469",
   "metadata": {
    "id": "4b7ee469"
   },
   "source": [
    "- Изучите пропущенные значения в данных: посчитайте их количество в каждом столбце датафрейме, изучите данные с пропущенными значениями и предположите гипотезы их появления. Проведите обработку пропущенных значений: вы можете заменить пропуски на определённое значение, удалить строки с пропусками или оставить их как есть."
   ]
  },
  {
   "cell_type": "code",
   "execution_count": 12,
   "id": "3d8840ca",
   "metadata": {
    "id": "3d8840ca"
   },
   "outputs": [
    {
     "data": {
      "text/plain": [
       "id                      0\n",
       "name                    0\n",
       "category                0\n",
       "address                 0\n",
       "district                0\n",
       "hours                   0\n",
       "rating                  0\n",
       "chain                   0\n",
       "seats                3611\n",
       "price                   0\n",
       "avg_bill                0\n",
       "middle_avg_bill      5257\n",
       "middle_coffee_cup    7871\n",
       "dtype: int64"
      ]
     },
     "execution_count": 12,
     "metadata": {},
     "output_type": "execute_result"
    }
   ],
   "source": [
    "df.isna().sum()"
   ]
  },
  {
   "cell_type": "code",
   "execution_count": 13,
   "id": "75880827-850c-450d-8a97-3bb786d91455",
   "metadata": {},
   "outputs": [
    {
     "data": {
      "text/plain": [
       "id                   0.000000\n",
       "name                 0.000000\n",
       "category             0.000000\n",
       "address              0.000000\n",
       "district             0.000000\n",
       "hours                0.000000\n",
       "rating               0.000000\n",
       "chain                0.000000\n",
       "seats                0.429574\n",
       "price                0.000000\n",
       "avg_bill             0.000000\n",
       "middle_avg_bill      0.625387\n",
       "middle_coffee_cup    0.936355\n",
       "dtype: float64"
      ]
     },
     "execution_count": 13,
     "metadata": {},
     "output_type": "execute_result"
    }
   ],
   "source": [
    "df.isna().sum()/len(df)"
   ]
  },
  {
   "cell_type": "code",
   "execution_count": 14,
   "id": "e241e4b2-4121-46c1-90f0-c425b5f71d36",
   "metadata": {},
   "outputs": [
    {
     "data": {
      "text/plain": [
       "id                   0.000000\n",
       "name                 0.000000\n",
       "category             0.000000\n",
       "address              0.000000\n",
       "district             0.000000\n",
       "hours                0.000000\n",
       "rating               0.000000\n",
       "chain                0.000000\n",
       "seats                0.429574\n",
       "price                0.000000\n",
       "avg_bill             0.000000\n",
       "middle_avg_bill      0.625387\n",
       "middle_coffee_cup    0.936355\n",
       "dtype: float64"
      ]
     },
     "execution_count": 14,
     "metadata": {},
     "output_type": "execute_result"
    }
   ],
   "source": [
    "df.isna().mean()"
   ]
  },
  {
   "cell_type": "markdown",
   "id": "84671f6a-3176-4e67-ba05-c677e5be64f6",
   "metadata": {
    "id": "d9e7c358"
   },
   "source": [
    "Достаточно большой процент данных пропущен в столбцах seats, middle_avg_bill и middle_coffee_cup. Считаю, что нужно оставить как есть, так как подбор значений не будет корректным и не будет соответствовать реальности, что исказит анализ. Так же удаление тоже не возможно, потому что удалится слишком большой процент данных."
   ]
  },
  {
   "cell_type": "markdown",
   "id": "c4d5f04d",
   "metadata": {
    "id": "c4d5f04d"
   },
   "source": [
    "- Проверьте данные на явные и неявные дубликаты, например поля с названием и адресом заведения. Для оптимизации проверки нормализуйте данные в текстовых столбцах, например с названием заведения."
   ]
  },
  {
   "cell_type": "code",
   "execution_count": 15,
   "id": "0769b681",
   "metadata": {
    "id": "0769b681"
   },
   "outputs": [
    {
     "name": "stdout",
     "output_type": "stream",
     "text": [
      "0\n"
     ]
    }
   ],
   "source": [
    "print(df.duplicated().sum())"
   ]
  },
  {
   "cell_type": "markdown",
   "id": "42ed6273-7f40-4016-b361-cd2a979d0be6",
   "metadata": {},
   "source": [
    "- Посмотрим неявные дубликаты, где необходимо заменим значения, чтоб стало меньше уникальных строк."
   ]
  },
  {
   "cell_type": "code",
   "execution_count": 16,
   "id": "95b15cd0",
   "metadata": {
    "id": "95b15cd0"
   },
   "outputs": [
    {
     "data": {
      "text/plain": [
       "5614"
      ]
     },
     "execution_count": 16,
     "metadata": {},
     "output_type": "execute_result"
    }
   ],
   "source": [
    "df_name = sorted(df['name'].unique())\n",
    "df_name_count=df['name'].nunique()\n",
    "df_name_count"
   ]
  },
  {
   "cell_type": "code",
   "execution_count": 17,
   "id": "b52bae9a",
   "metadata": {
    "id": "b52bae9a"
   },
   "outputs": [
    {
     "data": {
      "text/plain": [
       "5753"
      ]
     },
     "execution_count": 17,
     "metadata": {},
     "output_type": "execute_result"
    }
   ],
   "source": [
    "df_address = sorted(df['address'].unique())\n",
    "df_address_count=df['address'].nunique()\n",
    "df_address_count"
   ]
  },
  {
   "cell_type": "code",
   "execution_count": 18,
   "id": "893dc1ce-dfd5-40a2-9443-44049a76f213",
   "metadata": {},
   "outputs": [
    {
     "data": {
      "text/plain": [
       "5512"
      ]
     },
     "execution_count": 18,
     "metadata": {},
     "output_type": "execute_result"
    }
   ],
   "source": [
    "df['name'] =[s.lower() for s in df['name']]\n",
    "df['name'] = [s.title() for s in df['name']]\n",
    "df_name = sorted(df['name'].unique())\n",
    "df_name_count=df['name'].nunique()\n",
    "df_name_count"
   ]
  },
  {
   "cell_type": "code",
   "execution_count": 19,
   "id": "789737c5-d3fb-493d-b298-5a0d58a70c32",
   "metadata": {},
   "outputs": [
    {
     "data": {
      "text/plain": [
       "5752"
      ]
     },
     "execution_count": 19,
     "metadata": {},
     "output_type": "execute_result"
    }
   ],
   "source": [
    "df['address'] =[s.lower() for s in df['address']]\n",
    "df['address'] = [s.title() for s in df['address']]\n",
    "df_address = sorted(df['address'].unique())\n",
    "df_address_count=df['address'].nunique()\n",
    "df_address_count"
   ]
  },
  {
   "cell_type": "code",
   "execution_count": 20,
   "id": "fa6ab4a2-d51c-4199-80db-c53258902227",
   "metadata": {},
   "outputs": [
    {
     "data": {
      "text/plain": [
       "4"
      ]
     },
     "execution_count": 20,
     "metadata": {},
     "output_type": "execute_result"
    }
   ],
   "source": [
    "df.duplicated(subset=['name','address']).sum()"
   ]
  },
  {
   "cell_type": "code",
   "execution_count": 21,
   "id": "7d3ccccb-9b36-4a79-9350-020e57d76420",
   "metadata": {},
   "outputs": [],
   "source": [
    "df = df.drop_duplicates(subset=['name','address'], keep='first').reset_index(drop=True)"
   ]
  },
  {
   "cell_type": "code",
   "execution_count": 22,
   "id": "634ca976-cdc5-43a1-8a42-98be09fe2b42",
   "metadata": {},
   "outputs": [
    {
     "data": {
      "text/plain": [
       "0"
      ]
     },
     "execution_count": 22,
     "metadata": {},
     "output_type": "execute_result"
    }
   ],
   "source": [
    "df.duplicated(subset=['name','address']).sum()"
   ]
  },
  {
   "cell_type": "markdown",
   "id": "4c0563f2",
   "metadata": {
    "id": "4c0563f2"
   },
   "source": [
    "- Для дальнейшей работы создайте столбец `is_24_7` с обозначением того, что заведение работает ежедневно и круглосуточно, то есть 24/7:\n",
    "  - логическое значение `True` — если заведение работает ежедневно и круглосуточно;\n",
    "  - логическое значение `False` — в противоположном случае."
   ]
  },
  {
   "cell_type": "code",
   "execution_count": 23,
   "id": "d8a8a963",
   "metadata": {
    "id": "d8a8a963"
   },
   "outputs": [
    {
     "data": {
      "text/html": [
       "<div>\n",
       "<style scoped>\n",
       "    .dataframe tbody tr th:only-of-type {\n",
       "        vertical-align: middle;\n",
       "    }\n",
       "\n",
       "    .dataframe tbody tr th {\n",
       "        vertical-align: top;\n",
       "    }\n",
       "\n",
       "    .dataframe thead th {\n",
       "        text-align: right;\n",
       "    }\n",
       "</style>\n",
       "<table border=\"1\" class=\"dataframe\">\n",
       "  <thead>\n",
       "    <tr style=\"text-align: right;\">\n",
       "      <th></th>\n",
       "      <th>id</th>\n",
       "      <th>name</th>\n",
       "      <th>category</th>\n",
       "      <th>address</th>\n",
       "      <th>district</th>\n",
       "      <th>hours</th>\n",
       "      <th>rating</th>\n",
       "      <th>chain</th>\n",
       "      <th>seats</th>\n",
       "      <th>price</th>\n",
       "      <th>avg_bill</th>\n",
       "      <th>middle_avg_bill</th>\n",
       "      <th>middle_coffee_cup</th>\n",
       "      <th>is_24_7</th>\n",
       "    </tr>\n",
       "  </thead>\n",
       "  <tbody>\n",
       "    <tr>\n",
       "      <th>0</th>\n",
       "      <td>0c3e3439a8c64ea5bf6ecd6ca6ae19f0</td>\n",
       "      <td>Wowфли</td>\n",
       "      <td>кафе</td>\n",
       "      <td>Москва, Улица Дыбенко, 7/1</td>\n",
       "      <td>Северный административный округ</td>\n",
       "      <td>ежедневно, 10:00–22:00</td>\n",
       "      <td>5.0</td>\n",
       "      <td>0</td>\n",
       "      <td>NaN</td>\n",
       "      <td></td>\n",
       "      <td></td>\n",
       "      <td>NaN</td>\n",
       "      <td>NaN</td>\n",
       "      <td>False</td>\n",
       "    </tr>\n",
       "    <tr>\n",
       "      <th>1</th>\n",
       "      <td>045780ada3474c57a2112e505d74b633</td>\n",
       "      <td>Четыре Комнаты</td>\n",
       "      <td>ресторан</td>\n",
       "      <td>Москва, Улица Дыбенко, 36, Корп. 1</td>\n",
       "      <td>Северный административный округ</td>\n",
       "      <td>ежедневно, 10:00–22:00</td>\n",
       "      <td>4.5</td>\n",
       "      <td>0</td>\n",
       "      <td>4.0</td>\n",
       "      <td>выше среднего</td>\n",
       "      <td>Средний счёт:1500–1600 ₽</td>\n",
       "      <td>1550.0</td>\n",
       "      <td>NaN</td>\n",
       "      <td>False</td>\n",
       "    </tr>\n",
       "    <tr>\n",
       "      <th>2</th>\n",
       "      <td>1070b6b59144425896c65889347fcff6</td>\n",
       "      <td>Хазри</td>\n",
       "      <td>кафе</td>\n",
       "      <td>Москва, Клязьминская Улица, 15</td>\n",
       "      <td>Северный административный округ</td>\n",
       "      <td>пн-чт 11:00–02:00; пт,сб 11:00–05:00; вс 11:00...</td>\n",
       "      <td>4.6</td>\n",
       "      <td>0</td>\n",
       "      <td>45.0</td>\n",
       "      <td>средние</td>\n",
       "      <td>Средний счёт:от 1000 ₽</td>\n",
       "      <td>1000.0</td>\n",
       "      <td>NaN</td>\n",
       "      <td>False</td>\n",
       "    </tr>\n",
       "    <tr>\n",
       "      <th>3</th>\n",
       "      <td>03ac7cd772104f65b58b349dc59f03ee</td>\n",
       "      <td>Dormouse Coffee Shop</td>\n",
       "      <td>кофейня</td>\n",
       "      <td>Москва, Улица Маршала Федоренко, 12</td>\n",
       "      <td>Северный административный округ</td>\n",
       "      <td>ежедневно, 09:00–22:00</td>\n",
       "      <td>5.0</td>\n",
       "      <td>0</td>\n",
       "      <td>NaN</td>\n",
       "      <td></td>\n",
       "      <td>Цена чашки капучино:155–185 ₽</td>\n",
       "      <td>NaN</td>\n",
       "      <td>170.0</td>\n",
       "      <td>False</td>\n",
       "    </tr>\n",
       "    <tr>\n",
       "      <th>4</th>\n",
       "      <td>a163aada139c4c7f87b0b1c0b466a50f</td>\n",
       "      <td>Иль Марко</td>\n",
       "      <td>пиццерия</td>\n",
       "      <td>Москва, Правобережная Улица, 1Б</td>\n",
       "      <td>Северный административный округ</td>\n",
       "      <td>ежедневно, 10:00–22:00</td>\n",
       "      <td>5.0</td>\n",
       "      <td>1</td>\n",
       "      <td>148.0</td>\n",
       "      <td>средние</td>\n",
       "      <td>Средний счёт:400–600 ₽</td>\n",
       "      <td>500.0</td>\n",
       "      <td>NaN</td>\n",
       "      <td>False</td>\n",
       "    </tr>\n",
       "    <tr>\n",
       "      <th>...</th>\n",
       "      <td>...</td>\n",
       "      <td>...</td>\n",
       "      <td>...</td>\n",
       "      <td>...</td>\n",
       "      <td>...</td>\n",
       "      <td>...</td>\n",
       "      <td>...</td>\n",
       "      <td>...</td>\n",
       "      <td>...</td>\n",
       "      <td>...</td>\n",
       "      <td>...</td>\n",
       "      <td>...</td>\n",
       "      <td>...</td>\n",
       "      <td>...</td>\n",
       "    </tr>\n",
       "    <tr>\n",
       "      <th>8397</th>\n",
       "      <td>0342ad1a45ed41ba89dcba246a8267e5</td>\n",
       "      <td>Суши Мания</td>\n",
       "      <td>кафе</td>\n",
       "      <td>Москва, Профсоюзная Улица, 56</td>\n",
       "      <td>Юго-Западный административный округ</td>\n",
       "      <td>ежедневно, 09:00–02:00</td>\n",
       "      <td>4.4</td>\n",
       "      <td>0</td>\n",
       "      <td>86.0</td>\n",
       "      <td></td>\n",
       "      <td></td>\n",
       "      <td>NaN</td>\n",
       "      <td>NaN</td>\n",
       "      <td>False</td>\n",
       "    </tr>\n",
       "    <tr>\n",
       "      <th>8398</th>\n",
       "      <td>ee6bb7c3650e47bd8186fca08eda1091</td>\n",
       "      <td>Миславнес</td>\n",
       "      <td>кафе</td>\n",
       "      <td>Москва, Пролетарский Проспект, 19, Корп. 1</td>\n",
       "      <td>Южный административный округ</td>\n",
       "      <td>ежедневно, 08:00–22:00</td>\n",
       "      <td>4.8</td>\n",
       "      <td>0</td>\n",
       "      <td>150.0</td>\n",
       "      <td></td>\n",
       "      <td></td>\n",
       "      <td>NaN</td>\n",
       "      <td>NaN</td>\n",
       "      <td>False</td>\n",
       "    </tr>\n",
       "    <tr>\n",
       "      <th>8399</th>\n",
       "      <td>62e8c64d4c89467aba608e39ef87616b</td>\n",
       "      <td>Самовар</td>\n",
       "      <td>кафе</td>\n",
       "      <td>Москва, Люблинская Улица, 112А, Стр. 1</td>\n",
       "      <td>Юго-Восточный административный округ</td>\n",
       "      <td>ежедневно, круглосуточно</td>\n",
       "      <td>3.9</td>\n",
       "      <td>0</td>\n",
       "      <td>150.0</td>\n",
       "      <td></td>\n",
       "      <td>Средний счёт:от 150 ₽</td>\n",
       "      <td>150.0</td>\n",
       "      <td>NaN</td>\n",
       "      <td>True</td>\n",
       "    </tr>\n",
       "    <tr>\n",
       "      <th>8400</th>\n",
       "      <td>06a0db5ecd4842d48cd6350aa923e297</td>\n",
       "      <td>Чайхана Sabr</td>\n",
       "      <td>кафе</td>\n",
       "      <td>Москва, Люблинская Улица, 112А, Стр. 1</td>\n",
       "      <td>Юго-Восточный административный округ</td>\n",
       "      <td>ежедневно, круглосуточно</td>\n",
       "      <td>4.2</td>\n",
       "      <td>1</td>\n",
       "      <td>150.0</td>\n",
       "      <td></td>\n",
       "      <td></td>\n",
       "      <td>NaN</td>\n",
       "      <td>NaN</td>\n",
       "      <td>True</td>\n",
       "    </tr>\n",
       "    <tr>\n",
       "      <th>8401</th>\n",
       "      <td>9d56f8f7a7f74df1a925bc0fd2de8aae</td>\n",
       "      <td>Kebab Time</td>\n",
       "      <td>кафе</td>\n",
       "      <td>Москва, Россошанский Проезд, 6</td>\n",
       "      <td>Южный административный округ</td>\n",
       "      <td>ежедневно, круглосуточно</td>\n",
       "      <td>3.9</td>\n",
       "      <td>0</td>\n",
       "      <td>12.0</td>\n",
       "      <td></td>\n",
       "      <td></td>\n",
       "      <td>NaN</td>\n",
       "      <td>NaN</td>\n",
       "      <td>True</td>\n",
       "    </tr>\n",
       "  </tbody>\n",
       "</table>\n",
       "<p>8402 rows × 14 columns</p>\n",
       "</div>"
      ],
      "text/plain": [
       "                                    id                  name  category  \\\n",
       "0     0c3e3439a8c64ea5bf6ecd6ca6ae19f0                Wowфли      кафе   \n",
       "1     045780ada3474c57a2112e505d74b633        Четыре Комнаты  ресторан   \n",
       "2     1070b6b59144425896c65889347fcff6                 Хазри      кафе   \n",
       "3     03ac7cd772104f65b58b349dc59f03ee  Dormouse Coffee Shop   кофейня   \n",
       "4     a163aada139c4c7f87b0b1c0b466a50f             Иль Марко  пиццерия   \n",
       "...                                ...                   ...       ...   \n",
       "8397  0342ad1a45ed41ba89dcba246a8267e5            Суши Мания      кафе   \n",
       "8398  ee6bb7c3650e47bd8186fca08eda1091             Миславнес      кафе   \n",
       "8399  62e8c64d4c89467aba608e39ef87616b               Самовар      кафе   \n",
       "8400  06a0db5ecd4842d48cd6350aa923e297          Чайхана Sabr      кафе   \n",
       "8401  9d56f8f7a7f74df1a925bc0fd2de8aae            Kebab Time      кафе   \n",
       "\n",
       "                                         address  \\\n",
       "0                     Москва, Улица Дыбенко, 7/1   \n",
       "1             Москва, Улица Дыбенко, 36, Корп. 1   \n",
       "2                 Москва, Клязьминская Улица, 15   \n",
       "3            Москва, Улица Маршала Федоренко, 12   \n",
       "4                Москва, Правобережная Улица, 1Б   \n",
       "...                                          ...   \n",
       "8397               Москва, Профсоюзная Улица, 56   \n",
       "8398  Москва, Пролетарский Проспект, 19, Корп. 1   \n",
       "8399      Москва, Люблинская Улица, 112А, Стр. 1   \n",
       "8400      Москва, Люблинская Улица, 112А, Стр. 1   \n",
       "8401              Москва, Россошанский Проезд, 6   \n",
       "\n",
       "                                  district  \\\n",
       "0          Северный административный округ   \n",
       "1          Северный административный округ   \n",
       "2          Северный административный округ   \n",
       "3          Северный административный округ   \n",
       "4          Северный административный округ   \n",
       "...                                    ...   \n",
       "8397   Юго-Западный административный округ   \n",
       "8398          Южный административный округ   \n",
       "8399  Юго-Восточный административный округ   \n",
       "8400  Юго-Восточный административный округ   \n",
       "8401          Южный административный округ   \n",
       "\n",
       "                                                  hours  rating  chain  seats  \\\n",
       "0                                ежедневно, 10:00–22:00     5.0      0    NaN   \n",
       "1                                ежедневно, 10:00–22:00     4.5      0    4.0   \n",
       "2     пн-чт 11:00–02:00; пт,сб 11:00–05:00; вс 11:00...     4.6      0   45.0   \n",
       "3                                ежедневно, 09:00–22:00     5.0      0    NaN   \n",
       "4                                ежедневно, 10:00–22:00     5.0      1  148.0   \n",
       "...                                                 ...     ...    ...    ...   \n",
       "8397                             ежедневно, 09:00–02:00     4.4      0   86.0   \n",
       "8398                             ежедневно, 08:00–22:00     4.8      0  150.0   \n",
       "8399                           ежедневно, круглосуточно     3.9      0  150.0   \n",
       "8400                           ежедневно, круглосуточно     4.2      1  150.0   \n",
       "8401                           ежедневно, круглосуточно     3.9      0   12.0   \n",
       "\n",
       "              price                       avg_bill  middle_avg_bill  \\\n",
       "0                                                               NaN   \n",
       "1     выше среднего       Средний счёт:1500–1600 ₽           1550.0   \n",
       "2           средние         Средний счёт:от 1000 ₽           1000.0   \n",
       "3                    Цена чашки капучино:155–185 ₽              NaN   \n",
       "4           средние         Средний счёт:400–600 ₽            500.0   \n",
       "...             ...                            ...              ...   \n",
       "8397                                                            NaN   \n",
       "8398                                                            NaN   \n",
       "8399                         Средний счёт:от 150 ₽            150.0   \n",
       "8400                                                            NaN   \n",
       "8401                                                            NaN   \n",
       "\n",
       "      middle_coffee_cup  is_24_7  \n",
       "0                   NaN    False  \n",
       "1                   NaN    False  \n",
       "2                   NaN    False  \n",
       "3                 170.0    False  \n",
       "4                   NaN    False  \n",
       "...                 ...      ...  \n",
       "8397                NaN    False  \n",
       "8398                NaN    False  \n",
       "8399                NaN     True  \n",
       "8400                NaN     True  \n",
       "8401                NaN     True  \n",
       "\n",
       "[8402 rows x 14 columns]"
      ]
     },
     "execution_count": 23,
     "metadata": {},
     "output_type": "execute_result"
    }
   ],
   "source": [
    "df['is_24_7']=df['hours'].str.contains('ежедневно, круглосуточно')\n",
    "df"
   ]
  },
  {
   "cell_type": "markdown",
   "id": "562f30ab",
   "metadata": {
    "id": "562f30ab"
   },
   "source": [
    "---\n",
    "\n",
    "### Промежуточный вывод\n",
    "\n",
    "После предобработки данных напишите промежуточный вывод о проведённой работе. Отразите количество или долю отфильтрованных данных, если вы что-то удаляли."
   ]
  },
  {
   "cell_type": "markdown",
   "id": "9992c8be-c918-40e1-8e14-057c21b7fd02",
   "metadata": {
    "id": "4e587ce1"
   },
   "source": [
    "- Изучены данные. Изначально в данных были пропуски, некоторые данные были неправильного типа, присутствовали дубликаты.\n",
    "- В ходе работы были изменены типы данных на более подходящие, исправлены ошибки и дополнены запрошенные данные. Также данные были очищены от дубликатов (неявных)"
   ]
  },
  {
   "cell_type": "markdown",
   "id": "6953e84c",
   "metadata": {
    "id": "6953e84c"
   },
   "source": [
    "## 3. Исследовательский анализ данных\n",
    "Проведите исследовательский анализ исходных данных.\n",
    "\n",
    "При исследовании данных используйте визуализации. Проверьте, что для каждого случая подобран оптимальный тип визуализации с корректным оформлением. У графика должен быть заголовок, понятные подписи по осям, при необходимости легенда, а его размер является оптимальным для изучения.\n",
    "\n",
    "После исследования каждого пункта оставляйте небольшой комментарий с выводом или обсуждением результата. В конце шага обобщите результаты, выделив, по вашему мнению, самые важные."
   ]
  },
  {
   "cell_type": "markdown",
   "id": "8555d840",
   "metadata": {
    "id": "8555d840"
   },
   "source": [
    "---\n",
    "\n",
    "### Задача 1\n",
    "\n",
    "Какие категории заведений представлены в данных? Исследуйте количество объектов общественного питания по каждой категории. Результат сопроводите подходящей визуализацией."
   ]
  },
  {
   "cell_type": "code",
   "execution_count": 24,
   "id": "ef2bffe9",
   "metadata": {
    "id": "ef2bffe9"
   },
   "outputs": [
    {
     "data": {
      "text/plain": [
       "кафе               2376\n",
       "ресторан           2042\n",
       "кофейня            1413\n",
       "бар,паб             764\n",
       "пиццерия            633\n",
       "быстрое питание     603\n",
       "столовая            315\n",
       "булочная            256\n",
       "Name: category, dtype: int64"
      ]
     },
     "execution_count": 24,
     "metadata": {},
     "output_type": "execute_result"
    }
   ],
   "source": [
    "df['category'].value_counts()"
   ]
  },
  {
   "cell_type": "code",
   "execution_count": 25,
   "id": "71ab5e91",
   "metadata": {
    "id": "71ab5e91"
   },
   "outputs": [
    {
     "data": {
      "image/png": "[encoded data removed]",
      "text/plain": [
       "<Figure size 432x288 with 1 Axes>"
      ]
     },
     "metadata": {
      "needs_background": "light"
     },
     "output_type": "display_data"
    }
   ],
   "source": [
    "df['category'].value_counts().plot(kind='bar',\n",
    "                                color='lightgreen',\n",
    "                                legend=False)\n",
    "plt.title('Количество заведений в разных категориях')\n",
    "plt.ylabel('Количество заведений')\n",
    "plt.xlabel('Категория')\n",
    "plt.xticks(rotation=45)\n",
    "plt.show()"
   ]
  },
  {
   "cell_type": "markdown",
   "id": "94a76778-81e4-44d5-ab5a-3ec555383329",
   "metadata": {},
   "source": [
    "##### Вывод\n",
    "Самым многочисленным типом заведения является кафе - 2376 шт. Самым малочисленным булочная - 256 шт. "
   ]
  },
  {
   "cell_type": "markdown",
   "id": "6821e1d0",
   "metadata": {
    "id": "6821e1d0"
   },
   "source": [
    "---\n",
    "\n",
    "### Задача 2\n",
    "\n",
    "Какие административные районы Москвы присутствуют в данных? Исследуйте распределение количества заведений по административным районам Москвы, а также отдельно распределение заведений каждой категории в Центральном административном округе Москвы. Результат сопроводите подходящими визуализациями."
   ]
  },
  {
   "cell_type": "code",
   "execution_count": 26,
   "id": "e62f31be",
   "metadata": {
    "id": "e62f31be"
   },
   "outputs": [
    {
     "data": {
      "text/plain": [
       "Центральный административный округ         2242\n",
       "Северный административный округ             898\n",
       "Южный административный округ                892\n",
       "Северо-Восточный административный округ     890\n",
       "Западный административный округ             850\n",
       "Восточный административный округ            798\n",
       "Юго-Восточный административный округ        714\n",
       "Юго-Западный административный округ         709\n",
       "Северо-Западный административный округ      409\n",
       "Name: district, dtype: int64"
      ]
     },
     "execution_count": 26,
     "metadata": {},
     "output_type": "execute_result"
    }
   ],
   "source": [
    "df['district'].value_counts()"
   ]
  },
  {
   "cell_type": "code",
   "execution_count": 27,
   "id": "0a290cd1",
   "metadata": {
    "id": "0a290cd1"
   },
   "outputs": [
    {
     "data": {
      "image/png": "[encoded data removed]",
      "text/plain": [
       "<Figure size 432x288 with 1 Axes>"
      ]
     },
     "metadata": {
      "needs_background": "light"
     },
     "output_type": "display_data"
    }
   ],
   "source": [
    "df['district'].value_counts().plot(kind='barh',\n",
    "                                color='lightgreen',\n",
    "                                legend=False)\n",
    "plt.title('Распределение заведений по округам')\n",
    "plt.xlabel('Количество заведений')\n",
    "plt.show()"
   ]
  },
  {
   "cell_type": "code",
   "execution_count": 28,
   "id": "555a3262-b95f-43a0-a75e-1c15f4709287",
   "metadata": {},
   "outputs": [
    {
     "data": {
      "image/png": "[encoded data removed]",
      "text/plain": [
       "<Figure size 432x288 with 1 Axes>"
      ]
     },
     "metadata": {
      "needs_background": "light"
     },
     "output_type": "display_data"
    }
   ],
   "source": [
    "df.loc[(df['district']=='Центральный административный округ'),'category'].value_counts().plot(kind='bar',\n",
    "                                color='lightgreen',\n",
    "                                legend=False)\n",
    "plt.title('Количество заведений в разных категориях в ЦАО')\n",
    "plt.ylabel('Количество заведений')\n",
    "plt.xlabel('Категория')\n",
    "plt.xticks(rotation=45)\n",
    "plt.show()"
   ]
  },
  {
   "cell_type": "markdown",
   "id": "388397fe-7baf-474a-a64f-3d830fdac379",
   "metadata": {},
   "source": [
    "##### Вывод\n",
    "Большее количество заведений находится в ЦАО. В САО, ЮАО и СВАО одинаково распределяются заведения. Меньше всего заведений в СЗАО. Внутри ЦАО больше всего ресторанов (более 650шт.) и меньше всего булочныз (менее 50шт)"
   ]
  },
  {
   "cell_type": "markdown",
   "id": "7c824f58",
   "metadata": {
    "id": "7c824f58"
   },
   "source": [
    "---\n",
    "\n",
    "### Задача 3\n",
    "\n",
    "Изучите соотношение сетевых и несетевых заведений в целом по всем данным и в разрезе категорий заведения. Каких заведений больше — сетевых или несетевых? Какие категории заведений чаще являются сетевыми? Исследуйте данные, ответьте на вопросы и постройте необходимые визуализации."
   ]
  },
  {
   "cell_type": "code",
   "execution_count": 29,
   "id": "ef442d1a",
   "metadata": {
    "id": "ef442d1a"
   },
   "outputs": [
    {
     "data": {
      "image/png": "[encoded data removed]",
      "text/plain": [
       "<Figure size 432x288 with 1 Axes>"
      ]
     },
     "metadata": {
      "needs_background": "light"
     },
     "output_type": "display_data"
    }
   ],
   "source": [
    "df.groupby('category')['chain'].value_counts().unstack(fill_value=0).plot(kind='bar', legend=True, color=['lightgreen','yellow'])\n",
    "plt.ylabel('Количество заведений')\n",
    "plt.xlabel('Категория')\n",
    "plt.legend(title='Сетевой/несетевой')\n",
    "plt.xticks(rotation=45)\n",
    "plt.show()"
   ]
  },
  {
   "cell_type": "code",
   "execution_count": 30,
   "id": "17b48e19-cd84-4067-a93c-0228b228d95c",
   "metadata": {},
   "outputs": [
    {
     "data": {
      "text/plain": [
       "chain\n",
       "1    3203\n",
       "0    5199\n",
       "Name: name, dtype: int64"
      ]
     },
     "execution_count": 30,
     "metadata": {},
     "output_type": "execute_result"
    }
   ],
   "source": [
    "df.groupby('chain')['name'].count().sort_values()"
   ]
  },
  {
   "cell_type": "code",
   "execution_count": 31,
   "id": "3ce60247-dd64-4407-af65-7d9967fdc04d",
   "metadata": {},
   "outputs": [
    {
     "data": {
      "image/png": "[encoded data removed]",
      "text/plain": [
       "<Figure size 432x288 with 1 Axes>"
      ]
     },
     "metadata": {
      "needs_background": "light"
     },
     "output_type": "display_data"
    }
   ],
   "source": [
    "df.groupby('chain')['name'].count().sort_values().plot(kind='bar', color='lightgreen')\n",
    "plt.title('Сетевые и несетевые заведения в Москве')\n",
    "plt.xlabel('Тип объекта')\n",
    "plt.ylabel('Количество объектов')\n",
    "plt.xticks(rotation=0)\n",
    "plt.show()"
   ]
  },
  {
   "cell_type": "code",
   "execution_count": 32,
   "id": "a887caba-c4a9-4b77-97b3-0c5121902246",
   "metadata": {},
   "outputs": [
    {
     "data": {
      "text/html": [
       "<div>\n",
       "<style scoped>\n",
       "    .dataframe tbody tr th:only-of-type {\n",
       "        vertical-align: middle;\n",
       "    }\n",
       "\n",
       "    .dataframe tbody tr th {\n",
       "        vertical-align: top;\n",
       "    }\n",
       "\n",
       "    .dataframe thead th {\n",
       "        text-align: right;\n",
       "    }\n",
       "</style>\n",
       "<table border=\"1\" class=\"dataframe\">\n",
       "  <thead>\n",
       "    <tr style=\"text-align: right;\">\n",
       "      <th>chain</th>\n",
       "      <th>category</th>\n",
       "      <th>share_chain %</th>\n",
       "    </tr>\n",
       "  </thead>\n",
       "  <tbody>\n",
       "    <tr>\n",
       "      <th>1</th>\n",
       "      <td>булочная</td>\n",
       "      <td>61.33</td>\n",
       "    </tr>\n",
       "    <tr>\n",
       "      <th>5</th>\n",
       "      <td>пиццерия</td>\n",
       "      <td>52.13</td>\n",
       "    </tr>\n",
       "    <tr>\n",
       "      <th>4</th>\n",
       "      <td>кофейня</td>\n",
       "      <td>50.96</td>\n",
       "    </tr>\n",
       "    <tr>\n",
       "      <th>2</th>\n",
       "      <td>быстрое питание</td>\n",
       "      <td>38.47</td>\n",
       "    </tr>\n",
       "    <tr>\n",
       "      <th>6</th>\n",
       "      <td>ресторан</td>\n",
       "      <td>35.70</td>\n",
       "    </tr>\n",
       "    <tr>\n",
       "      <th>3</th>\n",
       "      <td>кафе</td>\n",
       "      <td>32.79</td>\n",
       "    </tr>\n",
       "    <tr>\n",
       "      <th>7</th>\n",
       "      <td>столовая</td>\n",
       "      <td>27.94</td>\n",
       "    </tr>\n",
       "    <tr>\n",
       "      <th>0</th>\n",
       "      <td>бар,паб</td>\n",
       "      <td>21.99</td>\n",
       "    </tr>\n",
       "  </tbody>\n",
       "</table>\n",
       "</div>"
      ],
      "text/plain": [
       "chain         category  share_chain %\n",
       "1             булочная          61.33\n",
       "5             пиццерия          52.13\n",
       "4              кофейня          50.96\n",
       "2      быстрое питание          38.47\n",
       "6             ресторан          35.70\n",
       "3                 кафе          32.79\n",
       "7             столовая          27.94\n",
       "0              бар,паб          21.99"
      ]
     },
     "execution_count": 32,
     "metadata": {},
     "output_type": "execute_result"
    }
   ],
   "source": [
    "# Создадим сводную таблицу\n",
    "df_pivot = df.pivot_table(index='category', values='id', columns='chain', aggfunc='count').reset_index()\n",
    "df_pivot['share_chain %'] = (df_pivot[1] / (df_pivot[1] + df_pivot[0])* 100).round(2)\n",
    "df_pivot.drop(df_pivot.columns[[1,2]], axis=1, inplace=True)\n",
    "df_pivot = df_pivot.sort_values('share_chain %', ascending = False)\n",
    "df_pivot"
   ]
  },
  {
   "cell_type": "code",
   "execution_count": 33,
   "id": "720ffedb-3e2f-4528-af75-9fc690ba5648",
   "metadata": {},
   "outputs": [
    {
     "data": {
      "image/png": "[encoded data removed]",
      "text/plain": [
       "<Figure size 432x288 with 1 Axes>"
      ]
     },
     "metadata": {
      "needs_background": "light"
     },
     "output_type": "display_data"
    }
   ],
   "source": [
    "sns.barplot(x='share_chain %', y='category', data=df_pivot.sort_values('share_chain %', ascending=False), color='lightgreen')\n",
    "plt.title('Доли сетевых заведений для каждого типа')\n",
    "plt.xlabel('Доля объектов %')\n",
    "plt.ylabel('Тип объекта')\n",
    "plt.show()"
   ]
  },
  {
   "cell_type": "markdown",
   "id": "0ce3aa14",
   "metadata": {},
   "source": [
    "##### Вывод\n",
    "Несетевых заведений оказалось больше. ПО категориям оказалось, что чуть больше 20% баров, пабов являются сетевыми. А  булочные напротив в большинстве (более 60%) являются сетевыми. "
   ]
  },
  {
   "cell_type": "markdown",
   "id": "5913c3e3",
   "metadata": {
    "id": "5913c3e3"
   },
   "source": [
    "---\n",
    "\n",
    "### Задача 4\n",
    "\n",
    "Исследуйте количество посадочных мест в заведениях. Встречаются ли в данных аномальные значения или выбросы? Если да, то с чем они могут быть связаны? Приведите для каждой категории заведений наиболее типичное для него количество посадочных мест. Результат сопроводите подходящими визуализациями.\n"
   ]
  },
  {
   "cell_type": "code",
   "execution_count": 34,
   "id": "6cb238d2",
   "metadata": {
    "id": "6cb238d2"
   },
   "outputs": [
    {
     "data": {
      "image/png": "[encoded data removed]",
      "text/plain": [
       "<Figure size 432x288 with 1 Axes>"
      ]
     },
     "metadata": {
      "needs_background": "light"
     },
     "output_type": "display_data"
    }
   ],
   "source": [
    "boxplot = df.boxplot(column='seats',\n",
    "                     vert=False)\n",
    "# Добавляем заголовок и метку оси X\n",
    "boxplot.set_title('Распределение посадочных мест')\n",
    "boxplot.set_xlabel('Количество')\n",
    "plt.show()"
   ]
  },
  {
   "cell_type": "markdown",
   "id": "db012412-0822-43b5-ae3f-a9e5d415d2b5",
   "metadata": {
    "id": "062b55d8"
   },
   "source": [
    "- На графике видно, что значения выше 300 являются выбросами"
   ]
  },
  {
   "cell_type": "code",
   "execution_count": 35,
   "id": "ceadf25b",
   "metadata": {
    "id": "ceadf25b"
   },
   "outputs": [
    {
     "data": {
      "image/png": "[encoded data removed]",
      "text/plain": [
       "<Figure size 432x288 with 1 Axes>"
      ]
     },
     "metadata": {
      "needs_background": "light"
     },
     "output_type": "display_data"
    }
   ],
   "source": [
    "sns.histplot(data=df, x='seats', bins=15, kde=True, color='lightgreen',edgecolor='green' )\n",
    "plt.title('Распределение посадочных мест')\n",
    "plt.ylabel('Количество заведений')\n",
    "plt.show()"
   ]
  },
  {
   "cell_type": "code",
   "execution_count": 36,
   "id": "c903a3a0-6fe7-4ae5-8ba8-52cc257556c6",
   "metadata": {},
   "outputs": [
    {
     "data": {
      "image/png": "[encoded data removed]",
      "text/plain": [
       "<Figure size 432x288 with 1 Axes>"
      ]
     },
     "metadata": {
      "needs_background": "light"
     },
     "output_type": "display_data"
    }
   ],
   "source": [
    "df.groupby('category').agg({'seats' : 'median'}).plot(kind='barh',\n",
    "                                color='lightgreen',\n",
    "                                legend=False)\n",
    "plt.title('Среднее количество посадочных мест')\n",
    "plt.show()"
   ]
  },
  {
   "cell_type": "markdown",
   "id": "35197b6a-6627-4827-8afb-73ef23486d1e",
   "metadata": {},
   "source": [
    "##### Вывод\n",
    "Наибольшее количество заведений имеет до 200 посадочных мест. В ресторанах наибольшее среднее количество мест (более 80 шт). В булочных в среднем мест меньше (окло 50 шт)"
   ]
  },
  {
   "cell_type": "markdown",
   "id": "8ed065ea",
   "metadata": {
    "id": "8ed065ea"
   },
   "source": [
    "---\n",
    "\n",
    "### Задача 5\n",
    "\n",
    "Исследуйте рейтинг заведений. Визуализируйте распределение средних рейтингов по категориям заведений. Сильно ли различаются усреднённые рейтинги для разных типов общепита?"
   ]
  },
  {
   "cell_type": "code",
   "execution_count": 37,
   "id": "f62b354c-d554-4e45-90e6-bf81d6c59414",
   "metadata": {},
   "outputs": [
    {
     "data": {
      "text/html": [
       "<div>\n",
       "<style scoped>\n",
       "    .dataframe tbody tr th:only-of-type {\n",
       "        vertical-align: middle;\n",
       "    }\n",
       "\n",
       "    .dataframe tbody tr th {\n",
       "        vertical-align: top;\n",
       "    }\n",
       "\n",
       "    .dataframe thead th {\n",
       "        text-align: right;\n",
       "    }\n",
       "</style>\n",
       "<table border=\"1\" class=\"dataframe\">\n",
       "  <thead>\n",
       "    <tr style=\"text-align: right;\">\n",
       "      <th></th>\n",
       "      <th>rating</th>\n",
       "    </tr>\n",
       "    <tr>\n",
       "      <th>category</th>\n",
       "      <th></th>\n",
       "    </tr>\n",
       "  </thead>\n",
       "  <tbody>\n",
       "    <tr>\n",
       "      <th>бар,паб</th>\n",
       "      <td>4.39</td>\n",
       "    </tr>\n",
       "    <tr>\n",
       "      <th>булочная</th>\n",
       "      <td>4.27</td>\n",
       "    </tr>\n",
       "    <tr>\n",
       "      <th>быстрое питание</th>\n",
       "      <td>4.05</td>\n",
       "    </tr>\n",
       "    <tr>\n",
       "      <th>кафе</th>\n",
       "      <td>4.12</td>\n",
       "    </tr>\n",
       "    <tr>\n",
       "      <th>кофейня</th>\n",
       "      <td>4.28</td>\n",
       "    </tr>\n",
       "    <tr>\n",
       "      <th>пиццерия</th>\n",
       "      <td>4.30</td>\n",
       "    </tr>\n",
       "    <tr>\n",
       "      <th>ресторан</th>\n",
       "      <td>4.29</td>\n",
       "    </tr>\n",
       "    <tr>\n",
       "      <th>столовая</th>\n",
       "      <td>4.21</td>\n",
       "    </tr>\n",
       "  </tbody>\n",
       "</table>\n",
       "</div>"
      ],
      "text/plain": [
       "                 rating\n",
       "category               \n",
       "бар,паб            4.39\n",
       "булочная           4.27\n",
       "быстрое питание    4.05\n",
       "кафе               4.12\n",
       "кофейня            4.28\n",
       "пиццерия           4.30\n",
       "ресторан           4.29\n",
       "столовая           4.21"
      ]
     },
     "execution_count": 37,
     "metadata": {},
     "output_type": "execute_result"
    }
   ],
   "source": [
    "df.groupby('category').agg({'rating':'mean'}).round(2)"
   ]
  },
  {
   "cell_type": "code",
   "execution_count": 38,
   "id": "cc5206f8",
   "metadata": {
    "id": "cc5206f8"
   },
   "outputs": [
    {
     "data": {
      "image/png": "[encoded data removed]",
      "text/plain": [
       "<Figure size 432x288 with 1 Axes>"
      ]
     },
     "metadata": {
      "needs_background": "light"
     },
     "output_type": "display_data"
    }
   ],
   "source": [
    "df.groupby('category').agg({'rating':'mean'}).plot(kind='bar',\n",
    "                                color='lightgreen',\n",
    "                                legend=False)\n",
    "plt.title('Средний рейтинг заведений по категориям')\n",
    "plt.xlabel('Рейтинг')\n",
    "plt.xticks(rotation=45)\n",
    "plt.show()"
   ]
  },
  {
   "cell_type": "markdown",
   "id": "3f9d7336-e5d6-4e09-be70-5a4ba41c834e",
   "metadata": {},
   "source": [
    "##### Вывод\n",
    "В целом заведения всех категорий в среднем имеют рейтинг более 4. \n",
    "Заведения быстрого питания имеют наименьший рейтинг (4.05), пабы, бары наибольший (4.39)"
   ]
  },
  {
   "cell_type": "markdown",
   "id": "dd9702d9",
   "metadata": {
    "id": "dd9702d9"
   },
   "source": [
    "---\n",
    "\n",
    "### Задача 6\n",
    "\n",
    "Изучите, с какими данными показывают самую сильную корреляцию рейтинги заведений? Постройте и визуализируйте матрицу корреляции рейтинга заведения с разными данными: его категория, положение (административный район Москвы), статус сетевого заведения, количество мест, ценовая категория и признак, является ли заведения круглосуточным. Выберите самую сильную связь и проверьте её."
   ]
  },
  {
   "cell_type": "code",
   "execution_count": 39,
   "id": "15400eb9",
   "metadata": {
    "id": "15400eb9"
   },
   "outputs": [
    {
     "name": "stdout",
     "output_type": "stream",
     "text": [
      "interval columns not set, guessing: ['rating', 'chain', 'seats', 'middle_avg_bill']\n"
     ]
    },
    {
     "data": {
      "image/png": "[encoded data removed]",
      "text/plain": [
       "<Figure size 432x288 with 2 Axes>"
      ]
     },
     "metadata": {
      "needs_background": "light"
     },
     "output_type": "display_data"
    }
   ],
   "source": [
    "# Посчитаем матрицу корреляций\n",
    "corr_matrix = df[['rating','category','district','chain','seats','is_24_7','middle_avg_bill']].phik_matrix()\n",
    "\n",
    "# Создаём тепловую  карту\n",
    "sns.heatmap(corr_matrix,annot=True, fmt='.2f', linewidths=0.5, cmap='viridis')\n",
    "\n",
    "# Показываем график с заголовком\n",
    "plt.title('Тепловая карта матрицы корреляций')\n",
    "plt.show()"
   ]
  },
  {
   "cell_type": "code",
   "execution_count": 40,
   "id": "0868bc96-e085-4d90-ab32-f59c3269ed84",
   "metadata": {},
   "outputs": [
    {
     "data": {
      "text/html": [
       "<div>\n",
       "<style scoped>\n",
       "    .dataframe tbody tr th:only-of-type {\n",
       "        vertical-align: middle;\n",
       "    }\n",
       "\n",
       "    .dataframe tbody tr th {\n",
       "        vertical-align: top;\n",
       "    }\n",
       "\n",
       "    .dataframe thead tr th {\n",
       "        text-align: left;\n",
       "    }\n",
       "\n",
       "    .dataframe thead tr:last-of-type th {\n",
       "        text-align: right;\n",
       "    }\n",
       "</style>\n",
       "<table border=\"1\" class=\"dataframe\">\n",
       "  <thead>\n",
       "    <tr>\n",
       "      <th></th>\n",
       "      <th colspan=\"2\" halign=\"left\">rating</th>\n",
       "    </tr>\n",
       "    <tr>\n",
       "      <th></th>\n",
       "      <th>mean</th>\n",
       "      <th>median</th>\n",
       "    </tr>\n",
       "    <tr>\n",
       "      <th>price</th>\n",
       "      <th></th>\n",
       "      <th></th>\n",
       "    </tr>\n",
       "  </thead>\n",
       "  <tbody>\n",
       "    <tr>\n",
       "      <th></th>\n",
       "      <td>4.166778</td>\n",
       "      <td>4.3</td>\n",
       "    </tr>\n",
       "    <tr>\n",
       "      <th>высокие</th>\n",
       "      <td>4.436611</td>\n",
       "      <td>4.4</td>\n",
       "    </tr>\n",
       "    <tr>\n",
       "      <th>выше среднего</th>\n",
       "      <td>4.386348</td>\n",
       "      <td>4.4</td>\n",
       "    </tr>\n",
       "    <tr>\n",
       "      <th>низкие</th>\n",
       "      <td>4.173077</td>\n",
       "      <td>4.2</td>\n",
       "    </tr>\n",
       "    <tr>\n",
       "      <th>средние</th>\n",
       "      <td>4.297874</td>\n",
       "      <td>4.3</td>\n",
       "    </tr>\n",
       "  </tbody>\n",
       "</table>\n",
       "</div>"
      ],
      "text/plain": [
       "                 rating       \n",
       "                   mean median\n",
       "price                         \n",
       "               4.166778    4.3\n",
       "высокие        4.436611    4.4\n",
       "выше среднего  4.386348    4.4\n",
       "низкие         4.173077    4.2\n",
       "средние        4.297874    4.3"
      ]
     },
     "execution_count": 40,
     "metadata": {},
     "output_type": "execute_result"
    }
   ],
   "source": [
    "df_price=df.groupby('price').agg({'rating':['mean','median']})\n",
    "df_price"
   ]
  },
  {
   "cell_type": "code",
   "execution_count": 41,
   "id": "aaf8b5cc",
   "metadata": {},
   "outputs": [
    {
     "data": {
      "image/png": "[encoded data removed]",
      "text/plain": [
       "<Figure size 432x288 with 1 Axes>"
      ]
     },
     "metadata": {
      "needs_background": "light"
     },
     "output_type": "display_data"
    }
   ],
   "source": [
    "df_price.plot(kind='bar',\n",
    "        color=['lightgreen','yellow'],  \n",
    "        title='Зависимость ценовой категории от рейтинга')\n",
    "plt.legend(['mean', 'median'])\n",
    "plt.show()"
   ]
  },
  {
   "cell_type": "markdown",
   "id": "b604887b-2503-4c05-99af-2d7deedfd6a6",
   "metadata": {},
   "source": [
    "##### Вывод\n",
    "\n",
    "- mean: У заведений с категорией цен высокие самый высокий рейтинг. У заведений с категорией цен низкие рейтинг самый низкий среди заведений с указанными категориями. У заведений без указания категории цен наиболее низкий рейтинг. \n",
    "- median: У заведений с категорией цен высокие и выше среднего самый высокий рейтинг. У заведений с категорией цен низкие рейтинг самый низкий. \n",
    "###### Чем выше категория цен, тем выше рейтиг заведения"
   ]
  },
  {
   "cell_type": "markdown",
   "id": "370de703",
   "metadata": {
    "id": "370de703"
   },
   "source": [
    "---\n",
    "\n",
    "### Задача 7\n",
    "\n",
    "Сгруппируйте данные по названиям заведений и найдите топ-15 популярных сетей в Москве. Для них посчитайте значения среднего рейтинга. Под популярностью понимается количество заведений этой сети в регионе. К какой категории заведений они относятся? Результат сопроводите подходящими визуализациями."
   ]
  },
  {
   "cell_type": "code",
   "execution_count": 42,
   "id": "5d828a9a",
   "metadata": {
    "id": "5d828a9a"
   },
   "outputs": [
    {
     "data": {
      "text/html": [
       "<div>\n",
       "<style scoped>\n",
       "    .dataframe tbody tr th:only-of-type {\n",
       "        vertical-align: middle;\n",
       "    }\n",
       "\n",
       "    .dataframe tbody tr th {\n",
       "        vertical-align: top;\n",
       "    }\n",
       "\n",
       "    .dataframe thead th {\n",
       "        text-align: right;\n",
       "    }\n",
       "</style>\n",
       "<table border=\"1\" class=\"dataframe\">\n",
       "  <thead>\n",
       "    <tr style=\"text-align: right;\">\n",
       "      <th></th>\n",
       "      <th>id</th>\n",
       "      <th>rating</th>\n",
       "      <th>category</th>\n",
       "    </tr>\n",
       "    <tr>\n",
       "      <th>name</th>\n",
       "      <th></th>\n",
       "      <th></th>\n",
       "      <th></th>\n",
       "    </tr>\n",
       "  </thead>\n",
       "  <tbody>\n",
       "    <tr>\n",
       "      <th>Кафе</th>\n",
       "      <td>188</td>\n",
       "      <td>3.884574</td>\n",
       "      <td>бар,паб</td>\n",
       "    </tr>\n",
       "    <tr>\n",
       "      <th>Шоколадница</th>\n",
       "      <td>120</td>\n",
       "      <td>4.177500</td>\n",
       "      <td>кафе</td>\n",
       "    </tr>\n",
       "    <tr>\n",
       "      <th>Домино'С Пицца</th>\n",
       "      <td>77</td>\n",
       "      <td>4.171429</td>\n",
       "      <td>пиццерия</td>\n",
       "    </tr>\n",
       "    <tr>\n",
       "      <th>Додо Пицца</th>\n",
       "      <td>74</td>\n",
       "      <td>4.286487</td>\n",
       "      <td>пиццерия</td>\n",
       "    </tr>\n",
       "    <tr>\n",
       "      <th>One Price Coffee</th>\n",
       "      <td>72</td>\n",
       "      <td>4.069445</td>\n",
       "      <td>кофейня</td>\n",
       "    </tr>\n",
       "    <tr>\n",
       "      <th>Яндекс Лавка</th>\n",
       "      <td>69</td>\n",
       "      <td>3.872464</td>\n",
       "      <td>ресторан</td>\n",
       "    </tr>\n",
       "    <tr>\n",
       "      <th>Cofix</th>\n",
       "      <td>65</td>\n",
       "      <td>4.075385</td>\n",
       "      <td>кофейня</td>\n",
       "    </tr>\n",
       "    <tr>\n",
       "      <th>Prime</th>\n",
       "      <td>50</td>\n",
       "      <td>4.116000</td>\n",
       "      <td>кафе</td>\n",
       "    </tr>\n",
       "    <tr>\n",
       "      <th>Хинкальная</th>\n",
       "      <td>44</td>\n",
       "      <td>4.322727</td>\n",
       "      <td>бар,паб</td>\n",
       "    </tr>\n",
       "    <tr>\n",
       "      <th>Шаурма</th>\n",
       "      <td>43</td>\n",
       "      <td>3.909302</td>\n",
       "      <td>булочная</td>\n",
       "    </tr>\n",
       "    <tr>\n",
       "      <th>Кофепорт</th>\n",
       "      <td>42</td>\n",
       "      <td>4.147619</td>\n",
       "      <td>кофейня</td>\n",
       "    </tr>\n",
       "    <tr>\n",
       "      <th>Кулинарная Лавка Братьев Караваевых</th>\n",
       "      <td>39</td>\n",
       "      <td>4.394872</td>\n",
       "      <td>кафе</td>\n",
       "    </tr>\n",
       "    <tr>\n",
       "      <th>Теремок</th>\n",
       "      <td>38</td>\n",
       "      <td>4.123684</td>\n",
       "      <td>быстрое питание</td>\n",
       "    </tr>\n",
       "    <tr>\n",
       "      <th>Чайхана</th>\n",
       "      <td>37</td>\n",
       "      <td>3.924324</td>\n",
       "      <td>быстрое питание</td>\n",
       "    </tr>\n",
       "    <tr>\n",
       "      <th>Ресторан</th>\n",
       "      <td>34</td>\n",
       "      <td>4.314706</td>\n",
       "      <td>пиццерия</td>\n",
       "    </tr>\n",
       "  </tbody>\n",
       "</table>\n",
       "</div>"
      ],
      "text/plain": [
       "                                      id    rating         category\n",
       "name                                                               \n",
       "Кафе                                 188  3.884574          бар,паб\n",
       "Шоколадница                          120  4.177500             кафе\n",
       "Домино'С Пицца                        77  4.171429         пиццерия\n",
       "Додо Пицца                            74  4.286487         пиццерия\n",
       "One Price Coffee                      72  4.069445          кофейня\n",
       "Яндекс Лавка                          69  3.872464         ресторан\n",
       "Cofix                                 65  4.075385          кофейня\n",
       "Prime                                 50  4.116000             кафе\n",
       "Хинкальная                            44  4.322727          бар,паб\n",
       "Шаурма                                43  3.909302         булочная\n",
       "Кофепорт                              42  4.147619          кофейня\n",
       "Кулинарная Лавка Братьев Караваевых   39  4.394872             кафе\n",
       "Теремок                               38  4.123684  быстрое питание\n",
       "Чайхана                               37  3.924324  быстрое питание\n",
       "Ресторан                              34  4.314706         пиццерия"
      ]
     },
     "execution_count": 42,
     "metadata": {},
     "output_type": "execute_result"
    }
   ],
   "source": [
    "top=df.groupby('name').agg({\n",
    "    'id': 'count',\n",
    "    'rating': 'mean',\n",
    "    'category':'min'\n",
    "}).sort_values(by='id',ascending=False)\n",
    "\n",
    "top=top[0:15]\n",
    "top"
   ]
  },
  {
   "cell_type": "code",
   "execution_count": 43,
   "id": "d013c598",
   "metadata": {
    "id": "d013c598"
   },
   "outputs": [
    {
     "data": {
      "image/png": "[encoded data removed]",
      "text/plain": [
       "<Figure size 432x288 with 2 Axes>"
      ]
     },
     "metadata": {
      "needs_background": "light"
     },
     "output_type": "display_data"
    }
   ],
   "source": [
    "top.plot(kind='line',\n",
    "            subplots=True,\n",
    "            sharex=True,\n",
    "            sharey=False,\n",
    "            legend=False,\n",
    "            marker='o',\n",
    "            title=['Количество заведений', 'Рейтинг'])\n",
    "\n",
    "# Подписываем оси\n",
    "plt.xlabel('Название заведения')\n",
    "plt.xticks(rotation=45)\n",
    "plt.show()"
   ]
  },
  {
   "cell_type": "code",
   "execution_count": 44,
   "id": "774348d5",
   "metadata": {
    "id": "774348d5"
   },
   "outputs": [
    {
     "data": {
      "image/png": "[encoded data removed]",
      "text/plain": [
       "<Figure size 432x288 with 1 Axes>"
      ]
     },
     "metadata": {
      "needs_background": "light"
     },
     "output_type": "display_data"
    }
   ],
   "source": [
    "top['category'].value_counts().sort_values().plot(kind='barh',\n",
    "                                color='lightgreen',\n",
    "                                legend=False)\n",
    "plt.title('Распределение топ15-заведений по категориям')\n",
    "plt.xlabel('Количество заведений')\n",
    "plt.show()"
   ]
  },
  {
   "cell_type": "markdown",
   "id": "c9ab48ab-042a-4faa-a7b9-7fd58587e7c2",
   "metadata": {},
   "source": [
    "##### Вывод\n",
    "Лидирующее место в топ-15 сетевых завдеений занимает сеть пабов Кафе. Включает в себя 188 заведений со средним рейтингом 3.88. При распределении по категориям в топ-15 сетевых заведений входит по 3 кофейни, пиццерии и кафе. Это самые популярные категории сетевых заведений "
   ]
  },
  {
   "cell_type": "markdown",
   "id": "85a90a94",
   "metadata": {
    "id": "85a90a94"
   },
   "source": [
    "---\n",
    "\n",
    "### Задача 8\n",
    "\n",
    "Изучите вариацию среднего чека заведения (столбец `middle_avg_bill`) в зависимости от района Москвы. Проанализируйте цены в Центральном административном округе и других. Как удалённость от центра влияет на цены в заведениях? Результат сопроводите подходящими визуализациями.\n"
   ]
  },
  {
   "cell_type": "code",
   "execution_count": 45,
   "id": "5fb4ffc6",
   "metadata": {
    "id": "5fb4ffc6"
   },
   "outputs": [
    {
     "data": {
      "text/html": [
       "<div>\n",
       "<style scoped>\n",
       "    .dataframe tbody tr th:only-of-type {\n",
       "        vertical-align: middle;\n",
       "    }\n",
       "\n",
       "    .dataframe tbody tr th {\n",
       "        vertical-align: top;\n",
       "    }\n",
       "\n",
       "    .dataframe thead th {\n",
       "        text-align: right;\n",
       "    }\n",
       "</style>\n",
       "<table border=\"1\" class=\"dataframe\">\n",
       "  <thead>\n",
       "    <tr style=\"text-align: right;\">\n",
       "      <th></th>\n",
       "      <th>middle_avg_bill</th>\n",
       "    </tr>\n",
       "    <tr>\n",
       "      <th>district</th>\n",
       "      <th></th>\n",
       "    </tr>\n",
       "  </thead>\n",
       "  <tbody>\n",
       "    <tr>\n",
       "      <th>Центральный административный округ</th>\n",
       "      <td>1191.057495</td>\n",
       "    </tr>\n",
       "    <tr>\n",
       "      <th>Западный административный округ</th>\n",
       "      <td>1053.225464</td>\n",
       "    </tr>\n",
       "    <tr>\n",
       "      <th>Северный административный округ</th>\n",
       "      <td>927.959656</td>\n",
       "    </tr>\n",
       "    <tr>\n",
       "      <th>Южный административный округ</th>\n",
       "      <td>834.398071</td>\n",
       "    </tr>\n",
       "    <tr>\n",
       "      <th>Северо-Западный административный округ</th>\n",
       "      <td>822.222900</td>\n",
       "    </tr>\n",
       "    <tr>\n",
       "      <th>Восточный административный округ</th>\n",
       "      <td>820.626953</td>\n",
       "    </tr>\n",
       "    <tr>\n",
       "      <th>Юго-Западный административный округ</th>\n",
       "      <td>792.561707</td>\n",
       "    </tr>\n",
       "    <tr>\n",
       "      <th>Северо-Восточный административный округ</th>\n",
       "      <td>716.611267</td>\n",
       "    </tr>\n",
       "    <tr>\n",
       "      <th>Юго-Восточный административный округ</th>\n",
       "      <td>654.097961</td>\n",
       "    </tr>\n",
       "  </tbody>\n",
       "</table>\n",
       "</div>"
      ],
      "text/plain": [
       "                                         middle_avg_bill\n",
       "district                                                \n",
       "Центральный административный округ           1191.057495\n",
       "Западный административный округ              1053.225464\n",
       "Северный административный округ               927.959656\n",
       "Южный административный округ                  834.398071\n",
       "Северо-Западный административный округ        822.222900\n",
       "Восточный административный округ              820.626953\n",
       "Юго-Западный административный округ           792.561707\n",
       "Северо-Восточный административный округ       716.611267\n",
       "Юго-Восточный административный округ          654.097961"
      ]
     },
     "execution_count": 45,
     "metadata": {},
     "output_type": "execute_result"
    }
   ],
   "source": [
    "bill=df.groupby('district').agg({\n",
    "    'middle_avg_bill': 'mean'\n",
    "}).sort_values(by='middle_avg_bill', ascending=False)\n",
    "bill"
   ]
  },
  {
   "cell_type": "code",
   "execution_count": 46,
   "id": "b98066c1",
   "metadata": {
    "id": "b98066c1"
   },
   "outputs": [
    {
     "data": {
      "image/png": "[encoded data removed]",
      "text/plain": [
       "<Figure size 432x288 with 1 Axes>"
      ]
     },
     "metadata": {
      "needs_background": "light"
     },
     "output_type": "display_data"
    }
   ],
   "source": [
    "bill.plot(kind='line',\n",
    "          color='lightgreen',\n",
    "          legend=False,\n",
    "          marker='o')\n",
    "plt.title('Средний чек')\n",
    "plt.xticks(rotation=90)\n",
    "plt.show()"
   ]
  },
  {
   "cell_type": "code",
   "execution_count": 47,
   "id": "50596410-fbe8-4c06-90e7-a47af9ee21f6",
   "metadata": {},
   "outputs": [
    {
     "data": {
      "text/html": [
       "<div>\n",
       "<style scoped>\n",
       "    .dataframe tbody tr th:only-of-type {\n",
       "        vertical-align: middle;\n",
       "    }\n",
       "\n",
       "    .dataframe tbody tr th {\n",
       "        vertical-align: top;\n",
       "    }\n",
       "\n",
       "    .dataframe thead tr th {\n",
       "        text-align: left;\n",
       "    }\n",
       "\n",
       "    .dataframe thead tr:last-of-type th {\n",
       "        text-align: right;\n",
       "    }\n",
       "</style>\n",
       "<table border=\"1\" class=\"dataframe\">\n",
       "  <thead>\n",
       "    <tr>\n",
       "      <th></th>\n",
       "      <th colspan=\"2\" halign=\"left\">middle_avg_bill</th>\n",
       "    </tr>\n",
       "    <tr>\n",
       "      <th></th>\n",
       "      <th>mean</th>\n",
       "      <th>median</th>\n",
       "    </tr>\n",
       "    <tr>\n",
       "      <th>district</th>\n",
       "      <th></th>\n",
       "      <th></th>\n",
       "    </tr>\n",
       "  </thead>\n",
       "  <tbody>\n",
       "    <tr>\n",
       "      <th>Восточный административный округ</th>\n",
       "      <td>820.626953</td>\n",
       "      <td>575.0</td>\n",
       "    </tr>\n",
       "    <tr>\n",
       "      <th>Западный административный округ</th>\n",
       "      <td>1053.225464</td>\n",
       "      <td>1000.0</td>\n",
       "    </tr>\n",
       "    <tr>\n",
       "      <th>Северный административный округ</th>\n",
       "      <td>927.959656</td>\n",
       "      <td>650.0</td>\n",
       "    </tr>\n",
       "    <tr>\n",
       "      <th>Северо-Восточный административный округ</th>\n",
       "      <td>716.611267</td>\n",
       "      <td>500.0</td>\n",
       "    </tr>\n",
       "    <tr>\n",
       "      <th>Северо-Западный административный округ</th>\n",
       "      <td>822.222900</td>\n",
       "      <td>700.0</td>\n",
       "    </tr>\n",
       "    <tr>\n",
       "      <th>Центральный административный округ</th>\n",
       "      <td>1191.057495</td>\n",
       "      <td>1000.0</td>\n",
       "    </tr>\n",
       "    <tr>\n",
       "      <th>Юго-Восточный административный округ</th>\n",
       "      <td>654.097961</td>\n",
       "      <td>450.0</td>\n",
       "    </tr>\n",
       "    <tr>\n",
       "      <th>Юго-Западный административный округ</th>\n",
       "      <td>792.561707</td>\n",
       "      <td>600.0</td>\n",
       "    </tr>\n",
       "    <tr>\n",
       "      <th>Южный административный округ</th>\n",
       "      <td>834.398071</td>\n",
       "      <td>500.0</td>\n",
       "    </tr>\n",
       "  </tbody>\n",
       "</table>\n",
       "</div>"
      ],
      "text/plain": [
       "                                        middle_avg_bill        \n",
       "                                                   mean  median\n",
       "district                                                       \n",
       "Восточный административный округ             820.626953   575.0\n",
       "Западный административный округ             1053.225464  1000.0\n",
       "Северный административный округ              927.959656   650.0\n",
       "Северо-Восточный административный округ      716.611267   500.0\n",
       "Северо-Западный административный округ       822.222900   700.0\n",
       "Центральный административный округ          1191.057495  1000.0\n",
       "Юго-Восточный административный округ         654.097961   450.0\n",
       "Юго-Западный административный округ          792.561707   600.0\n",
       "Южный административный округ                 834.398071   500.0"
      ]
     },
     "execution_count": 47,
     "metadata": {},
     "output_type": "execute_result"
    }
   ],
   "source": [
    "bill2=df.groupby('district').agg({\n",
    "    'middle_avg_bill': ['mean','median']\n",
    "})\n",
    "bill2"
   ]
  },
  {
   "cell_type": "code",
   "execution_count": 48,
   "id": "41e1c857-20ab-4d37-b813-6f7919f37e5a",
   "metadata": {},
   "outputs": [
    {
     "data": {
      "image/png": "[encoded data removed]",
      "text/plain": [
       "<Figure size 432x288 with 1 Axes>"
      ]
     },
     "metadata": {
      "needs_background": "light"
     },
     "output_type": "display_data"
    }
   ],
   "source": [
    "bill2.plot(kind='bar', color=['lightgreen','yellow'])\n",
    "plt.legend(['mean', 'median'])\n",
    "plt.title('Средние и медианные цены по округам')\n",
    "plt.show()"
   ]
  },
  {
   "cell_type": "markdown",
   "id": "b1771b0c-90c4-4dbe-87ac-379822cd0282",
   "metadata": {},
   "source": [
    "##### Вывод\n",
    "Цены в Центральном административном округе значительно выше, чем в других округах. Больше всего средняя цена от медианной отличается в ЮАО (более 300руб)"
   ]
  },
  {
   "cell_type": "markdown",
   "id": "f2c54e9a",
   "metadata": {
    "id": "f2c54e9a"
   },
   "source": [
    "---\n",
    "\n",
    "### Промежуточный вывод\n",
    "\n",
    "Обобщите полученные результаты, выделив, по вашему мнению, самые важные."
   ]
  },
  {
   "cell_type": "markdown",
   "id": "3d77ad7b-ccca-43ad-9f79-6758de03f20c",
   "metadata": {
    "id": "c8869609"
   },
   "source": [
    "- Цены в Центральном административном округе значительно выше, чем в других округах.\n",
    "- В топ15 наиболее популярны заведения типа кафе, пиццерия и кофейня (по 3 заведения).\n",
    "- Самое популярное сетевое заведение Кафе (188 точек), средний рейтинг этой сети 3.88, категория паб,бар\n",
    "- Кофейня, пиццерия и булочная чаще являются сетевыми, в отличии от остальных категорий"
   ]
  },
  {
   "cell_type": "markdown",
   "id": "480f3422",
   "metadata": {
    "id": "480f3422"
   },
   "source": [
    "## 4. Итоговый вывод и рекомендации\n",
    "\n",
    "По результатам проведённого исследовательского анализа данных сформулируйте итоговый вывод и рекомендации для заказчика. Старайтесь акцентировать внимание на ключевых моментах исследования.\n",
    "\n",
    "При составлении вывода придерживайтесь такой структуры:\n",
    "\n",
    "1. Общий обзор проделанной работы.\n",
    "2. Ответы на исследовательские вопросы, или главные выводы.\n",
    "3. Рекомендации на основе анализа данных."
   ]
  },
  {
   "cell_type": "markdown",
   "id": "f5cc80a8-b3d5-4594-bdb5-0e31ce44a7a3",
   "metadata": {},
   "source": [
    "- Загружены и изучены данные.\n",
    "- Объединены в один дата фрейм два файла.\n",
    "- Проведен анализ и предобработка данных. У столбцов rating, seats, middle_avg_bill, middle_coffee_cup  скорректированы типы данных. В столбцах hours, price и avg_bill пропуски заменены на пустые строки. В адресах и именах регистр приведен к одинаковому для избежания дублирования. Удалены 4 дубликата\n",
    "- Добавлен новый столбец о работе круглосуточно.\n",
    "- Построены необходимые графики. Изучено количество заведений по категориям, количество заведений в ЦАО. Проанализирован средний рейтинг по категориям заведений. \n",
    "- Выведен ТОП-15 популярных сетей в Москве.\n",
    "- Проанализирован средний счет по заведениям, цены в ЦАО выше, чем  других округах. Наибольшая разница между медианной и среднрей ценой наблюдается в ЮАО"
   ]
  }
 ],
 "metadata": {
  "ExecuteTimeLog": [
   {
    "duration": 4969,
    "start_time": "2025-04-09T09:49:53.126Z"
   },
   {
    "duration": 200,
    "start_time": "2025-04-09T09:49:58.097Z"
   },
   {
    "duration": 16,
    "start_time": "2025-04-09T09:49:58.299Z"
   },
   {
    "duration": 14,
    "start_time": "2025-04-09T09:49:58.317Z"
   },
   {
    "duration": 8,
    "start_time": "2025-04-09T09:49:58.333Z"
   },
   {
    "duration": 10,
    "start_time": "2025-04-09T09:49:58.343Z"
   },
   {
    "duration": 21,
    "start_time": "2025-04-09T09:49:58.360Z"
   },
   {
    "duration": 14,
    "start_time": "2025-04-09T09:49:58.382Z"
   },
   {
    "duration": 5,
    "start_time": "2025-04-09T09:49:58.398Z"
   },
   {
    "duration": 5,
    "start_time": "2025-04-09T09:49:58.406Z"
   },
   {
    "duration": 15,
    "start_time": "2025-04-09T09:49:58.413Z"
   },
   {
    "duration": 38,
    "start_time": "2025-04-09T09:49:58.429Z"
   },
   {
    "duration": 75,
    "start_time": "2025-04-09T09:49:58.469Z"
   },
   {
    "duration": 17,
    "start_time": "2025-04-09T09:49:58.545Z"
   },
   {
    "duration": 9,
    "start_time": "2025-04-09T09:49:58.563Z"
   },
   {
    "duration": 11,
    "start_time": "2025-04-09T09:49:58.573Z"
   },
   {
    "duration": 17,
    "start_time": "2025-04-09T09:49:58.585Z"
   },
   {
    "duration": 23,
    "start_time": "2025-04-09T09:49:58.604Z"
   },
   {
    "duration": 56,
    "start_time": "2025-04-09T09:49:58.629Z"
   },
   {
    "duration": 6,
    "start_time": "2025-04-09T09:49:58.686Z"
   },
   {
    "duration": 181,
    "start_time": "2025-04-09T09:49:58.694Z"
   },
   {
    "duration": 6,
    "start_time": "2025-04-09T09:49:58.877Z"
   },
   {
    "duration": 288,
    "start_time": "2025-04-09T09:49:58.885Z"
   },
   {
    "duration": 170,
    "start_time": "2025-04-09T09:49:59.175Z"
   },
   {
    "duration": 215,
    "start_time": "2025-04-09T09:49:59.347Z"
   },
   {
    "duration": 119,
    "start_time": "2025-04-09T09:49:59.564Z"
   },
   {
    "duration": 192,
    "start_time": "2025-04-09T09:49:59.685Z"
   },
   {
    "duration": 150,
    "start_time": "2025-04-09T09:49:59.881Z"
   },
   {
    "duration": 258,
    "start_time": "2025-04-09T09:50:00.033Z"
   },
   {
    "duration": 898,
    "start_time": "2025-04-09T09:50:00.292Z"
   },
   {
    "duration": 417,
    "start_time": "2025-04-09T09:50:01.191Z"
   },
   {
    "duration": 250,
    "start_time": "2025-04-09T09:50:01.610Z"
   },
   {
    "duration": 158,
    "start_time": "2025-04-09T09:50:01.862Z"
   },
   {
    "duration": 13,
    "start_time": "2025-04-09T09:50:02.023Z"
   },
   {
    "duration": 226,
    "start_time": "2025-04-09T09:50:02.039Z"
   },
   {
    "duration": 6,
    "start_time": "2025-04-09T09:53:21.565Z"
   },
   {
    "duration": 13,
    "start_time": "2025-04-09T09:53:47.125Z"
   },
   {
    "duration": 4863,
    "start_time": "2025-04-12T04:57:07.777Z"
   },
   {
    "duration": 199,
    "start_time": "2025-04-12T04:57:12.642Z"
   },
   {
    "duration": 19,
    "start_time": "2025-04-12T04:57:12.842Z"
   },
   {
    "duration": 14,
    "start_time": "2025-04-12T04:57:12.863Z"
   },
   {
    "duration": 11,
    "start_time": "2025-04-12T04:57:12.879Z"
   },
   {
    "duration": 25,
    "start_time": "2025-04-12T04:57:12.891Z"
   },
   {
    "duration": 23,
    "start_time": "2025-04-12T04:57:12.918Z"
   },
   {
    "duration": 15,
    "start_time": "2025-04-12T04:57:12.943Z"
   },
   {
    "duration": 7,
    "start_time": "2025-04-12T04:57:12.959Z"
   },
   {
    "duration": 11,
    "start_time": "2025-04-12T04:57:12.967Z"
   },
   {
    "duration": 98,
    "start_time": "2025-04-12T04:57:12.980Z"
   },
   {
    "duration": 11,
    "start_time": "2025-04-12T04:57:13.079Z"
   },
   {
    "duration": 12,
    "start_time": "2025-04-12T04:57:13.091Z"
   },
   {
    "duration": 11,
    "start_time": "2025-04-12T04:57:13.106Z"
   },
   {
    "duration": 17,
    "start_time": "2025-04-12T04:57:13.119Z"
   },
   {
    "duration": 9,
    "start_time": "2025-04-12T04:57:13.138Z"
   },
   {
    "duration": 13,
    "start_time": "2025-04-12T04:57:13.149Z"
   },
   {
    "duration": 48,
    "start_time": "2025-04-12T04:57:13.164Z"
   },
   {
    "duration": 26,
    "start_time": "2025-04-12T04:57:13.214Z"
   },
   {
    "duration": 8,
    "start_time": "2025-04-12T04:57:13.241Z"
   },
   {
    "duration": 10,
    "start_time": "2025-04-12T04:57:13.251Z"
   },
   {
    "duration": 44,
    "start_time": "2025-04-12T04:57:13.262Z"
   },
   {
    "duration": 29,
    "start_time": "2025-04-12T04:57:13.308Z"
   },
   {
    "duration": 7,
    "start_time": "2025-04-12T04:57:13.339Z"
   },
   {
    "duration": 196,
    "start_time": "2025-04-12T04:57:13.347Z"
   },
   {
    "duration": 6,
    "start_time": "2025-04-12T04:57:13.545Z"
   },
   {
    "duration": 195,
    "start_time": "2025-04-12T04:57:13.552Z"
   },
   {
    "duration": 186,
    "start_time": "2025-04-12T04:57:13.749Z"
   },
   {
    "duration": 216,
    "start_time": "2025-04-12T04:57:13.937Z"
   },
   {
    "duration": 6,
    "start_time": "2025-04-12T04:57:14.155Z"
   },
   {
    "duration": 134,
    "start_time": "2025-04-12T04:57:14.162Z"
   },
   {
    "duration": 28,
    "start_time": "2025-04-12T04:57:14.299Z"
   },
   {
    "duration": 185,
    "start_time": "2025-04-12T04:57:14.328Z"
   },
   {
    "duration": 128,
    "start_time": "2025-04-12T04:57:14.515Z"
   },
   {
    "duration": 285,
    "start_time": "2025-04-12T04:57:14.644Z"
   },
   {
    "duration": 161,
    "start_time": "2025-04-12T04:57:14.931Z"
   },
   {
    "duration": 20,
    "start_time": "2025-04-12T04:57:15.094Z"
   },
   {
    "duration": 163,
    "start_time": "2025-04-12T04:57:15.116Z"
   },
   {
    "duration": 897,
    "start_time": "2025-04-12T04:57:15.281Z"
   },
   {
    "duration": 183,
    "start_time": "2025-04-12T04:57:16.180Z"
   },
   {
    "duration": 424,
    "start_time": "2025-04-12T04:57:16.368Z"
   },
   {
    "duration": 228,
    "start_time": "2025-04-12T04:57:16.795Z"
   },
   {
    "duration": 159,
    "start_time": "2025-04-12T04:57:17.024Z"
   },
   {
    "duration": 11,
    "start_time": "2025-04-12T04:57:17.185Z"
   },
   {
    "duration": 192,
    "start_time": "2025-04-12T04:57:17.206Z"
   },
   {
    "duration": 15,
    "start_time": "2025-04-12T04:57:17.400Z"
   },
   {
    "duration": 288,
    "start_time": "2025-04-12T04:57:17.417Z"
   },
   {
    "duration": 6,
    "start_time": "2025-04-12T04:57:36.709Z"
   },
   {
    "duration": 37,
    "start_time": "2025-04-12T05:01:30.517Z"
   },
   {
    "duration": 18,
    "start_time": "2025-04-12T05:03:57.453Z"
   },
   {
    "duration": 1559,
    "start_time": "2025-04-12T05:05:14.559Z"
   },
   {
    "duration": 1578,
    "start_time": "2025-04-12T05:05:26.680Z"
   },
   {
    "duration": 4089,
    "start_time": "2025-04-12T05:05:54.226Z"
   },
   {
    "duration": 156,
    "start_time": "2025-04-12T05:05:58.317Z"
   },
   {
    "duration": 17,
    "start_time": "2025-04-12T05:05:58.475Z"
   },
   {
    "duration": 32,
    "start_time": "2025-04-12T05:05:58.494Z"
   },
   {
    "duration": 14,
    "start_time": "2025-04-12T05:05:58.528Z"
   },
   {
    "duration": 13,
    "start_time": "2025-04-12T05:05:58.544Z"
   },
   {
    "duration": 23,
    "start_time": "2025-04-12T05:05:58.560Z"
   },
   {
    "duration": 26,
    "start_time": "2025-04-12T05:05:58.585Z"
   },
   {
    "duration": 30,
    "start_time": "2025-04-12T05:05:58.613Z"
   },
   {
    "duration": 7,
    "start_time": "2025-04-12T05:05:58.646Z"
   },
   {
    "duration": 22,
    "start_time": "2025-04-12T05:05:58.654Z"
   },
   {
    "duration": 9,
    "start_time": "2025-04-12T05:05:58.678Z"
   },
   {
    "duration": 39,
    "start_time": "2025-04-12T05:05:58.689Z"
   },
   {
    "duration": 26,
    "start_time": "2025-04-12T05:05:58.730Z"
   },
   {
    "duration": 27,
    "start_time": "2025-04-12T05:05:58.758Z"
   },
   {
    "duration": 10,
    "start_time": "2025-04-12T05:05:58.787Z"
   },
   {
    "duration": 12,
    "start_time": "2025-04-12T05:05:58.799Z"
   },
   {
    "duration": 21,
    "start_time": "2025-04-12T05:05:58.813Z"
   },
   {
    "duration": 26,
    "start_time": "2025-04-12T05:05:58.837Z"
   },
   {
    "duration": 10,
    "start_time": "2025-04-12T05:05:58.865Z"
   },
   {
    "duration": 32,
    "start_time": "2025-04-12T05:05:58.877Z"
   },
   {
    "duration": 9,
    "start_time": "2025-04-12T05:05:58.911Z"
   },
   {
    "duration": 31,
    "start_time": "2025-04-12T05:05:58.921Z"
   },
   {
    "duration": 7,
    "start_time": "2025-04-12T05:05:58.953Z"
   },
   {
    "duration": 202,
    "start_time": "2025-04-12T05:05:58.961Z"
   },
   {
    "duration": 6,
    "start_time": "2025-04-12T05:05:59.165Z"
   },
   {
    "duration": 197,
    "start_time": "2025-04-12T05:05:59.173Z"
   },
   {
    "duration": 188,
    "start_time": "2025-04-12T05:05:59.375Z"
   },
   {
    "duration": 215,
    "start_time": "2025-04-12T05:05:59.565Z"
   },
   {
    "duration": 8,
    "start_time": "2025-04-12T05:05:59.782Z"
   },
   {
    "duration": 123,
    "start_time": "2025-04-12T05:05:59.804Z"
   },
   {
    "duration": 121,
    "start_time": "2025-04-12T05:05:59.929Z"
   },
   {
    "duration": 0,
    "start_time": "2025-04-12T05:06:00.053Z"
   },
   {
    "duration": 0,
    "start_time": "2025-04-12T05:06:00.054Z"
   },
   {
    "duration": 0,
    "start_time": "2025-04-12T05:06:00.055Z"
   },
   {
    "duration": 0,
    "start_time": "2025-04-12T05:06:00.057Z"
   },
   {
    "duration": 0,
    "start_time": "2025-04-12T05:06:00.059Z"
   },
   {
    "duration": 0,
    "start_time": "2025-04-12T05:06:00.061Z"
   },
   {
    "duration": 0,
    "start_time": "2025-04-12T05:06:00.062Z"
   },
   {
    "duration": 0,
    "start_time": "2025-04-12T05:06:00.064Z"
   },
   {
    "duration": 0,
    "start_time": "2025-04-12T05:06:00.065Z"
   },
   {
    "duration": 0,
    "start_time": "2025-04-12T05:06:00.067Z"
   },
   {
    "duration": 0,
    "start_time": "2025-04-12T05:06:00.069Z"
   },
   {
    "duration": 0,
    "start_time": "2025-04-12T05:06:00.070Z"
   },
   {
    "duration": 0,
    "start_time": "2025-04-12T05:06:00.072Z"
   },
   {
    "duration": 0,
    "start_time": "2025-04-12T05:06:00.106Z"
   },
   {
    "duration": 0,
    "start_time": "2025-04-12T05:06:00.108Z"
   },
   {
    "duration": 0,
    "start_time": "2025-04-12T05:06:00.109Z"
   },
   {
    "duration": 15,
    "start_time": "2025-04-12T05:06:05.845Z"
   },
   {
    "duration": 5,
    "start_time": "2025-04-12T05:06:12.129Z"
   },
   {
    "duration": 4,
    "start_time": "2025-04-12T05:06:18.240Z"
   },
   {
    "duration": 23,
    "start_time": "2025-04-12T05:06:44.850Z"
   },
   {
    "duration": 4103,
    "start_time": "2025-04-12T05:07:02.933Z"
   },
   {
    "duration": 181,
    "start_time": "2025-04-12T05:07:07.039Z"
   },
   {
    "duration": 17,
    "start_time": "2025-04-12T05:07:07.221Z"
   },
   {
    "duration": 79,
    "start_time": "2025-04-12T05:07:07.240Z"
   },
   {
    "duration": 19,
    "start_time": "2025-04-12T05:07:07.321Z"
   },
   {
    "duration": 16,
    "start_time": "2025-04-12T05:07:07.342Z"
   },
   {
    "duration": 49,
    "start_time": "2025-04-12T05:07:07.360Z"
   },
   {
    "duration": 45,
    "start_time": "2025-04-12T05:07:07.411Z"
   },
   {
    "duration": 75,
    "start_time": "2025-04-12T05:07:07.458Z"
   },
   {
    "duration": 6,
    "start_time": "2025-04-12T05:07:07.535Z"
   },
   {
    "duration": 14,
    "start_time": "2025-04-12T05:07:07.543Z"
   },
   {
    "duration": 10,
    "start_time": "2025-04-12T05:07:07.559Z"
   },
   {
    "duration": 39,
    "start_time": "2025-04-12T05:07:07.571Z"
   },
   {
    "duration": 11,
    "start_time": "2025-04-12T05:07:07.613Z"
   },
   {
    "duration": 28,
    "start_time": "2025-04-12T05:07:07.625Z"
   },
   {
    "duration": 15,
    "start_time": "2025-04-12T05:07:07.655Z"
   },
   {
    "duration": 38,
    "start_time": "2025-04-12T05:07:07.672Z"
   },
   {
    "duration": 23,
    "start_time": "2025-04-12T05:07:07.712Z"
   },
   {
    "duration": 26,
    "start_time": "2025-04-12T05:07:07.737Z"
   },
   {
    "duration": 9,
    "start_time": "2025-04-12T05:07:07.765Z"
   },
   {
    "duration": 30,
    "start_time": "2025-04-12T05:07:07.775Z"
   },
   {
    "duration": 78,
    "start_time": "2025-04-12T05:07:07.807Z"
   },
   {
    "duration": 30,
    "start_time": "2025-04-12T05:07:07.887Z"
   },
   {
    "duration": 7,
    "start_time": "2025-04-12T05:07:07.919Z"
   },
   {
    "duration": 186,
    "start_time": "2025-04-12T05:07:07.927Z"
   },
   {
    "duration": 6,
    "start_time": "2025-04-12T05:07:08.115Z"
   },
   {
    "duration": 204,
    "start_time": "2025-04-12T05:07:08.123Z"
   },
   {
    "duration": 187,
    "start_time": "2025-04-12T05:07:08.328Z"
   },
   {
    "duration": 212,
    "start_time": "2025-04-12T05:07:08.517Z"
   },
   {
    "duration": 8,
    "start_time": "2025-04-12T05:07:08.730Z"
   },
   {
    "duration": 191,
    "start_time": "2025-04-12T05:07:08.739Z"
   },
   {
    "duration": 24,
    "start_time": "2025-04-12T05:07:08.932Z"
   },
   {
    "duration": 196,
    "start_time": "2025-04-12T05:07:08.958Z"
   },
   {
    "duration": 148,
    "start_time": "2025-04-12T05:07:09.156Z"
   },
   {
    "duration": 287,
    "start_time": "2025-04-12T05:07:09.307Z"
   },
   {
    "duration": 160,
    "start_time": "2025-04-12T05:07:09.596Z"
   },
   {
    "duration": 13,
    "start_time": "2025-04-12T05:07:09.758Z"
   },
   {
    "duration": 168,
    "start_time": "2025-04-12T05:07:09.773Z"
   },
   {
    "duration": 911,
    "start_time": "2025-04-12T05:07:09.943Z"
   },
   {
    "duration": 183,
    "start_time": "2025-04-12T05:07:10.856Z"
   },
   {
    "duration": 457,
    "start_time": "2025-04-12T05:07:11.043Z"
   },
   {
    "duration": 227,
    "start_time": "2025-04-12T05:07:11.505Z"
   },
   {
    "duration": 161,
    "start_time": "2025-04-12T05:07:11.734Z"
   },
   {
    "duration": 16,
    "start_time": "2025-04-12T05:07:11.897Z"
   },
   {
    "duration": 203,
    "start_time": "2025-04-12T05:07:11.914Z"
   },
   {
    "duration": 13,
    "start_time": "2025-04-12T05:07:12.119Z"
   },
   {
    "duration": 256,
    "start_time": "2025-04-12T05:07:12.134Z"
   },
   {
    "duration": 65,
    "start_time": "2025-04-12T05:14:27.537Z"
   },
   {
    "duration": 5005,
    "start_time": "2025-04-12T05:14:36.247Z"
   },
   {
    "duration": 224,
    "start_time": "2025-04-12T05:14:45.991Z"
   },
   {
    "duration": 19,
    "start_time": "2025-04-12T05:14:49.239Z"
   },
   {
    "duration": 3972,
    "start_time": "2025-04-12T05:15:02.591Z"
   },
   {
    "duration": 244,
    "start_time": "2025-04-12T05:15:06.565Z"
   },
   {
    "duration": 18,
    "start_time": "2025-04-12T05:15:06.811Z"
   },
   {
    "duration": 18,
    "start_time": "2025-04-12T05:15:06.831Z"
   },
   {
    "duration": 51,
    "start_time": "2025-04-12T05:15:06.851Z"
   },
   {
    "duration": 29,
    "start_time": "2025-04-12T05:15:06.904Z"
   },
   {
    "duration": 25,
    "start_time": "2025-04-12T05:15:06.935Z"
   },
   {
    "duration": 64,
    "start_time": "2025-04-12T05:15:06.962Z"
   },
   {
    "duration": 35,
    "start_time": "2025-04-12T05:15:07.027Z"
   },
   {
    "duration": 44,
    "start_time": "2025-04-12T05:15:07.065Z"
   },
   {
    "duration": 20,
    "start_time": "2025-04-12T05:15:07.111Z"
   },
   {
    "duration": 11,
    "start_time": "2025-04-12T05:15:07.133Z"
   },
   {
    "duration": 25,
    "start_time": "2025-04-12T05:15:07.146Z"
   },
   {
    "duration": 14,
    "start_time": "2025-04-12T05:15:07.172Z"
   },
   {
    "duration": 32,
    "start_time": "2025-04-12T05:15:07.188Z"
   },
   {
    "duration": 9,
    "start_time": "2025-04-12T05:15:07.222Z"
   },
   {
    "duration": 14,
    "start_time": "2025-04-12T05:15:07.233Z"
   },
   {
    "duration": 34,
    "start_time": "2025-04-12T05:15:07.249Z"
   },
   {
    "duration": 60,
    "start_time": "2025-04-12T05:15:07.284Z"
   },
   {
    "duration": 15,
    "start_time": "2025-04-12T05:15:07.347Z"
   },
   {
    "duration": 20,
    "start_time": "2025-04-12T05:15:07.364Z"
   },
   {
    "duration": 37,
    "start_time": "2025-04-12T05:15:07.386Z"
   },
   {
    "duration": 45,
    "start_time": "2025-04-12T05:15:07.425Z"
   },
   {
    "duration": 96,
    "start_time": "2025-04-12T05:15:07.471Z"
   },
   {
    "duration": 193,
    "start_time": "2025-04-12T05:15:07.569Z"
   },
   {
    "duration": 7,
    "start_time": "2025-04-12T05:15:07.764Z"
   },
   {
    "duration": 222,
    "start_time": "2025-04-12T05:15:07.772Z"
   },
   {
    "duration": 172,
    "start_time": "2025-04-12T05:15:08.003Z"
   },
   {
    "duration": 231,
    "start_time": "2025-04-12T05:15:08.177Z"
   },
   {
    "duration": 7,
    "start_time": "2025-04-12T05:15:08.410Z"
   },
   {
    "duration": 213,
    "start_time": "2025-04-12T05:15:08.419Z"
   },
   {
    "duration": 23,
    "start_time": "2025-04-12T05:15:08.634Z"
   },
   {
    "duration": 173,
    "start_time": "2025-04-12T05:15:08.659Z"
   },
   {
    "duration": 132,
    "start_time": "2025-04-12T05:15:08.834Z"
   },
   {
    "duration": 286,
    "start_time": "2025-04-12T05:15:08.968Z"
   },
   {
    "duration": 156,
    "start_time": "2025-04-12T05:15:09.256Z"
   },
   {
    "duration": 14,
    "start_time": "2025-04-12T05:15:09.414Z"
   },
   {
    "duration": 175,
    "start_time": "2025-04-12T05:15:09.429Z"
   },
   {
    "duration": 974,
    "start_time": "2025-04-12T05:15:09.606Z"
   },
   {
    "duration": 180,
    "start_time": "2025-04-12T05:15:10.582Z"
   },
   {
    "duration": 431,
    "start_time": "2025-04-12T05:15:10.763Z"
   },
   {
    "duration": 245,
    "start_time": "2025-04-12T05:15:11.196Z"
   },
   {
    "duration": 166,
    "start_time": "2025-04-12T05:15:11.443Z"
   },
   {
    "duration": 16,
    "start_time": "2025-04-12T05:15:11.611Z"
   },
   {
    "duration": 264,
    "start_time": "2025-04-12T05:15:11.629Z"
   },
   {
    "duration": 20,
    "start_time": "2025-04-12T05:15:11.896Z"
   },
   {
    "duration": 391,
    "start_time": "2025-04-12T05:15:11.917Z"
   },
   {
    "duration": 7,
    "start_time": "2025-04-12T05:25:58.568Z"
   },
   {
    "duration": 7,
    "start_time": "2025-04-12T05:26:26.933Z"
   },
   {
    "duration": 7,
    "start_time": "2025-04-12T05:26:39.384Z"
   },
   {
    "duration": 110,
    "start_time": "2025-04-12T05:26:53.723Z"
   },
   {
    "duration": 12,
    "start_time": "2025-04-12T05:27:05.566Z"
   },
   {
    "duration": 139,
    "start_time": "2025-04-12T05:27:14.330Z"
   },
   {
    "duration": 227,
    "start_time": "2025-04-12T05:27:36.584Z"
   },
   {
    "duration": 125,
    "start_time": "2025-04-12T05:27:43.071Z"
   },
   {
    "duration": 12,
    "start_time": "2025-04-12T05:28:11.764Z"
   },
   {
    "duration": 12,
    "start_time": "2025-04-12T05:28:41.978Z"
   },
   {
    "duration": 129,
    "start_time": "2025-04-12T05:30:01.216Z"
   },
   {
    "duration": 119,
    "start_time": "2025-04-12T05:30:14.668Z"
   },
   {
    "duration": 121,
    "start_time": "2025-04-12T05:34:32.267Z"
   },
   {
    "duration": 12,
    "start_time": "2025-04-12T05:36:54.837Z"
   },
   {
    "duration": 14,
    "start_time": "2025-04-12T05:37:59.595Z"
   },
   {
    "duration": 164,
    "start_time": "2025-04-12T05:38:08.788Z"
   },
   {
    "duration": 124,
    "start_time": "2025-04-12T05:38:27.617Z"
   },
   {
    "duration": 172,
    "start_time": "2025-04-12T05:38:30.894Z"
   },
   {
    "duration": 235,
    "start_time": "2025-04-12T05:39:06.827Z"
   },
   {
    "duration": 189,
    "start_time": "2025-04-12T05:39:28.159Z"
   },
   {
    "duration": 3913,
    "start_time": "2025-04-12T05:44:14.438Z"
   },
   {
    "duration": 217,
    "start_time": "2025-04-12T05:44:18.354Z"
   },
   {
    "duration": 20,
    "start_time": "2025-04-12T05:44:18.573Z"
   },
   {
    "duration": 58,
    "start_time": "2025-04-12T05:44:18.596Z"
   },
   {
    "duration": 13,
    "start_time": "2025-04-12T05:44:18.657Z"
   },
   {
    "duration": 13,
    "start_time": "2025-04-12T05:44:18.672Z"
   },
   {
    "duration": 32,
    "start_time": "2025-04-12T05:44:18.687Z"
   },
   {
    "duration": 16,
    "start_time": "2025-04-12T05:44:18.721Z"
   },
   {
    "duration": 7,
    "start_time": "2025-04-12T05:44:18.740Z"
   },
   {
    "duration": 6,
    "start_time": "2025-04-12T05:44:18.751Z"
   },
   {
    "duration": 46,
    "start_time": "2025-04-12T05:44:18.759Z"
   },
   {
    "duration": 12,
    "start_time": "2025-04-12T05:44:18.807Z"
   },
   {
    "duration": 13,
    "start_time": "2025-04-12T05:44:18.821Z"
   },
   {
    "duration": 12,
    "start_time": "2025-04-12T05:44:18.835Z"
   },
   {
    "duration": 26,
    "start_time": "2025-04-12T05:44:18.848Z"
   },
   {
    "duration": 35,
    "start_time": "2025-04-12T05:44:18.876Z"
   },
   {
    "duration": 12,
    "start_time": "2025-04-12T05:44:18.913Z"
   },
   {
    "duration": 19,
    "start_time": "2025-04-12T05:44:18.927Z"
   },
   {
    "duration": 57,
    "start_time": "2025-04-12T05:44:18.947Z"
   },
   {
    "duration": 9,
    "start_time": "2025-04-12T05:44:19.006Z"
   },
   {
    "duration": 20,
    "start_time": "2025-04-12T05:44:19.017Z"
   },
   {
    "duration": 22,
    "start_time": "2025-04-12T05:44:19.039Z"
   },
   {
    "duration": 43,
    "start_time": "2025-04-12T05:44:19.062Z"
   },
   {
    "duration": 8,
    "start_time": "2025-04-12T05:44:19.107Z"
   },
   {
    "duration": 248,
    "start_time": "2025-04-12T05:44:19.117Z"
   },
   {
    "duration": 6,
    "start_time": "2025-04-12T05:44:19.367Z"
   },
   {
    "duration": 192,
    "start_time": "2025-04-12T05:44:19.375Z"
   },
   {
    "duration": 173,
    "start_time": "2025-04-12T05:44:19.570Z"
   },
   {
    "duration": 217,
    "start_time": "2025-04-12T05:44:19.745Z"
   },
   {
    "duration": 8,
    "start_time": "2025-04-12T05:44:19.963Z"
   },
   {
    "duration": 340,
    "start_time": "2025-04-12T05:44:19.973Z"
   },
   {
    "duration": 24,
    "start_time": "2025-04-12T05:44:20.315Z"
   },
   {
    "duration": 231,
    "start_time": "2025-04-12T05:44:20.341Z"
   },
   {
    "duration": 120,
    "start_time": "2025-04-12T05:44:20.574Z"
   },
   {
    "duration": 281,
    "start_time": "2025-04-12T05:44:20.695Z"
   },
   {
    "duration": 149,
    "start_time": "2025-04-12T05:44:20.978Z"
   },
   {
    "duration": 12,
    "start_time": "2025-04-12T05:44:21.129Z"
   },
   {
    "duration": 194,
    "start_time": "2025-04-12T05:44:21.143Z"
   },
   {
    "duration": 918,
    "start_time": "2025-04-12T05:44:21.338Z"
   },
   {
    "duration": 13,
    "start_time": "2025-04-12T05:44:22.257Z"
   },
   {
    "duration": 174,
    "start_time": "2025-04-12T05:44:22.272Z"
   },
   {
    "duration": 415,
    "start_time": "2025-04-12T05:44:22.448Z"
   },
   {
    "duration": 220,
    "start_time": "2025-04-12T05:44:22.865Z"
   },
   {
    "duration": 161,
    "start_time": "2025-04-12T05:44:23.086Z"
   },
   {
    "duration": 11,
    "start_time": "2025-04-12T05:44:23.249Z"
   },
   {
    "duration": 200,
    "start_time": "2025-04-12T05:44:23.262Z"
   },
   {
    "duration": 14,
    "start_time": "2025-04-12T05:44:23.464Z"
   },
   {
    "duration": 245,
    "start_time": "2025-04-12T05:44:23.480Z"
   },
   {
    "duration": 4065,
    "start_time": "2025-04-12T06:23:51.825Z"
   },
   {
    "duration": 183,
    "start_time": "2025-04-12T06:23:55.892Z"
   },
   {
    "duration": 28,
    "start_time": "2025-04-12T06:23:56.078Z"
   },
   {
    "duration": 72,
    "start_time": "2025-04-12T06:23:56.110Z"
   },
   {
    "duration": 10,
    "start_time": "2025-04-12T06:23:56.184Z"
   },
   {
    "duration": 43,
    "start_time": "2025-04-12T06:23:56.196Z"
   },
   {
    "duration": 43,
    "start_time": "2025-04-12T06:23:56.241Z"
   },
   {
    "duration": 16,
    "start_time": "2025-04-12T06:23:56.286Z"
   },
   {
    "duration": 15,
    "start_time": "2025-04-12T06:23:56.304Z"
   },
   {
    "duration": 28,
    "start_time": "2025-04-12T06:23:56.321Z"
   },
   {
    "duration": 30,
    "start_time": "2025-04-12T06:23:56.350Z"
   },
   {
    "duration": 36,
    "start_time": "2025-04-12T06:23:56.381Z"
   },
   {
    "duration": 72,
    "start_time": "2025-04-12T06:23:56.419Z"
   },
   {
    "duration": 48,
    "start_time": "2025-04-12T06:23:56.493Z"
   },
   {
    "duration": 40,
    "start_time": "2025-04-12T06:23:56.542Z"
   },
   {
    "duration": 10,
    "start_time": "2025-04-12T06:23:56.584Z"
   },
   {
    "duration": 30,
    "start_time": "2025-04-12T06:23:56.596Z"
   },
   {
    "duration": 33,
    "start_time": "2025-04-12T06:23:56.629Z"
   },
   {
    "duration": 26,
    "start_time": "2025-04-12T06:23:56.664Z"
   },
   {
    "duration": 29,
    "start_time": "2025-04-12T06:23:56.692Z"
   },
   {
    "duration": 13,
    "start_time": "2025-04-12T06:23:56.722Z"
   },
   {
    "duration": 8,
    "start_time": "2025-04-12T06:23:56.737Z"
   },
   {
    "duration": 30,
    "start_time": "2025-04-12T06:23:56.747Z"
   },
   {
    "duration": 12,
    "start_time": "2025-04-12T06:23:56.778Z"
   },
   {
    "duration": 182,
    "start_time": "2025-04-12T06:23:56.791Z"
   },
   {
    "duration": 7,
    "start_time": "2025-04-12T06:23:56.974Z"
   },
   {
    "duration": 194,
    "start_time": "2025-04-12T06:23:56.983Z"
   },
   {
    "duration": 174,
    "start_time": "2025-04-12T06:23:57.181Z"
   },
   {
    "duration": 218,
    "start_time": "2025-04-12T06:23:57.357Z"
   },
   {
    "duration": 8,
    "start_time": "2025-04-12T06:23:57.577Z"
   },
   {
    "duration": 139,
    "start_time": "2025-04-12T06:23:57.587Z"
   },
   {
    "duration": 25,
    "start_time": "2025-04-12T06:23:57.728Z"
   },
   {
    "duration": 184,
    "start_time": "2025-04-12T06:23:57.755Z"
   },
   {
    "duration": 123,
    "start_time": "2025-04-12T06:23:57.940Z"
   },
   {
    "duration": 294,
    "start_time": "2025-04-12T06:23:58.065Z"
   },
   {
    "duration": 149,
    "start_time": "2025-04-12T06:23:58.361Z"
   },
   {
    "duration": 12,
    "start_time": "2025-04-12T06:23:58.512Z"
   },
   {
    "duration": 163,
    "start_time": "2025-04-12T06:23:58.526Z"
   },
   {
    "duration": 880,
    "start_time": "2025-04-12T06:23:58.691Z"
   },
   {
    "duration": 15,
    "start_time": "2025-04-12T06:23:59.573Z"
   },
   {
    "duration": 179,
    "start_time": "2025-04-12T06:23:59.590Z"
   },
   {
    "duration": 467,
    "start_time": "2025-04-12T06:23:59.771Z"
   },
   {
    "duration": 229,
    "start_time": "2025-04-12T06:24:00.239Z"
   },
   {
    "duration": 160,
    "start_time": "2025-04-12T06:24:00.470Z"
   },
   {
    "duration": 12,
    "start_time": "2025-04-12T06:24:00.632Z"
   },
   {
    "duration": 202,
    "start_time": "2025-04-12T06:24:00.645Z"
   },
   {
    "duration": 13,
    "start_time": "2025-04-12T06:24:00.849Z"
   },
   {
    "duration": 261,
    "start_time": "2025-04-12T06:24:00.864Z"
   }
  ],
  "colab": {
   "provenance": []
  },
  "kernelspec": {
   "display_name": "Python [conda env:base] *",
   "language": "python",
   "name": "conda-base-py"
  },
  "language_info": {
   "codemirror_mode": {
    "name": "ipython",
    "version": 3
   },
   "file_extension": ".py",
   "mimetype": "text/x-python",
   "name": "python",
   "nbconvert_exporter": "python",
   "pygments_lexer": "ipython3",
   "version": "3.12.7"
  },
  "toc": {
   "base_numbering": 1,
   "nav_menu": {},
   "number_sections": true,
   "sideBar": true,
   "skip_h1_title": true,
   "title_cell": "Table of Contents",
   "title_sidebar": "Contents",
   "toc_cell": false,
   "toc_position": {},
   "toc_section_display": true,
   "toc_window_display": false
  }
 },
 "nbformat": 4,
 "nbformat_minor": 5
}
