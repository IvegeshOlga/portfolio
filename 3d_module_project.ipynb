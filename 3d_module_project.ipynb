{
 "cells": [
  {
   "cell_type": "markdown",
   "id": "_E41Wr5fqnFT",
   "metadata": {
    "id": "_E41Wr5fqnFT"
   },
   "source": [
    "# Часть 1. Проверка гипотезы в Python и составление аналитической записки"
   ]
  },
  {
   "cell_type": "markdown",
   "id": "Z5_6nf-FrY7o",
   "metadata": {
    "id": "Z5_6nf-FrY7o"
   },
   "source": [
    "Вы предобработали данные в SQL, и теперь они готовы для проверки гипотезы в Python. Загрузите данные пользователей из Москвы и Санкт-Петербурга c суммой часов их активности из файла yandex_knigi_data.csv. Если работаете локально, скачать файл можно по ссылке.\n",
    "\n",
    "Проверьте наличие дубликатов в идентификаторах пользователей. Сравните размеры групп, их статистики и распределение.\n",
    "\n",
    "Напомним, как выглядит гипотеза: пользователи из Санкт-Петербурга проводят в среднем больше времени за чтением и прослушиванием книг в приложении, чем пользователи из Москвы. Попробуйте статистически это доказать, используя одностороннюю проверку гипотезы с двумя выборками:\n",
    "\n",
    "Нулевая гипотеза $H_0: \\mu_{\\text{СПб}} \\leq \\mu_{\\text{Москва}}$ <br> Среднее время активности пользователей в Санкт-Петербурге не больше, чем в Москве.\n",
    "\n",
    "Альтернативная гипотеза $H_1: \\mu_{\\text{СПб}} > \\mu_{\\text{Москва}}$ <br> Среднее время активности пользователей в Санкт-Петербурге больше, и это различие статистически значимо.\n",
    "\n",
    "По результатам анализа данных подготовьте аналитическую записку, в которой опишите:\n",
    "\n",
    "Выбранный тип t-теста и уровень статистической значимости.\n",
    "\n",
    "Результат теста, или p-value.\n",
    "\n",
    "Вывод на основе полученного p-value, то есть интерпретацию результатов.\n",
    "\n",
    "Одну или две возможные причины, объясняющие полученные результаты."
   ]
  },
  {
   "cell_type": "markdown",
   "id": "e06910dd",
   "metadata": {
    "id": "e06910dd"
   },
   "source": [
    "##  Часть 1. Проверка гипотезы в Python и составление аналитической записки\n",
    "\n",
    "- Автор: Ивегеш Ольга\n",
    "- Дата: 26.06.2025"
   ]
  },
  {
   "cell_type": "markdown",
   "id": "4149134c",
   "metadata": {
    "id": "4149134c"
   },
   "source": [
    "## Цели и задачи проекта\n",
    "\n",
    "<font color='#777778'>Часть 1. Проверка гипотезы в Python и составление аналитической записки. \n",
    "    Часть 2. Анализ результатов A/B-тестирования</font>"
   ]
  },
  {
   "cell_type": "markdown",
   "id": "728986ea",
   "metadata": {
    "id": "728986ea"
   },
   "source": [
    "## Описание данных\n",
    "\n",
    "Данные\n",
    "https://code.s3.yandex.net/datasets/ab_test_participants.csv — таблица участников тестов.\n",
    "Структура файла:\n",
    "user_id — идентификатор пользователя;\n",
    "group — группа пользователя;\n",
    "ab_test — название теста;\n",
    "device — устройство, с которого происходила регистрация.\n",
    "https://code.s3.yandex.net/datasets/ab_test_events.zip — архив с одним csv-файлом, в котором собраны события 2020 года;\n",
    "Структура файла:\n",
    "user_id — идентификатор пользователя;\n"
   ]
  },
  {
   "cell_type": "markdown",
   "id": "4fecaf95",
   "metadata": {
    "id": "4fecaf95"
   },
   "source": [
    "## Содержимое проекта\n",
    "\n",
    "- загрузка данных и знакомство с ними\n",
    "- поиск дубликатов\n",
    "- удаление дкбликатов\n",
    "- изучение данных\n",
    "- проверка гипотезы \n",
    "- выводы\n",
    "\n",
    "---"
   ]
  },
  {
   "cell_type": "markdown",
   "id": "6f7d21d6",
   "metadata": {
    "id": "6f7d21d6"
   },
   "source": [
    "## 1. Загрузка данных и знакомство с ними\n",
    "\n",
    "Загрузите данные пользователей из Москвы и Санкт-Петербурга c их активностью (суммой часов чтения и прослушивания) из файла `/datasets/yandex_knigi_data.csv`."
   ]
  },
  {
   "cell_type": "code",
   "execution_count": 1,
   "id": "f68a7419",
   "metadata": {
    "id": "f68a7419"
   },
   "outputs": [],
   "source": [
    "import pandas as pd\n",
    "import matplotlib.pyplot as plt\n",
    "import scipy.stats as stats\n",
    "from math import fabs\n",
    "import seaborn as sns\n",
    "!pip install matplotlib-venn -q\n",
    "from matplotlib_venn import venn2, venn3 "
   ]
  },
  {
   "cell_type": "code",
   "execution_count": 2,
   "id": "cd56edd1",
   "metadata": {},
   "outputs": [
    {
     "data": {
      "text/html": [
       "<div>\n",
       "<style scoped>\n",
       "    .dataframe tbody tr th:only-of-type {\n",
       "        vertical-align: middle;\n",
       "    }\n",
       "\n",
       "    .dataframe tbody tr th {\n",
       "        vertical-align: top;\n",
       "    }\n",
       "\n",
       "    .dataframe thead th {\n",
       "        text-align: right;\n",
       "    }\n",
       "</style>\n",
       "<table border=\"1\" class=\"dataframe\">\n",
       "  <thead>\n",
       "    <tr style=\"text-align: right;\">\n",
       "      <th></th>\n",
       "      <th>Unnamed: 0</th>\n",
       "      <th>city</th>\n",
       "      <th>puid</th>\n",
       "      <th>hours</th>\n",
       "    </tr>\n",
       "  </thead>\n",
       "  <tbody>\n",
       "    <tr>\n",
       "      <th>0</th>\n",
       "      <td>0</td>\n",
       "      <td>Москва</td>\n",
       "      <td>9668</td>\n",
       "      <td>26.167776</td>\n",
       "    </tr>\n",
       "    <tr>\n",
       "      <th>1</th>\n",
       "      <td>1</td>\n",
       "      <td>Москва</td>\n",
       "      <td>16598</td>\n",
       "      <td>82.111217</td>\n",
       "    </tr>\n",
       "    <tr>\n",
       "      <th>2</th>\n",
       "      <td>2</td>\n",
       "      <td>Москва</td>\n",
       "      <td>80401</td>\n",
       "      <td>4.656906</td>\n",
       "    </tr>\n",
       "    <tr>\n",
       "      <th>3</th>\n",
       "      <td>3</td>\n",
       "      <td>Москва</td>\n",
       "      <td>140205</td>\n",
       "      <td>1.840556</td>\n",
       "    </tr>\n",
       "    <tr>\n",
       "      <th>4</th>\n",
       "      <td>4</td>\n",
       "      <td>Москва</td>\n",
       "      <td>248755</td>\n",
       "      <td>151.326434</td>\n",
       "    </tr>\n",
       "  </tbody>\n",
       "</table>\n",
       "</div>"
      ],
      "text/plain": [
       "   Unnamed: 0    city    puid       hours\n",
       "0           0  Москва    9668   26.167776\n",
       "1           1  Москва   16598   82.111217\n",
       "2           2  Москва   80401    4.656906\n",
       "3           3  Москва  140205    1.840556\n",
       "4           4  Москва  248755  151.326434"
      ]
     },
     "execution_count": 2,
     "metadata": {},
     "output_type": "execute_result"
    }
   ],
   "source": [
    "yandex_knigi_data = pd.read_csv('https://code.s3.yandex.net/datasets/yandex_knigi_data.csv')\n",
    "yandex_knigi_data.head(5)"
   ]
  },
  {
   "cell_type": "code",
   "execution_count": 3,
   "id": "f6323de0",
   "metadata": {},
   "outputs": [
    {
     "name": "stdout",
     "output_type": "stream",
     "text": [
      "<class 'pandas.core.frame.DataFrame'>\n",
      "RangeIndex: 8784 entries, 0 to 8783\n",
      "Data columns (total 4 columns):\n",
      " #   Column      Non-Null Count  Dtype  \n",
      "---  ------      --------------  -----  \n",
      " 0   Unnamed: 0  8784 non-null   int64  \n",
      " 1   city        8784 non-null   object \n",
      " 2   puid        8784 non-null   int64  \n",
      " 3   hours       8784 non-null   float64\n",
      "dtypes: float64(1), int64(2), object(1)\n",
      "memory usage: 274.6+ KB\n"
     ]
    }
   ],
   "source": [
    "yandex_knigi_data.info()"
   ]
  },
  {
   "cell_type": "code",
   "execution_count": 4,
   "id": "b04408c4",
   "metadata": {},
   "outputs": [
    {
     "data": {
      "text/plain": [
       "244"
      ]
     },
     "execution_count": 4,
     "metadata": {},
     "output_type": "execute_result"
    }
   ],
   "source": [
    "yandex_knigi_data.duplicated(subset='puid').sum()"
   ]
  },
  {
   "cell_type": "code",
   "execution_count": 5,
   "id": "6c2febf9",
   "metadata": {},
   "outputs": [
    {
     "data": {
      "text/plain": [
       "0"
      ]
     },
     "execution_count": 5,
     "metadata": {},
     "output_type": "execute_result"
    }
   ],
   "source": [
    "yandex_knigi_data=yandex_knigi_data.drop_duplicates(subset='puid', keep='first').reset_index(drop=True)\n",
    "yandex_knigi_data.duplicated(subset='puid').sum()"
   ]
  },
  {
   "cell_type": "code",
   "execution_count": 6,
   "id": "3d0756b5",
   "metadata": {},
   "outputs": [
    {
     "data": {
      "text/html": [
       "<div>\n",
       "<style scoped>\n",
       "    .dataframe tbody tr th:only-of-type {\n",
       "        vertical-align: middle;\n",
       "    }\n",
       "\n",
       "    .dataframe tbody tr th {\n",
       "        vertical-align: top;\n",
       "    }\n",
       "\n",
       "    .dataframe thead th {\n",
       "        text-align: right;\n",
       "    }\n",
       "</style>\n",
       "<table border=\"1\" class=\"dataframe\">\n",
       "  <thead>\n",
       "    <tr style=\"text-align: right;\">\n",
       "      <th></th>\n",
       "      <th>puid</th>\n",
       "    </tr>\n",
       "    <tr>\n",
       "      <th>city</th>\n",
       "      <th></th>\n",
       "    </tr>\n",
       "  </thead>\n",
       "  <tbody>\n",
       "    <tr>\n",
       "      <th>Москва</th>\n",
       "      <td>6234</td>\n",
       "    </tr>\n",
       "    <tr>\n",
       "      <th>Санкт-Петербург</th>\n",
       "      <td>2306</td>\n",
       "    </tr>\n",
       "  </tbody>\n",
       "</table>\n",
       "</div>"
      ],
      "text/plain": [
       "                 puid\n",
       "city                 \n",
       "Москва           6234\n",
       "Санкт-Петербург  2306"
      ]
     },
     "execution_count": 6,
     "metadata": {},
     "output_type": "execute_result"
    }
   ],
   "source": [
    "unique_users = yandex_knigi_data.groupby(['city']).agg({'puid': 'nunique'})\n",
    "unique_users"
   ]
  },
  {
   "cell_type": "code",
   "execution_count": 7,
   "id": "73644322",
   "metadata": {},
   "outputs": [
    {
     "data": {
      "text/html": [
       "<div>\n",
       "<style scoped>\n",
       "    .dataframe tbody tr th:only-of-type {\n",
       "        vertical-align: middle;\n",
       "    }\n",
       "\n",
       "    .dataframe tbody tr th {\n",
       "        vertical-align: top;\n",
       "    }\n",
       "\n",
       "    .dataframe thead th {\n",
       "        text-align: right;\n",
       "    }\n",
       "</style>\n",
       "<table border=\"1\" class=\"dataframe\">\n",
       "  <thead>\n",
       "    <tr style=\"text-align: right;\">\n",
       "      <th></th>\n",
       "      <th>hours</th>\n",
       "    </tr>\n",
       "    <tr>\n",
       "      <th>city</th>\n",
       "      <th></th>\n",
       "    </tr>\n",
       "  </thead>\n",
       "  <tbody>\n",
       "    <tr>\n",
       "      <th>Москва</th>\n",
       "      <td>67832.727924</td>\n",
       "    </tr>\n",
       "    <tr>\n",
       "      <th>Санкт-Петербург</th>\n",
       "      <td>25975.783344</td>\n",
       "    </tr>\n",
       "  </tbody>\n",
       "</table>\n",
       "</div>"
      ],
      "text/plain": [
       "                        hours\n",
       "city                         \n",
       "Москва           67832.727924\n",
       "Санкт-Петербург  25975.783344"
      ]
     },
     "execution_count": 7,
     "metadata": {},
     "output_type": "execute_result"
    }
   ],
   "source": [
    "hours_users = yandex_knigi_data.groupby(['city']).agg({'hours': 'sum'})\n",
    "hours_users"
   ]
  },
  {
   "cell_type": "markdown",
   "id": "90de8756",
   "metadata": {},
   "source": [
    "Разделение на группы по городу. Группа Москва сильно больше, чем группа Санкт-Петербург. Сумма часов в Москве тоже значительно выше. "
   ]
  },
  {
   "cell_type": "markdown",
   "id": "956e82e2",
   "metadata": {
    "id": "956e82e2"
   },
   "source": [
    "## 2. Проверка гипотезы в Python\n",
    "\n",
    "Гипотеза звучит так: пользователи из Санкт-Петербурга проводят в среднем больше времени за чтением и прослушиванием книг в приложении, чем пользователи из Москвы. Попробуйте статистически это доказать, используя одностороннюю проверку гипотезы с двумя выборками:\n",
    "\n",
    "- Нулевая гипотеза H₀: Средняя активность пользователей в часах в двух группах (Москва и Санкт-Петербург) не различается.\n",
    "\n",
    "- Альтернативная гипотеза H₁: Средняя активность пользователей в Санкт-Петербурге больше, и это различие статистически значимо."
   ]
  },
  {
   "cell_type": "code",
   "execution_count": 8,
   "id": "67956690",
   "metadata": {
    "id": "67956690"
   },
   "outputs": [
    {
     "name": "stdout",
     "output_type": "stream",
     "text": [
      "Полученное значение p_value:0.66 больше установленного значения alpha:0.05.\n",
      "Не отвергаем нулевую гипотезу о равенстве средних двух выборок\n"
     ]
    }
   ],
   "source": [
    "from scipy.stats import ttest_ind\n",
    "moscow_times = yandex_knigi_data[yandex_knigi_data['city'] == 'Москва']['hours']\n",
    "spb_times = yandex_knigi_data[yandex_knigi_data['city'] == 'Санкт-Петербург']['hours']\n",
    "\n",
    "# Выполнение одностороннего t-теста\n",
    "test_result = ttest_ind(spb_times, moscow_times, alternative='less')\n",
    "\n",
    "alpha = 0.05\n",
    "test_result.pvalue\n",
    "\n",
    "if test_result.pvalue <= alpha:\n",
    "    print(f'Полученное значение p_value:{round(test_result.pvalue,2)} меньше установленного значения alpha:{alpha}.\\nОтвергаем нулевую гипотезу о равенстве средних двух выборок')\n",
    "else:\n",
    "    print(f'Полученное значение p_value:{round(test_result.pvalue,2)} больше установленного значения alpha:{alpha}.\\nНе отвергаем нулевую гипотезу о равенстве средних двух выборок')"
   ]
  },
  {
   "cell_type": "markdown",
   "id": "6953e84c",
   "metadata": {
    "id": "6953e84c"
   },
   "source": [
    "## 3. Аналитическая записка\n",
    "По результатам анализа данных подготовьте аналитическую записку, в которой опишете:\n",
    "\n",
    "- Выбран односторонниц t-тест и уровень статистической значимости равный 0.05.\n",
    "\n",
    "- p-value =0.66.\n",
    "\n",
    "- Полученный p-value больше установленного значения 0.05.\n",
    "\n",
    "- Не отвергаем нулевую гипотезу о равенстве средних двух выборок. Привычки жителей двух мегаполисов не отличаются.\n"
   ]
  },
  {
   "cell_type": "markdown",
   "id": "hc1d6jVISegz",
   "metadata": {
    "id": "hc1d6jVISegz"
   },
   "source": [
    "----"
   ]
  },
  {
   "cell_type": "markdown",
   "id": "NqOUIYhbrIfC",
   "metadata": {
    "id": "NqOUIYhbrIfC"
   },
   "source": [
    "# Часть 2. Анализ результатов A/B-тестирования"
   ]
  },
  {
   "cell_type": "markdown",
   "id": "tDwMKFNGsClr",
   "metadata": {
    "id": "tDwMKFNGsClr"
   },
   "source": [
    "Теперь вам нужно проанализировать другие данные. Представьте, что к вам обратились представители интернет-магазина BitMotion Kit, в котором продаются геймифицированные товары для тех, кто ведёт здоровый образ жизни. У него есть своя целевая аудитория, даже появились хиты продаж: эспандер со счётчиком и напоминанием, так и подстольный велотренажёр с Bluetooth.\n",
    "\n",
    "В будущем компания хочет расширить ассортимент товаров. Но перед этим нужно решить одну проблему. Интерфейс онлайн-магазина слишком сложен для пользователей — об этом говорят отзывы.\n",
    "\n",
    "Чтобы привлечь новых клиентов и увеличить число продаж, владельцы магазина разработали новую версию сайта и протестировали его на части пользователей. По задумке, это решение доказуемо повысит количество пользователей, которые совершат покупку.\n",
    "\n",
    "Ваша задача — провести оценку результатов A/B-теста. В вашем распоряжении:\n",
    "\n",
    "* данные о действиях пользователей и распределении их на группы,\n",
    "\n",
    "* техническое задание.\n",
    "\n",
    "Оцените корректность проведения теста и проанализируйте его результаты."
   ]
  },
  {
   "cell_type": "markdown",
   "id": "UNXAAyF5r9Rk",
   "metadata": {
    "id": "UNXAAyF5r9Rk"
   },
   "source": [
    "## 1. Опишите цели исследования.\n",
    "\n"
   ]
  },
  {
   "cell_type": "markdown",
   "id": "kHx-51yES8bd",
   "metadata": {
    "id": "kHx-51yES8bd"
   },
   "source": [
    "Ваша задача — провести оценку результатов A/B-теста. В вашем распоряжении:\n",
    "данные о действиях пользователей и распределении их на группы,\n",
    "техническое задание.\n",
    "Оцените корректность проведения теста и проанализируйте его результаты"
   ]
  },
  {
   "cell_type": "markdown",
   "id": "d86f253a",
   "metadata": {},
   "source": [
    "- загрузка данных и знакомство с ними\n",
    "- изучение данных\n",
    "- оценка корректности проведения теста\n",
    "- оценка достаточности размера выборки\n",
    "- оценка теста\n",
    "- выводы"
   ]
  },
  {
   "cell_type": "markdown",
   "id": "_CZryx2OsH-s",
   "metadata": {
    "id": "_CZryx2OsH-s"
   },
   "source": [
    "## 2. Загрузите данные, оцените их целостность.\n"
   ]
  },
  {
   "cell_type": "code",
   "execution_count": 9,
   "id": "DjFcJbeGsTIg",
   "metadata": {
    "id": "DjFcJbeGsTIg"
   },
   "outputs": [],
   "source": [
    "participants = pd.read_csv('https://code.s3.yandex.net/datasets/ab_test_participants.csv')\n",
    "events = pd.read_csv('https://code.s3.yandex.net/datasets/ab_test_events.zip',\n",
    "                     parse_dates=['event_dt'], low_memory=False)"
   ]
  },
  {
   "cell_type": "code",
   "execution_count": 10,
   "id": "e28a77d4",
   "metadata": {},
   "outputs": [
    {
     "data": {
      "text/html": [
       "<div>\n",
       "<style scoped>\n",
       "    .dataframe tbody tr th:only-of-type {\n",
       "        vertical-align: middle;\n",
       "    }\n",
       "\n",
       "    .dataframe tbody tr th {\n",
       "        vertical-align: top;\n",
       "    }\n",
       "\n",
       "    .dataframe thead th {\n",
       "        text-align: right;\n",
       "    }\n",
       "</style>\n",
       "<table border=\"1\" class=\"dataframe\">\n",
       "  <thead>\n",
       "    <tr style=\"text-align: right;\">\n",
       "      <th></th>\n",
       "      <th>user_id</th>\n",
       "      <th>group</th>\n",
       "      <th>ab_test</th>\n",
       "      <th>device</th>\n",
       "    </tr>\n",
       "  </thead>\n",
       "  <tbody>\n",
       "    <tr>\n",
       "      <th>0</th>\n",
       "      <td>0002CE61FF2C4011</td>\n",
       "      <td>B</td>\n",
       "      <td>interface_eu_test</td>\n",
       "      <td>Mac</td>\n",
       "    </tr>\n",
       "    <tr>\n",
       "      <th>1</th>\n",
       "      <td>001064FEAAB631A1</td>\n",
       "      <td>B</td>\n",
       "      <td>recommender_system_test</td>\n",
       "      <td>Android</td>\n",
       "    </tr>\n",
       "    <tr>\n",
       "      <th>2</th>\n",
       "      <td>001064FEAAB631A1</td>\n",
       "      <td>A</td>\n",
       "      <td>interface_eu_test</td>\n",
       "      <td>Android</td>\n",
       "    </tr>\n",
       "    <tr>\n",
       "      <th>3</th>\n",
       "      <td>0010A1C096941592</td>\n",
       "      <td>A</td>\n",
       "      <td>recommender_system_test</td>\n",
       "      <td>Android</td>\n",
       "    </tr>\n",
       "    <tr>\n",
       "      <th>4</th>\n",
       "      <td>001E72F50D1C48FA</td>\n",
       "      <td>A</td>\n",
       "      <td>interface_eu_test</td>\n",
       "      <td>Mac</td>\n",
       "    </tr>\n",
       "  </tbody>\n",
       "</table>\n",
       "</div>"
      ],
      "text/plain": [
       "            user_id group                  ab_test   device\n",
       "0  0002CE61FF2C4011     B        interface_eu_test      Mac\n",
       "1  001064FEAAB631A1     B  recommender_system_test  Android\n",
       "2  001064FEAAB631A1     A        interface_eu_test  Android\n",
       "3  0010A1C096941592     A  recommender_system_test  Android\n",
       "4  001E72F50D1C48FA     A        interface_eu_test      Mac"
      ]
     },
     "execution_count": 10,
     "metadata": {},
     "output_type": "execute_result"
    }
   ],
   "source": [
    "participants.head()"
   ]
  },
  {
   "cell_type": "code",
   "execution_count": 11,
   "id": "a4a2816b",
   "metadata": {},
   "outputs": [
    {
     "data": {
      "text/html": [
       "<div>\n",
       "<style scoped>\n",
       "    .dataframe tbody tr th:only-of-type {\n",
       "        vertical-align: middle;\n",
       "    }\n",
       "\n",
       "    .dataframe tbody tr th {\n",
       "        vertical-align: top;\n",
       "    }\n",
       "\n",
       "    .dataframe thead th {\n",
       "        text-align: right;\n",
       "    }\n",
       "</style>\n",
       "<table border=\"1\" class=\"dataframe\">\n",
       "  <thead>\n",
       "    <tr style=\"text-align: right;\">\n",
       "      <th></th>\n",
       "      <th>user_id</th>\n",
       "      <th>event_dt</th>\n",
       "      <th>event_name</th>\n",
       "      <th>details</th>\n",
       "    </tr>\n",
       "  </thead>\n",
       "  <tbody>\n",
       "    <tr>\n",
       "      <th>0</th>\n",
       "      <td>GLOBAL</td>\n",
       "      <td>2020-12-01 00:00:00</td>\n",
       "      <td>End of Black Friday Ads Campaign</td>\n",
       "      <td>ZONE_CODE15</td>\n",
       "    </tr>\n",
       "    <tr>\n",
       "      <th>1</th>\n",
       "      <td>CCBE9E7E99F94A08</td>\n",
       "      <td>2020-12-01 00:00:11</td>\n",
       "      <td>registration</td>\n",
       "      <td>0.0</td>\n",
       "    </tr>\n",
       "    <tr>\n",
       "      <th>2</th>\n",
       "      <td>GLOBAL</td>\n",
       "      <td>2020-12-01 00:00:25</td>\n",
       "      <td>product_page</td>\n",
       "      <td>NaN</td>\n",
       "    </tr>\n",
       "    <tr>\n",
       "      <th>3</th>\n",
       "      <td>CCBE9E7E99F94A08</td>\n",
       "      <td>2020-12-01 00:00:33</td>\n",
       "      <td>login</td>\n",
       "      <td>NaN</td>\n",
       "    </tr>\n",
       "    <tr>\n",
       "      <th>4</th>\n",
       "      <td>CCBE9E7E99F94A08</td>\n",
       "      <td>2020-12-01 00:00:52</td>\n",
       "      <td>product_page</td>\n",
       "      <td>NaN</td>\n",
       "    </tr>\n",
       "  </tbody>\n",
       "</table>\n",
       "</div>"
      ],
      "text/plain": [
       "            user_id            event_dt                        event_name  \\\n",
       "0            GLOBAL 2020-12-01 00:00:00  End of Black Friday Ads Campaign   \n",
       "1  CCBE9E7E99F94A08 2020-12-01 00:00:11                      registration   \n",
       "2            GLOBAL 2020-12-01 00:00:25                      product_page   \n",
       "3  CCBE9E7E99F94A08 2020-12-01 00:00:33                             login   \n",
       "4  CCBE9E7E99F94A08 2020-12-01 00:00:52                      product_page   \n",
       "\n",
       "       details  \n",
       "0  ZONE_CODE15  \n",
       "1          0.0  \n",
       "2          NaN  \n",
       "3          NaN  \n",
       "4          NaN  "
      ]
     },
     "execution_count": 11,
     "metadata": {},
     "output_type": "execute_result"
    }
   ],
   "source": [
    "events.head()"
   ]
  },
  {
   "cell_type": "code",
   "execution_count": 12,
   "id": "7acae890",
   "metadata": {},
   "outputs": [],
   "source": [
    "events['event_dt'] = pd.to_datetime(events['event_dt'])"
   ]
  },
  {
   "cell_type": "code",
   "execution_count": 13,
   "id": "e0868cc6",
   "metadata": {},
   "outputs": [
    {
     "data": {
      "text/html": [
       "<div>\n",
       "<style scoped>\n",
       "    .dataframe tbody tr th:only-of-type {\n",
       "        vertical-align: middle;\n",
       "    }\n",
       "\n",
       "    .dataframe tbody tr th {\n",
       "        vertical-align: top;\n",
       "    }\n",
       "\n",
       "    .dataframe thead th {\n",
       "        text-align: right;\n",
       "    }\n",
       "</style>\n",
       "<table border=\"1\" class=\"dataframe\">\n",
       "  <thead>\n",
       "    <tr style=\"text-align: right;\">\n",
       "      <th></th>\n",
       "      <th></th>\n",
       "      <th>user_id</th>\n",
       "    </tr>\n",
       "    <tr>\n",
       "      <th>ab_test</th>\n",
       "      <th>group</th>\n",
       "      <th></th>\n",
       "    </tr>\n",
       "  </thead>\n",
       "  <tbody>\n",
       "    <tr>\n",
       "      <th rowspan=\"2\" valign=\"top\">interface_eu_test</th>\n",
       "      <th>A</th>\n",
       "      <td>5383</td>\n",
       "    </tr>\n",
       "    <tr>\n",
       "      <th>B</th>\n",
       "      <td>5467</td>\n",
       "    </tr>\n",
       "    <tr>\n",
       "      <th rowspan=\"2\" valign=\"top\">recommender_system_test</th>\n",
       "      <th>A</th>\n",
       "      <td>2747</td>\n",
       "    </tr>\n",
       "    <tr>\n",
       "      <th>B</th>\n",
       "      <td>928</td>\n",
       "    </tr>\n",
       "  </tbody>\n",
       "</table>\n",
       "</div>"
      ],
      "text/plain": [
       "                               user_id\n",
       "ab_test                 group         \n",
       "interface_eu_test       A         5383\n",
       "                        B         5467\n",
       "recommender_system_test A         2747\n",
       "                        B          928"
      ]
     },
     "execution_count": 13,
     "metadata": {},
     "output_type": "execute_result"
    }
   ],
   "source": [
    "unique_users = participants.groupby(['ab_test', 'group']).agg({'user_id': 'nunique'})\n",
    "unique_users"
   ]
  },
  {
   "cell_type": "markdown",
   "id": "CnzA-efasUrk",
   "metadata": {
    "id": "CnzA-efasUrk"
   },
   "source": [
    "## 3. По таблице `ab_test_participants` оцените корректность проведения теста:\n",
    "\n",
    "   3\\.1 Выделите пользователей, участвующих в тесте, и проверьте:\n",
    "\n",
    "   - соответствие требованиям технического задания,\n",
    "\n",
    "   - равномерность распределения пользователей по группам теста,\n",
    "\n",
    "   - отсутствие пересечений с конкурирующим тестом (нет пользователей, участвующих одновременно в двух тестовых группах)."
   ]
  },
  {
   "cell_type": "code",
   "execution_count": 14,
   "id": "aNa3zHrKslEN",
   "metadata": {
    "id": "aNa3zHrKslEN"
   },
   "outputs": [
    {
     "name": "stdout",
     "output_type": "stream",
     "text": [
      "Пользователей, попавших в оба теста: 887\n"
     ]
    }
   ],
   "source": [
    "ntests_per_user = participants.groupby('user_id').agg({'ab_test': 'nunique'}).sort_values(by = 'ab_test', ascending = False).reset_index()\n",
    "print('Пользователей, попавших в оба теста:', ntests_per_user[ntests_per_user['ab_test'] > 1]['user_id'].count())"
   ]
  },
  {
   "cell_type": "code",
   "execution_count": 15,
   "id": "99bad0c1",
   "metadata": {},
   "outputs": [
    {
     "data": {
      "text/html": [
       "<div>\n",
       "<style scoped>\n",
       "    .dataframe tbody tr th:only-of-type {\n",
       "        vertical-align: middle;\n",
       "    }\n",
       "\n",
       "    .dataframe tbody tr th {\n",
       "        vertical-align: top;\n",
       "    }\n",
       "\n",
       "    .dataframe thead th {\n",
       "        text-align: right;\n",
       "    }\n",
       "</style>\n",
       "<table border=\"1\" class=\"dataframe\">\n",
       "  <thead>\n",
       "    <tr style=\"text-align: right;\">\n",
       "      <th></th>\n",
       "      <th></th>\n",
       "      <th>user_id</th>\n",
       "    </tr>\n",
       "    <tr>\n",
       "      <th>ab_test</th>\n",
       "      <th>group</th>\n",
       "      <th></th>\n",
       "    </tr>\n",
       "  </thead>\n",
       "  <tbody>\n",
       "    <tr>\n",
       "      <th rowspan=\"2\" valign=\"top\">interface_eu_test</th>\n",
       "      <th>A</th>\n",
       "      <td>4952</td>\n",
       "    </tr>\n",
       "    <tr>\n",
       "      <th>B</th>\n",
       "      <td>5011</td>\n",
       "    </tr>\n",
       "  </tbody>\n",
       "</table>\n",
       "</div>"
      ],
      "text/plain": [
       "                         user_id\n",
       "ab_test           group         \n",
       "interface_eu_test A         4952\n",
       "                  B         5011"
      ]
     },
     "execution_count": 15,
     "metadata": {},
     "output_type": "execute_result"
    }
   ],
   "source": [
    "# Исключаем пользователей, попавших в оба теста:\n",
    "test_participants = participants[~participants['user_id'].isin(ntests_per_user[ntests_per_user['ab_test'] > 1]['user_id'].values)]\n",
    "\n",
    "# Оставляем пользователей только нашего теста:\n",
    "test_participants = test_participants[test_participants['ab_test'] == 'interface_eu_test']\n",
    "\n",
    "test_participants.groupby(['ab_test', 'group']).agg({'user_id': 'nunique'})"
   ]
  },
  {
   "cell_type": "code",
   "execution_count": 16,
   "id": "e4674972",
   "metadata": {},
   "outputs": [
    {
     "data": {
      "image/png": "[encoded data removed]",
      "text/plain": [
       "<Figure size 432x288 with 1 Axes>"
      ]
     },
     "metadata": {},
     "output_type": "display_data"
    }
   ],
   "source": [
    "#создаем срез каждой группы пользователем\n",
    "A = set(test_participants[(test_participants['group'] == 'A')]['user_id'].dropna().unique())\n",
    "B = set(test_participants[(test_participants['group'] == 'B')]['user_id'].dropna().unique())\n",
    "\n",
    "# Строим диаграмму Венна\n",
    "venn2([A, B], set_labels=('A', 'B'))\n",
    "\n",
    "# Отображаем график\n",
    "plt.title(\"Пересечение \")\n",
    "plt.show() "
   ]
  },
  {
   "cell_type": "markdown",
   "id": "GjulgSrlsqUU",
   "metadata": {
    "id": "GjulgSrlsqUU"
   },
   "source": [
    "3\\.2 Проанализируйте данные о пользовательской активности по таблице `ab_test_events`:\n",
    "\n",
    "- оставьте только события, связанные с участвующими в изучаемом тесте пользователями;"
   ]
  },
  {
   "cell_type": "code",
   "execution_count": 17,
   "id": "QMt0Ybo_swDK",
   "metadata": {
    "id": "QMt0Ybo_swDK"
   },
   "outputs": [],
   "source": [
    "# События, совершённые участниками нашего теста:\n",
    "test_events = events[events['user_id'].isin(test_participants['user_id'])]\n",
    "\n",
    "# Добавим информацию о группе, в которую попал каждый пользователь:\n",
    "test_events = test_events.merge(test_participants, on = 'user_id')"
   ]
  },
  {
   "cell_type": "code",
   "execution_count": 18,
   "id": "6cf69b66",
   "metadata": {},
   "outputs": [
    {
     "name": "stdout",
     "output_type": "stream",
     "text": [
      "Количество уникальных пользователей, совершавших действия в системе: 9963\n"
     ]
    }
   ],
   "source": [
    "ntest_events = test_events['user_id'].nunique()\n",
    "\n",
    "print('Количество уникальных пользователей, совершавших действия в системе:', ntest_events)\n"
   ]
  },
  {
   "cell_type": "code",
   "execution_count": 19,
   "id": "d600bb76",
   "metadata": {},
   "outputs": [
    {
     "data": {
      "text/html": [
       "<div>\n",
       "<style scoped>\n",
       "    .dataframe tbody tr th:only-of-type {\n",
       "        vertical-align: middle;\n",
       "    }\n",
       "\n",
       "    .dataframe tbody tr th {\n",
       "        vertical-align: top;\n",
       "    }\n",
       "\n",
       "    .dataframe thead th {\n",
       "        text-align: right;\n",
       "    }\n",
       "</style>\n",
       "<table border=\"1\" class=\"dataframe\">\n",
       "  <thead>\n",
       "    <tr style=\"text-align: right;\">\n",
       "      <th></th>\n",
       "      <th>user_id</th>\n",
       "      <th>event_dt</th>\n",
       "      <th>event_name</th>\n",
       "      <th>details</th>\n",
       "      <th>group</th>\n",
       "      <th>ab_test</th>\n",
       "      <th>device</th>\n",
       "    </tr>\n",
       "  </thead>\n",
       "  <tbody>\n",
       "    <tr>\n",
       "      <th>0</th>\n",
       "      <td>5F506CEBEDC05D30</td>\n",
       "      <td>2020-12-06</td>\n",
       "      <td>registration</td>\n",
       "      <td>0.0</td>\n",
       "      <td>A</td>\n",
       "      <td>interface_eu_test</td>\n",
       "      <td>iPhone</td>\n",
       "    </tr>\n",
       "    <tr>\n",
       "      <th>1</th>\n",
       "      <td>5F506CEBEDC05D30</td>\n",
       "      <td>2020-12-07</td>\n",
       "      <td>login</td>\n",
       "      <td>NaN</td>\n",
       "      <td>A</td>\n",
       "      <td>interface_eu_test</td>\n",
       "      <td>iPhone</td>\n",
       "    </tr>\n",
       "    <tr>\n",
       "      <th>2</th>\n",
       "      <td>5F506CEBEDC05D30</td>\n",
       "      <td>2020-12-07</td>\n",
       "      <td>login</td>\n",
       "      <td>NaN</td>\n",
       "      <td>A</td>\n",
       "      <td>interface_eu_test</td>\n",
       "      <td>iPhone</td>\n",
       "    </tr>\n",
       "    <tr>\n",
       "      <th>3</th>\n",
       "      <td>5F506CEBEDC05D30</td>\n",
       "      <td>2020-12-09</td>\n",
       "      <td>login</td>\n",
       "      <td>NaN</td>\n",
       "      <td>A</td>\n",
       "      <td>interface_eu_test</td>\n",
       "      <td>iPhone</td>\n",
       "    </tr>\n",
       "    <tr>\n",
       "      <th>4</th>\n",
       "      <td>5F506CEBEDC05D30</td>\n",
       "      <td>2020-12-09</td>\n",
       "      <td>product_page</td>\n",
       "      <td>NaN</td>\n",
       "      <td>A</td>\n",
       "      <td>interface_eu_test</td>\n",
       "      <td>iPhone</td>\n",
       "    </tr>\n",
       "    <tr>\n",
       "      <th>...</th>\n",
       "      <td>...</td>\n",
       "      <td>...</td>\n",
       "      <td>...</td>\n",
       "      <td>...</td>\n",
       "      <td>...</td>\n",
       "      <td>...</td>\n",
       "      <td>...</td>\n",
       "    </tr>\n",
       "    <tr>\n",
       "      <th>73810</th>\n",
       "      <td>16CCB1C8C4DCF1AF</td>\n",
       "      <td>2020-12-23</td>\n",
       "      <td>registration</td>\n",
       "      <td>0.0</td>\n",
       "      <td>A</td>\n",
       "      <td>interface_eu_test</td>\n",
       "      <td>Mac</td>\n",
       "    </tr>\n",
       "    <tr>\n",
       "      <th>73811</th>\n",
       "      <td>16CCB1C8C4DCF1AF</td>\n",
       "      <td>2020-12-23</td>\n",
       "      <td>login</td>\n",
       "      <td>NaN</td>\n",
       "      <td>A</td>\n",
       "      <td>interface_eu_test</td>\n",
       "      <td>Mac</td>\n",
       "    </tr>\n",
       "    <tr>\n",
       "      <th>73812</th>\n",
       "      <td>2DDC948BD76ABC57</td>\n",
       "      <td>2020-12-24</td>\n",
       "      <td>registration</td>\n",
       "      <td>-4.29</td>\n",
       "      <td>B</td>\n",
       "      <td>interface_eu_test</td>\n",
       "      <td>iPhone</td>\n",
       "    </tr>\n",
       "    <tr>\n",
       "      <th>73813</th>\n",
       "      <td>2DDC948BD76ABC57</td>\n",
       "      <td>2020-12-24</td>\n",
       "      <td>login</td>\n",
       "      <td>NaN</td>\n",
       "      <td>B</td>\n",
       "      <td>interface_eu_test</td>\n",
       "      <td>iPhone</td>\n",
       "    </tr>\n",
       "    <tr>\n",
       "      <th>73814</th>\n",
       "      <td>2DDC948BD76ABC57</td>\n",
       "      <td>2020-12-24</td>\n",
       "      <td>product_page</td>\n",
       "      <td>NaN</td>\n",
       "      <td>B</td>\n",
       "      <td>interface_eu_test</td>\n",
       "      <td>iPhone</td>\n",
       "    </tr>\n",
       "  </tbody>\n",
       "</table>\n",
       "<p>73815 rows × 7 columns</p>\n",
       "</div>"
      ],
      "text/plain": [
       "                user_id    event_dt    event_name details group  \\\n",
       "0      5F506CEBEDC05D30  2020-12-06  registration     0.0     A   \n",
       "1      5F506CEBEDC05D30  2020-12-07         login     NaN     A   \n",
       "2      5F506CEBEDC05D30  2020-12-07         login     NaN     A   \n",
       "3      5F506CEBEDC05D30  2020-12-09         login     NaN     A   \n",
       "4      5F506CEBEDC05D30  2020-12-09  product_page     NaN     A   \n",
       "...                 ...         ...           ...     ...   ...   \n",
       "73810  16CCB1C8C4DCF1AF  2020-12-23  registration     0.0     A   \n",
       "73811  16CCB1C8C4DCF1AF  2020-12-23         login     NaN     A   \n",
       "73812  2DDC948BD76ABC57  2020-12-24  registration   -4.29     B   \n",
       "73813  2DDC948BD76ABC57  2020-12-24         login     NaN     B   \n",
       "73814  2DDC948BD76ABC57  2020-12-24  product_page     NaN     B   \n",
       "\n",
       "                 ab_test  device  \n",
       "0      interface_eu_test  iPhone  \n",
       "1      interface_eu_test  iPhone  \n",
       "2      interface_eu_test  iPhone  \n",
       "3      interface_eu_test  iPhone  \n",
       "4      interface_eu_test  iPhone  \n",
       "...                  ...     ...  \n",
       "73810  interface_eu_test     Mac  \n",
       "73811  interface_eu_test     Mac  \n",
       "73812  interface_eu_test  iPhone  \n",
       "73813  interface_eu_test  iPhone  \n",
       "73814  interface_eu_test  iPhone  \n",
       "\n",
       "[73815 rows x 7 columns]"
      ]
     },
     "execution_count": 19,
     "metadata": {},
     "output_type": "execute_result"
    }
   ],
   "source": [
    "test_events['event_dt'] = test_events['event_dt'].dt.date\n",
    "test_events"
   ]
  },
  {
   "cell_type": "code",
   "execution_count": 20,
   "id": "3a57666d",
   "metadata": {},
   "outputs": [
    {
     "data": {
      "text/html": [
       "<div>\n",
       "<style scoped>\n",
       "    .dataframe tbody tr th:only-of-type {\n",
       "        vertical-align: middle;\n",
       "    }\n",
       "\n",
       "    .dataframe tbody tr th {\n",
       "        vertical-align: top;\n",
       "    }\n",
       "\n",
       "    .dataframe thead th {\n",
       "        text-align: right;\n",
       "    }\n",
       "</style>\n",
       "<table border=\"1\" class=\"dataframe\">\n",
       "  <thead>\n",
       "    <tr style=\"text-align: right;\">\n",
       "      <th></th>\n",
       "      <th>event_name</th>\n",
       "      <th>count</th>\n",
       "    </tr>\n",
       "  </thead>\n",
       "  <tbody>\n",
       "    <tr>\n",
       "      <th>0</th>\n",
       "      <td>login</td>\n",
       "      <td>27360</td>\n",
       "    </tr>\n",
       "    <tr>\n",
       "      <th>1</th>\n",
       "      <td>product_page</td>\n",
       "      <td>17614</td>\n",
       "    </tr>\n",
       "    <tr>\n",
       "      <th>2</th>\n",
       "      <td>registration</td>\n",
       "      <td>9963</td>\n",
       "    </tr>\n",
       "    <tr>\n",
       "      <th>3</th>\n",
       "      <td>purchase</td>\n",
       "      <td>9487</td>\n",
       "    </tr>\n",
       "    <tr>\n",
       "      <th>4</th>\n",
       "      <td>product_cart</td>\n",
       "      <td>9391</td>\n",
       "    </tr>\n",
       "  </tbody>\n",
       "</table>\n",
       "</div>"
      ],
      "text/plain": [
       "     event_name  count\n",
       "0         login  27360\n",
       "1  product_page  17614\n",
       "2  registration   9963\n",
       "3      purchase   9487\n",
       "4  product_cart   9391"
      ]
     },
     "metadata": {},
     "output_type": "display_data"
    }
   ],
   "source": [
    "events = test_events.groupby('event_name').agg(count = ('user_id', 'count')).sort_values('count', ascending=False).reset_index()\n",
    "display(events)"
   ]
  },
  {
   "cell_type": "markdown",
   "id": "fBZ4DC2xswZJ",
   "metadata": {
    "id": "fBZ4DC2xswZJ"
   },
   "source": [
    "- определите горизонт анализа: рассчитайте время (лайфтайм) совершения события пользователем после регистрации и оставьте только те события, которые были выполнены в течение первых семи дней с момента регистрации;"
   ]
  },
  {
   "cell_type": "code",
   "execution_count": 21,
   "id": "6dcf1afa",
   "metadata": {},
   "outputs": [
    {
     "data": {
      "text/html": [
       "<div>\n",
       "<style scoped>\n",
       "    .dataframe tbody tr th:only-of-type {\n",
       "        vertical-align: middle;\n",
       "    }\n",
       "\n",
       "    .dataframe tbody tr th {\n",
       "        vertical-align: top;\n",
       "    }\n",
       "\n",
       "    .dataframe thead th {\n",
       "        text-align: right;\n",
       "    }\n",
       "</style>\n",
       "<table border=\"1\" class=\"dataframe\">\n",
       "  <thead>\n",
       "    <tr style=\"text-align: right;\">\n",
       "      <th></th>\n",
       "      <th>user_id</th>\n",
       "      <th>event_dt</th>\n",
       "      <th>event_name</th>\n",
       "      <th>details</th>\n",
       "      <th>group</th>\n",
       "      <th>ab_test</th>\n",
       "      <th>device</th>\n",
       "      <th>registration_date</th>\n",
       "      <th>days_since_registration</th>\n",
       "    </tr>\n",
       "  </thead>\n",
       "  <tbody>\n",
       "    <tr>\n",
       "      <th>0</th>\n",
       "      <td>5F506CEBEDC05D30</td>\n",
       "      <td>2020-12-06</td>\n",
       "      <td>registration</td>\n",
       "      <td>0.0</td>\n",
       "      <td>A</td>\n",
       "      <td>interface_eu_test</td>\n",
       "      <td>iPhone</td>\n",
       "      <td>2020-12-06</td>\n",
       "      <td>0</td>\n",
       "    </tr>\n",
       "    <tr>\n",
       "      <th>1</th>\n",
       "      <td>5F506CEBEDC05D30</td>\n",
       "      <td>2020-12-07</td>\n",
       "      <td>login</td>\n",
       "      <td>NaN</td>\n",
       "      <td>A</td>\n",
       "      <td>interface_eu_test</td>\n",
       "      <td>iPhone</td>\n",
       "      <td>2020-12-06</td>\n",
       "      <td>1</td>\n",
       "    </tr>\n",
       "    <tr>\n",
       "      <th>2</th>\n",
       "      <td>5F506CEBEDC05D30</td>\n",
       "      <td>2020-12-07</td>\n",
       "      <td>login</td>\n",
       "      <td>NaN</td>\n",
       "      <td>A</td>\n",
       "      <td>interface_eu_test</td>\n",
       "      <td>iPhone</td>\n",
       "      <td>2020-12-06</td>\n",
       "      <td>1</td>\n",
       "    </tr>\n",
       "    <tr>\n",
       "      <th>3</th>\n",
       "      <td>5F506CEBEDC05D30</td>\n",
       "      <td>2020-12-09</td>\n",
       "      <td>login</td>\n",
       "      <td>NaN</td>\n",
       "      <td>A</td>\n",
       "      <td>interface_eu_test</td>\n",
       "      <td>iPhone</td>\n",
       "      <td>2020-12-06</td>\n",
       "      <td>3</td>\n",
       "    </tr>\n",
       "    <tr>\n",
       "      <th>4</th>\n",
       "      <td>5F506CEBEDC05D30</td>\n",
       "      <td>2020-12-09</td>\n",
       "      <td>product_page</td>\n",
       "      <td>NaN</td>\n",
       "      <td>A</td>\n",
       "      <td>interface_eu_test</td>\n",
       "      <td>iPhone</td>\n",
       "      <td>2020-12-06</td>\n",
       "      <td>3</td>\n",
       "    </tr>\n",
       "    <tr>\n",
       "      <th>...</th>\n",
       "      <td>...</td>\n",
       "      <td>...</td>\n",
       "      <td>...</td>\n",
       "      <td>...</td>\n",
       "      <td>...</td>\n",
       "      <td>...</td>\n",
       "      <td>...</td>\n",
       "      <td>...</td>\n",
       "      <td>...</td>\n",
       "    </tr>\n",
       "    <tr>\n",
       "      <th>73810</th>\n",
       "      <td>16CCB1C8C4DCF1AF</td>\n",
       "      <td>2020-12-23</td>\n",
       "      <td>registration</td>\n",
       "      <td>0.0</td>\n",
       "      <td>A</td>\n",
       "      <td>interface_eu_test</td>\n",
       "      <td>Mac</td>\n",
       "      <td>2020-12-23</td>\n",
       "      <td>0</td>\n",
       "    </tr>\n",
       "    <tr>\n",
       "      <th>73811</th>\n",
       "      <td>16CCB1C8C4DCF1AF</td>\n",
       "      <td>2020-12-23</td>\n",
       "      <td>login</td>\n",
       "      <td>NaN</td>\n",
       "      <td>A</td>\n",
       "      <td>interface_eu_test</td>\n",
       "      <td>Mac</td>\n",
       "      <td>2020-12-23</td>\n",
       "      <td>0</td>\n",
       "    </tr>\n",
       "    <tr>\n",
       "      <th>73812</th>\n",
       "      <td>2DDC948BD76ABC57</td>\n",
       "      <td>2020-12-24</td>\n",
       "      <td>registration</td>\n",
       "      <td>-4.29</td>\n",
       "      <td>B</td>\n",
       "      <td>interface_eu_test</td>\n",
       "      <td>iPhone</td>\n",
       "      <td>2020-12-24</td>\n",
       "      <td>0</td>\n",
       "    </tr>\n",
       "    <tr>\n",
       "      <th>73813</th>\n",
       "      <td>2DDC948BD76ABC57</td>\n",
       "      <td>2020-12-24</td>\n",
       "      <td>login</td>\n",
       "      <td>NaN</td>\n",
       "      <td>B</td>\n",
       "      <td>interface_eu_test</td>\n",
       "      <td>iPhone</td>\n",
       "      <td>2020-12-24</td>\n",
       "      <td>0</td>\n",
       "    </tr>\n",
       "    <tr>\n",
       "      <th>73814</th>\n",
       "      <td>2DDC948BD76ABC57</td>\n",
       "      <td>2020-12-24</td>\n",
       "      <td>product_page</td>\n",
       "      <td>NaN</td>\n",
       "      <td>B</td>\n",
       "      <td>interface_eu_test</td>\n",
       "      <td>iPhone</td>\n",
       "      <td>2020-12-24</td>\n",
       "      <td>0</td>\n",
       "    </tr>\n",
       "  </tbody>\n",
       "</table>\n",
       "<p>64845 rows × 9 columns</p>\n",
       "</div>"
      ],
      "text/plain": [
       "                user_id    event_dt    event_name details group  \\\n",
       "0      5F506CEBEDC05D30  2020-12-06  registration     0.0     A   \n",
       "1      5F506CEBEDC05D30  2020-12-07         login     NaN     A   \n",
       "2      5F506CEBEDC05D30  2020-12-07         login     NaN     A   \n",
       "3      5F506CEBEDC05D30  2020-12-09         login     NaN     A   \n",
       "4      5F506CEBEDC05D30  2020-12-09  product_page     NaN     A   \n",
       "...                 ...         ...           ...     ...   ...   \n",
       "73810  16CCB1C8C4DCF1AF  2020-12-23  registration     0.0     A   \n",
       "73811  16CCB1C8C4DCF1AF  2020-12-23         login     NaN     A   \n",
       "73812  2DDC948BD76ABC57  2020-12-24  registration   -4.29     B   \n",
       "73813  2DDC948BD76ABC57  2020-12-24         login     NaN     B   \n",
       "73814  2DDC948BD76ABC57  2020-12-24  product_page     NaN     B   \n",
       "\n",
       "                 ab_test  device registration_date  days_since_registration  \n",
       "0      interface_eu_test  iPhone        2020-12-06                        0  \n",
       "1      interface_eu_test  iPhone        2020-12-06                        1  \n",
       "2      interface_eu_test  iPhone        2020-12-06                        1  \n",
       "3      interface_eu_test  iPhone        2020-12-06                        3  \n",
       "4      interface_eu_test  iPhone        2020-12-06                        3  \n",
       "...                  ...     ...               ...                      ...  \n",
       "73810  interface_eu_test     Mac        2020-12-23                        0  \n",
       "73811  interface_eu_test     Mac        2020-12-23                        0  \n",
       "73812  interface_eu_test  iPhone        2020-12-24                        0  \n",
       "73813  interface_eu_test  iPhone        2020-12-24                        0  \n",
       "73814  interface_eu_test  iPhone        2020-12-24                        0  \n",
       "\n",
       "[64845 rows x 9 columns]"
      ]
     },
     "execution_count": 21,
     "metadata": {},
     "output_type": "execute_result"
    }
   ],
   "source": [
    "min_event_dates = test_events.groupby('user_id')['event_dt'].min().reset_index()\n",
    "test_events = test_events.merge(min_event_dates.rename(columns={'event_dt': 'registration_date'}), on='user_id', how='left')\n",
    "test_events['days_since_registration'] = (test_events['event_dt'] - test_events['registration_date']).dt.days\n",
    "filtered = test_events[test_events['days_since_registration'] <= 7]\n",
    "filtered"
   ]
  },
  {
   "cell_type": "markdown",
   "id": "7cf1df48",
   "metadata": {},
   "source": [
    "Оцените достаточность выборки для получения статистически значимых результатов A/B-теста. Заданные параметры:\n",
    "\n",
    "- базовый показатель конверсии — 30%,\n",
    "\n",
    "- мощность теста — 80%,\n",
    "\n",
    "- достоверность теста — 95%."
   ]
  },
  {
   "cell_type": "code",
   "execution_count": 22,
   "id": "7d97b466",
   "metadata": {},
   "outputs": [
    {
     "name": "stdout",
     "output_type": "stream",
     "text": [
      "Необходимый размер выборки для каждой группы: 3664\n",
      "Общий объем выборки (суммарно для обеих групп): 7328\n"
     ]
    }
   ],
   "source": [
    "from statsmodels.stats.power import TTestIndPower\n",
    "import math  # Импортируем библиотеку math\n",
    "\n",
    "# Задаём параметры\n",
    "alpha = 0.05          # Уровень значимости\n",
    "power = 0.8           # Мощность теста\n",
    "base_conv_rate = 0.30 # Базовая конверсия\n",
    "mde = 0.03            # Минимальный детектируемый эффект (разница в конверсиях)\n",
    "\n",
    "# Стандартизация эффекта (эффект Коэна)\n",
    "std_dev = math.sqrt(base_conv_rate * (1 - base_conv_rate))\n",
    "cohen_d = mde / std_dev\n",
    "\n",
    "# Инициализируем класс TTestIndPower\n",
    "analysis = TTestIndPower()\n",
    "\n",
    "# Рассчитываем размер выборки\n",
    "sample_size = analysis.solve_power(effect_size=cohen_d, alpha=alpha, power=power, alternative=\"two-sided\")\n",
    "\n",
    "# Округлим вверх до целого числа\n",
    "sample_size_per_group = math.ceil(sample_size)\n",
    "\n",
    "# Общий объём выборки (так как у нас две группы)\n",
    "total_sample_size = 2 * sample_size_per_group\n",
    "\n",
    "print(f\"Необходимый размер выборки для каждой группы: {sample_size_per_group}\")\n",
    "print(f\"Общий объем выборки (суммарно для обеих групп): {total_sample_size}\")"
   ]
  },
  {
   "cell_type": "markdown",
   "id": "SadyUDgZs0t3",
   "metadata": {
    "id": "SadyUDgZs0t3"
   },
   "source": [
    "- рассчитайте для каждой группы количество посетителей, сделавших покупку, и общее количество посетителей."
   ]
  },
  {
   "cell_type": "code",
   "execution_count": 23,
   "id": "7ph853Xks4sy",
   "metadata": {
    "id": "7ph853Xks4sy"
   },
   "outputs": [
    {
     "data": {
      "text/html": [
       "<div>\n",
       "<style scoped>\n",
       "    .dataframe tbody tr th:only-of-type {\n",
       "        vertical-align: middle;\n",
       "    }\n",
       "\n",
       "    .dataframe tbody tr th {\n",
       "        vertical-align: top;\n",
       "    }\n",
       "\n",
       "    .dataframe thead th {\n",
       "        text-align: right;\n",
       "    }\n",
       "</style>\n",
       "<table border=\"1\" class=\"dataframe\">\n",
       "  <thead>\n",
       "    <tr style=\"text-align: right;\">\n",
       "      <th></th>\n",
       "      <th>Покупатели</th>\n",
       "      <th>Посетители</th>\n",
       "    </tr>\n",
       "    <tr>\n",
       "      <th>group</th>\n",
       "      <th></th>\n",
       "      <th></th>\n",
       "    </tr>\n",
       "  </thead>\n",
       "  <tbody>\n",
       "    <tr>\n",
       "      <th>A</th>\n",
       "      <td>2827</td>\n",
       "      <td>31753</td>\n",
       "    </tr>\n",
       "    <tr>\n",
       "      <th>B</th>\n",
       "      <td>3673</td>\n",
       "      <td>33092</td>\n",
       "    </tr>\n",
       "  </tbody>\n",
       "</table>\n",
       "</div>"
      ],
      "text/plain": [
       "       Покупатели  Посетители\n",
       "group                        \n",
       "A            2827       31753\n",
       "B            3673       33092"
      ]
     },
     "execution_count": 23,
     "metadata": {},
     "output_type": "execute_result"
    }
   ],
   "source": [
    "# Количество покупателей (только посетители, совершившие покупку)\n",
    "buyers_count = filtered.query('event_name == \"purchase\"').groupby('group')['user_id'].count()\n",
    "\n",
    "# Общее количество посетителей\n",
    "visitors_count = filtered.groupby('group')['user_id'].count()\n",
    "\n",
    "# Объединяем оба показателя вместе\n",
    "result = pd.concat([buyers_count, visitors_count], keys=[\"Покупатели\", \"Посетители\"], axis=1)\n",
    "result"
   ]
  },
  {
   "cell_type": "markdown",
   "id": "sh1JpGvAs5E3",
   "metadata": {
    "id": "sh1JpGvAs5E3"
   },
   "source": [
    "- сделайте предварительный общий вывод об изменении пользовательской активности в тестовой группе по сравнению с контрольной."
   ]
  },
  {
   "cell_type": "markdown",
   "id": "12deb2e9",
   "metadata": {
    "id": "hHTHPkJYs8mE"
   },
   "source": [
    "1. Рост числа покупателей:\n",
    "Группа B демонстрирует значительное повышение числа покупателей (+846 покупателей)\n",
    "\n",
    "2. Эффективность проведенных изменений:\n",
    "Данные указывают на положительный эффект нововведений в группе B. Возможно, тестируемые изменения улучшили опыт пользователей, стимулировали больше покупок и повысили вовлечённость. Тем не менее, нужно дополнительно проверить статистическую значимость этих изменений и удостовериться, что рост не вызван случайностью."
   ]
  },
  {
   "cell_type": "code",
   "execution_count": 26,
   "id": "e7acf804",
   "metadata": {},
   "outputs": [
    {
     "name": "stdout",
     "output_type": "stream",
     "text": [
      "Относительная разница покупатели: 29.93%\n",
      "Относительная разница посетители: 4.22%\n"
     ]
    }
   ],
   "source": [
    "data = {\n",
    "    'A': {'покупатели': 2827, 'посетители': 31753},\n",
    "    'B': {'покупатели': 3673, 'посетители': 33092}\n",
    "}\n",
    "\n",
    "def relative_difference(value1, value2):\n",
    "    \"\"\"Вычисляет относительное различие между двумя значениями.\"\"\"\n",
    "    return abs((value1 - value2) / value1) * 100\n",
    "\n",
    "# Вычисляем относительные различия\n",
    "for category in ['покупатели', 'посетители']:\n",
    "    diff_percent = relative_difference(data['A'][category], data['B'][category])\n",
    "    print(f'Относительная разница {category}: {diff_percent:.2f}%')"
   ]
  },
  {
   "cell_type": "markdown",
   "id": "39fe8b0b",
   "metadata": {},
   "source": [
    "Относительная разница по покупателям составляет около 30%, показывая значительное увеличение числа покупателей в группе B.\n",
    "Относительная разница по количеству посетителей меньше (~4%), что свидетельствует о незначительном изменении уровня посещения между группами."
   ]
  },
  {
   "cell_type": "markdown",
   "id": "IKZ1Oo3Ws919",
   "metadata": {
    "id": "IKZ1Oo3Ws919"
   },
   "source": [
    "## 4. Проведите оценку результатов A/B-тестирования:"
   ]
  },
  {
   "cell_type": "markdown",
   "id": "dcUdBSmvtC-E",
   "metadata": {
    "id": "dcUdBSmvtC-E"
   },
   "source": [
    "- Проверьте изменение конверсии подходящим статистическим тестом, учитывая все этапы проверки гипотез."
   ]
  },
  {
   "cell_type": "markdown",
   "id": "709b52f9",
   "metadata": {},
   "source": [
    "Постановка гипотез:\n",
    "- Нулевая гипотеза  : Конверсия в группе A не меньше, чем в группе B \n",
    "- Альтернативная гипотеза : Конверсия в группе A ниже, чем в группе B"
   ]
  },
  {
   "cell_type": "code",
   "execution_count": null,
   "id": "l_KOziBQtL3t",
   "metadata": {
    "id": "l_KOziBQtL3t"
   },
   "outputs": [],
   "source": [
    "from statsmodels.stats.proportion import proportions_ztest\n",
    "\n",
    "n_a = 31753\n",
    "n_b = 33092\n",
    "m_a = 2827\n",
    "m_b = 3673\n",
    "p_a = m_a / n_a\n",
    "p_b = m_b / n_b\n",
    "print(f'p_a = {p_a}, p_b = {p_b}')\n",
    "print('')\n",
    "\n",
    "#устанавливаем коэффициент статистической значимости alpha\n",
    "alpha = 0.05\n",
    "\n",
    "#проводим z-тест\n",
    "stats_ztest, p_value_ztest = proportions_ztest([m_a,m_b],\n",
    "                                  [n_a,n_b],\n",
    "                                  alternative = 'smaller' #Так как H_1 = p_a < p_b\n",
    "                                  )\n",
    "print(f'p_value равняется {p_value_ztest}')\n",
    "\n",
    "# Принятие решения\n",
    "if p_value_ztest <= alpha:\n",
    "    print(f'Полученное значение p_value: {p_value_ztest} меньше alpha: {alpha}. Принимаем альтернативную гипотезу.')\n",
    "else:\n",
    "    print(f'Полученное значение {p_value_ztest} больше alpha: {alpha}. Нулевая гипотеза не может быть отвергнута.')"
   ]
  },
  {
   "cell_type": "markdown",
   "id": "9jkyKOjgtGoc",
   "metadata": {
    "id": "9jkyKOjgtGoc"
   },
   "source": [
    "1. Улучшение конверсии:\n",
    "Расчёт конверсии (отношения числа покупателей к числу посетителей) даёт возможность сравнить, насколько эффективно пользователи совершали покупки в разных группах:\n",
    "\n",
    "Группа A: Конверсия равна \n",
    "2827 / 31753 ≈ 8.9%\n",
    "Группа B: Конверсия равна \n",
    "3673 / 33092 ≈ 11.2 %\n",
    "\n",
    "Видно существенное улучшение конверсии в группе B, что свидетельствует о положительном влиянии проводимых мероприятий."
   ]
  }
 ],
 "metadata": {
  "ExecuteTimeLog": [
   {
    "duration": 4,
    "start_time": "2025-06-26T10:46:26.289Z"
   },
   {
    "duration": 798,
    "start_time": "2025-06-26T10:46:49.735Z"
   },
   {
    "duration": 482,
    "start_time": "2025-06-26T10:47:36.838Z"
   },
   {
    "duration": 1325,
    "start_time": "2025-06-26T16:06:59.893Z"
   },
   {
    "duration": 59,
    "start_time": "2025-06-26T16:07:01.945Z"
   },
   {
    "duration": 12,
    "start_time": "2025-06-26T16:07:55.865Z"
   },
   {
    "duration": 1175,
    "start_time": "2025-06-26T16:19:03.931Z"
   },
   {
    "duration": 3,
    "start_time": "2025-06-26T16:19:09.305Z"
   },
   {
    "duration": 41,
    "start_time": "2025-06-26T16:19:16.930Z"
   },
   {
    "duration": 11,
    "start_time": "2025-06-26T16:19:19.308Z"
   },
   {
    "duration": 13,
    "start_time": "2025-06-26T16:20:36.013Z"
   },
   {
    "duration": 4,
    "start_time": "2025-06-26T16:21:05.506Z"
   },
   {
    "duration": 9,
    "start_time": "2025-06-26T16:21:08.972Z"
   },
   {
    "duration": 8,
    "start_time": "2025-06-26T16:23:28.604Z"
   },
   {
    "duration": 26,
    "start_time": "2025-06-26T16:24:11.211Z"
   },
   {
    "duration": 9,
    "start_time": "2025-06-26T16:24:50.411Z"
   },
   {
    "duration": 9,
    "start_time": "2025-06-26T16:27:56.220Z"
   },
   {
    "duration": 16,
    "start_time": "2025-06-26T16:28:23.091Z"
   },
   {
    "duration": 14,
    "start_time": "2025-06-26T16:28:51.352Z"
   },
   {
    "duration": 14,
    "start_time": "2025-06-26T16:28:55.849Z"
   },
   {
    "duration": 14,
    "start_time": "2025-06-26T16:29:17.824Z"
   },
   {
    "duration": 9,
    "start_time": "2025-06-26T16:29:36.541Z"
   },
   {
    "duration": 8,
    "start_time": "2025-06-26T16:32:06.632Z"
   },
   {
    "duration": 8,
    "start_time": "2025-06-26T16:32:47.491Z"
   },
   {
    "duration": 6,
    "start_time": "2025-06-26T16:32:52.484Z"
   },
   {
    "duration": 7,
    "start_time": "2025-06-26T16:34:07.596Z"
   },
   {
    "duration": 7,
    "start_time": "2025-06-26T16:34:08.309Z"
   },
   {
    "duration": 3,
    "start_time": "2025-06-26T16:34:10.625Z"
   },
   {
    "duration": 101,
    "start_time": "2025-06-26T16:34:11.292Z"
   },
   {
    "duration": 11,
    "start_time": "2025-06-26T16:34:13.011Z"
   },
   {
    "duration": 6,
    "start_time": "2025-06-26T16:34:14.565Z"
   },
   {
    "duration": 6,
    "start_time": "2025-06-26T16:34:31.746Z"
   },
   {
    "duration": 7,
    "start_time": "2025-06-26T16:34:39.702Z"
   },
   {
    "duration": 10,
    "start_time": "2025-06-26T16:34:55.231Z"
   },
   {
    "duration": 1474,
    "start_time": "2025-06-26T16:41:00.870Z"
   },
   {
    "duration": 1445,
    "start_time": "2025-06-26T16:42:07.174Z"
   },
   {
    "duration": 9,
    "start_time": "2025-06-26T16:42:29.979Z"
   },
   {
    "duration": 16,
    "start_time": "2025-06-26T16:43:06.576Z"
   },
   {
    "duration": 11,
    "start_time": "2025-06-26T16:44:01.512Z"
   },
   {
    "duration": 8133,
    "start_time": "2025-06-26T16:44:28.449Z"
   },
   {
    "duration": 7,
    "start_time": "2025-06-26T16:44:46.327Z"
   },
   {
    "duration": 98,
    "start_time": "2025-06-26T16:46:50.848Z"
   },
   {
    "duration": 10,
    "start_time": "2025-06-26T16:49:51.262Z"
   },
   {
    "duration": 18,
    "start_time": "2025-06-26T17:01:25.422Z"
   },
   {
    "duration": 1178,
    "start_time": "2025-06-26T17:01:33.368Z"
   },
   {
    "duration": 1218,
    "start_time": "2025-06-26T17:02:08.731Z"
   },
   {
    "duration": 1147,
    "start_time": "2025-06-26T17:03:43.419Z"
   },
   {
    "duration": 4,
    "start_time": "2025-06-26T17:03:59.563Z"
   },
   {
    "duration": 1044,
    "start_time": "2025-06-26T17:04:11.250Z"
   },
   {
    "duration": 1163,
    "start_time": "2025-06-26T17:04:28.379Z"
   },
   {
    "duration": 19,
    "start_time": "2025-06-26T17:05:08.662Z"
   },
   {
    "duration": 15,
    "start_time": "2025-06-26T17:05:39.869Z"
   },
   {
    "duration": 18,
    "start_time": "2025-06-26T17:06:13.044Z"
   },
   {
    "duration": 66,
    "start_time": "2025-06-26T17:06:43.405Z"
   },
   {
    "duration": 10,
    "start_time": "2025-06-26T17:07:26.831Z"
   },
   {
    "duration": 103,
    "start_time": "2025-06-26T17:07:35.206Z"
   },
   {
    "duration": 84,
    "start_time": "2025-06-26T17:07:39.902Z"
   },
   {
    "duration": 9,
    "start_time": "2025-06-26T17:08:17.489Z"
   },
   {
    "duration": 21,
    "start_time": "2025-06-26T17:08:52.893Z"
   },
   {
    "duration": 21,
    "start_time": "2025-06-26T17:09:24.648Z"
   },
   {
    "duration": 16,
    "start_time": "2025-06-26T17:09:42.457Z"
   },
   {
    "duration": 257,
    "start_time": "2025-06-26T17:16:05.634Z"
   },
   {
    "duration": 40,
    "start_time": "2025-06-26T17:16:55.194Z"
   },
   {
    "duration": 15,
    "start_time": "2025-06-26T17:17:05.332Z"
   },
   {
    "duration": 14,
    "start_time": "2025-06-26T17:18:13.076Z"
   },
   {
    "duration": 22,
    "start_time": "2025-06-26T17:18:24.391Z"
   },
   {
    "duration": 15,
    "start_time": "2025-06-26T17:18:47.191Z"
   },
   {
    "duration": 10,
    "start_time": "2025-06-26T17:19:05.598Z"
   },
   {
    "duration": 146,
    "start_time": "2025-06-26T17:20:01.928Z"
   },
   {
    "duration": 20,
    "start_time": "2025-06-26T17:20:07.233Z"
   },
   {
    "duration": 109,
    "start_time": "2025-06-26T17:20:27.072Z"
   },
   {
    "duration": 10,
    "start_time": "2025-06-26T17:20:32.412Z"
   },
   {
    "duration": 101,
    "start_time": "2025-06-26T17:20:42.542Z"
   },
   {
    "duration": 15,
    "start_time": "2025-06-26T17:20:43.971Z"
   },
   {
    "duration": 44,
    "start_time": "2025-06-26T17:20:45.616Z"
   },
   {
    "duration": 15,
    "start_time": "2025-06-26T17:20:53.358Z"
   },
   {
    "duration": 211,
    "start_time": "2025-06-26T17:21:18.390Z"
   },
   {
    "duration": 197,
    "start_time": "2025-06-26T17:21:21.346Z"
   },
   {
    "duration": 2460,
    "start_time": "2025-06-26T17:22:55.635Z"
   },
   {
    "duration": 224,
    "start_time": "2025-06-26T17:22:59.668Z"
   },
   {
    "duration": 431,
    "start_time": "2025-06-26T17:23:23.473Z"
   },
   {
    "duration": 335,
    "start_time": "2025-06-26T17:23:59.348Z"
   },
   {
    "duration": 423,
    "start_time": "2025-06-26T17:24:17.068Z"
   },
   {
    "duration": 326,
    "start_time": "2025-06-26T17:24:40.381Z"
   },
   {
    "duration": 23,
    "start_time": "2025-06-26T18:15:06.905Z"
   },
   {
    "duration": 84,
    "start_time": "2025-06-26T18:22:35.258Z"
   },
   {
    "duration": 65,
    "start_time": "2025-06-26T18:26:33.485Z"
   },
   {
    "duration": 740,
    "start_time": "2025-06-26T18:28:27.372Z"
   },
   {
    "duration": 11,
    "start_time": "2025-06-26T18:28:43.235Z"
   },
   {
    "duration": 3697,
    "start_time": "2025-06-26T18:29:04.574Z"
   },
   {
    "duration": 71,
    "start_time": "2025-06-26T18:29:10.416Z"
   },
   {
    "duration": 12,
    "start_time": "2025-06-26T18:29:12.168Z"
   },
   {
    "duration": 9,
    "start_time": "2025-06-26T18:29:14.182Z"
   },
   {
    "duration": 1440,
    "start_time": "2025-06-26T18:29:22.193Z"
   },
   {
    "duration": 8,
    "start_time": "2025-06-26T18:29:24.328Z"
   },
   {
    "duration": 9,
    "start_time": "2025-06-26T18:29:26.048Z"
   },
   {
    "duration": 15,
    "start_time": "2025-06-26T18:29:27.478Z"
   },
   {
    "duration": 16,
    "start_time": "2025-06-26T18:29:28.552Z"
   },
   {
    "duration": 22,
    "start_time": "2025-06-26T18:29:31.422Z"
   },
   {
    "duration": 18,
    "start_time": "2025-06-26T18:29:33.693Z"
   },
   {
    "duration": 76,
    "start_time": "2025-06-26T18:29:35.764Z"
   },
   {
    "duration": 92,
    "start_time": "2025-06-26T18:29:38.096Z"
   },
   {
    "duration": 16,
    "start_time": "2025-06-26T18:29:39.722Z"
   },
   {
    "duration": 39,
    "start_time": "2025-06-26T18:29:42.351Z"
   },
   {
    "duration": 25,
    "start_time": "2025-06-26T18:29:47.399Z"
   },
   {
    "duration": 821,
    "start_time": "2025-06-26T18:29:50.767Z"
   },
   {
    "duration": 2076,
    "start_time": "2025-06-26T18:30:03.029Z"
   },
   {
    "duration": 119,
    "start_time": "2025-06-26T18:31:55.441Z"
   },
   {
    "duration": 44,
    "start_time": "2025-06-26T18:32:10.281Z"
   },
   {
    "duration": 3699,
    "start_time": "2025-06-26T18:32:20.911Z"
   },
   {
    "duration": 69,
    "start_time": "2025-06-26T18:32:24.613Z"
   },
   {
    "duration": 13,
    "start_time": "2025-06-26T18:32:24.684Z"
   },
   {
    "duration": 11,
    "start_time": "2025-06-26T18:32:24.699Z"
   },
   {
    "duration": 1744,
    "start_time": "2025-06-26T18:32:24.713Z"
   },
   {
    "duration": 8,
    "start_time": "2025-06-26T18:32:26.459Z"
   },
   {
    "duration": 21,
    "start_time": "2025-06-26T18:32:26.468Z"
   },
   {
    "duration": 36,
    "start_time": "2025-06-26T18:32:26.490Z"
   },
   {
    "duration": 22,
    "start_time": "2025-06-26T18:32:26.527Z"
   },
   {
    "duration": 21,
    "start_time": "2025-06-26T18:32:26.551Z"
   },
   {
    "duration": 20,
    "start_time": "2025-06-26T18:32:26.573Z"
   },
   {
    "duration": 100,
    "start_time": "2025-06-26T18:32:26.594Z"
   },
   {
    "duration": 101,
    "start_time": "2025-06-26T18:32:26.696Z"
   },
   {
    "duration": 12,
    "start_time": "2025-06-26T18:32:26.800Z"
   },
   {
    "duration": 49,
    "start_time": "2025-06-26T18:32:26.813Z"
   },
   {
    "duration": 24,
    "start_time": "2025-06-26T18:32:26.863Z"
   },
   {
    "duration": 940,
    "start_time": "2025-06-26T18:32:26.889Z"
   },
   {
    "duration": 417,
    "start_time": "2025-06-26T18:32:27.836Z"
   },
   {
    "duration": 22,
    "start_time": "2025-06-26T18:34:49.914Z"
   },
   {
    "duration": 14,
    "start_time": "2025-06-26T18:40:11.745Z"
   },
   {
    "duration": 17,
    "start_time": "2025-06-26T18:42:50.007Z"
   },
   {
    "duration": 104,
    "start_time": "2025-06-26T18:43:58.127Z"
   },
   {
    "duration": 10,
    "start_time": "2025-06-26T18:44:44.601Z"
   },
   {
    "duration": 14,
    "start_time": "2025-06-26T18:45:14.400Z"
   },
   {
    "duration": 11,
    "start_time": "2025-06-26T18:46:12.623Z"
   },
   {
    "duration": 11,
    "start_time": "2025-06-26T18:46:39.573Z"
   },
   {
    "duration": 11,
    "start_time": "2025-06-26T18:46:42.857Z"
   },
   {
    "duration": 12,
    "start_time": "2025-06-26T18:47:20.945Z"
   },
   {
    "duration": 11,
    "start_time": "2025-06-26T18:48:52.418Z"
   },
   {
    "duration": 14,
    "start_time": "2025-06-26T18:50:32.670Z"
   },
   {
    "duration": 33,
    "start_time": "2025-06-26T18:50:48.222Z"
   },
   {
    "duration": 7,
    "start_time": "2025-06-26T18:56:44.752Z"
   },
   {
    "duration": 11,
    "start_time": "2025-06-26T18:57:20.361Z"
   },
   {
    "duration": 11,
    "start_time": "2025-06-26T18:57:49.887Z"
   },
   {
    "duration": 13,
    "start_time": "2025-06-26T19:01:16.933Z"
   },
   {
    "duration": 17,
    "start_time": "2025-06-26T19:02:58.235Z"
   },
   {
    "duration": 7,
    "start_time": "2025-06-26T19:04:23.368Z"
   },
   {
    "duration": 7,
    "start_time": "2025-06-26T19:06:56.761Z"
   },
   {
    "duration": 12,
    "start_time": "2025-06-26T19:07:46.696Z"
   },
   {
    "duration": 6,
    "start_time": "2025-06-26T19:08:13.517Z"
   },
   {
    "duration": 6,
    "start_time": "2025-06-26T19:08:14.330Z"
   },
   {
    "duration": 7,
    "start_time": "2025-06-26T19:09:08.752Z"
   },
   {
    "duration": 10059,
    "start_time": "2025-06-27T05:19:00.822Z"
   },
   {
    "duration": 73,
    "start_time": "2025-06-27T05:19:13.053Z"
   },
   {
    "duration": 14,
    "start_time": "2025-06-27T05:19:14.421Z"
   },
   {
    "duration": 8,
    "start_time": "2025-06-27T05:19:16.481Z"
   },
   {
    "duration": 4,
    "start_time": "2025-06-27T05:19:23.928Z"
   },
   {
    "duration": 8,
    "start_time": "2025-06-27T05:19:28.811Z"
   },
   {
    "duration": 7,
    "start_time": "2025-06-27T05:19:48.993Z"
   },
   {
    "duration": 6,
    "start_time": "2025-06-27T05:20:07.860Z"
   },
   {
    "duration": 14,
    "start_time": "2025-06-27T05:20:59.355Z"
   },
   {
    "duration": 13,
    "start_time": "2025-06-27T05:21:03.062Z"
   },
   {
    "duration": 7,
    "start_time": "2025-06-27T05:21:17.491Z"
   },
   {
    "duration": 8,
    "start_time": "2025-06-27T05:22:32.576Z"
   },
   {
    "duration": 9,
    "start_time": "2025-06-27T05:22:49.899Z"
   },
   {
    "duration": 110,
    "start_time": "2025-06-27T05:28:19.938Z"
   },
   {
    "duration": 10,
    "start_time": "2025-06-27T05:28:30.175Z"
   },
   {
    "duration": 11,
    "start_time": "2025-06-27T05:30:33.127Z"
   },
   {
    "duration": 28,
    "start_time": "2025-06-27T05:31:25.746Z"
   },
   {
    "duration": 10,
    "start_time": "2025-06-27T05:31:37.320Z"
   },
   {
    "duration": 66,
    "start_time": "2025-06-27T05:32:03.610Z"
   },
   {
    "duration": 7,
    "start_time": "2025-06-27T05:36:00.976Z"
   },
   {
    "duration": 11,
    "start_time": "2025-06-27T05:36:27.846Z"
   },
   {
    "duration": 16,
    "start_time": "2025-06-27T05:36:32.062Z"
   },
   {
    "duration": 3706,
    "start_time": "2025-06-27T05:36:37.515Z"
   },
   {
    "duration": 69,
    "start_time": "2025-06-27T05:36:41.224Z"
   },
   {
    "duration": 14,
    "start_time": "2025-06-27T05:36:41.294Z"
   },
   {
    "duration": 6,
    "start_time": "2025-06-27T05:36:41.310Z"
   },
   {
    "duration": 8,
    "start_time": "2025-06-27T05:36:41.319Z"
   },
   {
    "duration": 9,
    "start_time": "2025-06-27T05:36:41.328Z"
   },
   {
    "duration": 31,
    "start_time": "2025-06-27T05:36:41.339Z"
   },
   {
    "duration": 9,
    "start_time": "2025-06-27T05:36:41.371Z"
   },
   {
    "duration": 1541,
    "start_time": "2025-06-27T05:36:41.381Z"
   },
   {
    "duration": 8,
    "start_time": "2025-06-27T05:36:42.924Z"
   },
   {
    "duration": 9,
    "start_time": "2025-06-27T05:36:42.934Z"
   },
   {
    "duration": 28,
    "start_time": "2025-06-27T05:36:42.945Z"
   },
   {
    "duration": 68,
    "start_time": "2025-06-27T05:36:42.975Z"
   },
   {
    "duration": 53,
    "start_time": "2025-06-27T05:36:43.046Z"
   },
   {
    "duration": 20,
    "start_time": "2025-06-27T05:36:43.100Z"
   },
   {
    "duration": 75,
    "start_time": "2025-06-27T05:36:43.122Z"
   },
   {
    "duration": 105,
    "start_time": "2025-06-27T05:36:43.199Z"
   },
   {
    "duration": 15,
    "start_time": "2025-06-27T05:36:43.306Z"
   },
   {
    "duration": 55,
    "start_time": "2025-06-27T05:36:43.323Z"
   },
   {
    "duration": 24,
    "start_time": "2025-06-27T05:36:43.380Z"
   },
   {
    "duration": 945,
    "start_time": "2025-06-27T05:36:43.406Z"
   },
   {
    "duration": 14,
    "start_time": "2025-06-27T05:36:44.361Z"
   },
   {
    "duration": 31,
    "start_time": "2025-06-27T05:36:44.377Z"
   },
   {
    "duration": 1234,
    "start_time": "2025-06-27T05:36:44.410Z"
   },
   {
    "duration": 0,
    "start_time": "2025-06-27T05:36:45.645Z"
   },
   {
    "duration": 1419,
    "start_time": "2025-06-27T05:37:36.129Z"
   },
   {
    "duration": 5,
    "start_time": "2025-06-27T05:39:07.324Z"
   }
  ],
  "colab": {
   "provenance": [],
   "toc_visible": true
  },
  "kernelspec": {
   "display_name": "Python [conda env:base] *",
   "language": "python",
   "name": "conda-base-py"
  },
  "language_info": {
   "codemirror_mode": {
    "name": "ipython",
    "version": 3
   },
   "file_extension": ".py",
   "mimetype": "text/x-python",
   "name": "python",
   "nbconvert_exporter": "python",
   "pygments_lexer": "ipython3",
   "version": "3.12.7"
  },
  "toc": {
   "base_numbering": 1,
   "nav_menu": {},
   "number_sections": true,
   "sideBar": true,
   "skip_h1_title": true,
   "title_cell": "Table of Contents",
   "title_sidebar": "Contents",
   "toc_cell": false,
   "toc_position": {},
   "toc_section_display": true,
   "toc_window_display": false
  }
 },
 "nbformat": 4,
 "nbformat_minor": 5
}
